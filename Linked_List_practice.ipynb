{
  "nbformat": 4,
  "nbformat_minor": 0,
  "metadata": {
    "colab": {
      "provenance": [],
      "authorship_tag": "ABX9TyNX0InD+CdTlZaNPm2zKW1a",
      "include_colab_link": true
    },
    "kernelspec": {
      "name": "python3",
      "display_name": "Python 3"
    },
    "language_info": {
      "name": "python"
    }
  },
  "cells": [
    {
      "cell_type": "markdown",
      "metadata": {
        "id": "view-in-github",
        "colab_type": "text"
      },
      "source": [
        "<a href=\"https://colab.research.google.com/github/deep1185/PWSkills_assignments_1/blob/main/Linked_List_practice.ipynb\" target=\"_parent\"><img src=\"https://colab.research.google.com/assets/colab-badge.svg\" alt=\"Open In Colab\"/></a>"
      ]
    },
    {
      "cell_type": "markdown",
      "source": [
        "1. Define a doubly linked list"
      ],
      "metadata": {
        "id": "rPOG-n-vOLjl"
      }
    },
    {
      "cell_type": "markdown",
      "source": [
        "Doubly Linked List is a type of linked list in which each node contains a data element and two links pointing to the next and previous node in the sequence. This allows for more efficient operations such as traversals, insertions, and deletions because it can be done in both directions."
      ],
      "metadata": {
        "id": "5e-RyQLcOcha"
      }
    },
    {
      "cell_type": "markdown",
      "source": [
        "2. Write a function to reverse a linked list in-place."
      ],
      "metadata": {
        "id": "xyDSxfqEO4OP"
      }
    },
    {
      "cell_type": "code",
      "source": [
        "class Node:\n",
        "    def __init__(self, data):\n",
        "        self.data = data\n",
        "        self.next = None\n",
        "\n",
        "def reverse_linked_list(head):\n",
        "    prev = None\n",
        "    current = head\n",
        "\n",
        "    while current is not None:\n",
        "        next_node = current.next  # Temporarily store the next node\n",
        "        current.next = prev       # Reverse the current node's pointer\n",
        "        prev = current            # Move prev to the current node\n",
        "        current = next_node       # Move current to the next node\n",
        "\n",
        "    # After the loop, prev will be the new head of the reversed list\n",
        "    return prev\n",
        "\n",
        "# Helper function to print the linked list\n",
        "def print_linked_list(head):\n",
        "    current = head\n",
        "    while current is not None:\n",
        "        print(current.data, end=\" -> \")\n",
        "        current = current.next\n",
        "    print(\"None\")\n",
        "\n",
        "# Example usage:\n",
        "if __name__ == \"__main__\":\n",
        "    # Create a linked list: 1 -> 2 -> 3 -> 4 -> 5 -> None\n",
        "    head = Node(1)\n",
        "    head.next = Node(2)\n",
        "    head.next.next = Node(3)\n",
        "    head.next.next.next = Node(4)\n",
        "    head.next.next.next.next = Node(5)\n",
        "\n",
        "    print(\"Original linked list:\")\n",
        "    print_linked_list(head)\n",
        "\n",
        "    # Reverse the linked list\n",
        "    head = reverse_linked_list(head)\n",
        "\n",
        "    print(\"Reversed linked list:\")\n",
        "    print_linked_list(head)"
      ],
      "metadata": {
        "colab": {
          "base_uri": "https://localhost:8080/"
        },
        "id": "9MST-HryOdDq",
        "outputId": "253e9d18-63e3-4629-9681-447f1f94d95a"
      },
      "execution_count": 1,
      "outputs": [
        {
          "output_type": "stream",
          "name": "stdout",
          "text": [
            "Original linked list:\n",
            "1 -> 2 -> 3 -> 4 -> 5 -> None\n",
            "Reversed linked list:\n",
            "5 -> 4 -> 3 -> 2 -> 1 -> None\n"
          ]
        }
      ]
    },
    {
      "cell_type": "markdown",
      "source": [
        "3. Detect cycle in a Linked List\n"
      ],
      "metadata": {
        "id": "SQ1uTRHcPybD"
      }
    },
    {
      "cell_type": "code",
      "source": [
        "class ListNode:\n",
        "    def __init__(self, val=0, next=None):\n",
        "        self.val = val\n",
        "        self.next = next\n",
        "\n",
        "def hasCycle(head):\n",
        "    if not head or not head.next:\n",
        "        return False\n",
        "\n",
        "    slow = head\n",
        "    fast = head\n",
        "\n",
        "    while fast and fast.next:\n",
        "        slow = slow.next          # Move slow pointer by 1 step\n",
        "        fast = fast.next.next     # Move fast pointer by 2 steps\n",
        "\n",
        "        if slow == fast:          # If they meet, there's a cycle\n",
        "            return True\n",
        "\n",
        "    return False  # If fast reaches the end, no cycle"
      ],
      "metadata": {
        "id": "5reDrpsHO9A6"
      },
      "execution_count": 2,
      "outputs": []
    },
    {
      "cell_type": "code",
      "source": [
        "# Create a linked list with a cycle\n",
        "node1 = ListNode(1)\n",
        "node2 = ListNode(2)\n",
        "node3 = ListNode(3)\n",
        "node4 = ListNode(4)\n",
        "\n",
        "node1.next = node2\n",
        "node2.next = node3\n",
        "node3.next = node4\n",
        "node4.next = node2  # Creates a cycle\n",
        "\n",
        "print(hasCycle(node1))  # Output: True"
      ],
      "metadata": {
        "colab": {
          "base_uri": "https://localhost:8080/"
        },
        "id": "-QWbX3tbP4m0",
        "outputId": "02b8cb18-670c-4676-ae9c-5c29556eed8c"
      },
      "execution_count": 3,
      "outputs": [
        {
          "output_type": "stream",
          "name": "stdout",
          "text": [
            "True\n"
          ]
        }
      ]
    },
    {
      "cell_type": "markdown",
      "source": [
        "4. Merge two sorted linked lists into one"
      ],
      "metadata": {
        "id": "qoYgNKpLP9MX"
      }
    },
    {
      "cell_type": "code",
      "source": [
        "class ListNode:\n",
        "    def __init__(self, val=0, next=None):\n",
        "        self.val = val\n",
        "        self.next = next\n",
        "\n",
        "def mergeTwoLists(l1: ListNode, l2: ListNode) -> ListNode:\n",
        "    # Create a dummy node to act as the start of the merged list\n",
        "    dummy = ListNode()\n",
        "    current = dummy\n",
        "\n",
        "    # Traverse both lists and merge them\n",
        "    while l1 and l2:\n",
        "        if l1.val < l2.val:\n",
        "            current.next = l1\n",
        "            l1 = l1.next\n",
        "        else:\n",
        "            current.next = l2\n",
        "            l2 = l2.next\n",
        "        current = current.next\n",
        "\n",
        "    # If one of the lists is not empty, append it to the merged list\n",
        "    if l1:\n",
        "        current.next = l1\n",
        "    else:\n",
        "        current.next = l2\n",
        "\n",
        "    # The merged list starts from the next of the dummy node\n",
        "    return dummy.next\n",
        "\n",
        "# Helper function to create a linked list from a list of values\n",
        "def createLinkedList(values):\n",
        "    dummy = ListNode()\n",
        "    current = dummy\n",
        "    for val in values:\n",
        "        current.next = ListNode(val)\n",
        "        current = current.next\n",
        "    return dummy.next\n",
        "\n",
        "# Helper function to print a linked list\n",
        "def printLinkedList(head):\n",
        "    current = head\n",
        "    while current:\n",
        "        print(current.val, end=\" -> \" if current.next else \"\\n\")\n",
        "        current = current.next\n",
        "\n",
        "# Example usage:\n",
        "list1 = createLinkedList([1, 3, 5, 6])\n",
        "list2 = createLinkedList([2, 4, 6, 8])\n",
        "\n",
        "merged_list = mergeTwoLists(list1, list2)\n",
        "printLinkedList(merged_list)  # Output: 1 -> 2 -> 3 -> 4 -> 5 -> 6 -> 7 -> 8"
      ],
      "metadata": {
        "colab": {
          "base_uri": "https://localhost:8080/"
        },
        "id": "pYoOuKi5P7no",
        "outputId": "eb5af524-6238-4917-b14f-684fb016e4f0"
      },
      "execution_count": 4,
      "outputs": [
        {
          "output_type": "stream",
          "name": "stdout",
          "text": [
            "1 -> 2 -> 3 -> 4 -> 5 -> 6 -> 6 -> 8\n"
          ]
        }
      ]
    },
    {
      "cell_type": "markdown",
      "source": [
        "5. write a function to remove nth node from the end of a linked list\n",
        "\n",
        "1->2->3->4->5->6, removing 2nd node from end will give 1->2->3->4->6"
      ],
      "metadata": {
        "id": "wD0nruscRQSA"
      }
    },
    {
      "cell_type": "code",
      "source": [
        "class ListNode:\n",
        "    def __init__(self, val=0, next=None):\n",
        "        self.val = val\n",
        "        self.next = next\n",
        "\n",
        "def removeNthFromEnd(head: ListNode, n: int) -> ListNode:\n",
        "    # Create a dummy node to handle edge cases (e.g., removing the head)\n",
        "    dummy = ListNode(0)\n",
        "    dummy.next = head\n",
        "\n",
        "    # Initialize two pointers\n",
        "    slow = dummy\n",
        "    fast = dummy\n",
        "\n",
        "    # Move fast pointer n steps ahead\n",
        "    for _ in range(n):\n",
        "        if fast.next:\n",
        "            fast = fast.next\n",
        "        else:\n",
        "            # If n is greater than the length of the list, return the original list\n",
        "            return head\n",
        "\n",
        "    # Move both pointers until fast reaches the end\n",
        "    while fast.next:\n",
        "        slow = slow.next\n",
        "        fast = fast.next\n",
        "\n",
        "    # Remove the nth node from the end\n",
        "    slow.next = slow.next.next\n",
        "\n",
        "    # Return the new head of the list\n",
        "    return dummy.next"
      ],
      "metadata": {
        "id": "UckDpu3IQmKh"
      },
      "execution_count": 5,
      "outputs": []
    },
    {
      "cell_type": "code",
      "source": [
        "# Helper function to create a linked list from a list of values\n",
        "def create_linked_list(values):\n",
        "    dummy = ListNode(0)\n",
        "    current = dummy\n",
        "    for val in values:\n",
        "        current.next = ListNode(val)\n",
        "        current = current.next\n",
        "    return dummy.next\n",
        "\n",
        "# Helper function to print a linked list\n",
        "def print_linked_list(head):\n",
        "    current = head\n",
        "    while current:\n",
        "        print(current.val, end=\" -> \")\n",
        "        current = current.next\n",
        "    print(\"None\")\n",
        "\n",
        "# Example\n",
        "values = [1, 2, 3, 4, 5, 6]\n",
        "head = create_linked_list(values)\n",
        "print(\"Original List:\")\n",
        "print_linked_list(head)\n",
        "\n",
        "n = 2\n",
        "new_head = removeNthFromEnd(head, n)\n",
        "print(f\"List after removing {n}th node from the end:\")\n",
        "print_linked_list(new_head)"
      ],
      "metadata": {
        "colab": {
          "base_uri": "https://localhost:8080/"
        },
        "id": "5xkpyJkhR31f",
        "outputId": "fd27f165-b2a6-4476-fee6-9e5d88acb1a0"
      },
      "execution_count": 6,
      "outputs": [
        {
          "output_type": "stream",
          "name": "stdout",
          "text": [
            "Original List:\n",
            "1 -> 2 -> 3 -> 4 -> 5 -> 6 -> None\n",
            "List after removing 2th node from the end:\n",
            "1 -> 2 -> 3 -> 4 -> 6 -> None\n"
          ]
        }
      ]
    },
    {
      "cell_type": "markdown",
      "source": [
        "6. remove duplicates from a sorted linked list\n",
        " 1->2->3->3->4->4->4->5  should be changed to 1->2->3->4->5"
      ],
      "metadata": {
        "id": "zJA3QJXRSaY7"
      }
    },
    {
      "cell_type": "code",
      "source": [
        "class ListNode:\n",
        "    def __init__(self, val=0, next=None):\n",
        "        self.val = val\n",
        "        self.next = next\n",
        "\n",
        "def deleteDuplicates(head: ListNode) -> ListNode:\n",
        "    current = head\n",
        "\n",
        "    while current and current.next:\n",
        "        if current.val == current.next.val:\n",
        "            # Skip the duplicate node\n",
        "            current.next = current.next.next\n",
        "        else:\n",
        "            # Move to the next node\n",
        "            current = current.next\n",
        "\n",
        "    return head\n",
        "\n",
        "# Helper function to print the linked list\n",
        "def printList(head: ListNode):\n",
        "    while head:\n",
        "        print(head.val, end=\" -> \" if head.next else \"\\n\")\n",
        "        head = head.next\n",
        "\n",
        "# Example usage\n",
        "# Create the linked list: 1 -> 2 -> 3 -> 3 -> 4 -> 4 -> 4 -> 5\n",
        "head = ListNode(1)\n",
        "head.next = ListNode(2)\n",
        "head.next.next = ListNode(3)\n",
        "head.next.next.next = ListNode(3)\n",
        "head.next.next.next.next = ListNode(4)\n",
        "head.next.next.next.next.next = ListNode(4)\n",
        "head.next.next.next.next.next.next = ListNode(4)\n",
        "head.next.next.next.next.next.next.next = ListNode(5)\n",
        "\n",
        "print(\"Original List:\")\n",
        "printList(head)\n",
        "\n",
        "# Remove duplicates\n",
        "head = deleteDuplicates(head)\n",
        "\n",
        "print(\"List after removing duplicates:\")\n",
        "printList(head)"
      ],
      "metadata": {
        "colab": {
          "base_uri": "https://localhost:8080/"
        },
        "id": "1zKET2_8SWti",
        "outputId": "93bb4e54-86b7-4beb-db58-baf9cf3b4b30"
      },
      "execution_count": 7,
      "outputs": [
        {
          "output_type": "stream",
          "name": "stdout",
          "text": [
            "Original List:\n",
            "1 -> 2 -> 3 -> 3 -> 4 -> 4 -> 4 -> 5\n",
            "List after removing duplicates:\n",
            "1 -> 2 -> 3 -> 4 -> 5\n"
          ]
        }
      ]
    },
    {
      "cell_type": "markdown",
      "source": [
        "7. find the intersection of two linked lists\n",
        "1->2->3->4->8->6->9  5->1->6->7  , intersection 1->6"
      ],
      "metadata": {
        "id": "PjqcNCr8TMKt"
      }
    },
    {
      "cell_type": "code",
      "source": [
        "class ListNode:\n",
        "    def __init__(self, val=0, next=None):\n",
        "        self.val = val\n",
        "        self.next = next\n",
        "\n",
        "def getIntersectionNode(headA, headB):\n",
        "    # Helper function to convert linked list to a set of values\n",
        "    def list_to_set(head):\n",
        "        nodes = set()\n",
        "        while head:\n",
        "            nodes.add(head.val)\n",
        "            head = head.next\n",
        "        return nodes\n",
        "\n",
        "    # Convert both linked lists to sets\n",
        "    setA = list_to_set(headA)\n",
        "    setB = list_to_set(headB)\n",
        "\n",
        "    # Find the intersection of the two sets\n",
        "    intersection_values = setA.intersection(setB)\n",
        "\n",
        "    # Create a new linked list for the intersection\n",
        "    dummy = ListNode()\n",
        "    current = dummy\n",
        "\n",
        "    for val in sorted(intersection_values):\n",
        "        current.next = ListNode(val)\n",
        "        current = current.next\n",
        "\n",
        "    return dummy.next\n",
        "\n",
        "# Helper function to create a linked list from a list of values\n",
        "def create_linked_list(values):\n",
        "    dummy = ListNode()\n",
        "    current = dummy\n",
        "    for val in values:\n",
        "        current.next = ListNode(val)\n",
        "        current = current.next\n",
        "    return dummy.next\n",
        "\n",
        "# Helper function to print a linked list\n",
        "def print_linked_list(head):\n",
        "    while head:\n",
        "        print(head.val, end=\" -> \" if head.next else \"\\n\")\n",
        "        head = head.next\n",
        "\n",
        "# Create the linked lists\n",
        "listA = create_linked_list([1, 2, 3, 4, 8, 6, 9])\n",
        "listB = create_linked_list([5, 1, 6, 7])\n",
        "\n",
        "# Find the intersection\n",
        "intersection = getIntersectionNode(listA, listB)\n",
        "\n",
        "# Print the intersection\n",
        "print_linked_list(intersection)"
      ],
      "metadata": {
        "colab": {
          "base_uri": "https://localhost:8080/"
        },
        "id": "MBnh5-jjR7xE",
        "outputId": "b7af980a-e732-4cd8-9089-c051bfaf90bb"
      },
      "execution_count": 8,
      "outputs": [
        {
          "output_type": "stream",
          "name": "stdout",
          "text": [
            "1 -> 6\n"
          ]
        }
      ]
    },
    {
      "cell_type": "markdown",
      "source": [
        "8. rotate a linked list by k positions to the right  \n",
        "1->2->3->4->8->6->9 , after rotating for 2 times becomes , 3->4->8->6->9->1->2"
      ],
      "metadata": {
        "id": "c2uGQqacTtvT"
      }
    },
    {
      "cell_type": "code",
      "source": [
        "class ListNode:\n",
        "    def __init__(self, val=0, next=None):\n",
        "        self.val = val\n",
        "        self.next = next\n",
        "\n",
        "def rotateRight(head, k):\n",
        "    if not head or not head.next or k == 0:\n",
        "        return head\n",
        "\n",
        "    # Step 1: Find the length of the list\n",
        "    length = 1\n",
        "    tail = head\n",
        "    while tail.next:\n",
        "        tail = tail.next\n",
        "        length += 1\n",
        "\n",
        "    # Step 2: Calculate the effective rotation\n",
        "    k = k % length\n",
        "    if k == 0:\n",
        "        return head\n",
        "\n",
        "    # Step 3: Find the new head\n",
        "    new_tail = head\n",
        "    for _ in range(length - k - 1):\n",
        "        new_tail = new_tail.next\n",
        "\n",
        "    new_head = new_tail.next\n",
        "\n",
        "    # Step 4: Break the list and connect the end to the original head\n",
        "    new_tail.next = None\n",
        "    tail.next = head\n",
        "\n",
        "    # Step 5: Return the new head\n",
        "    return new_head\n",
        "\n",
        "# Helper function to create a linked list from a list\n",
        "def createLinkedList(lst):\n",
        "    dummy = ListNode()\n",
        "    current = dummy\n",
        "    for val in lst:\n",
        "        current.next = ListNode(val)\n",
        "        current = current.next\n",
        "    return dummy.next\n",
        "\n",
        "# Helper function to print a linked list\n",
        "def printLinkedList(head):\n",
        "    current = head\n",
        "    while current:\n",
        "        print(current.val, end=\" -> \" if current.next else \"\")\n",
        "        current = current.next\n",
        "    print()\n",
        "\n",
        "# Example usage\n",
        "lst = [1, 2, 3, 4, 8, 6, 9]\n",
        "head = createLinkedList(lst)\n",
        "print(\"Original list:\")\n",
        "printLinkedList(head)\n",
        "\n",
        "k = 2\n",
        "rotated_head = rotateRight(head, k)\n",
        "print(f\"List after rotating {k} times to the right:\")\n",
        "printLinkedList(rotated_head)"
      ],
      "metadata": {
        "colab": {
          "base_uri": "https://localhost:8080/"
        },
        "id": "f1VbRjJPTV4q",
        "outputId": "5d55ff18-caf4-428a-ee67-40abc682e07a"
      },
      "execution_count": 9,
      "outputs": [
        {
          "output_type": "stream",
          "name": "stdout",
          "text": [
            "Original list:\n",
            "1 -> 2 -> 3 -> 4 -> 8 -> 6 -> 9\n",
            "List after rotating 2 times to the right:\n",
            "6 -> 9 -> 1 -> 2 -> 3 -> 4 -> 8\n"
          ]
        }
      ]
    },
    {
      "cell_type": "markdown",
      "source": [
        "9. Add two numbers represented by linked lists\n",
        " Given two non-empty linked lists representing two non-negative integers, where the digits are stored in reverse order, add the two numbers and return it as a linked list."
      ],
      "metadata": {
        "id": "lj8RS2RVUaiz"
      }
    },
    {
      "cell_type": "code",
      "source": [
        "class ListNode:\n",
        "    def __init__(self, val=0, next=None):\n",
        "        self.val = val\n",
        "        self.next = next\n",
        "\n",
        "def addTwoNumbers(l1: ListNode, l2: ListNode) -> ListNode:\n",
        "    dummy = ListNode()  # Dummy node to simplify the code\n",
        "    current = dummy\n",
        "    carry = 0\n",
        "\n",
        "    # Traverse both linked lists\n",
        "    while l1 or l2 or carry:\n",
        "        # Get the values of the current nodes\n",
        "        val1 = l1.val if l1 else 0\n",
        "        val2 = l2.val if l2 else 0\n",
        "\n",
        "        # Calculate the sum and the new carry\n",
        "        total = val1 + val2 + carry\n",
        "        carry = total // 10\n",
        "        digit = total % 10\n",
        "\n",
        "        # Create a new node with the calculated digit\n",
        "        current.next = ListNode(digit)\n",
        "        current = current.next\n",
        "\n",
        "        # Move to the next nodes in the linked lists\n",
        "        if l1:\n",
        "            l1 = l1.next\n",
        "        if l2:\n",
        "            l2 = l2.next\n",
        "\n",
        "    return dummy.next  # The head of the resulting linked list"
      ],
      "metadata": {
        "id": "-UGDWLpxUCQS"
      },
      "execution_count": 10,
      "outputs": []
    },
    {
      "cell_type": "code",
      "source": [
        "# Helper function to create a linked list from a list of digits\n",
        "def createLinkedList(digits):\n",
        "    dummy = ListNode()\n",
        "    current = dummy\n",
        "    for digit in digits:\n",
        "        current.next = ListNode(digit)\n",
        "        current = current.next\n",
        "    return dummy.next\n",
        "\n",
        "# Helper function to print a linked list\n",
        "def printLinkedList(head):\n",
        "    result = []\n",
        "    while head:\n",
        "        result.append(head.val)\n",
        "        head = head.next\n",
        "    print(result)\n",
        "\n",
        "# Example:\n",
        "l1 = createLinkedList([2, 4, 3])  # Represents the number 342\n",
        "l2 = createLinkedList([5, 6, 4])  # Represents the number 465\n",
        "\n",
        "result = addTwoNumbers(l1, l2)\n",
        "printLinkedList(result)  # Output: [7, 0, 8] which represents 807"
      ],
      "metadata": {
        "colab": {
          "base_uri": "https://localhost:8080/"
        },
        "id": "kxV4ALC0Uiit",
        "outputId": "05647a5a-7ef7-4ba8-8585-8ee983b11f45"
      },
      "execution_count": 11,
      "outputs": [
        {
          "output_type": "stream",
          "name": "stdout",
          "text": [
            "[7, 0, 8]\n"
          ]
        }
      ]
    },
    {
      "cell_type": "markdown",
      "source": [
        "10. Clone a linked list with next and random pointer\n",
        "\n",
        "Given a linked list of size N where each node has two links: one pointer points to the next node and the\n",
        "second pointer points to any node in the list. The task is to create a clone of this linked list in O(N) time.\n",
        "\n",
        "Note: The pointer pointing to the next node is ‘next‘ pointer and the one pointing to an arbitrary node is\n",
        "called ‘arbit’ pointer as it can point to any arbitrary node in the linked list."
      ],
      "metadata": {
        "id": "SEGRNnf1U2LO"
      }
    },
    {
      "cell_type": "code",
      "source": [
        "class Node:\n",
        "    def __init__(self, data):\n",
        "        self.data = data\n",
        "        self.next = None\n",
        "        self.arbit = None\n",
        "\n",
        "def clone_linked_list(head):\n",
        "    if not head:\n",
        "        return None\n",
        "\n",
        "    # Step 1: Create a mapping between original nodes and their clones\n",
        "    mapping = {}\n",
        "\n",
        "    # Step 2: First pass - create clones and store the mapping\n",
        "    current = head\n",
        "    while current:\n",
        "        mapping[current] = Node(current.data)\n",
        "        current = current.next\n",
        "\n",
        "    # Step 3: Second pass - set the next and arbit pointers of the clones\n",
        "    current = head\n",
        "    while current:\n",
        "        clone_node = mapping[current]\n",
        "        clone_node.next = mapping.get(current.next)\n",
        "        clone_node.arbit = mapping.get(current.arbit)\n",
        "        current = current.next\n",
        "\n",
        "    # Return the head of the cloned list\n",
        "    return mapping[head]\n",
        "\n",
        "# Helper function to print the linked list\n",
        "def print_list(head):\n",
        "    while head:\n",
        "        print(f\"Node({head.data})\", end=\"\")\n",
        "        if head.arbit:\n",
        "            print(f\" -> Arbit({head.arbit.data})\", end=\"\")\n",
        "        print()\n",
        "        head = head.next\n",
        "\n",
        "# Example usage\n",
        "if __name__ == \"__main__\":\n",
        "    # Create the original linked list\n",
        "    node1 = Node(1)\n",
        "    node2 = Node(2)\n",
        "    node3 = Node(3)\n",
        "    node4 = Node(4)\n",
        "\n",
        "    node1.next = node2\n",
        "    node2.next = node3\n",
        "    node3.next = node4\n",
        "\n",
        "    node1.arbit = node3\n",
        "    node2.arbit = node1\n",
        "    node3.arbit = node2\n",
        "    node4.arbit = node4\n",
        "\n",
        "    print(\"Original List:\")\n",
        "    print_list(node1)\n",
        "\n",
        "    # Clone the linked list\n",
        "    cloned_head = clone_linked_list(node1)\n",
        "\n",
        "    print(\"\\nCloned List:\")\n",
        "    print_list(cloned_head)"
      ],
      "metadata": {
        "colab": {
          "base_uri": "https://localhost:8080/"
        },
        "id": "XLqR1VwhUlSP",
        "outputId": "fa493c93-d6c0-40d6-a236-1ab70c9564a8"
      },
      "execution_count": 12,
      "outputs": [
        {
          "output_type": "stream",
          "name": "stdout",
          "text": [
            "Original List:\n",
            "Node(1) -> Arbit(3)\n",
            "Node(2) -> Arbit(1)\n",
            "Node(3) -> Arbit(2)\n",
            "Node(4) -> Arbit(4)\n",
            "\n",
            "Cloned List:\n",
            "Node(1) -> Arbit(3)\n",
            "Node(2) -> Arbit(1)\n",
            "Node(3) -> Arbit(2)\n",
            "Node(4) -> Arbit(4)\n"
          ]
        }
      ]
    },
    {
      "cell_type": "code",
      "source": [],
      "metadata": {
        "id": "N5qS-xmwU_wv"
      },
      "execution_count": null,
      "outputs": []
    }
  ]
}