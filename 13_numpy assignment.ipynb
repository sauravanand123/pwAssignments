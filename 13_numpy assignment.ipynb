{
 "cells": [
  {
   "cell_type": "markdown",
   "id": "d4720f78-dfa7-49bc-ac2a-8851e1499619",
   "metadata": {},
   "source": [
    "1. What is a Python library? Why do we use Python libraries"
   ]
  },
  {
   "cell_type": "markdown",
   "id": "d0472778-d94b-44a8-ba4d-abb949907b92",
   "metadata": {},
   "source": [
    "A Python library is a collection of pre-written code that provides specific functionality, which can be reused by developers \n",
    "to perform common tasks without having to write the code from scratch. Libraries contain modules that include functions, classes, \n",
    "and variables to help solve particular problems or implement features efficiently.\n",
    "Code Reusability,Efficiency,Specialization,Community Support,Simplification,Standardization,Interoperability"
   ]
  },
  {
   "cell_type": "markdown",
   "id": "7bbec657-4edb-458f-a79d-20000b8bb0a2",
   "metadata": {},
   "source": [
    "2. What is the difference between Numpy array and List?"
   ]
  },
  {
   "cell_type": "markdown",
   "id": "eb1ccb3e-038e-4a5e-9fbb-1b19c79335ae",
   "metadata": {},
   "source": [
    "array is homogeneous and list is heterogeneous."
   ]
  },
  {
   "cell_type": "markdown",
   "id": "c6866cff-4524-442d-91a9-ffee9637d9f1",
   "metadata": {},
   "source": [
    "3. Find the shape, size and dimension of the following array?\n",
    "\n",
    "[[1, 2, 3, 4]\n",
    "\n",
    "[5, 6, 7, 8],\n",
    "\n",
    "[9, 10, 11, 12]]"
   ]
  },
  {
   "cell_type": "code",
   "execution_count": 4,
   "id": "31dbd471-3235-4a08-a81f-2245fcef55a7",
   "metadata": {},
   "outputs": [
    {
     "data": {
      "text/plain": [
       "array([[ 1,  2,  3,  4],\n",
       "       [ 5,  6,  7,  8],\n",
       "       [ 9, 10, 11, 12]])"
      ]
     },
     "execution_count": 4,
     "metadata": {},
     "output_type": "execute_result"
    }
   ],
   "source": [
    "import numpy as np\n",
    "arr1=np.array([[1,2,3,4],\n",
    "             [5,6,7,8],\n",
    "             [9,10,11,12]])\n",
    "arr1"
   ]
  },
  {
   "cell_type": "code",
   "execution_count": 5,
   "id": "e8ebc765-d4c3-4319-9b9d-5b9dc781ab74",
   "metadata": {},
   "outputs": [
    {
     "data": {
      "text/plain": [
       "(3, 4)"
      ]
     },
     "execution_count": 5,
     "metadata": {},
     "output_type": "execute_result"
    }
   ],
   "source": [
    "arr1.shape"
   ]
  },
  {
   "cell_type": "code",
   "execution_count": 6,
   "id": "b0356c29-6169-4383-aad7-48fa520978b9",
   "metadata": {},
   "outputs": [
    {
     "data": {
      "text/plain": [
       "12"
      ]
     },
     "execution_count": 6,
     "metadata": {},
     "output_type": "execute_result"
    }
   ],
   "source": [
    "arr1.size"
   ]
  },
  {
   "cell_type": "code",
   "execution_count": 7,
   "id": "2892b876-ae4e-4dd2-b1d1-d86ff0bbb3b0",
   "metadata": {},
   "outputs": [
    {
     "data": {
      "text/plain": [
       "2"
      ]
     },
     "execution_count": 7,
     "metadata": {},
     "output_type": "execute_result"
    }
   ],
   "source": [
    "arr1.ndim"
   ]
  },
  {
   "cell_type": "markdown",
   "id": "61abc9fe-7256-4714-af88-bde0762e75b9",
   "metadata": {},
   "source": [
    "4. Write python code to access the first row of the following array?\n",
    "\n",
    "[[1, 2, 3, 4]\n",
    "\n",
    "[5, 6, 7, 8],\n",
    "\n",
    "[9, 10, 11, 12]]"
   ]
  },
  {
   "cell_type": "code",
   "execution_count": 10,
   "id": "22bd76b4-ca79-49fb-892b-f582d66243fa",
   "metadata": {},
   "outputs": [
    {
     "data": {
      "text/plain": [
       "array([[ 1,  2,  3,  4],\n",
       "       [ 5,  6,  7,  8],\n",
       "       [ 9, 10, 11, 12]])"
      ]
     },
     "execution_count": 10,
     "metadata": {},
     "output_type": "execute_result"
    }
   ],
   "source": [
    "arr2=np.array([[1, 2, 3, 4],\n",
    "\n",
    "[5, 6, 7, 8],\n",
    "\n",
    "[9, 10, 11, 12]])\n",
    "arr2"
   ]
  },
  {
   "cell_type": "code",
   "execution_count": 11,
   "id": "3e9cdf49-9b63-4bf1-8b3d-b3d0c6a49246",
   "metadata": {},
   "outputs": [
    {
     "data": {
      "text/plain": [
       "array([1, 2, 3, 4])"
      ]
     },
     "execution_count": 11,
     "metadata": {},
     "output_type": "execute_result"
    }
   ],
   "source": [
    "arr2[0]"
   ]
  },
  {
   "cell_type": "markdown",
   "id": "8b78d54f-9a28-4942-8ce0-42811cdde086",
   "metadata": {},
   "source": [
    "5. How do you access the element at the third row and fourth column from the given numpy array?\n",
    "\n",
    "[[1, 2, 3, 4]\n",
    "\n",
    "[5, 6, 7, 8],\n",
    "\n",
    "[9, 10, 11, 12]]"
   ]
  },
  {
   "cell_type": "code",
   "execution_count": 13,
   "id": "b26ad0db-2cf7-4d21-a54f-bd00426f6ca6",
   "metadata": {},
   "outputs": [
    {
     "data": {
      "text/plain": [
       "array([[ 1,  2,  3,  4],\n",
       "       [ 5,  6,  7,  8],\n",
       "       [ 9, 10, 11, 12]])"
      ]
     },
     "execution_count": 13,
     "metadata": {},
     "output_type": "execute_result"
    }
   ],
   "source": [
    "arr3=np.array([[1, 2, 3, 4],\n",
    "[5, 6, 7, 8],\n",
    "[9, 10, 11, 12]])\n",
    "arr3"
   ]
  },
  {
   "cell_type": "markdown",
   "id": "b9eccba4-5952-4239-9246-42e1813dc974",
   "metadata": {},
   "source": [
    "arr3[2,3]"
   ]
  },
  {
   "cell_type": "markdown",
   "id": "071d01d7-68de-47b5-b380-e9040be93f1b",
   "metadata": {},
   "source": [
    "6. Write code to extract all odd-indexed elements from the given numpy array?\n",
    "\n",
    "[[1, 2, 3, 4]\n",
    "\n",
    "[5, 6, 7, 8],\n",
    "\n",
    "[9, 10, 11, 12]]"
   ]
  },
  {
   "cell_type": "code",
   "execution_count": 18,
   "id": "07f12856-f423-4c1a-b161-69514b82efad",
   "metadata": {},
   "outputs": [
    {
     "data": {
      "text/plain": [
       "array([[ 1,  2,  3,  4],\n",
       "       [ 5,  6,  7,  8],\n",
       "       [ 9, 10, 11, 12]])"
      ]
     },
     "execution_count": 18,
     "metadata": {},
     "output_type": "execute_result"
    }
   ],
   "source": [
    "arr4=np.array([[1, 2, 3, 4],\n",
    "\n",
    "[5, 6, 7, 8],\n",
    "\n",
    "[9, 10, 11, 12]])\n",
    "arr4"
   ]
  },
  {
   "cell_type": "code",
   "execution_count": 21,
   "id": "82971156-2c1d-4c06-916d-73d6fd5dd6be",
   "metadata": {},
   "outputs": [
    {
     "name": "stdout",
     "output_type": "stream",
     "text": [
      "[array(1), array(3), array(5), array(7), array(9), array(11)]\n"
     ]
    }
   ],
   "source": [
    "l=[]\n",
    "for i in np.nditer(arr4):\n",
    "    if i%2!=0:\n",
    "        l.append(i)\n",
    "print(l)"
   ]
  },
  {
   "cell_type": "markdown",
   "id": "f4afad12-3b16-4ef4-ac38-37afc0d54cc7",
   "metadata": {},
   "source": [
    "7. How can you generate a random 3x3 matrix with values between 0 and 1?"
   ]
  },
  {
   "cell_type": "code",
   "execution_count": 29,
   "id": "612f845a-9193-4ae2-9fbf-7eec9339f4e5",
   "metadata": {},
   "outputs": [
    {
     "data": {
      "text/plain": [
       "array([[0.   , 0.125, 0.25 ],\n",
       "       [0.375, 0.5  , 0.625],\n",
       "       [0.75 , 0.875, 1.   ]])"
      ]
     },
     "execution_count": 29,
     "metadata": {},
     "output_type": "execute_result"
    }
   ],
   "source": [
    "arr5=np.linspace(0,1,9).reshape(3,3)\n",
    "arr5"
   ]
  },
  {
   "cell_type": "code",
   "execution_count": 32,
   "id": "46396bba-7890-4605-a059-81d841811ec3",
   "metadata": {},
   "outputs": [
    {
     "data": {
      "text/plain": [
       "array([[0.   , 0.125, 0.25 ],\n",
       "       [0.375, 0.5  , 0.625],\n",
       "       [0.75 , 0.875, 1.   ]])"
      ]
     },
     "execution_count": 32,
     "metadata": {},
     "output_type": "execute_result"
    }
   ],
   "source": [
    "arr6=np.empty((3,3))\n",
    "arr6"
   ]
  },
  {
   "cell_type": "code",
   "execution_count": 41,
   "id": "4a205c97-6af0-412c-88be-77c74b74d014",
   "metadata": {},
   "outputs": [
    {
     "data": {
      "text/plain": [
       "array([[0.1649723 , 0.53236123, 0.10211445],\n",
       "       [0.59340994, 0.49151501, 0.3929773 ],\n",
       "       [0.56275336, 0.04769763, 0.54967742]])"
      ]
     },
     "execution_count": 41,
     "metadata": {},
     "output_type": "execute_result"
    }
   ],
   "source": [
    "arr7=np.random.rand(3,3)\n",
    "arr7"
   ]
  },
  {
   "cell_type": "markdown",
   "id": "cd6ac7ea-8f69-47b7-be18-3992e473fbb0",
   "metadata": {},
   "source": [
    "8. Describe the difference between np.random.rand and np.random.randn?"
   ]
  },
  {
   "cell_type": "markdown",
   "id": "7aab954c-6dbe-4a4f-ad48-8ad60b43af92",
   "metadata": {},
   "source": [
    "The np.random.randn function in the NumPy library generates samples from the standard normal distribution (mean = 0, standard deviation = 1).\n",
    "The np.random.rand function in the NumPy library generates random numbers from a uniform distribution over the interval [0, 1). "
   ]
  },
  {
   "cell_type": "markdown",
   "id": "2c75a318-8a25-4d3e-9f86-7528fafc8410",
   "metadata": {},
   "source": [
    "9. Write code to increase the dimension of the following array?\n",
    "\n",
    "[[1, 2, 3, 4]\n",
    "\n",
    "[5, 6, 7, 8],\n",
    "\n",
    "[9, 10, 11, 12]]"
   ]
  },
  {
   "cell_type": "code",
   "execution_count": 46,
   "id": "e0b73ec4-67cf-49bd-99ba-3b8d95fe3017",
   "metadata": {},
   "outputs": [
    {
     "data": {
      "text/plain": [
       "array([[[ 1,  2,  3,  4],\n",
       "        [ 5,  6,  7,  8],\n",
       "        [ 9, 10, 11, 12]]])"
      ]
     },
     "execution_count": 46,
     "metadata": {},
     "output_type": "execute_result"
    }
   ],
   "source": [
    "arr8=np.array([[1, 2, 3, 4],\n",
    "\n",
    "[5, 6, 7, 8],\n",
    "\n",
    "[9, 10, 11, 12]],ndmin=3)\n",
    "arr8"
   ]
  },
  {
   "cell_type": "markdown",
   "id": "24c35778-f126-45bc-84ef-27f7618590d3",
   "metadata": {},
   "source": [
    "10. How to transpose the following array in NumPy?\n",
    "\n",
    "[[1, 2, 3, 4],\n",
    "\n",
    "[5, 6, 7, 8],\n",
    "\n",
    "[9, 10, 11, 12]]"
   ]
  },
  {
   "cell_type": "code",
   "execution_count": 49,
   "id": "14b68e3b-97a9-4ad4-aeb4-226552a72d03",
   "metadata": {},
   "outputs": [
    {
     "data": {
      "text/plain": [
       "array([[ 1,  5,  9],\n",
       "       [ 2,  6, 10],\n",
       "       [ 3,  7, 11],\n",
       "       [ 4,  8, 12]])"
      ]
     },
     "execution_count": 49,
     "metadata": {},
     "output_type": "execute_result"
    }
   ],
   "source": [
    "transpose=np.transpose([[1, 2, 3, 4],\n",
    "\n",
    "[5, 6, 7, 8],\n",
    "\n",
    "[9, 10, 11, 12]])\n",
    "transpose"
   ]
  },
  {
   "cell_type": "markdown",
   "id": "cb388d13-7f78-43ed-a99d-d035f5e22bcb",
   "metadata": {},
   "source": [
    "11. Consider the following matrix:\n",
    "\n",
    "Matrix A2 [[1, 2, 3, 4] [5, 6, 7, 8],[9, 10, 11, 12]]\n",
    "\n",
    "Matrix B2 [[1, 2, 3, 4] [5, 6, 7, 8],[9, 10, 11, 12]]"
   ]
  },
  {
   "cell_type": "code",
   "execution_count": 51,
   "id": "24aa3df0-cb75-436d-8e39-bc48c9d9613d",
   "metadata": {},
   "outputs": [],
   "source": [
    "A2=np.matrix([[1, 2, 3, 4], [5, 6, 7, 8],[9, 10, 11, 12]])\n",
    "B2=np.matrix( [[1, 2, 3, 4], [5, 6, 7, 8],[9, 10, 11, 12]])"
   ]
  },
  {
   "cell_type": "code",
   "execution_count": 54,
   "id": "fbd93b64-62f8-4779-b9f4-911ef34ab4b3",
   "metadata": {},
   "outputs": [
    {
     "data": {
      "text/plain": [
       "matrix([[ 1,  2,  3,  4],\n",
       "        [ 5,  6,  7,  8],\n",
       "        [ 9, 10, 11, 12]])"
      ]
     },
     "execution_count": 54,
     "metadata": {},
     "output_type": "execute_result"
    }
   ],
   "source": [
    "A2"
   ]
  },
  {
   "cell_type": "code",
   "execution_count": 55,
   "id": "04bbaa67-577e-4fe0-8da6-41270a789da4",
   "metadata": {},
   "outputs": [
    {
     "data": {
      "text/plain": [
       "matrix([[ 1,  2,  3,  4],\n",
       "        [ 5,  6,  7,  8],\n",
       "        [ 9, 10, 11, 12]])"
      ]
     },
     "execution_count": 55,
     "metadata": {},
     "output_type": "execute_result"
    }
   ],
   "source": [
    "B2"
   ]
  },
  {
   "cell_type": "markdown",
   "id": "195f493b-f5cb-4f49-89a4-8ab343ba0c42",
   "metadata": {},
   "source": [
    "Perform the following operation using Python1\n",
    "1. Indexwise multiplication"
   ]
  },
  {
   "cell_type": "code",
   "execution_count": 53,
   "id": "f247509c-b90b-44c7-b434-88e16881114a",
   "metadata": {},
   "outputs": [
    {
     "data": {
      "text/plain": [
       "matrix([[  1,   4,   9,  16],\n",
       "        [ 25,  36,  49,  64],\n",
       "        [ 81, 100, 121, 144]])"
      ]
     },
     "execution_count": 53,
     "metadata": {},
     "output_type": "execute_result"
    }
   ],
   "source": [
    "np.multiply(A2,B2)"
   ]
  },
  {
   "cell_type": "markdown",
   "id": "e5849f67-94cf-49c7-85ba-044c534e70c7",
   "metadata": {},
   "source": [
    "2. Matrix multiplication"
   ]
  },
  {
   "cell_type": "code",
   "execution_count": 56,
   "id": "1d33a6f4-3bdf-4805-a4b4-8713b8cd71ab",
   "metadata": {},
   "outputs": [
    {
     "data": {
      "text/plain": [
       "matrix([[  1,   4,   9,  16],\n",
       "        [ 25,  36,  49,  64],\n",
       "        [ 81, 100, 121, 144]])"
      ]
     },
     "execution_count": 56,
     "metadata": {},
     "output_type": "execute_result"
    }
   ],
   "source": [
    "np.multiply(A2,B2)"
   ]
  },
  {
   "cell_type": "markdown",
   "id": "b9f235c9-4ad3-40fa-8118-06f01e7e4787",
   "metadata": {},
   "source": [
    "3. add both matrix"
   ]
  },
  {
   "cell_type": "code",
   "execution_count": 57,
   "id": "49e2864b-ea93-4f12-91a0-e9b9f3ab279f",
   "metadata": {},
   "outputs": [
    {
     "data": {
      "text/plain": [
       "matrix([[ 2,  4,  6,  8],\n",
       "        [10, 12, 14, 16],\n",
       "        [18, 20, 22, 24]])"
      ]
     },
     "execution_count": 57,
     "metadata": {},
     "output_type": "execute_result"
    }
   ],
   "source": [
    "np.add(A2,B2)"
   ]
  },
  {
   "cell_type": "markdown",
   "id": "4e45a4e5-4f48-46de-86ab-757fc4f9915f",
   "metadata": {},
   "source": [
    "4.subtract B from A"
   ]
  },
  {
   "cell_type": "code",
   "execution_count": 58,
   "id": "39ce87c7-f2ab-441a-ba77-6941df018303",
   "metadata": {},
   "outputs": [
    {
     "data": {
      "text/plain": [
       "matrix([[0, 0, 0, 0],\n",
       "        [0, 0, 0, 0],\n",
       "        [0, 0, 0, 0]])"
      ]
     },
     "execution_count": 58,
     "metadata": {},
     "output_type": "execute_result"
    }
   ],
   "source": [
    "np.subtract(A2,B2)"
   ]
  },
  {
   "cell_type": "markdown",
   "id": "fc22c31e-505a-4630-836e-49aed038fc3e",
   "metadata": {},
   "source": [
    "5.divide matrix B by A"
   ]
  },
  {
   "cell_type": "code",
   "execution_count": 60,
   "id": "e530f289-ac85-4104-bb63-74e72d51f90f",
   "metadata": {},
   "outputs": [
    {
     "data": {
      "text/plain": [
       "matrix([[1., 1., 1., 1.],\n",
       "        [1., 1., 1., 1.],\n",
       "        [1., 1., 1., 1.]])"
      ]
     },
     "execution_count": 60,
     "metadata": {},
     "output_type": "execute_result"
    }
   ],
   "source": [
    "B2/A2"
   ]
  },
  {
   "cell_type": "markdown",
   "id": "dd59accf-cb73-4f6e-91f9-7e20f34741c6",
   "metadata": {},
   "source": [
    "12.  Which function in Numpy can be used to swap the byte order of an array?"
   ]
  },
  {
   "cell_type": "code",
   "execution_count": 61,
   "id": "5f68b2ab-9750-4907-b9e0-3a5d11aec33f",
   "metadata": {},
   "outputs": [
    {
     "name": "stdout",
     "output_type": "stream",
     "text": [
      "Original array:\n",
      "[    1   256 65536]\n",
      "\n",
      "Array with swapped bytes:\n",
      "[16777216    65536      256]\n"
     ]
    }
   ],
   "source": [
    "arr = np.array([1, 256, 65536], dtype=np.int32)\n",
    "print(\"Original array:\")\n",
    "print(arr)\n",
    "\n",
    "# Swap bytes of the array\n",
    "swapped_arr = arr.byteswap()\n",
    "print(\"\\nArray with swapped bytes:\")\n",
    "print(swapped_arr)"
   ]
  },
  {
   "cell_type": "markdown",
   "id": "4e80f49d-a708-44c4-93f5-5aa36d4ea51d",
   "metadata": {},
   "source": [
    "13.  What is the significance of the np.linalg.inv function?"
   ]
  },
  {
   "cell_type": "markdown",
   "id": "073c5ee6-8b78-48ba-8a42-54d3b51a4999",
   "metadata": {},
   "source": [
    "Gives the inverse in linear algebra"
   ]
  },
  {
   "cell_type": "code",
   "execution_count": 62,
   "id": "72d7277b-3caa-423a-a5f3-645ee474ae6d",
   "metadata": {},
   "outputs": [],
   "source": [
    "A = np.array([[2,3,5],[3,10,15],[5,-2,7]])\n",
    "B = np.array([15,40,20])"
   ]
  },
  {
   "cell_type": "code",
   "execution_count": 63,
   "id": "06b526b2-ea3e-4aac-9bdd-b690512b5caa",
   "metadata": {},
   "outputs": [
    {
     "data": {
      "text/plain": [
       "array([[ 1.2195122 , -0.37804878, -0.06097561],\n",
       "       [ 0.65853659, -0.13414634, -0.18292683],\n",
       "       [-0.68292683,  0.23170732,  0.13414634]])"
      ]
     },
     "execution_count": 63,
     "metadata": {},
     "output_type": "execute_result"
    }
   ],
   "source": [
    "np.linalg.inv(A)"
   ]
  },
  {
   "cell_type": "markdown",
   "id": "b125a764-600f-4973-bc64-8bb5d448d231",
   "metadata": {},
   "source": [
    "14. What does the np.reshape function do, and how is it used?"
   ]
  },
  {
   "cell_type": "markdown",
   "id": "dcfe1074-f66c-41ce-9e7c-0f321809cd42",
   "metadata": {},
   "source": [
    "It reshapes the array to required shape"
   ]
  },
  {
   "cell_type": "code",
   "execution_count": 65,
   "id": "c22a1059-535c-4ed2-9ad4-e24d28654874",
   "metadata": {},
   "outputs": [
    {
     "data": {
      "text/plain": [
       "array([[7, 2, 9, 8],\n",
       "       [5, 8, 3, 9],\n",
       "       [7, 5, 3, 3],\n",
       "       [9, 8, 7, 8]])"
      ]
     },
     "execution_count": 65,
     "metadata": {},
     "output_type": "execute_result"
    }
   ],
   "source": [
    "z=np.random.randint(2,10,16).reshape(4,4)\n",
    "z"
   ]
  },
  {
   "cell_type": "markdown",
   "id": "abb02bfe-b602-481b-9290-6e35b115768d",
   "metadata": {},
   "source": [
    "15. What is broadcasting in Numpy?"
   ]
  },
  {
   "cell_type": "markdown",
   "id": "714b4e01-cd25-4cd3-a495-233d802a74dd",
   "metadata": {},
   "source": [
    "Broadcasting in NumPy is a powerful mechanism that allows operations on arrays of different shapes.\n",
    "In simple terms, broadcasting refers to the automatic expansion of arrays so that \n",
    "they have compatible shapes for element-wise operations without making copies of the data."
   ]
  },
  {
   "cell_type": "code",
   "execution_count": 66,
   "id": "df2fb176-681b-43b3-a437-d784c399dbb2",
   "metadata": {},
   "outputs": [
    {
     "name": "stdout",
     "output_type": "stream",
     "text": [
      "Array A:\n",
      "[1 2 3]\n",
      "\n",
      "Array B:\n",
      "[[10]\n",
      " [20]\n",
      " [30]]\n",
      "\n",
      "Result of A + B:\n",
      "[[11 12 13]\n",
      " [21 22 23]\n",
      " [31 32 33]]\n"
     ]
    }
   ],
   "source": [
    "import numpy as np\n",
    "\n",
    "A = np.array([1, 2, 3])\n",
    "B = np.array([[10], [20], [30]])\n",
    "\n",
    "print(\"Array A:\")\n",
    "print(A)\n",
    "\n",
    "print(\"\\nArray B:\")\n",
    "print(B)\n",
    "\n",
    "# Add A and B using broadcasting\n",
    "C = A + B\n",
    "\n",
    "print(\"\\nResult of A + B:\")\n",
    "print(C)\n"
   ]
  },
  {
   "cell_type": "code",
   "execution_count": null,
   "id": "19585158-0521-4865-b2ca-1165bd707f00",
   "metadata": {},
   "outputs": [],
   "source": []
  }
 ],
 "metadata": {
  "kernelspec": {
   "display_name": "Python 3 (ipykernel)",
   "language": "python",
   "name": "python3"
  },
  "language_info": {
   "codemirror_mode": {
    "name": "ipython",
    "version": 3
   },
   "file_extension": ".py",
   "mimetype": "text/x-python",
   "name": "python",
   "nbconvert_exporter": "python",
   "pygments_lexer": "ipython3",
   "version": "3.11.7"
  }
 },
 "nbformat": 4,
 "nbformat_minor": 5
}
