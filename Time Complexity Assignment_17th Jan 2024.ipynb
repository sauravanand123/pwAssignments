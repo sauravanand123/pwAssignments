{
 "cells": [
  {
   "cell_type": "code",
   "execution_count": 8,
   "id": "c164ef36-ea01-4457-930a-91757b7cfdd2",
   "metadata": {},
   "outputs": [],
   "source": [
    "#Loop (for/while) - Huge time complexity - how many time the statement is execute O(n)\n",
    "#Bigger loop - time complexity\n",
    "#If there is no loop - constant time complexity O(1)\n",
    "#Conditionsl statement  like If else elif - Time complexity - O(1) bcoz we are not executing multiple statements"
   ]
  },
  {
   "cell_type": "code",
   "execution_count": null,
   "id": "90d76e3c-e2ba-4324-b731-02eb2c433777",
   "metadata": {},
   "outputs": [],
   "source": [
    "#Problem 1:\n",
    "\n",
    "def quicksort(arr):\n",
    "    if len(arr) <= 1:\n",
    "        return arr\n",
    "    pivot = arr[len(arr) // 2]\n",
    "    left = [x for x in arr if x < pivot]\n",
    "    middle = [x for x in arr if x == pivot]\n",
    "    right = [x for x in arr if x > pivot]\n",
    "    return quicksort(left) + middle + quicksort(right)\n",
    "\n",
    "\n",
    "#The time complexity of the provided for worst case is O(n^2) and average case O(n log n)."
   ]
  },
  {
   "cell_type": "code",
   "execution_count": 1,
   "id": "20b9eb99-6ed1-490c-93eb-cef3bb4057b7",
   "metadata": {},
   "outputs": [],
   "source": [
    "#Problem 2:\n",
    "\n",
    "def nested_loop_example(matrix):\n",
    "    rows, cols = len(matrix), len(matrix[0])\n",
    "    total = 0\n",
    "    for i in range(rows):\n",
    "        for j in range(cols):\n",
    "            total += matrix[i][j]\n",
    "            return total\n",
    "        \n",
    "#Time complexity is O(n^2)   \n",
    "#This is because the function contains two nested loops, but the inner loop consists of only a single iteration. The return statement is inside the inner loop, so it will execute only once, and the loops will not continue beyond that point. Therefore, the overall time complexity is constant, or O(1)."
   ]
  },
  {
   "cell_type": "code",
   "execution_count": 2,
   "id": "c977bc16-a869-45e8-9b6b-85e2116b6827",
   "metadata": {},
   "outputs": [],
   "source": [
    "#Problem 3:\n",
    "\n",
    "def example_function(arr):\n",
    "    result = 0\n",
    "    for element in arr:\n",
    "        result += element\n",
    "        return result\n",
    "#There are \"n\" elements, the overall time complexity is O(n), indicating a linear relationship between the input size and the number of operations performed.    "
   ]
  },
  {
   "cell_type": "code",
   "execution_count": null,
   "id": "887fc6de-59cb-45ae-80a9-c527e70b9c26",
   "metadata": {},
   "outputs": [],
   "source": [
    "#Problem 4 :\n",
    "\n",
    "def longest_increasing_subsequence(nums):\n",
    "    n = len(nums)\n",
    "    lis = [1] * n\n",
    "    for i in range(1, n):\n",
    "        for j in range(0, i):\n",
    "            if nums[i] > nums[j] and lis[i] < lis[j] + 1:\n",
    "                lis[i] = lis[j] + 1\n",
    "                return max(lis)\n",
    "            \n",
    "#The time complexity of the code is O(n^2)           "
   ]
  },
  {
   "cell_type": "code",
   "execution_count": null,
   "id": "ae9995ac-d449-4f14-85ef-04b6fe992856",
   "metadata": {},
   "outputs": [],
   "source": [
    "#Problem 5:\n",
    "\n",
    "def mysterious_function(arr):\n",
    "    n = len(arr)\n",
    "    result = 0\n",
    "    for i in range(n):\n",
    "        for j in range(i, n):\n",
    "            result += arr[i] * arr[j]\n",
    "            return result\n",
    "        \n",
    "#The time complexity of the provided code is O(n^2)\n",
    "\n",
    "#The reason is that the return statement is inside the inner loop, and it will be executed only once (after the first iteration of the outer loop). The loops will not continue beyond that point. Therefore, the overall time complexity is constant, or O(1).     \n",
    "        "
   ]
  },
  {
   "cell_type": "code",
   "execution_count": 3,
   "id": "9ec137e8-ecfc-4b2e-8d09-b5370796371d",
   "metadata": {},
   "outputs": [
    {
     "name": "stdout",
     "output_type": "stream",
     "text": [
      "6\n"
     ]
    }
   ],
   "source": [
    "#Solve the following problems on recursion\n",
    "\n",
    "#Problem 6 : Sum of Digits\n",
    "#Write a recursive function to calculate the sum of digits of a given positive integer.\n",
    "#sum_of_digits(123) -> 6\n",
    "\n",
    "def sum_of_digits(n):\n",
    "    if n < 10:\n",
    "        return n\n",
    "    else:\n",
    "        return n % 10 + sum_of_digits(n // 10)\n",
    "    \n",
    "n = 123\n",
    "result = sum_of_digits(n)\n",
    "print(result)\n",
    "\n",
    "#Time complexity is O(n)."
   ]
  },
  {
   "cell_type": "code",
   "execution_count": 7,
   "id": "8f1c1c20-35a8-4f36-8f46-d0b85753c9fe",
   "metadata": {},
   "outputs": [
    {
     "name": "stdout",
     "output_type": "stream",
     "text": [
      "-8\n"
     ]
    }
   ],
   "source": [
    "#Problem 7: Fibonacci Series\n",
    "#Write a recursive function to generate the first n numbers of the Fibonacci series.\n",
    "#fibonacci_series(6) -> [0, 1, 1, 2, 3, 5]\n",
    "\n",
    "class Fibonacciseries:\n",
    "    def fib(self, n):\n",
    "        if n < 1:\n",
    "            return n\n",
    "        return self.fib(n-1) + self.fib(n-2)\n",
    "\n",
    "fib_ser = Fibonacciseries()\n",
    "n = 6\n",
    "result = fib_ser.fib(n)\n",
    "print(result)"
   ]
  },
  {
   "cell_type": "code",
   "execution_count": null,
   "id": "0af97b09-370d-413a-ba45-7c601a117653",
   "metadata": {},
   "outputs": [],
   "source": []
  },
  {
   "cell_type": "code",
   "execution_count": 1,
   "id": "07d8b032-a055-4418-a15c-52fc29eb5a0f",
   "metadata": {},
   "outputs": [
    {
     "name": "stdout",
     "output_type": "stream",
     "text": [
      "True\n"
     ]
    }
   ],
   "source": [
    "#Problem 8 : Subset Sum\n",
    "#Given a set of positive integers and a target sum, write a recursive function to determine if there exists a subset of the integers that adds up to the target sum.\n",
    "#subset_sum([3, 34, 4, 12, 5, 2], 9) -> True\n",
    "\n",
    "\n",
    "def subset_sum(nums, target):\n",
    "    if target == 0:\n",
    "        return True\n",
    "    if not nums or target < 0:\n",
    "        return False\n",
    "    return subset_sum(nums[:-1], target - nums[-1]) or subset_sum(nums[:-1], target)\n",
    "\n",
    "# Test the function\n",
    "print(subset_sum([3, 34, 4, 12, 5, 2], 9))  "
   ]
  },
  {
   "cell_type": "code",
   "execution_count": null,
   "id": "3bc47d22-7f9b-4200-b2f5-13db337c059c",
   "metadata": {},
   "outputs": [],
   "source": []
  },
  {
   "cell_type": "code",
   "execution_count": null,
   "id": "36843180-866c-4a22-93bf-5d47724563da",
   "metadata": {},
   "outputs": [],
   "source": [
    "#Problem 9: Word Break\n",
    "#Given a non-empty string and a dictionary of words, write a recursive function to determine if the string can be segmented into a space-separated sequence of dictionary words.\n",
    "#word_break( leetcode , [ leet , code ]) -> True"
   ]
  },
  {
   "cell_type": "code",
   "execution_count": 2,
   "id": "d61f4d80-b796-42b3-ad04-31789e1b1d96",
   "metadata": {},
   "outputs": [],
   "source": [
    "def wordBreak(wordList, word):\n",
    "    if word == \"\":\n",
    "        return True\n",
    "    else:\n",
    "        wordLen = len(word)\n",
    "        for i in range(1, wordLen+1):\n",
    "            if word[:i] in wordList and wordBreak(wordList, word[i:]):\n",
    "                return True\n",
    "            return False\n",
    "                                                                 "
   ]
  },
  {
   "cell_type": "code",
   "execution_count": 3,
   "id": "189b0824-4ab7-4134-ac5e-ac2a12c6326d",
   "metadata": {},
   "outputs": [
    {
     "name": "stdout",
     "output_type": "stream",
     "text": [
      "False\n",
      "False\n"
     ]
    }
   ],
   "source": [
    "print(wordBreak([\"Leet\", \"Code\"], \"Leetcodes\"))\n",
    "print(wordBreak([\"I\", \"am\", \"sam\", \"sung\", \"Leve\", \"suraj\"], \"Surajlovesamsung\"))"
   ]
  },
  {
   "cell_type": "code",
   "execution_count": null,
   "id": "d25a5133-da65-449d-bdb6-182ad8d8d078",
   "metadata": {},
   "outputs": [],
   "source": []
  },
  {
   "cell_type": "code",
   "execution_count": 25,
   "id": "e5e35180-b6f2-4472-8cf7-a351b5815703",
   "metadata": {},
   "outputs": [],
   "source": [
    "#Problem 10 : N-Queens\n",
    "#Implement a recursive function to solve the N Queens problem, where you have to place N queens on an N×N chessboard in such a way that no two queens threaten each other.\n",
    "#n_queens(4)\n",
    "\n",
    "#Classic Back Tracking example with recurssion\n",
    "[\n",
    "[\".Q..\",\n",
    "\"...Q\",\n",
    "\"Q...\",\n",
    "\"..Q.\"],\n",
    "[\"..Q.\",\n",
    "\"Q...\",\n",
    "\"...Q\",\n",
    "\".Q..\"]\n",
    "]\n",
    "\n",
    "#Return True if its safe to place queen on the board\n",
    "def isSafeToPlaceQueen(board, row, col, n):\n",
    "    \n",
    "    \n",
    "    #check in the left side\n",
    "    for i in range(col):\n",
    "        if board[row][i]==1:\n",
    "            return False\n",
    "            \n",
    "    #check in the upper left diagonal\n",
    "    for i, j in zip(range(row, -1, -1), range(col, -1, -1)):\n",
    "        if board[i][j]==1:\n",
    "            return False\n",
    "        \n",
    "    #check in the lower left diagonal\n",
    "    for i, j in zip(range(row, n, 1), range(col, -1, -1)):\n",
    "        if board[i][j]==1:\n",
    "            return False\n",
    "        \n",
    "    return True\n",
    "\n",
    "def solveNQ(board, n):\n",
    "    \n",
    "    if not solveNQtil(board, 0, n):\n",
    "        print(\"Solution doesn't exist\")\n",
    "        return\n",
    "    \n",
    "    printBoard(board, n)\n",
    "    \n",
    "#Should return True if we are able to place all the queens\n",
    "def solveNQtil(board, col, n):\n",
    "    if(col >= n): #Base condition\n",
    "        return True # Means we have been able to put queens in all the columns\n",
    "    \n",
    "                    \n",
    "    #check for all the rows\n",
    "    for row in range(n):\n",
    "        if isSafeToPlaceQueen(board, row, col, n):\n",
    "            board[row][col]= 1 #Set the queen\n",
    "                  \n",
    "            #Recursively try for the next columns\n",
    "            if solveNQtil(board, col+1, n):\n",
    "                  return True\n",
    "            #Back Tracking\n",
    "            board[row][col] = 0 # Queen can't be set here\n",
    "         \n",
    "    return False #Won't be able to place the queen         \n",
    "                  \n",
    "def printBoard(board, n):\n",
    "    for i in range(n):\n",
    "        for j in range(n):\n",
    "            if board[i][j]==1:\n",
    "                print(\"Q\", end=\" \")\n",
    "            else :\n",
    "                print(\"-\", end=\" \")\n",
    "                \n",
    "        print()\n",
    "            \n",
    "            \n",
    "                "
   ]
  },
  {
   "cell_type": "code",
   "execution_count": 29,
   "id": "3261a8aa-389f-4148-8177-3ef90860d832",
   "metadata": {},
   "outputs": [
    {
     "name": "stdout",
     "output_type": "stream",
     "text": [
      "- - Q - \n",
      "Q - - - \n",
      "- - - Q \n",
      "- Q - - \n"
     ]
    }
   ],
   "source": [
    "board = [[0,0,0,0],\n",
    "         [0,0,0,0], \n",
    "         [0,0,0,0],\n",
    "         [0,0,0,0]\n",
    "         ]\n",
    "\n",
    "solveNQ(board, 4)\n",
    "\n"
   ]
  },
  {
   "cell_type": "code",
   "execution_count": 30,
   "id": "3398b2da-a119-4943-9be0-cdc29c2559fb",
   "metadata": {},
   "outputs": [
    {
     "name": "stdout",
     "output_type": "stream",
     "text": [
      "Q - - - - - - - \n",
      "- - - - - - Q - \n",
      "- - - - Q - - - \n",
      "- - - - - - - Q \n",
      "- Q - - - - - - \n",
      "- - - Q - - - - \n",
      "- - - - - Q - - \n",
      "- - Q - - - - - \n"
     ]
    }
   ],
   "source": [
    "board8 = [[0,0,0,0,0,0,0,0],\n",
    "          [0,0,0,0,0,0,0,0], \n",
    "          [0,0,0,0,0,0,0,0],\n",
    "          [0,0,0,0,0,0,0,0],\n",
    "          [0,0,0,0,0,0,0,0],\n",
    "          [0,0,0,0,0,0,0,0],\n",
    "          [0,0,0,0,0,0,0,0],\n",
    "          [0,0,0,0,0,0,0,0]\n",
    "          ]\n",
    "\n",
    "solveNQ(board8, 8)   \n",
    "      "
   ]
  },
  {
   "cell_type": "code",
   "execution_count": null,
   "id": "c7523896-ca8a-43ad-bc6b-7ac9e5badd2d",
   "metadata": {},
   "outputs": [],
   "source": []
  }
 ],
 "metadata": {
  "kernelspec": {
   "display_name": "Python 3 (ipykernel)",
   "language": "python",
   "name": "python3"
  },
  "language_info": {
   "codemirror_mode": {
    "name": "ipython",
    "version": 3
   },
   "file_extension": ".py",
   "mimetype": "text/x-python",
   "name": "python",
   "nbconvert_exporter": "python",
   "pygments_lexer": "ipython3",
   "version": "3.10.8"
  }
 },
 "nbformat": 4,
 "nbformat_minor": 5
}
