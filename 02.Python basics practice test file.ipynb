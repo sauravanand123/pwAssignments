{
 "cells": [
  {
   "cell_type": "raw",
   "metadata": {},
   "source": [
    "Assignment Link\n",
    "20th Aug'23 : Python basics practice test file\n",
    "https://drive.google.com/file/d/1q2FG27cypBxxldsz32YjxCtHlupki8jJ/view"
   ]
  },
  {
   "cell_type": "markdown",
   "metadata": {},
   "source": [
    "# TOPIC: String Based Assignment Problems"
   ]
  },
  {
   "cell_type": "code",
   "execution_count": 124,
   "metadata": {},
   "outputs": [],
   "source": [
    "#1. Write a program to reverse a string."
   ]
  },
  {
   "cell_type": "code",
   "execution_count": 3,
   "metadata": {},
   "outputs": [
    {
     "name": "stdout",
     "output_type": "stream",
     "text": [
      "Enter string :hi\n",
      "Reversed string : ih\n"
     ]
    }
   ],
   "source": [
    "stri=input(\"Enter string :\")\n",
    "\n",
    "print(\"Reversed string :\",stri[::-1])"
   ]
  },
  {
   "cell_type": "code",
   "execution_count": 126,
   "metadata": {},
   "outputs": [],
   "source": [
    "#2. Check if a string is a palindrome."
   ]
  },
  {
   "cell_type": "code",
   "execution_count": 4,
   "metadata": {},
   "outputs": [
    {
     "name": "stdout",
     "output_type": "stream",
     "text": [
      "Enter string :madam\n",
      "String madam is palindrome\n"
     ]
    }
   ],
   "source": [
    "stri=input(\"Enter string :\")\n",
    "rev=stri[::-1]\n",
    "if(stri==rev):\n",
    "    print(f\"String {stri} is palindrome\")\n",
    "else:\n",
    "    print(f\"String {stri} is not palindrome\")"
   ]
  },
  {
   "cell_type": "code",
   "execution_count": 5,
   "metadata": {},
   "outputs": [
    {
     "name": "stdout",
     "output_type": "stream",
     "text": [
      "String in normal case :  heLlo\n",
      "String in uppercase :  HELLO\n",
      "String in lowercase :  hello\n"
     ]
    }
   ],
   "source": [
    "#3. Convert a string to uppercase.\n",
    "stri=\"heLlo\"\n",
    "print(\"String in normal case : \",stri)\n",
    "print(\"String in uppercase : \",stri.upper())\n",
    "#4. Convert a string to lowercase.\n",
    "print(\"String in lowercase : \",stri.lower())"
   ]
  },
  {
   "cell_type": "code",
   "execution_count": 6,
   "metadata": {},
   "outputs": [],
   "source": [
    "#5. Count the number of vowels in a string."
   ]
  },
  {
   "cell_type": "code",
   "execution_count": 6,
   "metadata": {},
   "outputs": [
    {
     "name": "stdout",
     "output_type": "stream",
     "text": [
      "Number of vowels in the given string 'aeio uA' : 6\n"
     ]
    }
   ],
   "source": [
    "stri=\"aeio uA\"\n",
    "vowel=['a','e','i','o','u','A','E','I','O','U']\n",
    "count=0\n",
    "for x in stri:\n",
    "    if x in vowel:\n",
    "        count=count+1\n",
    "print(f\"Number of vowels in the given string '{stri}' :\",count)"
   ]
  },
  {
   "cell_type": "code",
   "execution_count": 8,
   "metadata": {},
   "outputs": [],
   "source": [
    "#6. Count the number of consonants in a string."
   ]
  },
  {
   "cell_type": "code",
   "execution_count": 7,
   "metadata": {},
   "outputs": [
    {
     "name": "stdout",
     "output_type": "stream",
     "text": [
      "Number of consonants in the given string 'aeiouA hello b' : 6\n"
     ]
    }
   ],
   "source": [
    "stri=\"aeiouA hello b\"\n",
    "vowel=['a','e','i','o','u','A','E','I','O','U']\n",
    "count=0\n",
    "for x in stri:\n",
    "    if x not in vowel:\n",
    "        count=count+1\n",
    "print(f\"Number of consonants in the given string '{stri}' :\",count)"
   ]
  },
  {
   "cell_type": "code",
   "execution_count": 10,
   "metadata": {},
   "outputs": [],
   "source": [
    "#7. Remove all whitespaces from a string."
   ]
  },
  {
   "cell_type": "code",
   "execution_count": 8,
   "metadata": {},
   "outputs": [
    {
     "name": "stdout",
     "output_type": "stream",
     "text": [
      "Original String:  hElL o\n",
      "White space removed :  hElLo\n"
     ]
    }
   ],
   "source": [
    "stri=\"hElL o\"\n",
    "print(\"Original String: \",stri)\n",
    "res=stri.replace(\" \",\"\")\n",
    "print(\"White space removed : \",res)\n",
    "\n",
    "\n",
    "# def remo(s):\n",
    "#     return s.replace(\" \",\"\")\n",
    "# inp=\"h e l l o\"\n",
    "# res=remo(inp)\n",
    "# print(inp)\n",
    "# print(res)"
   ]
  },
  {
   "cell_type": "code",
   "execution_count": 12,
   "metadata": {},
   "outputs": [],
   "source": [
    "#8. Find the length of a string without using the `len()` function."
   ]
  },
  {
   "cell_type": "code",
   "execution_count": 9,
   "metadata": {},
   "outputs": [
    {
     "name": "stdout",
     "output_type": "stream",
     "text": [
      "Using len() : 8\n",
      "Without len : 8\n"
     ]
    }
   ],
   "source": [
    "stri=\"help me!\"\n",
    "print(\"Using len() :\",len(stri))\n",
    "count = 0\n",
    "for i in stri:\n",
    "    count+=1\n",
    "print(\"Without len :\",count)    "
   ]
  },
  {
   "cell_type": "code",
   "execution_count": 14,
   "metadata": {},
   "outputs": [],
   "source": [
    "#9. Check if a string contains a specific word."
   ]
  },
  {
   "cell_type": "code",
   "execution_count": 10,
   "metadata": {},
   "outputs": [
    {
     "name": "stdout",
     "output_type": "stream",
     "text": [
      "Enter String : hio\n",
      "Enter word : hi\n",
      "String hio contains hi\n"
     ]
    }
   ],
   "source": [
    "stri=input(\"Enter String : \")\n",
    "word=input(\"Enter word : \")\n",
    "if word in stri:\n",
    "    print(f\"String {stri} contains {word}\")\n",
    "else:\n",
    "    print(f\"String {stri} does not contain {word}\")"
   ]
  },
  {
   "cell_type": "code",
   "execution_count": 16,
   "metadata": {},
   "outputs": [],
   "source": [
    "#10. Replace a word in a string with another word."
   ]
  },
  {
   "cell_type": "code",
   "execution_count": 11,
   "metadata": {},
   "outputs": [
    {
     "name": "stdout",
     "output_type": "stream",
     "text": [
      "Enter String : this is not good\n",
      "Enter word : is\n",
      "Enter Key : will\n",
      "thwill will not good\n"
     ]
    }
   ],
   "source": [
    "stri = input(\"Enter String : \")    #sentence\n",
    "word = input(\"Enter word : \")      #Word will be searched in sentence\n",
    "key = input(\"Enter Key : \")        # if word exist in sentence, it will be replaced with key\n",
    "\n",
    "if word in stri:\n",
    "    stri = stri.replace(word, key)\n",
    "    print(stri)\n",
    "else:\n",
    "    print(\"Word not found in the string.\")"
   ]
  },
  {
   "cell_type": "code",
   "execution_count": 18,
   "metadata": {},
   "outputs": [],
   "source": [
    "#11. Count the occurrences of a word in a string."
   ]
  },
  {
   "cell_type": "code",
   "execution_count": 12,
   "metadata": {},
   "outputs": [
    {
     "name": "stdout",
     "output_type": "stream",
     "text": [
      "Enter String : hi\n",
      "Enter word : hi\n",
      "The 'hi' occured 1 times in 'hi'\n"
     ]
    }
   ],
   "source": [
    "stri = input(\"Enter String : \")\n",
    "word = input(\"Enter word : \")\n",
    "x=stri.split(\" \")\n",
    "count=0\n",
    "for w in x:\n",
    "    if word in w:\n",
    "        count+=1\n",
    "print(f\"The '{word}' occured {count} times in '{stri}'\")"
   ]
  },
  {
   "cell_type": "code",
   "execution_count": 20,
   "metadata": {},
   "outputs": [],
   "source": [
    "#12. Find the first occurrence of a word in a string."
   ]
  },
  {
   "cell_type": "code",
   "execution_count": 13,
   "metadata": {},
   "outputs": [
    {
     "name": "stdout",
     "output_type": "stream",
     "text": [
      "Enter the word: hio\n",
      "The word  data  occurs at  -1  index\n"
     ]
    }
   ],
   "source": [
    "input_string = \"Collecting enough data is a good thing, learning data science is a basic step\"\n",
    "# find the first occurance of the word bhavya\n",
    "word = \"data\"\n",
    "\n",
    "index = input_string.find(input(\"Enter the word: \"))\n",
    "\n",
    "print(\"The word \", word, \" occurs at \", index, \" index\")"
   ]
  },
  {
   "cell_type": "code",
   "execution_count": 22,
   "metadata": {},
   "outputs": [],
   "source": [
    "#13. Find the last occurrence of a word in a string."
   ]
  },
  {
   "cell_type": "code",
   "execution_count": 14,
   "metadata": {},
   "outputs": [
    {
     "name": "stdout",
     "output_type": "stream",
     "text": [
      "The word 'am' first occurs at index 5 in the string.\n",
      "The word 'am' last occurs at index 19 in the string.\n"
     ]
    }
   ],
   "source": [
    "input_string = \"i in am good to be am\"\n",
    "word_to_find = \"am\"\n",
    "\n",
    "first_occurrence_index = input_string.find(word_to_find)\n",
    "last_occurrence_index = input_string.rfind(word_to_find)\n",
    "\n",
    "if first_occurrence_index != -1:\n",
    "    print(f\"The word '{word_to_find}' first occurs at index {first_occurrence_index} in the string.\")\n",
    "    print(f\"The word '{word_to_find}' last occurs at index {last_occurrence_index} in the string.\")\n",
    "else:\n",
    "    print(f\"The word '{word_to_find}' is not found in the string.\")\n"
   ]
  },
  {
   "cell_type": "code",
   "execution_count": 24,
   "metadata": {},
   "outputs": [],
   "source": [
    "#14. Split a string into a list of words."
   ]
  },
  {
   "cell_type": "code",
   "execution_count": 15,
   "metadata": {},
   "outputs": [
    {
     "data": {
      "text/plain": [
       "['i', 'in', 'am', 'good', 'to', 'be', 'am']"
      ]
     },
     "execution_count": 15,
     "metadata": {},
     "output_type": "execute_result"
    }
   ],
   "source": [
    "stri= \"i_in_am_good_to_be_am\"\n",
    "x=stri.split(\"_\")\n",
    "x"
   ]
  },
  {
   "cell_type": "code",
   "execution_count": 26,
   "metadata": {},
   "outputs": [],
   "source": [
    "#15. Join a list of words into a string."
   ]
  },
  {
   "cell_type": "code",
   "execution_count": 16,
   "metadata": {},
   "outputs": [
    {
     "data": {
      "text/plain": [
       "'i in am good to be am'"
      ]
     },
     "execution_count": 16,
     "metadata": {},
     "output_type": "execute_result"
    }
   ],
   "source": [
    "stri=['i', 'in', 'am', 'good', 'to', 'be', 'am']\n",
    "x=\" \".join(stri)\n",
    "x"
   ]
  },
  {
   "cell_type": "code",
   "execution_count": 28,
   "metadata": {},
   "outputs": [],
   "source": [
    "#16. Convert a string where words are separated by spaces to one where words\n",
    "#are separated by underscores."
   ]
  },
  {
   "cell_type": "code",
   "execution_count": 17,
   "metadata": {},
   "outputs": [
    {
     "data": {
      "text/plain": [
       "'i_in_am_good_to_be_am'"
      ]
     },
     "execution_count": 17,
     "metadata": {},
     "output_type": "execute_result"
    }
   ],
   "source": [
    "stri= \"i in am good to be am\"\n",
    "x=stri.replace(\" \",\"_\")\n",
    "x\n"
   ]
  },
  {
   "cell_type": "code",
   "execution_count": 30,
   "metadata": {},
   "outputs": [],
   "source": [
    "#17. Check if a string starts with a specific word or phrase.\n",
    "#18. Check if a string ends with a specific word or phrase."
   ]
  },
  {
   "cell_type": "code",
   "execution_count": 18,
   "metadata": {},
   "outputs": [
    {
     "name": "stdout",
     "output_type": "stream",
     "text": [
      "No, string do not starts with 'il'\n"
     ]
    }
   ],
   "source": [
    "stri=\"i in am good to be am\"\n",
    "key=\"il\"\n",
    "if stri.startswith(key):\n",
    "    print(f\"yes, string starts with '{key}'\")\n",
    "else:\n",
    "    print(f\"No, string do not starts with '{key}'\")"
   ]
  },
  {
   "cell_type": "code",
   "execution_count": 32,
   "metadata": {},
   "outputs": [],
   "source": [
    "#19. Convert a string to title case (e.g., \"hello world\" to \"Hello World\")."
   ]
  },
  {
   "cell_type": "code",
   "execution_count": 19,
   "metadata": {},
   "outputs": [
    {
     "name": "stdout",
     "output_type": "stream",
     "text": [
      "I Am Good\n"
     ]
    }
   ],
   "source": [
    "stri=\"i am good\"\n",
    "print(stri.title())"
   ]
  },
  {
   "cell_type": "code",
   "execution_count": 34,
   "metadata": {},
   "outputs": [],
   "source": [
    "#20. Find the longest word in a string."
   ]
  },
  {
   "cell_type": "code",
   "execution_count": 20,
   "metadata": {},
   "outputs": [
    {
     "name": "stdout",
     "output_type": "stream",
     "text": [
      "The longest word in the string is: longest\n"
     ]
    }
   ],
   "source": [
    "input_string = \"This is a sample string to find the longest word\"\n",
    "words = input_string.split()\n",
    "longest_word = \"\"\n",
    "\n",
    "for word in words:\n",
    "    if len(word) > len(longest_word):\n",
    "        longest_word = word\n",
    "\n",
    "print(f\"The longest word in the string is: {longest_word}\")"
   ]
  },
  {
   "cell_type": "code",
   "execution_count": 36,
   "metadata": {},
   "outputs": [],
   "source": [
    "#21. Find the shortest word in a string."
   ]
  },
  {
   "cell_type": "code",
   "execution_count": 21,
   "metadata": {},
   "outputs": [
    {
     "name": "stdout",
     "output_type": "stream",
     "text": [
      "The shortest word in the string is: a\n"
     ]
    }
   ],
   "source": [
    "input_string = \"This is a sample string to find the shortest word\"\n",
    "words = input_string.split()\n",
    "shortest_word = words[0]  # Initialize with the first word\n",
    "\n",
    "for word in words:\n",
    "    if len(word) < len(shortest_word):\n",
    "        shortest_word = word\n",
    "\n",
    "print(f\"The shortest word in the string is: {shortest_word}\")\n"
   ]
  },
  {
   "cell_type": "code",
   "execution_count": 38,
   "metadata": {},
   "outputs": [],
   "source": [
    "#22. Reverse the order of words in a string."
   ]
  },
  {
   "cell_type": "code",
   "execution_count": 22,
   "metadata": {},
   "outputs": [
    {
     "name": "stdout",
     "output_type": "stream",
     "text": [
      "sihT\n",
      "si\n",
      "a\n",
      "elpmas\n",
      "gnirts\n"
     ]
    }
   ],
   "source": [
    "input_string = \"This is a sample string\"\n",
    "words = input_string.split()\n",
    "for x in words:\n",
    "    print(x[::-1])"
   ]
  },
  {
   "cell_type": "code",
   "execution_count": 40,
   "metadata": {},
   "outputs": [],
   "source": [
    "#23. Check if a string is alphanumeric."
   ]
  },
  {
   "cell_type": "code",
   "execution_count": 24,
   "metadata": {},
   "outputs": [
    {
     "name": "stdout",
     "output_type": "stream",
     "text": [
      "False\n",
      "False\n",
      "False\n",
      "False\n"
     ]
    }
   ],
   "source": [
    "stri=\"hello12\"\n",
    "print(stri.isalpha())\n",
    "print(stri.isalpha())\n",
    "print(stri.isnumeric())\n",
    "print(stri.isdigit())"
   ]
  },
  {
   "cell_type": "code",
   "execution_count": 25,
   "metadata": {},
   "outputs": [
    {
     "name": "stdout",
     "output_type": "stream",
     "text": [
      "Digits in the string: 3255\n"
     ]
    }
   ],
   "source": [
    "#24. Extract all digits from a string.\n",
    "input_string = \"I have 3 apples and 2 bananas bought for 55rupees.\"\n",
    "\n",
    "digits = ''\n",
    "for char in input_string:\n",
    "    if char.isdigit():\n",
    "        digits += char\n",
    "\n",
    "print(\"Digits in the string:\", digits)\n"
   ]
  },
  {
   "cell_type": "code",
   "execution_count": 26,
   "metadata": {},
   "outputs": [
    {
     "name": "stdout",
     "output_type": "stream",
     "text": [
      "Digits in the string: Ihaveapplesandbananas\n"
     ]
    }
   ],
   "source": [
    "#25. Extract all alphabets from a string.\n",
    "input_string = \"I have 3 apples and 2 bananas.\"\n",
    "\n",
    "alpha = ''\n",
    "for char in input_string:\n",
    "    if char.isalpha():\n",
    "        alpha += char\n",
    "\n",
    "print(\"Digits in the string:\", alpha)"
   ]
  },
  {
   "cell_type": "code",
   "execution_count": 44,
   "metadata": {},
   "outputs": [],
   "source": [
    "#26. Count the number of uppercase letters in a string."
   ]
  },
  {
   "cell_type": "code",
   "execution_count": 27,
   "metadata": {},
   "outputs": [
    {
     "name": "stdout",
     "output_type": "stream",
     "text": [
      "The number of uppercase letters is: 3\n"
     ]
    }
   ],
   "source": [
    "def uccount(text):\n",
    "    count = 0\n",
    "    for char in text:\n",
    "        if char.isupper():\n",
    "            count += 1\n",
    "    return count\n",
    "\n",
    "input_text = \"I Like Python\"\n",
    "result = uccount(input_text)\n",
    "print(f\"The number of uppercase letters is: {result}\")\n"
   ]
  },
  {
   "cell_type": "code",
   "execution_count": 46,
   "metadata": {},
   "outputs": [],
   "source": [
    "#27. Count the number of lowercase letters in a string."
   ]
  },
  {
   "cell_type": "code",
   "execution_count": 28,
   "metadata": {},
   "outputs": [
    {
     "name": "stdout",
     "output_type": "stream",
     "text": [
      "The number of lowercase letters is: 3\n"
     ]
    }
   ],
   "source": [
    "def lccount(text):\n",
    "    count = 0\n",
    "    for char in text:\n",
    "        if char.islower():\n",
    "            count += 1\n",
    "    return count\n",
    "\n",
    "input_text = \"I Like Python\"\n",
    "result = uccount(input_text)\n",
    "print(f\"The number of lowercase letters is: {result}\")"
   ]
  },
  {
   "cell_type": "code",
   "execution_count": 29,
   "metadata": {},
   "outputs": [],
   "source": [
    "#28. Swap the case of each character in a string."
   ]
  },
  {
   "cell_type": "code",
   "execution_count": 30,
   "metadata": {},
   "outputs": [
    {
     "data": {
      "text/plain": [
       "'hELlO 123 mIkE taSTe'"
      ]
     },
     "execution_count": 30,
     "metadata": {},
     "output_type": "execute_result"
    }
   ],
   "source": [
    "x=\"HelLo 123 MiKe TAstE\"\n",
    "x.swapcase()"
   ]
  },
  {
   "cell_type": "code",
   "execution_count": 50,
   "metadata": {},
   "outputs": [],
   "source": [
    "#29. Remove a specific word from a string."
   ]
  },
  {
   "cell_type": "code",
   "execution_count": 31,
   "metadata": {},
   "outputs": [
    {
     "name": "stdout",
     "output_type": "stream",
     "text": [
      "Original string : i am not in good mood\n",
      "'goodd' is not there.\n",
      "HelLo 123 MiKe TAstE\n"
     ]
    }
   ],
   "source": [
    "stri=\"i am not in good mood\"\n",
    "print(\"Original string :\",stri)\n",
    "word=\"goodd\"\n",
    "if word in stri:\n",
    "    \n",
    "    print(stri.replace(word,''))\n",
    "    \n",
    "else:\n",
    "    print(f\"'{word}' is not there.\")\n",
    "print(x)"
   ]
  },
  {
   "cell_type": "code",
   "execution_count": 32,
   "metadata": {},
   "outputs": [
    {
     "name": "stdout",
     "output_type": "stream",
     "text": [
      "['This', 'is', 'an', 'sentence', 'example.']\n",
      "This is an sentence example.\n"
     ]
    }
   ],
   "source": [
    "def split_string_into_words(text):\n",
    "    # Step 1: Use the split() method to split the text into a list of words.\n",
    "    words_list = text.split()\n",
    "\n",
    "    # Step 2: Return the list of words.\n",
    "    return words_list\n",
    "\n",
    "text = \"This is an example sentence example.\"\n",
    "result_words = split_string_into_words(text)\n",
    "x=\"example\"\n",
    "if x in result_words:\n",
    "    result_words.remove(x)\n",
    "print(result_words)\n",
    "finalstr=' '.join(result_words)\n",
    "print(finalstr)\n",
    "# print(\"List of words:\", result_words)\n"
   ]
  },
  {
   "cell_type": "code",
   "execution_count": 33,
   "metadata": {},
   "outputs": [
    {
     "name": "stdout",
     "output_type": "stream",
     "text": [
      "The string after removing 'sentence':\n",
      "This is a sample with a to remove.\n"
     ]
    }
   ],
   "source": [
    "def remove_word(text, word):\n",
    "    words = text.split()  # Split the string into words\n",
    "    words = [w for w in words if w.lower() != word.lower()]  # Filter out the specific word (case insensitive)\n",
    "    return ' '.join(words)  # Join the remaining words back into a string\n",
    "\n",
    "# Example usage:\n",
    "input_text = \"This is a sample sentence with a sentence to remove.\"\n",
    "word_to_remove = \"sentence\"\n",
    "result = remove_word(input_text, word_to_remove)\n",
    "print(f\"The string after removing '{word_to_remove}':\")\n",
    "print(result)\n"
   ]
  },
  {
   "cell_type": "code",
   "execution_count": 34,
   "metadata": {},
   "outputs": [
    {
     "name": "stdout",
     "output_type": "stream",
     "text": [
      "abcd99@yahoo.com is valid\n"
     ]
    }
   ],
   "source": [
    "#30. Check if a string is a valid email address.\n",
    "import re  # Import the regular expression module\n",
    "\n",
    "def is_valid_email(email):\n",
    "    pattern = r'^[\\w\\.-]+@[\\w\\.-]+\\.\\w+$'  # Regular expression pattern for a basic email validation\n",
    "    if re.match(pattern, email):\n",
    "        return True\n",
    "    else:\n",
    "        return False\n",
    "\n",
    "# Example email addresses\n",
    "email1 = \"abcd99@yahoo.com\"\n",
    "\n",
    "if(is_valid_email(email1)):\n",
    "    print(f\"{email1} is valid\")\n",
    "else:\n",
    "    print(f\"{email1} is not valid\")"
   ]
  },
  {
   "cell_type": "code",
   "execution_count": 35,
   "metadata": {},
   "outputs": [
    {
     "name": "stdout",
     "output_type": "stream",
     "text": [
      "abcd99\n"
     ]
    }
   ],
   "source": [
    "#31. Extract the username from an email address string.\n",
    "def extract_username(email):\n",
    "    username = email.split('@')[0]  # Split the email address at \"@\" and take the first part\n",
    "    return username\n",
    "\n",
    "# Example email address\n",
    "email = \"abcd99@email.com\"\n",
    "result = extract_username(email)\n",
    "print(result)"
   ]
  },
  {
   "cell_type": "code",
   "execution_count": 36,
   "metadata": {},
   "outputs": [
    {
     "name": "stdout",
     "output_type": "stream",
     "text": [
      "email.com\n"
     ]
    }
   ],
   "source": [
    "#32. Extract the domain name from an email address string.\n",
    "def extract_domain(email):\n",
    "    domain = email.split('@')[1]  # Split the email address at \"@\" and take the second part\n",
    "    return domain\n",
    "\n",
    "# Example email address\n",
    "email = \"abcd99@email.com\"\n",
    "result = extract_domain(email)\n",
    "print(result)"
   ]
  },
  {
   "cell_type": "code",
   "execution_count": 37,
   "metadata": {},
   "outputs": [
    {
     "name": "stdout",
     "output_type": "stream",
     "text": [
      "Hi Team , Hope you are Doing well !\n"
     ]
    }
   ],
   "source": [
    "#33. Replace multiple spaces in a string with a single space.\n",
    "def replace_multiple_spaces(input_string):\n",
    "    cleaned_string = ' '.join(input_string.split())  # Split the string at spaces and then join using a single space\n",
    "    return cleaned_string\n",
    "\n",
    "# Example input string with multiple spaces\n",
    "input_string = \"Hi  Team   , Hope    you    are Doing   well  !\"\n",
    "result = replace_multiple_spaces(input_string)\n",
    "print(result)"
   ]
  },
  {
   "cell_type": "code",
   "execution_count": 38,
   "metadata": {},
   "outputs": [
    {
     "name": "stdout",
     "output_type": "stream",
     "text": [
      "https://www.example.com is valid\n"
     ]
    }
   ],
   "source": [
    "#34. Check if a string is a valid URL.\n",
    "from urllib.parse import urlparse\n",
    "\n",
    "def is_valid_url(url):\n",
    "    try:\n",
    "        result = urlparse(url)\n",
    "        return all([result.scheme, result.netloc])  # Check if both scheme and netloc are present\n",
    "    except ValueError:\n",
    "        return False\n",
    "\n",
    "# Example URLs\n",
    "url = \"https://www.example.com\"\n",
    "url2 = \"invalid-url\"\n",
    "if(is_valid_url(url)):\n",
    "    print(f\"{url} is valid\")\n",
    "else:\n",
    "    print(f\"{url} is not valid\")"
   ]
  },
  {
   "cell_type": "code",
   "execution_count": 39,
   "metadata": {},
   "outputs": [
    {
     "name": "stdout",
     "output_type": "stream",
     "text": [
      "Protocol 1: https\n",
      "Protocol 2: http\n",
      "Protocol 3: ftp\n"
     ]
    }
   ],
   "source": [
    "#35. Extract the protocol (http or https) from a URL string.\n",
    "def extract_protocol(url):\n",
    "    # Find the index of the first occurrence of \"://\"\n",
    "    protocol_end = url.find(\"://\")\n",
    "\n",
    "    if protocol_end != -1:\n",
    "        # Extract the protocol from the URL\n",
    "        protocol = url[:protocol_end]\n",
    "        return protocol\n",
    "    else:\n",
    "        return None\n",
    "\n",
    "# Example URL strings\n",
    "url1 = \"https://www.example.com\"\n",
    "url2 = \"http://google.com\"\n",
    "url3 = \"ftp://ftp.example.com\"\n",
    "\n",
    "# Extract protocols\n",
    "protocol1 = extract_protocol(url1)\n",
    "protocol2 = extract_protocol(url2)\n",
    "protocol3 = extract_protocol(url3)\n",
    "\n",
    "# Print extracted protocols\n",
    "print(\"Protocol 1:\", protocol1)\n",
    "print(\"Protocol 2:\", protocol2)\n",
    "print(\"Protocol 3:\", protocol3)"
   ]
  },
  {
   "cell_type": "code",
   "execution_count": 85,
   "metadata": {},
   "outputs": [
    {
     "name": "stdout",
     "output_type": "stream",
     "text": [
      "Character 'H' appears 1 times.\n",
      "Character 'e' appears 1 times.\n",
      "Character 'l' appears 3 times.\n",
      "Character 'o' appears 3 times.\n",
      "Character ',' appears 1 times.\n",
      "Character ' ' appears 1 times.\n",
      "Character 'w' appears 1 times.\n",
      "Character 'r' appears 1 times.\n",
      "Character 'd' appears 1 times.\n",
      "Character '!' appears 1 times.\n"
     ]
    }
   ],
   "source": [
    "#36. Find the frequency of each character in a string.\n",
    "def char_frequency(string):\n",
    "    frequency = {}  # Initialize an empty dictionary to store character frequencies\n",
    "\n",
    "    for char in string:\n",
    "        if char in frequency:\n",
    "            frequency[char] += 1\n",
    "        else:\n",
    "            frequency[char] = 1\n",
    "\n",
    "    return frequency\n",
    "\n",
    "# Example string\n",
    "stri = \"Helloo, world!\"\n",
    "\n",
    "# Get the character frequency\n",
    "result = char_frequency(stri)\n",
    "\n",
    "# Display the frequency of each character\n",
    "for char, freq in result.items():\n",
    "    print(f\"Character '{char}' appears {freq} times.\")\n"
   ]
  },
  {
   "cell_type": "code",
   "execution_count": 41,
   "metadata": {},
   "outputs": [
    {
     "name": "stdout",
     "output_type": "stream",
     "text": [
      "String without punctuation:\n",
      "Hello i am trying to remove punctuation like commas periods and question marks\n"
     ]
    }
   ],
   "source": [
    "#37. Remove all punctuation from a string.\n",
    "import string\n",
    "\n",
    "def remove_punctuation(input_string):\n",
    "    translator = str.maketrans('', '', string.punctuation)  # Create translation table\n",
    "    return input_string.translate(translator)\n",
    "\n",
    "input_string = \"Hello! i am trying; to remove punctuation?, like commas, periods, and question marks!\"\n",
    "\n",
    "# Driver code to Remove punctuation\n",
    "result = remove_punctuation(input_string)\n",
    "print(\"String without punctuation:\")\n",
    "print(result)\n"
   ]
  },
  {
   "cell_type": "code",
   "execution_count": 42,
   "metadata": {},
   "outputs": [
    {
     "name": "stdout",
     "output_type": "stream",
     "text": [
      "True\n",
      "False\n",
      "False\n"
     ]
    }
   ],
   "source": [
    "#38. Check if a string contains only digits.\n",
    "s1 = \"12345\"\n",
    "s2 = \"Hello123\"\n",
    "s3 = \"456.789\"\n",
    "print(s1.isdigit())\n",
    "print(s2.isdigit())\n",
    "print(s3.isdigit())"
   ]
  },
  {
   "cell_type": "code",
   "execution_count": 43,
   "metadata": {},
   "outputs": [
    {
     "name": "stdout",
     "output_type": "stream",
     "text": [
      "'12345' contains only digits: True\n"
     ]
    }
   ],
   "source": [
    "def contains_only_digits(input_string):\n",
    "    return input_string.isdigit()\n",
    "\n",
    "string1 = \"12345\"\n",
    "\n",
    "print(f\"'{string1}' contains only digits:\", contains_only_digits(s1))"
   ]
  },
  {
   "cell_type": "code",
   "execution_count": 44,
   "metadata": {},
   "outputs": [
    {
     "name": "stdout",
     "output_type": "stream",
     "text": [
      "'12345' contains only alphabets: False\n",
      "'Hello123' contains only alphabets: False\n",
      "'this' contains only alphabets: True\n"
     ]
    }
   ],
   "source": [
    "#39. Check if a string contains only alphabets.\n",
    "def contains_only_digits(input_string):\n",
    "    return input_string.isalpha()\n",
    "\n",
    "# Example strings\n",
    "s1 = \"12345\"\n",
    "s2 = \"Hello123\"\n",
    "s3 = \"this\"\n",
    "# Print the results\n",
    "print(f\"'{s1}' contains only alphabets:\", contains_only_digits(s1))\n",
    "print(f\"'{s2}' contains only alphabets:\", contains_only_digits(s2))\n",
    "print(f\"'{s3}' contains only alphabets:\", contains_only_digits(s3))"
   ]
  },
  {
   "cell_type": "code",
   "execution_count": 45,
   "metadata": {},
   "outputs": [
    {
     "name": "stdout",
     "output_type": "stream",
     "text": [
      "['h', 'e', 'l', 'l', 'o']\n",
      "['H', 'e', 'l', 'l', 'o', '1', '2', '3']\n"
     ]
    }
   ],
   "source": [
    "#40. Convert a string to a list of characters.\n",
    "\n",
    "def convert_char(stri):\n",
    "    return list(stri)\n",
    "\n",
    "s1 = \"hello\"\n",
    "s2 = \"Hello123\"\n",
    "print(convert_char(s1))\n",
    "print(convert_char(s2))"
   ]
  },
  {
   "cell_type": "code",
   "execution_count": 46,
   "metadata": {},
   "outputs": [
    {
     "name": "stdout",
     "output_type": "stream",
     "text": [
      "'dog' and 'god' are anagrams: True\n",
      "'hello' and 'hlelo' are anagrams: True\n"
     ]
    }
   ],
   "source": [
    "#41. Check if two strings are anagrams.\n",
    "def are_anagrams(str1, str2):\n",
    "    # Remove spaces and convert strings to lowercase for accurate comparison\n",
    "    str1 = str1.replace(\" \", \"\").lower()\n",
    "    str2 = str2.replace(\" \", \"\").lower()\n",
    "\n",
    "    # Sort the characters in both strings and compare\n",
    "    return sorted(str1) == sorted(str2)\n",
    "\n",
    "# Example strings\n",
    "string1 = \"dog\"\n",
    "string2 = \"god\"\n",
    "string3 = \"hello\"\n",
    "string4 = \"hlelo\"\n",
    "\n",
    "# Check if strings are anagrams\n",
    "result1 = are_anagrams(string1, string2)\n",
    "result2 = are_anagrams(string3, string4)\n",
    "\n",
    "# Print the results\n",
    "print(f\"'{string1}' and '{string2}' are anagrams:\", result1)\n",
    "print(f\"'{string3}' and '{string4}' are anagrams:\", result2)"
   ]
  },
  {
   "cell_type": "code",
   "execution_count": 47,
   "metadata": {},
   "outputs": [
    {
     "name": "stdout",
     "output_type": "stream",
     "text": [
      "Encrypted text: Ifmmp, Xpsme!\n"
     ]
    }
   ],
   "source": [
    "#42. Encode a string using a Caesar cipher.\n",
    "def caesar_cipher_encrypt(text, shift):\n",
    "    encrypted_text = \"\"\n",
    "\n",
    "    for char in text:\n",
    "        # Check if the character is a letter\n",
    "        if char.isalpha():\n",
    "            # Determine the character's case (uppercase or lowercase)\n",
    "            if char.islower():\n",
    "                # Encrypt lowercase letters\n",
    "                encrypted_text += chr(((ord(char) - ord('a') + shift) % 26) + ord('a'))\n",
    "            else:\n",
    "                # Encrypt uppercase letters\n",
    "                encrypted_text += chr(((ord(char) - ord('A') + shift) % 26) + ord('A'))\n",
    "        else:\n",
    "            # Keep non-alphabetic characters unchanged\n",
    "            encrypted_text += char\n",
    "\n",
    "    return encrypted_text\n",
    "\n",
    "# Example string and shift value\n",
    "plaintext = \"Hello, World!\"\n",
    "shift_value = 1\n",
    "\n",
    "# Encrypt the plaintext using Caesar cipher\n",
    "encrypted_text = caesar_cipher_encrypt(plaintext, shift_value)\n",
    "print(\"Encrypted text:\", encrypted_text)\n"
   ]
  },
  {
   "cell_type": "code",
   "execution_count": 68,
   "metadata": {},
   "outputs": [
    {
     "name": "stdout",
     "output_type": "stream",
     "text": [
      "Decoded text: bello, qorld!\n"
     ]
    }
   ],
   "source": [
    "#43. Decode a Caesar cipher encoded string.\n",
    "# Define a function to decode a string using a Caesar cipher\n",
    "def caesar_cipher_decoder(text, shift):\n",
    "    \"\"\"\n",
    "    Decodes a string using a Caesar cipher.\n",
    "\n",
    "    Args:\n",
    "        text: The string to decode.\n",
    "        shift: The number of positions to shift each letter.\n",
    "\n",
    "    Returns:\n",
    "        The decoded string.\n",
    "    \"\"\"\n",
    "\n",
    "    # Initialize an empty string to store the decoded text\n",
    "    decoded_text = \"\"\n",
    "\n",
    "    # Loop through each character in the input text\n",
    "    for char in text:\n",
    "        # Check if the character is an alphabetic character\n",
    "        if char.isalpha():\n",
    "            # Calculate the decoded character using the shift value\n",
    "            decoded_char = chr((ord(char) - shift - ord('a')) % 26 + ord('a'))\n",
    "        else:\n",
    "            # If the character is not alphabetic, keep it unchanged\n",
    "            decoded_char = char\n",
    "\n",
    "        # Add the decoded character to the decoded text\n",
    "        decoded_text += decoded_char\n",
    "\n",
    "    # Return the fully decoded text\n",
    "    return decoded_text\n",
    "\n",
    "# Example input\n",
    "text = \"Ifmmp, Xpsme!\"\n",
    "shift = 1\n",
    "\n",
    "# Call the caesar_cipher_decoder function to decode the input text\n",
    "decoded_text = caesar_cipher_decoder(text, shift)\n",
    "\n",
    "# Print the decoded text\n",
    "print(\"Decoded text:\", decoded_text)"
   ]
  },
  {
   "cell_type": "code",
   "execution_count": 48,
   "metadata": {},
   "outputs": [
    {
     "name": "stdout",
     "output_type": "stream",
     "text": [
      "The most frequent word is 'sample'\n"
     ]
    }
   ],
   "source": [
    "#44. Find the most frequent word in a string.\n",
    "from collections import Counter\n",
    "import re\n",
    "\n",
    "def most_frequent_word(text):\n",
    "    # Tokenize the text into words using regex\n",
    "    words = re.findall(r'\\b\\w+\\b', text.lower())\n",
    "\n",
    "    # Count the occurrences of each word\n",
    "    word_counts = Counter(words)\n",
    "\n",
    "    # Find the most frequent word\n",
    "    most_common_word = word_counts.most_common(1)\n",
    "\n",
    "    return most_common_word[0][0] if most_common_word else None\n",
    "\n",
    "# Example string\n",
    "input_text = \"This is a sample string. This string contains repeated words like sample, sample, and string.\"\n",
    "\n",
    "# Find the most frequent word\n",
    "most_frequent = most_frequent_word(input_text)\n",
    "if most_frequent:\n",
    "    print(f\"The most frequent word is '{most_frequent}'\")\n",
    "else:\n",
    "    print(\"No words found in the input text.\")\n"
   ]
  },
  {
   "cell_type": "code",
   "execution_count": 70,
   "metadata": {},
   "outputs": [
    {
     "name": "stdout",
     "output_type": "stream",
     "text": [
      "Unique words: {'hows', 'world', 'there', 'the', 'hello'}\n"
     ]
    }
   ],
   "source": [
    "#45. Find all unique words in a string.\n",
    "import re\n",
    "\n",
    "def unique_words(input_string):\n",
    "    # Remove punctuation and convert to lowercase\n",
    "    clean_string = re.sub(r'[^\\w\\s]', '', input_string).lower()\n",
    "\n",
    "    # Split the string into words and convert to a set for uniqueness\n",
    "    words = set(clean_string.split())\n",
    "\n",
    "    return words\n",
    "\n",
    "# Example string\n",
    "input_str = \"Hello world, hello there! How's the world?\"\n",
    "\n",
    "# Find unique words\n",
    "unique_word_set = unique_words(input_str)\n",
    "\n",
    "# Print the result\n",
    "print(\"Unique words:\", unique_word_set)"
   ]
  },
  {
   "cell_type": "code",
   "execution_count": 49,
   "metadata": {},
   "outputs": [
    {
     "name": "stdout",
     "output_type": "stream",
     "text": [
      "'abc def' has 2 syllables.\n",
      "'banana' has 3 syllables.\n",
      "'syllable' has 3 syllables.\n"
     ]
    }
   ],
   "source": [
    "#46. Count the number of syllables in a string.\n",
    "import re\n",
    "\n",
    "def count_syllables(word):\n",
    "    # Count vowel groups using regular expression\n",
    "    vowel_groups = re.findall(r'[aeiouy]+', word, re.IGNORECASE)\n",
    "\n",
    "    return len(vowel_groups)\n",
    "\n",
    "# Example words\n",
    "word1 = \"abc def\"\n",
    "word2 = \"banana\"\n",
    "word3 = \"syllable\"\n",
    "\n",
    "# Count syllables\n",
    "syllables1 = count_syllables(word1)\n",
    "syllables2 = count_syllables(word2)\n",
    "syllables3 = count_syllables(word3)\n",
    "\n",
    "# Print the results\n",
    "print(f\"'{word1}' has {syllables1} syllables.\")\n",
    "print(f\"'{word2}' has {syllables2} syllables.\")\n",
    "print(f\"'{word3}' has {syllables3} syllables.\")"
   ]
  },
  {
   "cell_type": "code",
   "execution_count": 50,
   "metadata": {},
   "outputs": [
    {
     "name": "stdout",
     "output_type": "stream",
     "text": [
      "'Hello, world!' contains special characters: True\n",
      "'This is a test.' contains special characters: True\n",
      "'Special@Characters' contains special characters: True\n"
     ]
    }
   ],
   "source": [
    "#47. Check if a string contains any special characters.\n",
    "import re\n",
    "\n",
    "def contains_special_characters(input_string):\n",
    "    # Define a regular expression pattern to match special characters\n",
    "    pattern = re.compile(r'[!@#$%^&*()_+{}\\[\\]:;<>,.?~\\\\/]')\n",
    "\n",
    "    # Use the search() method to find a match\n",
    "    match = pattern.search(input_string)\n",
    "\n",
    "    # Return True if a match is found, False otherwise\n",
    "    return bool(match)\n",
    "\n",
    "# Example strings\n",
    "string1 = \"Hello, world!\"\n",
    "string2 = \"This is a test.\"\n",
    "string3 = \"Special@Characters\"\n",
    "\n",
    "# Check if strings contain special characters\n",
    "result1 = contains_special_characters(string1)\n",
    "result2 = contains_special_characters(string2)\n",
    "result3 = contains_special_characters(string3)\n",
    "\n",
    "# Print the results\n",
    "print(f\"'{string1}' contains special characters:\", result1)\n",
    "print(f\"'{string2}' contains special characters:\", result2)\n",
    "print(f\"'{string3}' contains special characters:\", result3)"
   ]
  },
  {
   "cell_type": "code",
   "execution_count": 51,
   "metadata": {},
   "outputs": [
    {
     "name": "stdout",
     "output_type": "stream",
     "text": [
      "Original string: This is an example sentence to test the function.\n",
      "Removed word: example\n",
      "Modified string: This is an sentence to test the function.\n"
     ]
    }
   ],
   "source": [
    "#48. Remove the nth word from a string.\n",
    "def remove_nth_word(input_string, n):\n",
    "    # Split the input string into words\n",
    "    words = input_string.split()\n",
    "\n",
    "    # Check if n is within a valid range\n",
    "    if n >= 1 and n <= len(words):\n",
    "        # Remove the nth word by excluding it from the words list\n",
    "        removed_word = words.pop(n - 1)\n",
    "\n",
    "        # Join the remaining words to form the modified string\n",
    "        modified_string = ' '.join(words)\n",
    "\n",
    "        return modified_string, removed_word\n",
    "    else:\n",
    "        return None, None\n",
    "\n",
    "# Example string and n value\n",
    "input_str = \"This is an example sentence to test the function.\"\n",
    "n_value = 4\n",
    "\n",
    "# Remove the nth word\n",
    "modified_str, removed_word = remove_nth_word(input_str, n_value)\n",
    "\n",
    "# Print the results\n",
    "print(\"Original string:\", input_str)\n",
    "if modified_str is not None:\n",
    "    \n",
    "    print(\"Removed word:\", removed_word)\n",
    "    print(\"Modified string:\", modified_str)\n",
    "else:\n",
    "    print(\"Invalid n value.\")"
   ]
  },
  {
   "cell_type": "code",
   "execution_count": 52,
   "metadata": {},
   "outputs": [
    {
     "name": "stdout",
     "output_type": "stream",
     "text": [
      "Original string: This is a sample string.\n",
      "Modified string: This is a sample newstring.\n"
     ]
    }
   ],
   "source": [
    "#49. Insert a word at the nth position in a string.\n",
    "def insert_word_at_position(original_string, word_to_insert, position):\n",
    "    # Ensure the position is within the string length\n",
    "    if position <= len(original_string):\n",
    "        # Insert the word at the specified position\n",
    "        modified_string = original_string[:position] + word_to_insert + original_string[position:]\n",
    "        return modified_string\n",
    "    else:\n",
    "        # If the position is out of range, append the word to the end of the string\n",
    "        return original_string + word_to_insert\n",
    "\n",
    "# Example string\n",
    "input_string = \"This is a sample string.\"\n",
    "\n",
    "# Word to insert\n",
    "word = \"new\"\n",
    "\n",
    "# Insert the word at the 5th position\n",
    "position_to_insert = 17\n",
    "\n",
    "# Insert the word at the specified position\n",
    "result = insert_word_at_position(input_string, word, position_to_insert)\n",
    "print(\"Original string:\", input_string)\n",
    "print(\"Modified string:\", result)\n"
   ]
  },
  {
   "cell_type": "code",
   "execution_count": 53,
   "metadata": {},
   "outputs": [
    {
     "name": "stdout",
     "output_type": "stream",
     "text": [
      "['Name', ' Age', ' Country']\n",
      "['John', ' 25', ' USA']\n",
      "['Alice', ' 30', ' Canada']\n",
      "['Bob', ' 22', ' UK']\n"
     ]
    }
   ],
   "source": [
    "#50. Convert a CSV string to a list of lists.\n",
    "\n",
    "def csv_string_to_list(csv_string):\n",
    "    # Split the CSV string into lines\n",
    "    lines = csv_string.split('\\n')\n",
    "\n",
    "    # Initialize an empty list to store the result\n",
    "    result = []\n",
    "\n",
    "    for line in lines:\n",
    "        # Split each line into fields using comma as the delimiter\n",
    "        fields = line.split(',')\n",
    "\n",
    "        # Append the fields to the result list as a row\n",
    "        result.append(fields)\n",
    "\n",
    "    return result\n",
    "\n",
    "# Example CSV string\n",
    "csv_data = \"Name, Age, Country\\nJohn, 25, USA\\nAlice, 30, Canada\\nBob, 22, UK\"\n",
    "\n",
    "# Convert CSV string to a list of lists\n",
    "list_of_lists = csv_string_to_list(csv_data)\n",
    "\n",
    "# Print the result\n",
    "for row in list_of_lists:\n",
    "    print(row)"
   ]
  },
  {
   "cell_type": "markdown",
   "metadata": {},
   "source": [
    "# List Based Practice Problem :"
   ]
  },
  {
   "cell_type": "code",
   "execution_count": 54,
   "metadata": {},
   "outputs": [
    {
     "name": "stdout",
     "output_type": "stream",
     "text": [
      "[1, 2, 3, 4, 5, 6, 7, 8, 9]\n"
     ]
    }
   ],
   "source": [
    "# 1. Create a list with integers from 1 to 10.\n",
    "#list comprehension\n",
    "l = [i for i in range(1,10)]\n",
    "print(l)"
   ]
  },
  {
   "cell_type": "code",
   "execution_count": 55,
   "metadata": {},
   "outputs": [
    {
     "name": "stdout",
     "output_type": "stream",
     "text": [
      "Length of the list: 5\n"
     ]
    }
   ],
   "source": [
    "# 2. Find the length of a list without using the `len()` function.\n",
    "def find_list_length(lst):\n",
    "    count = 0\n",
    "    for _ in lst:\n",
    "        count += 1\n",
    "    return count\n",
    "\n",
    "# list\n",
    "my_list = [1, 2, 3, 4, 5]\n",
    "\n",
    "list_length = find_list_length(my_list)\n",
    "print(\"Length of the list:\", list_length)"
   ]
  },
  {
   "cell_type": "code",
   "execution_count": 56,
   "metadata": {},
   "outputs": [
    {
     "name": "stdout",
     "output_type": "stream",
     "text": [
      "Original list : [1, 2, 3, 4, 5]\n",
      "Updated list : [1, 2, 3, 4, 5, 10]\n"
     ]
    }
   ],
   "source": [
    "# 3. Append an element to the end of a list.\n",
    "l=[1,2,3,4,5]\n",
    "print(\"Original list :\",l)\n",
    "new=10\n",
    "l.append(new)\n",
    "print(\"Updated list :\",l)"
   ]
  },
  {
   "cell_type": "code",
   "execution_count": 57,
   "metadata": {},
   "outputs": [
    {
     "name": "stdout",
     "output_type": "stream",
     "text": [
      "Original list : [1, 2, 3, 4, 5]\n",
      "Updated list : [1, 10, 2, 3, 4, 5]\n"
     ]
    }
   ],
   "source": [
    "# 4. Insert an element at a specific index in a list.\n",
    "l=[1,2,3,4,5]\n",
    "print(\"Original list :\",l)\n",
    "new=10\n",
    "l.insert(1,new)\n",
    "print(\"Updated list :\",l)"
   ]
  },
  {
   "cell_type": "code",
   "execution_count": 58,
   "metadata": {},
   "outputs": [
    {
     "name": "stdout",
     "output_type": "stream",
     "text": [
      "Original list : [1, 2, 3, 4, 5, 10]\n",
      "afetr removing '1' : [2, 3, 4, 5, 10]\n"
     ]
    }
   ],
   "source": [
    "# 5. Remove an element from a list by its value.\n",
    "l=[1,2,3,4,5,10]\n",
    "print(\"Original list :\",l)\n",
    "remove=1\n",
    "l.remove(remove)\n",
    "print(f\"afetr removing '{remove}' :\",l)"
   ]
  },
  {
   "cell_type": "code",
   "execution_count": 59,
   "metadata": {},
   "outputs": [
    {
     "name": "stdout",
     "output_type": "stream",
     "text": [
      "Original list : [1, 2, 3, 4, 5, 6]\n",
      "afetr removing element from pos '3' : [1, 2, 3, 5, 6]\n"
     ]
    }
   ],
   "source": [
    "# 6. Remove an element from a list by its index.\n",
    "l=[1,2,3,4,5,6]\n",
    "print(\"Original list :\",l)\n",
    "idx=3\n",
    "l.pop(idx)\n",
    "print(f\"afetr removing element from pos '{idx}' :\",l)"
   ]
  },
  {
   "cell_type": "code",
   "execution_count": 60,
   "metadata": {},
   "outputs": [
    {
     "name": "stdout",
     "output_type": "stream",
     "text": [
      "Element 15 does not exists\n"
     ]
    }
   ],
   "source": [
    "# 7. Check if an element exists in a list.\n",
    "def ele_exists(lst,ele):\n",
    "    if ele in lst:\n",
    "        print(f\"Element {ele} exists\")\n",
    "    else:\n",
    "        print(f\"Element {ele} does not exists\")\n",
    "lst=[1,2,3,4,5,6,7,8,9,10]\n",
    "\n",
    "ele=15\n",
    "\n",
    "ele_exists(lst,ele)\n"
   ]
  },
  {
   "cell_type": "code",
   "execution_count": 61,
   "metadata": {},
   "outputs": [
    {
     "name": "stdout",
     "output_type": "stream",
     "text": [
      "The index of 30 is 2\n"
     ]
    }
   ],
   "source": [
    "# 8. Find the index of the first occurrence of an element in a list.\n",
    "list1 = [10, 20, 30, 40, 50, 30]\n",
    "\n",
    "# Element to find the index of\n",
    "key = 30\n",
    "\n",
    "# Find the index of the first occurrence of the element\n",
    "index = list1.index(key)\n",
    "\n",
    "# Print the index\n",
    "print(f\"The index of {key} is {index}\")"
   ]
  },
  {
   "cell_type": "code",
   "execution_count": 62,
   "metadata": {},
   "outputs": [
    {
     "name": "stdout",
     "output_type": "stream",
     "text": [
      "The element 30 occurs 3 times in the list.\n"
     ]
    }
   ],
   "source": [
    "# 9. Count the occurrences of an element in a list.\n",
    "\n",
    "list2 = [10, 20, 30, 40, 50, 30, 30]\n",
    "\n",
    "# Element to count occurrences of\n",
    "element = 30\n",
    "\n",
    "# Count the occurrences of the element\n",
    "count = list2.count(element)\n",
    "\n",
    "# Print the count\n",
    "print(f\"The element {element} occurs {count} times in the list.\")"
   ]
  },
  {
   "cell_type": "code",
   "execution_count": 63,
   "metadata": {},
   "outputs": [
    {
     "name": "stdout",
     "output_type": "stream",
     "text": [
      "Reversed list: [10, 9, 8, 7, 6, 5, 4, 3, 2, 1]\n"
     ]
    }
   ],
   "source": [
    "# 10. Reverse the order of elements in a list.\n",
    "list3 = [1,2,3,4,5,6,7,8,9,10]\n",
    "\n",
    "# Reverse the order of elements in the list\n",
    "list3.reverse()\n",
    "\n",
    "# Print the reversed list\n",
    "print(\"Reversed list:\", list3)"
   ]
  },
  {
   "cell_type": "code",
   "execution_count": 64,
   "metadata": {},
   "outputs": [
    {
     "name": "stdout",
     "output_type": "stream",
     "text": [
      "sorted list [1, 2, 2, 3, 3, 4, 6, 6, 8]\n"
     ]
    }
   ],
   "source": [
    "# 11. Sort a list in ascending order.\n",
    "l=[2,1,4,3,6,2,8,3,6]\n",
    "l.sort()\n",
    "print(\"sorted list\",l)"
   ]
  },
  {
   "cell_type": "code",
   "execution_count": 65,
   "metadata": {},
   "outputs": [
    {
     "name": "stdout",
     "output_type": "stream",
     "text": [
      "sorted list in reverse order [8, 6, 6, 4, 3, 3, 2, 2, 1]\n"
     ]
    }
   ],
   "source": [
    "# 12. Sort a list in descending order.\n",
    "l=[2,1,4,3,6,2,8,3,6]\n",
    "l.sort(reverse=True)\n",
    "print(\"sorted list in reverse order\",l)"
   ]
  },
  {
   "cell_type": "code",
   "execution_count": 66,
   "metadata": {},
   "outputs": [
    {
     "name": "stdout",
     "output_type": "stream",
     "text": [
      "[2, 4, 6, 8, 10, 12, 14, 16, 18]\n"
     ]
    }
   ],
   "source": [
    "# 13. Create a list of even numbers from 1 to 20.\n",
    "l=[]\n",
    "for i in range(1,20):\n",
    "    if i%2==0:\n",
    "        l.append(i)\n",
    "print(l)"
   ]
  },
  {
   "cell_type": "code",
   "execution_count": 67,
   "metadata": {},
   "outputs": [
    {
     "name": "stdout",
     "output_type": "stream",
     "text": [
      "[2, 4, 6, 8, 10, 12, 14, 16, 18]\n"
     ]
    }
   ],
   "source": [
    "l=[]\n",
    "for i in range(2,20,2):\n",
    "    l.append(i)\n",
    "print(l)"
   ]
  },
  {
   "cell_type": "code",
   "execution_count": 68,
   "metadata": {},
   "outputs": [
    {
     "name": "stdout",
     "output_type": "stream",
     "text": [
      "List of even numbers: [2, 4, 6, 8, 10, 12, 14, 16, 18, 20]\n"
     ]
    }
   ],
   "source": [
    "# list comprehension\n",
    "even = [x for x in range(2, 21, 2)]\n",
    "\n",
    "print(\"List of even numbers:\", even)\n"
   ]
  },
  {
   "cell_type": "code",
   "execution_count": 69,
   "metadata": {},
   "outputs": [
    {
     "name": "stdout",
     "output_type": "stream",
     "text": [
      "[1, 3, 5, 7, 9, 11, 13, 15, 17, 19]\n"
     ]
    }
   ],
   "source": [
    "# 14. Create a list of odd numbers from 1 to 20.\n",
    "l=[]\n",
    "for i in range(1,20):\n",
    "    if i%2!=0:\n",
    "        l.append(i)\n",
    "print(l)"
   ]
  },
  {
   "cell_type": "code",
   "execution_count": 70,
   "metadata": {},
   "outputs": [
    {
     "name": "stdout",
     "output_type": "stream",
     "text": [
      "36\n"
     ]
    }
   ],
   "source": [
    "# 15. Find the sum of all elements in a list.\n",
    "l=[2, 4, 6, 8, 10, 12, 14, 16, 18]\n",
    "add=0\n",
    "for i in range(len(l)):\n",
    "    add=add+i\n",
    "print(add)"
   ]
  },
  {
   "cell_type": "code",
   "execution_count": 71,
   "metadata": {},
   "outputs": [
    {
     "name": "stdout",
     "output_type": "stream",
     "text": [
      "Max value : 108\n",
      "Max() :  108\n"
     ]
    }
   ],
   "source": [
    "# 16. Find the maximum value in a list.\n",
    "l=[39, 20, 4, 6, 80, 3, 12, 14, 16, 108, 10]\n",
    "big=l[0]\n",
    "for i in range(len(l)):\n",
    "    if(l[i]>big):\n",
    "        big=l[i]\n",
    "\n",
    "print(\"Max value :\",big)\n",
    "print(\"Max() : \",max(l))"
   ]
  },
  {
   "cell_type": "code",
   "execution_count": 72,
   "metadata": {},
   "outputs": [
    {
     "name": "stdout",
     "output_type": "stream",
     "text": [
      "Min value : 3\n",
      "Min() :  3\n"
     ]
    }
   ],
   "source": [
    "# 17. Find the minimum value in a list.\n",
    "l=[39, 20, 4, 6, 80, 3, 12, 14, 16, 108, 10]\n",
    "small=l[0]\n",
    "for i in range(len(l)):\n",
    "    if(l[i]<small):\n",
    "        small=l[i]\n",
    "\n",
    "print(\"Min value :\",small)\n",
    "print(\"Min() : \",min(l))\n"
   ]
  },
  {
   "cell_type": "code",
   "execution_count": 73,
   "metadata": {},
   "outputs": [
    {
     "name": "stdout",
     "output_type": "stream",
     "text": [
      "[1, 4, 9, 16, 25, 36, 49, 64, 81, 100]\n"
     ]
    }
   ],
   "source": [
    "# 18. Create a list of squares of numbers from 1 to 10.\n",
    "square=[i**2 for i in range(1,11)]\n",
    "print(square)"
   ]
  },
  {
   "cell_type": "code",
   "execution_count": 74,
   "metadata": {},
   "outputs": [
    {
     "name": "stdout",
     "output_type": "stream",
     "text": [
      "Squares : [1, 4, 9, 16, 25, 36, 49, 64, 81, 100]\n"
     ]
    }
   ],
   "source": [
    "l=[]\n",
    "for i in range(1,11):\n",
    "    l.append(i**2)\n",
    "\n",
    "print(\"Squares :\",l)"
   ]
  },
  {
   "cell_type": "code",
   "execution_count": 75,
   "metadata": {},
   "outputs": [
    {
     "name": "stdout",
     "output_type": "stream",
     "text": [
      "List of random integers: [99, 61, 47, 60, 70, 72, 20, 57, 73, 60]\n"
     ]
    }
   ],
   "source": [
    "# 19. Create a list of random numbers.\n",
    "import random\n",
    "\n",
    "# Create a list of random integers between 1 and 100\n",
    "random_integers = [random.randint(1, 100) for x in range(10)]\n",
    "\n",
    "# Print the list of random integers\n",
    "print(\"List of random integers:\", random_integers)"
   ]
  },
  {
   "cell_type": "code",
   "execution_count": 76,
   "metadata": {},
   "outputs": [
    {
     "name": "stdout",
     "output_type": "stream",
     "text": [
      "0 1 2 3 4 5 6 7 8 9 10 11 12 13 14 15 16 17 "
     ]
    }
   ],
   "source": [
    "for x in range(random.randint(1,20)):\n",
    "    print(x,end=' ')"
   ]
  },
  {
   "cell_type": "code",
   "execution_count": 77,
   "metadata": {
    "scrolled": true
   },
   "outputs": [
    {
     "name": "stdout",
     "output_type": "stream",
     "text": [
      "[1, 2, 3, 4, 5, 6]\n"
     ]
    }
   ],
   "source": [
    "# 20. Remove duplicates from a list.\n",
    "\n",
    "my_list = [ 1,2,3,5,2,6,4,3,1,3]\n",
    "l=list(set(my_list))\n",
    "print(l)"
   ]
  },
  {
   "cell_type": "code",
   "execution_count": 78,
   "metadata": {},
   "outputs": [
    {
     "name": "stdout",
     "output_type": "stream",
     "text": [
      "Common elements: [1, 2, 3, 4, 5, 6, 7, 8, 9, 10]\n"
     ]
    }
   ],
   "source": [
    "# 21. Find the common elements between two lists.\n",
    "l1 = [1, 2, 2, 3, 4, 4, 5, 6, 6, 7, 8, 8, 9, 10, 10]\n",
    "l2 = [1, 2, 3, 4, 5, 6, 7, 8, 9, 10]\n",
    "\n",
    "common = set(l1).intersection(set(l2))\n",
    "\n",
    "print(\"Common elements:\", list(common))\n",
    "# my_list1 = [ 1,2,3,4]\n",
    "# my_list2 = [ 21,22,33,4,55,3]\n",
    "# [i for i in my_list1 if i in my_list2]"
   ]
  },
  {
   "cell_type": "code",
   "execution_count": 79,
   "metadata": {},
   "outputs": [
    {
     "name": "stdout",
     "output_type": "stream",
     "text": [
      "Difference between lists: [1]\n"
     ]
    }
   ],
   "source": [
    "# 22. Find the difference between two lists.\n",
    "my_list1 = [1, 2, 3, 4]\n",
    "my_list2 = [2, 3, 4, 6, 5]\n",
    "\n",
    "difference = list(set(my_list1).difference(my_list2))\n",
    "\n",
    "print(\"Difference between lists:\", difference)\n"
   ]
  },
  {
   "cell_type": "code",
   "execution_count": 80,
   "metadata": {},
   "outputs": [
    {
     "name": "stdout",
     "output_type": "stream",
     "text": [
      "Merged list : [1, 2, 4, 6, 8, 5, 1, 5, 8, 3]\n"
     ]
    }
   ],
   "source": [
    "# 23. Merge two lists.\n",
    "l1= [1, 2, 4, 6, 8, 5]\n",
    "l2= [1, 5, 8, 3]\n",
    "l=l1+l2\n",
    "print(\"Merged list :\",l)"
   ]
  },
  {
   "cell_type": "code",
   "execution_count": 81,
   "metadata": {},
   "outputs": [
    {
     "name": "stdout",
     "output_type": "stream",
     "text": [
      "2 4 8 12 16 20 "
     ]
    }
   ],
   "source": [
    "# 24. Multiply all elements in a list by 2.\n",
    "l1= [1, 2, 4, 6, 8, 10]\n",
    "for i in range(len(l1)):\n",
    "    print(l1[i]*2,end=' ')"
   ]
  },
  {
   "cell_type": "code",
   "execution_count": 82,
   "metadata": {},
   "outputs": [
    {
     "name": "stdout",
     "output_type": "stream",
     "text": [
      "2\n",
      "4\n",
      "6\n",
      "8\n",
      "8\n"
     ]
    }
   ],
   "source": [
    "# 25. Filter out all even numbers from a list.\n",
    "x=[1, 2, 4, 6, 8, 5, 1, 5, 8, 3]\n",
    "for i in range(len(x)):\n",
    "    if(x[i]%2==0):\n",
    "        print(x[i])"
   ]
  },
  {
   "cell_type": "code",
   "execution_count": 83,
   "metadata": {},
   "outputs": [
    {
     "name": "stdout",
     "output_type": "stream",
     "text": [
      "List of integers: [15, 20, 25, 30, 35]\n"
     ]
    }
   ],
   "source": [
    "# 26. Convert a list of strings to a list of integers.\n",
    "string_list = [\"15\", \"20\", \"25\", \"30\", \"35\"]\n",
    "\n",
    "#list comprehension\n",
    "intlist = [int(x) for x in string_list]\n",
    "\n",
    "# Print the list of integers\n",
    "print(\"List of integers:\", intlist)"
   ]
  },
  {
   "cell_type": "code",
   "execution_count": 2,
   "metadata": {},
   "outputs": [
    {
     "name": "stdout",
     "output_type": "stream",
     "text": [
      "integers into strings: ['1234', '123', '34', '432']\n"
     ]
    }
   ],
   "source": [
    "# 27. Convert a list of integers to a list of strings.\n",
    "list1= [1234,123,34,432]\n",
    "list2 = []\n",
    "for i in list1:\n",
    "    string = str(i)\n",
    "    list2.append(string)\n",
    "print(\"integers into strings:\", list2)\n",
    "#Restart kernel(str is used somewhere above)"
   ]
  },
  {
   "cell_type": "code",
   "execution_count": 3,
   "metadata": {},
   "outputs": [
    {
     "name": "stdout",
     "output_type": "stream",
     "text": [
      "[1, 2, 3, 23, 2, 5, 100, 19]\n"
     ]
    }
   ],
   "source": [
    "# 28. Flatten a nested list.\n",
    "nested_list = [[1,2,3],[23],[2,5],[100,19]]\n",
    "\n",
    "extracted_list = []\n",
    "for i in nested_list:\n",
    "    extracted_list.extend(i)\n",
    "print(extracted_list)"
   ]
  },
  {
   "cell_type": "code",
   "execution_count": 4,
   "metadata": {},
   "outputs": [
    {
     "name": "stdout",
     "output_type": "stream",
     "text": [
      "The first 10 fibonacci numbers : [0, 1, 1, 2, 3, 5, 8, 13, 21, 34]\n"
     ]
    }
   ],
   "source": [
    "# 29. Create a list of the first 10 Fibonacci numbers.\n",
    "def fibonacci(n):\n",
    "    fib_series = [0, 1]\n",
    "    for i in range(2, n):\n",
    "        fib_series.append(fib_series[i - 1] + fib_series[i - 2])\n",
    "    return fib_series[0:10]\n",
    "\n",
    "# Generate the first 10 Fibonacci numbers\n",
    "first_10_fibonacci = fibonacci(10)\n",
    "print(\"The first 10 fibonacci numbers :\",first_10_fibonacci)\n"
   ]
  },
  {
   "cell_type": "code",
   "execution_count": 5,
   "metadata": {},
   "outputs": [
    {
     "name": "stdout",
     "output_type": "stream",
     "text": [
      "False\n",
      "True\n"
     ]
    }
   ],
   "source": [
    "# 30. Check if a list is sorted.\n",
    "def is_sorted(arr):\n",
    "    return arr == sorted(arr)\n",
    "\n",
    "# Example list\n",
    "my_list = [1, 3, 5,9, 7, 9]\n",
    "\n",
    "my_list2 = [1, 3, 5, 7, 9]\n",
    "\n",
    "# Check if the list is sorted\n",
    "print(is_sorted(my_list))  \n",
    "print(is_sorted(my_list2)) \n"
   ]
  },
  {
   "cell_type": "code",
   "execution_count": 6,
   "metadata": {},
   "outputs": [
    {
     "name": "stdout",
     "output_type": "stream",
     "text": [
      "[3, 4, 5, 1, 2]\n"
     ]
    }
   ],
   "source": [
    "# 31. Rotate a list to the left by `n` positions.\n",
    "def rotate_left(arr, n):\n",
    "    n = n % len(arr)  # Adjust n in case it's greater than the list length\n",
    "    return arr[n:] + arr[:n]\n",
    "\n",
    "# Example list\n",
    "my_list = [1, 2, 3, 4, 5]\n",
    "\n",
    "# Rotate the list to the left by 2 positions\n",
    "rotated_list = rotate_left(my_list, 2)\n",
    "print(rotated_list) \n"
   ]
  },
  {
   "cell_type": "code",
   "execution_count": 7,
   "metadata": {},
   "outputs": [
    {
     "name": "stdout",
     "output_type": "stream",
     "text": [
      "[2, 3, 4, 5, 1]\n"
     ]
    }
   ],
   "source": [
    "# 32. Rotate a list to the right by `n` positions.\n",
    "def rotate_right(lst, n):\n",
    "    if not lst:\n",
    "        return lst\n",
    "\n",
    "    n = n % len(lst)\n",
    "    return lst[-n:] + lst[:-n]\n",
    "\n",
    "# Example list\n",
    "my_list = [4, 5, 1, 2, 3]\n",
    "\n",
    "# Rotate the list to the right by 2 positions\n",
    "rotated_list = rotate_right(my_list, 2)\n",
    "print(rotated_list)"
   ]
  },
  {
   "cell_type": "code",
   "execution_count": 8,
   "metadata": {},
   "outputs": [
    {
     "name": "stdout",
     "output_type": "stream",
     "text": [
      "[2, 3, 5, 7, 11, 13, 17, 19, 23, 29, 31, 37, 41, 43, 47]\n"
     ]
    }
   ],
   "source": [
    "# 33. Create a list of prime numbers up to 50.\n",
    "def is_prime(num):\n",
    "    if num < 2:\n",
    "        return False\n",
    "    for i in range(2, int(num ** 0.5) + 1):\n",
    "        if num % i == 0:\n",
    "            return False\n",
    "    return True\n",
    "\n",
    "# Generate prime numbers up to 50\n",
    "prime_50 = [num for num in range(2, 51) if is_prime(num)]\n",
    "print(prime_50)\n"
   ]
  },
  {
   "cell_type": "code",
   "execution_count": 9,
   "metadata": {},
   "outputs": [
    {
     "name": "stdout",
     "output_type": "stream",
     "text": [
      "[2, 3, 5]\n",
      "[7, 11, 13]\n",
      "[17, 19, 23]\n"
     ]
    }
   ],
   "source": [
    "# 34. Split a list into chunks of size `n`.\n",
    "list1 = [2, 3, 5, 7, 11, 13, 17, 19, 23, 29]\n",
    "n = 3\n",
    "chunks = int(len(list1)/3)\n",
    "idx = 0\n",
    "\n",
    "for i in range(3):\n",
    "    print(list1[idx:n])\n",
    "    idx = n\n",
    "    n+=3"
   ]
  },
  {
   "cell_type": "code",
   "execution_count": 10,
   "metadata": {},
   "outputs": [
    {
     "name": "stdout",
     "output_type": "stream",
     "text": [
      "[[1, 2, 3, 4], [5, 6, 7, 8], [9, 10]]\n"
     ]
    }
   ],
   "source": [
    "# 35. Find the second largest number in a list.\n",
    "def split_list_into_chunks(lst, n):\n",
    "    return [lst[i:i + n] for i in range(0, len(lst), n)]\n",
    "\n",
    "# Example list\n",
    "my_list = [1, 2, 3, 4, 5, 6, 7, 8, 9, 10]\n",
    "\n",
    "# Split the list into chunks of size 3\n",
    "chunked_list = split_list_into_chunks(my_list, 4)\n",
    "print(chunked_list)"
   ]
  },
  {
   "cell_type": "code",
   "execution_count": 11,
   "metadata": {},
   "outputs": [
    {
     "name": "stdout",
     "output_type": "stream",
     "text": [
      "[1, 4, 9, 16, 25]\n"
     ]
    }
   ],
   "source": [
    "# 36. Replace every element in a list with its square.\n",
    "def square(lst):\n",
    "    return [x ** 2 for x in lst]\n",
    "\n",
    "# Example list\n",
    "my_list = [1, 2, 3, 4, 5]\n",
    "\n",
    "# Replace every element in the list with its square\n",
    "squared_list = square(my_list)\n",
    "print(squared_list)\n"
   ]
  },
  {
   "cell_type": "code",
   "execution_count": 12,
   "metadata": {},
   "outputs": [
    {
     "name": "stdout",
     "output_type": "stream",
     "text": [
      "{'apple': 0, 'ball': 1, 'cat': 2, 'doll': 3}\n"
     ]
    }
   ],
   "source": [
    "# 37. Convert a list to a dictionary where list elements become keys and their indices become values.\n",
    "def list_to_dictionary(lst):\n",
    "    return {value: index for index, value in enumerate(lst)}\n",
    "\n",
    "# Example list\n",
    "my_list = ['apple', 'ball', 'cat', 'doll']\n",
    "\n",
    "# Convert the list to a dictionary with elements as keys and indices as values\n",
    "result_dict = list_to_dictionary(my_list)\n",
    "print(result_dict)"
   ]
  },
  {
   "cell_type": "code",
   "execution_count": 13,
   "metadata": {},
   "outputs": [
    {
     "name": "stdout",
     "output_type": "stream",
     "text": [
      "Shuffled list: [4, 2, 9, 1, 10, 5, 7, 6, 3, 8]\n"
     ]
    }
   ],
   "source": [
    "# 38. Shuffle the elements of a list randomly.\n",
    "import random\n",
    "\n",
    "# Example list\n",
    "my_list = [1, 2, 3, 4, 5, 6, 7, 8, 9, 10]\n",
    "\n",
    "# Shuffle the list randomly\n",
    "random.shuffle(my_list)\n",
    "\n",
    "# Print the shuffled list\n",
    "print(\"Shuffled list:\", my_list)"
   ]
  },
  {
   "cell_type": "code",
   "execution_count": 14,
   "metadata": {},
   "outputs": [
    {
     "name": "stdout",
     "output_type": "stream",
     "text": [
      "[1, 1, 2, 6, 24, 120, 720, 5040, 40320, 362880]\n"
     ]
    }
   ],
   "source": [
    "# 39. Create a list of the first 10 factorial numbers.\n",
    "def factorial(n):\n",
    "    if n == 0 or n == 1:\n",
    "        return 1\n",
    "    else:\n",
    "        return n * factorial(n - 1)\n",
    "\n",
    "# Generate the first 10 factorial numbers\n",
    "fact = [factorial(i) for i in range(10)]\n",
    "\n",
    "print(fact)\n"
   ]
  },
  {
   "cell_type": "code",
   "execution_count": 15,
   "metadata": {},
   "outputs": [
    {
     "name": "stdout",
     "output_type": "stream",
     "text": [
      "True\n"
     ]
    }
   ],
   "source": [
    "# 40. Check if two lists have at least one element in common.\n",
    "def common_elements_exist(list1, list2):\n",
    "    set1 = set(list1)\n",
    "    set2 = set(list2)\n",
    "    return len(set1.intersection(set2)) > 0\n",
    "\n",
    "# Example lists\n",
    "list_a = [1, 2, 3, 4, 5]\n",
    "list_b = [6, 7, 8, 9, 10,4]\n",
    "\n",
    "# Check if common elements exist between the lists\n",
    "result = common_elements_exist(list_a, list_b)\n",
    "print(result)  "
   ]
  },
  {
   "cell_type": "code",
   "execution_count": 16,
   "metadata": {},
   "outputs": [
    {
     "name": "stdout",
     "output_type": "stream",
     "text": [
      "[]\n"
     ]
    }
   ],
   "source": [
    "# 41. Remove all elements from a list.\n",
    "my_list = [1, 2, 3, 4, 5]\n",
    "\n",
    "my_list.clear()\n",
    "print(my_list)  "
   ]
  },
  {
   "cell_type": "code",
   "execution_count": 17,
   "metadata": {},
   "outputs": [
    {
     "name": "stdout",
     "output_type": "stream",
     "text": [
      "[1, 0, 3, 0, 5, 0]\n"
     ]
    }
   ],
   "source": [
    "# 42. Replace negative numbers in a list with 0.\n",
    "my_list = [1, -2, 3, -4, 5, -6]\n",
    "\n",
    "for i in range(len(my_list)):\n",
    "    if my_list[i] < 0:\n",
    "        my_list[i] = 0\n",
    "\n",
    "print(my_list)"
   ]
  },
  {
   "cell_type": "code",
   "execution_count": 18,
   "metadata": {},
   "outputs": [
    {
     "name": "stdout",
     "output_type": "stream",
     "text": [
      "['Convert', 'a', 'string', 'into', 'a', 'list', 'of', 'words']\n"
     ]
    }
   ],
   "source": [
    "# 43. Convert a string into a list of words.\n",
    "my_string = \"Convert a string into a list of words\"\n",
    "\n",
    "# Convert the string into a list of words\n",
    "word_list = my_string.split()\n",
    "print(word_list)"
   ]
  },
  {
   "cell_type": "code",
   "execution_count": 19,
   "metadata": {},
   "outputs": [
    {
     "name": "stdout",
     "output_type": "stream",
     "text": [
      "Convert a string into a list of words\n"
     ]
    }
   ],
   "source": [
    "# 44. Convert a list of words into a string.\n",
    "word_list = ['Convert', 'a', 'string', 'into', 'a', 'list', 'of', 'words']\n",
    "# Convert the string into a list of words\n",
    "string = ' '.join(word_list)\n",
    "print(string)"
   ]
  },
  {
   "cell_type": "code",
   "execution_count": 20,
   "metadata": {},
   "outputs": [
    {
     "name": "stdout",
     "output_type": "stream",
     "text": [
      "[1, 2, 4, 8, 16, 32, 64, 128, 256, 512]\n"
     ]
    }
   ],
   "source": [
    "# 45. Create a list of the first `n` powers of 2.\n",
    "def powers_of_2(n):\n",
    "    return [2 ** i for i in range(n)]\n",
    "\n",
    "# Generate the first n powers of 2\n",
    "n = 10  # Change n to the desired number of powers\n",
    "powers_list = powers_of_2(n)\n",
    "print(powers_list)\n"
   ]
  },
  {
   "cell_type": "code",
   "execution_count": 21,
   "metadata": {},
   "outputs": [
    {
     "name": "stdout",
     "output_type": "stream",
     "text": [
      "strawberry\n"
     ]
    }
   ],
   "source": [
    "# 46. Find the longest string in a list of strings.\n",
    "string_list = ['apple', 'banana', 'orange', 'strawberry', 'kiwi']\n",
    "\n",
    "longest_string = max(string_list, key=len)\n",
    "print(longest_string) "
   ]
  },
  {
   "cell_type": "code",
   "execution_count": 22,
   "metadata": {},
   "outputs": [
    {
     "name": "stdout",
     "output_type": "stream",
     "text": [
      "kiwi\n"
     ]
    }
   ],
   "source": [
    "# 47. Find the shortest string in a list of strings.\n",
    "string_list = ['apple', 'banana', 'orange', 'strawberry', 'kiwi']\n",
    "\n",
    "small_string = min(string_list, key=len)\n",
    "print(small_string)"
   ]
  },
  {
   "cell_type": "code",
   "execution_count": 23,
   "metadata": {},
   "outputs": [
    {
     "name": "stdout",
     "output_type": "stream",
     "text": [
      "[1, 3, 6, 10, 15, 21, 28]\n"
     ]
    }
   ],
   "source": [
    "# 48. Create a list of the first `n` triangular numbers.\n",
    "def triangular_numbers(n):\n",
    "    return [(i * (i + 1)) // 2 for i in range(1, n + 1)]\n",
    "\n",
    "n = 7\n",
    "triangular_list = triangular_numbers(n)\n",
    "print(triangular_list)"
   ]
  },
  {
   "cell_type": "code",
   "execution_count": 24,
   "metadata": {},
   "outputs": [
    {
     "name": "stdout",
     "output_type": "stream",
     "text": [
      "Main list contains the subsequence.\n"
     ]
    }
   ],
   "source": [
    "# 49. Check if a list contains another list as a subsequence.\n",
    "def is_subsequence(main_list, subsequence):\n",
    "    # Initialize indices for both lists\n",
    "    main_index = 0\n",
    "    sub_index = 0\n",
    "\n",
    "    # Iterate through the main list and subsequence to find a match\n",
    "    while main_index < len(main_list) and sub_index < len(subsequence):\n",
    "        # If elements match, move to the next element in subsequence\n",
    "        if main_list[main_index] == subsequence[sub_index]:\n",
    "            sub_index += 1\n",
    "        main_index += 1\n",
    "\n",
    "    # If subsequence index reaches its length, it's a subsequence\n",
    "    return sub_index == len(subsequence)\n",
    "\n",
    "main_list = [1, 2, 3, 4, 5, 6, 7]\n",
    "sub_list = [3, 5, 7]\n",
    "\n",
    "if is_subsequence(main_list, sub_list):\n",
    "    print(\"Main list contains the subsequence.\")\n",
    "else:\n",
    "    print(\"Main list does not contain the subsequence.\")\n"
   ]
  },
  {
   "cell_type": "code",
   "execution_count": 25,
   "metadata": {},
   "outputs": [
    {
     "name": "stdout",
     "output_type": "stream",
     "text": [
      "List after swapping elements: [1, 4, 3, 2, 5]\n"
     ]
    }
   ],
   "source": [
    "# 50. Swap two elements in a list by their indices.\n",
    "my_list = [1, 2, 3, 4, 5]\n",
    "\n",
    "index1 = 1\n",
    "index2 = 3\n",
    "\n",
    "# Swap the elements at the specified indices\n",
    "temp = my_list[index1]\n",
    "my_list[index1] = my_list[index2]\n",
    "my_list[index2] = temp\n",
    "\n",
    "# Print the list after swapping\n",
    "print(\"List after swapping elements:\", my_list)"
   ]
  },
  {
   "cell_type": "markdown",
   "metadata": {},
   "source": [
    "# Tuple Based Practice Problem :"
   ]
  },
  {
   "cell_type": "code",
   "execution_count": 26,
   "metadata": {},
   "outputs": [
    {
     "name": "stdout",
     "output_type": "stream",
     "text": [
      "<class 'tuple'>\n",
      "(1, 2, 3, 4, 5)\n",
      "(1, 2, 3, 4, 5)\n"
     ]
    }
   ],
   "source": [
    "#1. Create a tuple with integers from 1 to 5.\n",
    "t = tuple(range(1, 6))\n",
    "\n",
    "print(type(t))\n",
    "print(t)\n",
    "\n",
    "t2 = (1, 2, 3, 4, 5)\n",
    "print(t2)\n"
   ]
  },
  {
   "cell_type": "code",
   "execution_count": 27,
   "metadata": {},
   "outputs": [
    {
     "name": "stdout",
     "output_type": "stream",
     "text": [
      "third element  3\n"
     ]
    }
   ],
   "source": [
    "#2. Access the third element of a tuple.\n",
    "t2 = (1, 2, 3, 4, 5)\n",
    "print(\"third element \",t2[2])"
   ]
  },
  {
   "cell_type": "code",
   "execution_count": 28,
   "metadata": {},
   "outputs": [
    {
     "name": "stdout",
     "output_type": "stream",
     "text": [
      "The length of the tuple is: 5\n"
     ]
    }
   ],
   "source": [
    "#3. Find the length of a tuple without using the `len()` function.\n",
    "t = (10, 20, 30, 40, 50)\n",
    "count = 0\n",
    "for i in t:\n",
    "    count += 1\n",
    "\n",
    "print(\"The length of the tuple is:\", count)"
   ]
  },
  {
   "cell_type": "code",
   "execution_count": 29,
   "metadata": {},
   "outputs": [
    {
     "name": "stdout",
     "output_type": "stream",
     "text": [
      "The element 2 appears 4 times in the tuple.\n"
     ]
    }
   ],
   "source": [
    "#4. Count the occurrences of an element in a tuple.\n",
    "t=(1,2,4,2,5,6,2,6,2)\n",
    "x=2\n",
    "count=0\n",
    "for i in t:\n",
    "    if i == x:\n",
    "        count+=1\n",
    "print(f\"The element {x} appears {count} times in the tuple.\")"
   ]
  },
  {
   "cell_type": "code",
   "execution_count": 30,
   "metadata": {},
   "outputs": [
    {
     "name": "stdout",
     "output_type": "stream",
     "text": [
      "The index of the first occurrence of 20 is: 1\n"
     ]
    }
   ],
   "source": [
    "#5. Find the index of the first occurrence of an element in a tuple.\n",
    "my_tuple = (10, 20, 30, 20, 40, 50)\n",
    "\n",
    "element = 20\n",
    "\n",
    "if element in my_tuple:\n",
    "    index = my_tuple.index(element)\n",
    "    print(f\"The index of the first occurrence of {element} is: {index}\")\n",
    "else:\n",
    "    print(f\"{element} not found in the tuple\")"
   ]
  },
  {
   "cell_type": "code",
   "execution_count": 31,
   "metadata": {},
   "outputs": [
    {
     "name": "stdout",
     "output_type": "stream",
     "text": [
      "The 40 is present in the tuple\n"
     ]
    }
   ],
   "source": [
    "#6. Check if an element exists in a tuple.\n",
    "my_tuple = (10, 20, 30, 20, 40, 50)\n",
    "\n",
    "element = 40\n",
    "\n",
    "if element in my_tuple:\n",
    "    print(f\"The {element} is present in the tuple\")\n",
    "else:\n",
    "    print(f\"{element} not found in the tuple\")"
   ]
  },
  {
   "cell_type": "code",
   "execution_count": 32,
   "metadata": {},
   "outputs": [
    {
     "name": "stdout",
     "output_type": "stream",
     "text": [
      "Tuple: (1, 2, 3, 4, 5)\n",
      "List: [1, 2, 3, 4, 5]\n"
     ]
    }
   ],
   "source": [
    "# 7. Convert a tuple to a list.\n",
    "my_tuple = (1, 2, 3, 4, 5)\n",
    "\n",
    "my_list = list(my_tuple)\n",
    "\n",
    "print(\"Tuple:\", my_tuple)\n",
    "print(\"List:\", my_list)"
   ]
  },
  {
   "cell_type": "code",
   "execution_count": 33,
   "metadata": {},
   "outputs": [
    {
     "name": "stdout",
     "output_type": "stream",
     "text": [
      "list [1, 2, 3, 4, 5]\n",
      "tuple (1, 2, 3, 4, 5)\n"
     ]
    }
   ],
   "source": [
    "#8. Convert a list to a tuple.\n",
    "l=[1, 2, 3, 4, 5]\n",
    "t=tuple(l)\n",
    "print(\"list\",l)\n",
    "print(\"tuple\",t)\n"
   ]
  },
  {
   "cell_type": "code",
   "execution_count": 34,
   "metadata": {},
   "outputs": [
    {
     "name": "stdout",
     "output_type": "stream",
     "text": [
      "10\n",
      "20\n",
      "30\n"
     ]
    }
   ],
   "source": [
    "#9. Unpack the elements of a tuple into variables.\n",
    "my_tuple = (10, 20, 30)\n",
    "a, b, c = my_tuple\n",
    "print(a) \n",
    "print(b) \n",
    "print(c) "
   ]
  },
  {
   "cell_type": "code",
   "execution_count": 35,
   "metadata": {},
   "outputs": [
    {
     "name": "stdout",
     "output_type": "stream",
     "text": [
      "(2, 4, 6, 8, 10)\n"
     ]
    }
   ],
   "source": [
    "#10. Create a tuple of even numbers from 1 to 10.\n",
    "even_t = tuple(i for i in range(2, 11, 2))\n",
    "\n",
    "print(even_t)"
   ]
  },
  {
   "cell_type": "code",
   "execution_count": 36,
   "metadata": {},
   "outputs": [
    {
     "name": "stdout",
     "output_type": "stream",
     "text": [
      "(1, 2, 3, 4, 5, 6, 7, 8, 9, 10)\n"
     ]
    }
   ],
   "source": [
    "#11. Create a tuple of odd numbers from 1 to 10.\n",
    "odd_t = tuple(i for i in range(1, 11, 1))\n",
    "\n",
    "print(odd_t)"
   ]
  },
  {
   "cell_type": "code",
   "execution_count": 51,
   "metadata": {},
   "outputs": [
    {
     "name": "stdout",
     "output_type": "stream",
     "text": [
      "(1, 2, 3, 4, 5, 6)\n"
     ]
    }
   ],
   "source": [
    "#12. Concatenate two tuples.\n",
    "t1=(1,2,3)\n",
    "t2=(4,5,6)\n",
    "tup=t1+t2\n",
    "print(tup)"
   ]
  },
  {
   "cell_type": "code",
   "execution_count": 38,
   "metadata": {},
   "outputs": [
    {
     "name": "stdout",
     "output_type": "stream",
     "text": [
      "0 th (1, 2, 3, 4, 5, 6)\n",
      "1 th (1, 2, 3, 4, 5, 6)\n",
      "2 th (1, 2, 3, 4, 5, 6)\n"
     ]
    }
   ],
   "source": [
    "#13. Repeat a tuple three times.\n",
    "t=(1, 2, 3, 4, 5, 6)\n",
    "for i in range(3):\n",
    "    print(i,\"th\",t)"
   ]
  },
  {
   "cell_type": "code",
   "execution_count": 39,
   "metadata": {},
   "outputs": [
    {
     "name": "stdout",
     "output_type": "stream",
     "text": [
      "The tuple-t1 is not empty\n",
      "The tuple-t2 is empty\n"
     ]
    }
   ],
   "source": [
    "#14. Check if a tuple is empty.\n",
    "t1=(1, 2, 3, 4, 5, 6)\n",
    "t2=()\n",
    "\n",
    "my_tuple = ()\n",
    "\n",
    "# Check if the tuple is empty\n",
    "if not t1:\n",
    "    print(\"The tuple-t1 is empty\")\n",
    "else:\n",
    "    print(\"The tuple-t1 is not empty\")\n",
    "if not t2:\n",
    "    print(\"The tuple-t2 is empty\")\n",
    "else:\n",
    "    print(\"The tuple-t2 is not empty\")\n"
   ]
  },
  {
   "cell_type": "code",
   "execution_count": 40,
   "metadata": {},
   "outputs": [
    {
     "data": {
      "text/plain": [
       "(1, 2, 3, (4, 5, (1, 2, 3), 6, (7, 8, 9)))"
      ]
     },
     "execution_count": 40,
     "metadata": {},
     "output_type": "execute_result"
    }
   ],
   "source": [
    "#15. Create a nested tuple.\n",
    "t=(1,2,3,(4,5,(1,2,3),6,(7,8,9)))\n",
    "t"
   ]
  },
  {
   "cell_type": "code",
   "execution_count": 41,
   "metadata": {},
   "outputs": [
    {
     "data": {
      "text/plain": [
       "1"
      ]
     },
     "execution_count": 41,
     "metadata": {},
     "output_type": "execute_result"
    }
   ],
   "source": [
    "#16. Access the first element of a nested tuple.\n",
    "t=(1, 2, 3, (4, 5, (1, 2, 3), 6, (7, 8, 9)))\n",
    "t[0]"
   ]
  },
  {
   "cell_type": "code",
   "execution_count": 42,
   "metadata": {},
   "outputs": [
    {
     "data": {
      "text/plain": [
       "tuple"
      ]
     },
     "execution_count": 42,
     "metadata": {},
     "output_type": "execute_result"
    }
   ],
   "source": [
    "#17. Create a tuple with a single element.\n",
    "t=(1,)\n",
    "t\n",
    "type(t)"
   ]
  },
  {
   "cell_type": "code",
   "execution_count": 43,
   "metadata": {},
   "outputs": [
    {
     "name": "stdout",
     "output_type": "stream",
     "text": [
      "t1 == t2: False\n",
      "t1 != t2: True\n",
      "t1 < t2: True\n",
      "t1 <= t2: True\n",
      "t1 > t2: False\n",
      "t1 >= t2: False\n"
     ]
    }
   ],
   "source": [
    "#18. Compare two tuples.\n",
    "t1 = (1, 2, 3)\n",
    "t2 = (1, 2, 4)\n",
    "\n",
    "# Step 2: Compare the two tuples using comparison operators\n",
    "print(\"t1 == t2:\", t1 == t2) \n",
    "print(\"t1 != t2:\", t1 != t2)   \n",
    "print(\"t1 < t2:\", t1 < t2)    \n",
    "print(\"t1 <= t2:\", t1 <= t2)   \n",
    "print(\"t1 > t2:\", t1 > t2)     \n",
    "print(\"t1 >= t2:\", t1 >= t2)   "
   ]
  },
  {
   "cell_type": "code",
   "execution_count": 44,
   "metadata": {},
   "outputs": [],
   "source": [
    "#19. Delete a tuple.\n",
    "t=(1,2,3)\n",
    "del t\n",
    "#print(t)"
   ]
  },
  {
   "cell_type": "code",
   "execution_count": 45,
   "metadata": {},
   "outputs": [
    {
     "name": "stdout",
     "output_type": "stream",
     "text": [
      "original tuple (1, 2, 3, 4, 5, 6)\n",
      "sliced tuple (3, 4, 5)\n"
     ]
    }
   ],
   "source": [
    "#20. Slice a tuple.\n",
    "t1=(1, 2, 3, 4, 5, 6)\n",
    "t2=t1[2:5]\n",
    "print(\"original tuple\",t1)\n",
    "print(\"sliced tuple\",t2)"
   ]
  },
  {
   "cell_type": "code",
   "execution_count": 46,
   "metadata": {},
   "outputs": [
    {
     "name": "stdout",
     "output_type": "stream",
     "text": [
      "max 6\n"
     ]
    }
   ],
   "source": [
    "#21. Find the maximum value in a tuple.\n",
    "t=(1, 2, 3, 4, 5, 6)\n",
    "tmax=max(t)\n",
    "print(\"max\",tmax)"
   ]
  },
  {
   "cell_type": "code",
   "execution_count": 47,
   "metadata": {},
   "outputs": [
    {
     "name": "stdout",
     "output_type": "stream",
     "text": [
      "min 1\n"
     ]
    }
   ],
   "source": [
    "#22. Find the minimum value in a tuple.\n",
    "t=(1, 2, 3, 4, 5, 6)\n",
    "tmin=min(t)\n",
    "print(\"min\",tmin)"
   ]
  },
  {
   "cell_type": "code",
   "execution_count": 2,
   "metadata": {},
   "outputs": [
    {
     "name": "stdout",
     "output_type": "stream",
     "text": [
      "Tuple of characters: ('H', 'e', 'l', 'l', 'o', ',', ' ', 'W', 'o', 'r', 'l', 'd', '!')\n"
     ]
    }
   ],
   "source": [
    "# 23. Convert a string to a tuple of characters.\n",
    "# Step 1: Create a string\n",
    "my_string = \"Hello, World!\"\n",
    "\n",
    "# Step 2: Convert the string to a tuple of characters\n",
    "tuple_of_characters = tuple(my_string)\n",
    "\n",
    "# Step 3: Print the tuple of characters\n",
    "print(\"Tuple of characters:\", tuple_of_characters)\n",
    "#Restart Kernel"
   ]
  },
  {
   "cell_type": "code",
   "execution_count": 4,
   "metadata": {},
   "outputs": [
    {
     "name": "stdout",
     "output_type": "stream",
     "text": [
      "Hello\n"
     ]
    }
   ],
   "source": [
    "#24. Convert a tuple of characters to a string.\n",
    "char_tuple = ('H', 'e', 'l', 'l', 'o')\n",
    "\n",
    "# Convert the tuple of characters to a string using type casting\n",
    "result_string = ''.join(char_tuple)\n",
    "\n",
    "print(result_string)"
   ]
  },
  {
   "cell_type": "code",
   "execution_count": 5,
   "metadata": {},
   "outputs": [
    {
     "name": "stdout",
     "output_type": "stream",
     "text": [
      "('welcome', 'robot', 314, False, 12.3)\n"
     ]
    }
   ],
   "source": [
    "#25. Create a tuple from multiple data types.\n",
    "multi_tuple = (\"welcome\", \"robot\", 314, False, 12.3)\n",
    "\n",
    "print(multi_tuple)"
   ]
  },
  {
   "cell_type": "code",
   "execution_count": 6,
   "metadata": {},
   "outputs": [
    {
     "name": "stdout",
     "output_type": "stream",
     "text": [
      "False\n",
      "False\n",
      "True\n"
     ]
    }
   ],
   "source": [
    "#26. Check if two tuples are identical.\n",
    "t1=(1,2,3,4)\n",
    "t2=(2,3,4)\n",
    "t3=(1,2,3,4)\n",
    "\n",
    "print(t1==t2)\n",
    "print(t2==t3)\n",
    "print(t1==t3)"
   ]
  },
  {
   "cell_type": "code",
   "execution_count": 7,
   "metadata": {},
   "outputs": [
    {
     "data": {
      "text/plain": [
       "[0, 1, 1, 2, 3, 3, 3, 4, 4, 6, 8]"
      ]
     },
     "execution_count": 7,
     "metadata": {},
     "output_type": "execute_result"
    }
   ],
   "source": [
    "#27. Sort the elements of a tuple.\n",
    "t1 = (8,3,6,4,0,1,3,4,1,2,3)\n",
    "sorted(t1)"
   ]
  },
  {
   "cell_type": "code",
   "execution_count": 8,
   "metadata": {},
   "outputs": [
    {
     "name": "stdout",
     "output_type": "stream",
     "text": [
      "('8', '3', '6', '4', '0', '1', '3', '4', '1', '2', '3')\n"
     ]
    }
   ],
   "source": [
    "# 28. Convert a tuple of integers to a tuple of strings.\n",
    "tuple1 = (8,3,6,4,0,1,3,4,1,2,3)\n",
    "\n",
    "tuple2 = tuple(str(item) for item in tuple1)\n",
    "\n",
    "print(tuple2)"
   ]
  },
  {
   "cell_type": "code",
   "execution_count": 9,
   "metadata": {},
   "outputs": [
    {
     "name": "stdout",
     "output_type": "stream",
     "text": [
      "(8, 3, 6, 4, 0, 1, 3, 4, 1, 2, 3)\n"
     ]
    }
   ],
   "source": [
    "#29. Convert a tuple of strings to a tuple of integers.\n",
    "tuple1 = ('8', '3', '6', '4', '0', '1', '3', '4', '1', '2', '3')\n",
    "\n",
    "tuple2 = tuple(int(item) for item in tuple1)\n",
    "\n",
    "print(tuple2)"
   ]
  },
  {
   "cell_type": "code",
   "execution_count": 10,
   "metadata": {},
   "outputs": [
    {
     "name": "stdout",
     "output_type": "stream",
     "text": [
      "(8, 3, 6, 4, 0, 1, 3, 4, 1, 2, 3, 3, 4, 6, 7)\n"
     ]
    }
   ],
   "source": [
    "#30. Merge two tuples.\n",
    "tuple1 = (8,3,6,4,0,1,3,4,1,2,3)\n",
    "\n",
    "tuple2 = (3,4,6,7)\n",
    "\n",
    "print(tuple1 + tuple2)"
   ]
  },
  {
   "cell_type": "code",
   "execution_count": 11,
   "metadata": {},
   "outputs": [
    {
     "name": "stdout",
     "output_type": "stream",
     "text": [
      "(5, 1, 2, 6, 5, 6, 8, 3, 4, 5, 9, 6, 7, 8)\n"
     ]
    }
   ],
   "source": [
    "#31. Flatten a nested tuple.\n",
    "tuple1 = ((5,1, 2,6), (5,6,8,3, 4, 5), (9,6,7, 8))\n",
    "\n",
    "tuple2 = []\n",
    "for t in tuple1:\n",
    "    tuple2.extend(t)\n",
    "\n",
    "print(tuple(tuple2))"
   ]
  },
  {
   "cell_type": "code",
   "execution_count": 12,
   "metadata": {},
   "outputs": [
    {
     "name": "stdout",
     "output_type": "stream",
     "text": [
      "Tuple of the first 5 prime numbers: (2, 3, 5, 7, 11)\n"
     ]
    }
   ],
   "source": [
    "#32. Create a tuple of the first 5 prime numbers.\n",
    "def is_prime(num):\n",
    "    if num <= 1:\n",
    "        return False\n",
    "    for i in range(2, int(num ** 0.5) + 1):\n",
    "        if num % i == 0:\n",
    "            return False\n",
    "    return True\n",
    "\n",
    "prime_numbers_list = [num for num in range(2, 100) if is_prime(num)][:5]\n",
    "prime_numbers_tuple = tuple(prime_numbers_list)\n",
    "\n",
    "print(\"Tuple of the first 5 prime numbers:\", prime_numbers_tuple)"
   ]
  },
  {
   "cell_type": "code",
   "execution_count": 13,
   "metadata": {},
   "outputs": [
    {
     "name": "stdout",
     "output_type": "stream",
     "text": [
      "True\n",
      "False\n"
     ]
    }
   ],
   "source": [
    "#33. Check if a tuple is a palindrome.\n",
    "tuple1 = (1,2,3,2,1)\n",
    "tuple2 = (14,5,6,7,8)\n",
    "\n",
    "print(tuple1 == tuple1[::-1])\n",
    "print(tuple2 == tuple2[::-1])"
   ]
  },
  {
   "cell_type": "code",
   "execution_count": 14,
   "metadata": {},
   "outputs": [
    {
     "data": {
      "text/plain": [
       "(1, 4, 9, 16, 25)"
      ]
     },
     "execution_count": 14,
     "metadata": {},
     "output_type": "execute_result"
    }
   ],
   "source": [
    "#34. Create a tuple of squares of numbers from 1 to 5.\n",
    "tuple(i**2 for i in range(1,6))"
   ]
  },
  {
   "cell_type": "code",
   "execution_count": 15,
   "metadata": {},
   "outputs": [
    {
     "name": "stdout",
     "output_type": "stream",
     "text": [
      "2\n",
      "6\n",
      "6\n",
      "8\n",
      "4\n",
      "6\n",
      "8\n"
     ]
    }
   ],
   "source": [
    "#35. Filter out all even numbers from a tuple.\n",
    "t1 = (5, 1, 2, 6, 5, 6, 8, 3, 4, 5, 9, 6, 7, 8)\n",
    "for i in t1:\n",
    "    if i%2==0:\n",
    "        print(i)"
   ]
  },
  {
   "cell_type": "code",
   "execution_count": 16,
   "metadata": {},
   "outputs": [
    {
     "data": {
      "text/plain": [
       "(10, 2, 4, 12, 10, 12, 16, 6, 8, 10, 18, 12, 14, 16)"
      ]
     },
     "execution_count": 16,
     "metadata": {},
     "output_type": "execute_result"
    }
   ],
   "source": [
    "#36. Multiply all elements in a tuple by 2.\n",
    "tuple1 = (5, 1, 2, 6, 5, 6, 8, 3, 4, 5, 9, 6, 7, 8)\n",
    "\n",
    "tuple(i*2 for i in tuple1)"
   ]
  },
  {
   "cell_type": "code",
   "execution_count": 17,
   "metadata": {},
   "outputs": [
    {
     "data": {
      "text/plain": [
       "(58, 72, 76, 50, 17, 1, 95, 9, 17, 59)"
      ]
     },
     "execution_count": 17,
     "metadata": {},
     "output_type": "execute_result"
    }
   ],
   "source": [
    "#37. Create a tuple of random numbers.\n",
    "import random\n",
    "\n",
    "tuple(random.randint(1,100) for i in range(10))"
   ]
  },
  {
   "cell_type": "code",
   "execution_count": 18,
   "metadata": {},
   "outputs": [
    {
     "name": "stdout",
     "output_type": "stream",
     "text": [
      "False\n",
      "True\n"
     ]
    }
   ],
   "source": [
    "#38. Check if a tuple is sorted.\n",
    "\n",
    "tuple1 = (65, 1, 84, 30, 4, 72, 34, 46, 2, 17)\n",
    "tuple2 = (1, 2, 4, 17, 30, 34, 46, 65, 72, 84)\n",
    "\n",
    "print(tuple1 == tuple(sorted(tuple1)))\n",
    "print(tuple2 == tuple(sorted(tuple2)))"
   ]
  },
  {
   "cell_type": "code",
   "execution_count": 19,
   "metadata": {},
   "outputs": [
    {
     "name": "stdout",
     "output_type": "stream",
     "text": [
      "(3, 4, 5, 1, 2)\n"
     ]
    }
   ],
   "source": [
    "#39. Rotate a tuple to the left by `n` positions.\n",
    "tuple1 = (1, 2, 3, 4, 5)\n",
    "shift = 2\n",
    "\n",
    "n = shift % len(tuple1)\n",
    "rotated_tuple = tuple1[n:] + tuple1[:n]\n",
    "\n",
    "print(rotated_tuple)"
   ]
  },
  {
   "cell_type": "code",
   "execution_count": 20,
   "metadata": {},
   "outputs": [
    {
     "name": "stdout",
     "output_type": "stream",
     "text": [
      "(4, 5, 1, 2, 3)\n"
     ]
    }
   ],
   "source": [
    "#40. Rotate a tuple to the right by `n` positions.\n",
    "tuple1 = (1, 2, 3, 4, 5)\n",
    "shift = 2\n",
    "\n",
    "n = shift % len(tuple1)\n",
    "rotated_tuple = tuple1[-n:] + tuple1[:-n]\n",
    "\n",
    "print(rotated_tuple)"
   ]
  },
  {
   "cell_type": "code",
   "execution_count": 21,
   "metadata": {},
   "outputs": [
    {
     "name": "stdout",
     "output_type": "stream",
     "text": [
      "(0, 1, 1, 2, 3)\n"
     ]
    }
   ],
   "source": [
    "#41. Create a tuple of the first 5 Fibonacci numbers.\n",
    "n= 5\n",
    "fibonacci = [0, 1]\n",
    "while len(fibonacci) < n:\n",
    "    next_number = fibonacci[-1] + fibonacci[-2]\n",
    "    fibonacci.append(next_number)\n",
    "\n",
    "print(tuple(fibonacci))"
   ]
  },
  {
   "cell_type": "code",
   "execution_count": 22,
   "metadata": {},
   "outputs": [
    {
     "name": "stdout",
     "output_type": "stream",
     "text": [
      "Enter elements3,5,1,4,5,3,5,33,4\n",
      "User input tuple: ('3', '5', '1', '4', '5', '3', '5', '33', '4')\n"
     ]
    }
   ],
   "source": [
    "#42. Create a tuple from user input.\n",
    "\n",
    "input_str = input(\"Enter elements\")\n",
    "input_list = input_str.split(',')\n",
    "user_tuple = tuple(input_list)\n",
    "\n",
    "print(\"User input tuple:\", user_tuple)"
   ]
  },
  {
   "cell_type": "code",
   "execution_count": 23,
   "metadata": {},
   "outputs": [
    {
     "name": "stdout",
     "output_type": "stream",
     "text": [
      "Swapped tuple: (1, 4, 3, 2, 5)\n"
     ]
    }
   ],
   "source": [
    "#43. Swap two elements in a tuple.\n",
    "my_tuple = (1, 2, 3, 4, 5)\n",
    "\n",
    "# Swap elements at indices 1 and 3\n",
    "index1 = 1\n",
    "index2 = 3\n",
    "swapped_tuple = tuple(\n",
    "    my_tuple[i] if i not in (index1, index2) else\n",
    "    my_tuple[index2] if i == index1 else\n",
    "    my_tuple[index1]\n",
    "    for i in range(len(my_tuple))\n",
    ")\n",
    "\n",
    "# Print the swapped tuple\n",
    "print(\"Swapped tuple:\", swapped_tuple)"
   ]
  },
  {
   "cell_type": "code",
   "execution_count": 24,
   "metadata": {},
   "outputs": [
    {
     "name": "stdout",
     "output_type": "stream",
     "text": [
      "Reversed tuple: (5, 4, 3, 2, 1)\n"
     ]
    }
   ],
   "source": [
    "#44. Reverse the elements of a tuple.\n",
    "my_tuple = (1, 2, 3, 4, 5)\n",
    "\n",
    "# Reverse the elements using slicing\n",
    "reversed_tuple = my_tuple[::-1]\n",
    "\n",
    "print(\"Reversed tuple:\", reversed_tuple)"
   ]
  },
  {
   "cell_type": "code",
   "execution_count": 25,
   "metadata": {},
   "outputs": [
    {
     "name": "stdout",
     "output_type": "stream",
     "text": [
      "(1, 2, 4, 8, 16, 32, 64, 128, 256, 512)\n"
     ]
    }
   ],
   "source": [
    "#45. Create a tuple of the first `n` powers of 2.\n",
    "n = 10\n",
    "\n",
    "pow_tuple = tuple(2 ** i for i in range(n))\n",
    "print(pow_tuple)"
   ]
  },
  {
   "cell_type": "code",
   "execution_count": 26,
   "metadata": {},
   "outputs": [
    {
     "name": "stdout",
     "output_type": "stream",
     "text": [
      "Longest string: watermelon\n"
     ]
    }
   ],
   "source": [
    "#46. Find the longest string in a tuple of strings.\n",
    "string_tuple = (\"apple\", \"banana\", \"grape\", \"kiwi\", \"watermelon\")\n",
    "\n",
    "# Find the longest string in the tuple\n",
    "longest_string = max(string_tuple, key=len)\n",
    "\n",
    "# Print the longest string\n",
    "print(\"Longest string:\", longest_string)"
   ]
  },
  {
   "cell_type": "code",
   "execution_count": 27,
   "metadata": {},
   "outputs": [
    {
     "name": "stdout",
     "output_type": "stream",
     "text": [
      "Shortest string: kiwi\n"
     ]
    }
   ],
   "source": [
    "#47. Find the shortest string in a tuple of strings.\n",
    "# Create a tuple of strings\n",
    "string_tuple = (\"apple\", \"banana\", \"grape\", \"kiwi\", \"watermelon\")\n",
    "\n",
    "# Find the shortest string in the tuple\n",
    "shortest_string = min(string_tuple, key=len)\n",
    "\n",
    "# Print the shortest string\n",
    "print(\"Shortest string:\", shortest_string)"
   ]
  },
  {
   "cell_type": "code",
   "execution_count": 28,
   "metadata": {},
   "outputs": [
    {
     "name": "stdout",
     "output_type": "stream",
     "text": [
      "(1, 3, 6, 10, 15, 21, 28, 36)\n"
     ]
    }
   ],
   "source": [
    "#48. Create a tuple of the first `n` triangular numbers.\n",
    "n = 10\n",
    "\n",
    "trianglur = []\n",
    "for k in range(1, n+1):\n",
    "    count = 0\n",
    "    for i in range(1, k):\n",
    "        for j in range(1, i):\n",
    "            count +=1\n",
    "    if count > 0:\n",
    "        trianglur.append(count)\n",
    "print(tuple(trianglur))"
   ]
  },
  {
   "cell_type": "code",
   "execution_count": 29,
   "metadata": {},
   "outputs": [
    {
     "name": "stdout",
     "output_type": "stream",
     "text": [
      "yes, tuple2 is a subsequence of tuple1\n"
     ]
    }
   ],
   "source": [
    "#49. Check if a tuple contains another tuple as a subsequence.\n",
    "tuple1 = (1, 2, 3, 4, 5, 6, 7, 8, 9)\n",
    "tuple2 = (3, 4, 5)\n",
    "\n",
    "t2_len = len(tuple2)\n",
    "for i in range(len(tuple1) - t2_len + 1):\n",
    "    if tuple1[i:i+t2_len] == tuple2:\n",
    "        print(\"yes, tuple2 is a subsequence of tuple1\")"
   ]
  },
  {
   "cell_type": "code",
   "execution_count": 30,
   "metadata": {},
   "outputs": [
    {
     "data": {
      "text/plain": [
       "(0, 1, 0, 1, 0, 1, 0, 1, 0, 1)"
      ]
     },
     "execution_count": 30,
     "metadata": {},
     "output_type": "execute_result"
    }
   ],
   "source": [
    "#50. Create a tuple of alternating 1s and 0s of length `n`.\n",
    "n = 10\n",
    "\n",
    "tuple(i % 2 for i in range(n))"
   ]
  },
  {
   "cell_type": "markdown",
   "metadata": {},
   "source": [
    "# Set Based Practice Problems :"
   ]
  },
  {
   "cell_type": "code",
   "execution_count": 31,
   "metadata": {},
   "outputs": [
    {
     "name": "stdout",
     "output_type": "stream",
     "text": [
      "{1, 2, 3, 4, 5}\n"
     ]
    }
   ],
   "source": [
    "#1. Create a set with integers from 1 to 5.\n",
    "s={i for i in range(1,6)}\n",
    "print(s)"
   ]
  },
  {
   "cell_type": "code",
   "execution_count": 32,
   "metadata": {},
   "outputs": [
    {
     "data": {
      "text/plain": [
       "{1, 2, 3, 4, 5, 6}"
      ]
     },
     "execution_count": 32,
     "metadata": {},
     "output_type": "execute_result"
    }
   ],
   "source": [
    "#2. Add an element to a set.\n",
    "s.add(6)\n",
    "s"
   ]
  },
  {
   "cell_type": "code",
   "execution_count": 33,
   "metadata": {},
   "outputs": [
    {
     "data": {
      "text/plain": [
       "{1, 2, 3, 5, 6}"
      ]
     },
     "execution_count": 33,
     "metadata": {},
     "output_type": "execute_result"
    }
   ],
   "source": [
    "#3. Remove an element from a set.\n",
    "s.remove(4)\n",
    "s"
   ]
  },
  {
   "cell_type": "code",
   "execution_count": 34,
   "metadata": {},
   "outputs": [
    {
     "name": "stdout",
     "output_type": "stream",
     "text": [
      "Enter element to check:6\n",
      "6 exists in set {1, 2, 3, 5, 6}\n"
     ]
    }
   ],
   "source": [
    "#4. Check if an element exists in a set.\n",
    "c=int(input(\"Enter element to check:\"))\n",
    "if(c in s):\n",
    "    print(c,\"exists in set\",s)\n",
    "else:\n",
    "    print(c,\"doesn't exists in set\",s)"
   ]
  },
  {
   "cell_type": "code",
   "execution_count": 35,
   "metadata": {},
   "outputs": [
    {
     "name": "stdout",
     "output_type": "stream",
     "text": [
      "Length of the set: 5\n"
     ]
    }
   ],
   "source": [
    "#5. Find the length of a set without using the `len()` function.\n",
    "my_set = {1, 2, 3, 4, 5}\n",
    "\n",
    "count = 0\n",
    "for _ in my_set:\n",
    "    count += 1\n",
    "print(\"Length of the set:\", count)"
   ]
  },
  {
   "cell_type": "code",
   "execution_count": 36,
   "metadata": {},
   "outputs": [
    {
     "name": "stdout",
     "output_type": "stream",
     "text": [
      "{1, 2, 3, 4, 5}\n",
      "set()\n"
     ]
    }
   ],
   "source": [
    "#6. Clear all elements from a set.\n",
    "my_set = {1, 2, 3, 4, 5}\n",
    "print(my_set)\n",
    "my_set.clear()\n",
    "print(my_set)"
   ]
  },
  {
   "cell_type": "code",
   "execution_count": 37,
   "metadata": {},
   "outputs": [
    {
     "name": "stdout",
     "output_type": "stream",
     "text": [
      "<class 'set'>\n"
     ]
    },
    {
     "data": {
      "text/plain": [
       "{2, 4, 6, 8, 10, 12, 14, 16, 18, 20}"
      ]
     },
     "execution_count": 37,
     "metadata": {},
     "output_type": "execute_result"
    }
   ],
   "source": [
    "#7. Create a set of even numbers from 1 to 10.\n",
    "s={0}\n",
    "print(type(s))\n",
    "s.clear()\n",
    "for i in range (1,21):\n",
    "    if i%2==0:\n",
    "        s.add(i)\n",
    "s"
   ]
  },
  {
   "cell_type": "code",
   "execution_count": 38,
   "metadata": {},
   "outputs": [
    {
     "name": "stdout",
     "output_type": "stream",
     "text": [
      "<class 'set'>\n"
     ]
    },
    {
     "data": {
      "text/plain": [
       "{1, 3, 5, 7, 9, 11, 13, 15, 17, 19}"
      ]
     },
     "execution_count": 38,
     "metadata": {},
     "output_type": "execute_result"
    }
   ],
   "source": [
    "#8. Create a set of odd numbers from 1 to 10.\n",
    "s={0}\n",
    "print(type(s))\n",
    "s.clear()\n",
    "for i in range (1,20):\n",
    "    if i%2!=0:\n",
    "        s.add(i)\n",
    "s"
   ]
  },
  {
   "cell_type": "code",
   "execution_count": 39,
   "metadata": {},
   "outputs": [
    {
     "name": "stdout",
     "output_type": "stream",
     "text": [
      "{1, 2, 3, 4, 5, 6}\n"
     ]
    }
   ],
   "source": [
    "#9. Find the union of two sets.\n",
    "s1={1,2,3}\n",
    "s2={4,5,6}\n",
    "print(s1.union(s2))"
   ]
  },
  {
   "cell_type": "code",
   "execution_count": 40,
   "metadata": {},
   "outputs": [
    {
     "name": "stdout",
     "output_type": "stream",
     "text": [
      "{1, 3}\n"
     ]
    }
   ],
   "source": [
    "#10. Find the intersection of two sets.\n",
    "s1={1,2,3}\n",
    "s2={4,3,5,1,6}\n",
    "print(s1.intersection(s2))"
   ]
  },
  {
   "cell_type": "code",
   "execution_count": 41,
   "metadata": {},
   "outputs": [
    {
     "name": "stdout",
     "output_type": "stream",
     "text": [
      "{2}\n"
     ]
    }
   ],
   "source": [
    "#11. Find the difference between two sets.\n",
    "s1={1,5,6,1,2,1,1}\n",
    "s2={4,5,6,7,1}\n",
    "print(s1.difference(s2))"
   ]
  },
  {
   "cell_type": "code",
   "execution_count": 42,
   "metadata": {},
   "outputs": [
    {
     "name": "stdout",
     "output_type": "stream",
     "text": [
      "True\n"
     ]
    }
   ],
   "source": [
    "#12. Check if a set is a subset of another set.\n",
    "s1={1,2,3}\n",
    "s2={4,5,2,6,1,3}\n",
    "print(s1.issubset(s2))"
   ]
  },
  {
   "cell_type": "code",
   "execution_count": 43,
   "metadata": {},
   "outputs": [
    {
     "name": "stdout",
     "output_type": "stream",
     "text": [
      "True\n",
      "set1 is a superset of set2\n"
     ]
    }
   ],
   "source": [
    "#13. Check if a set is a superset of another set.\n",
    "set1 = {1,2, 3,4, 5,6,7, 8, 9,10}\n",
    "set2 = {1, 2, 3, 4, 5, 7, 9}\n",
    "\n",
    "is_superset = set1.issuperset(set2)\n",
    "print(is_superset)\n",
    "if is_superset:\n",
    "    print(\"set1 is a superset of set2\")\n",
    "else:\n",
    "    print(\"set1 is not a superset of set2\")"
   ]
  },
  {
   "cell_type": "code",
   "execution_count": 44,
   "metadata": {},
   "outputs": [
    {
     "name": "stdout",
     "output_type": "stream",
     "text": [
      "Original List: [1, 2, 3, 4, 5, 6]\n",
      "Set from List: {1, 2, 3, 4, 5, 6}\n"
     ]
    }
   ],
   "source": [
    "#14. Create a set from a list.\n",
    "my_list = [1, 2, 3, 4, 5, 6]\n",
    "\n",
    "my_set = set(my_list)\n",
    "\n",
    "print(\"Original List:\", my_list)\n",
    "print(\"Set from List:\", my_set)"
   ]
  },
  {
   "cell_type": "code",
   "execution_count": 45,
   "metadata": {},
   "outputs": [
    {
     "name": "stdout",
     "output_type": "stream",
     "text": [
      "[1, 2, 3, 4, 5, 6]\n"
     ]
    }
   ],
   "source": [
    "#15. Convert a set to a list.\n",
    "my_set = {1, 2, 3, 4, 5, 6}\n",
    "my_list = list(my_set)\n",
    "print(my_list)"
   ]
  },
  {
   "cell_type": "code",
   "execution_count": 46,
   "metadata": {},
   "outputs": [
    {
     "name": "stdout",
     "output_type": "stream",
     "text": [
      "{1, 2, 3, 4, 6}\n"
     ]
    }
   ],
   "source": [
    "#16. Remove a random element from a set.\n",
    "my_set = {1, 2, 3, 4, 5, 6}\n",
    "my_set.remove(5)\n",
    "print(my_set)"
   ]
  },
  {
   "cell_type": "code",
   "execution_count": 47,
   "metadata": {},
   "outputs": [
    {
     "name": "stdout",
     "output_type": "stream",
     "text": [
      "{2, 3, 4, 5, 6}\n"
     ]
    }
   ],
   "source": [
    "#17. Pop an element from a set.\n",
    "my_set = {1, 2, 3, 4, 5, 6}\n",
    "my_set.pop()\n",
    "print(my_set)"
   ]
  },
  {
   "cell_type": "code",
   "execution_count": 48,
   "metadata": {},
   "outputs": [
    {
     "name": "stdout",
     "output_type": "stream",
     "text": [
      "sets have common elements {1, 3}\n"
     ]
    }
   ],
   "source": [
    "#18. Check if two sets have no elements in common.\n",
    "s1={1,2,3}\n",
    "s2={4,3,5,1,6}\n",
    "if(s1.intersection(s2)):\n",
    "    print(\"sets have common elements\",s1.intersection(s2))\n",
    "else:\n",
    "    print(\"No common elements\")"
   ]
  },
  {
   "cell_type": "code",
   "execution_count": 49,
   "metadata": {},
   "outputs": [
    {
     "name": "stdout",
     "output_type": "stream",
     "text": [
      "Symmetric Difference: {3, 6, 7, 8}\n"
     ]
    }
   ],
   "source": [
    "#19. Find the symmetric difference between two sets.\n",
    "set1 = {1, 2, 3, 4, 5}\n",
    "set2 = {1, 2, 4, 5, 6, 7, 8}\n",
    "\n",
    "sd = set1 ^ set2\n",
    "\n",
    "print(\"Symmetric Difference:\", sd)"
   ]
  },
  {
   "cell_type": "code",
   "execution_count": 50,
   "metadata": {},
   "outputs": [
    {
     "name": "stdout",
     "output_type": "stream",
     "text": [
      "Set 1: {1, 2, 3, 5, 7, 8, 9}\n",
      "Set 2: {3, 4, 55}\n",
      "Updated Set 1: {1, 2, 3, 4, 5, 7, 8, 9, 55}\n"
     ]
    }
   ],
   "source": [
    "#20. Update a set with elements from another set.\n",
    "set1 = {1, 2, 3,5,7,9,8}\n",
    "print(\"Set 1:\", set1)\n",
    "\n",
    "set2 = {3, 4, 55}\n",
    "print(\"Set 2:\", set2)\n",
    "\n",
    "set1.update(set2)\n",
    "print(\"Updated Set 1:\", set1)"
   ]
  },
  {
   "cell_type": "code",
   "execution_count": 51,
   "metadata": {},
   "outputs": [
    {
     "name": "stdout",
     "output_type": "stream",
     "text": [
      "Set of the first 5 prime numbers: {2, 3, 5, 7, 11}\n"
     ]
    }
   ],
   "source": [
    "#21. Create a set of the first 5 prime numbers.\n",
    "def is_prime(num):\n",
    "    if num <= 1:\n",
    "        return False\n",
    "    for i in range(2, int(num ** 0.5) + 1):\n",
    "        if num % i == 0:\n",
    "            return False\n",
    "    return True\n",
    "\n",
    "\n",
    "prime_set = set()\n",
    "num = 2\n",
    "while len(prime_set) < 5:\n",
    "    if is_prime(num):\n",
    "        prime_set.add(num)\n",
    "    num += 1\n",
    "\n",
    "print(\"Set of the first 5 prime numbers:\", prime_set)"
   ]
  },
  {
   "cell_type": "code",
   "execution_count": 52,
   "metadata": {},
   "outputs": [
    {
     "name": "stdout",
     "output_type": "stream",
     "text": [
      "set2 & set3 are identical\n"
     ]
    }
   ],
   "source": [
    "#22. Check if two sets are identical.\n",
    "set1 = {1, 2, 3,5,7,9,8}\n",
    "set2 = {5, 3, 4}\n",
    "set3 = {3, 4, 5}\n",
    "\n",
    "if set1 == set2:\n",
    "    print(\"set1 & set2 are identical\")\n",
    "    \n",
    "if set2 == set3:\n",
    "    print(\"set2 & set3 are identical\")"
   ]
  },
  {
   "cell_type": "code",
   "execution_count": 53,
   "metadata": {},
   "outputs": [
    {
     "name": "stdout",
     "output_type": "stream",
     "text": [
      "frozenset({1, 2, 3, 5, 7, 8, 9})\n"
     ]
    }
   ],
   "source": [
    "#23. Create a frozen set.\n",
    "set1 = {1, 2, 3,5,7,9,8}\n",
    "\n",
    "frozen = frozenset(set1)\n",
    "\n",
    "print(frozen)"
   ]
  },
  {
   "cell_type": "code",
   "execution_count": 54,
   "metadata": {},
   "outputs": [
    {
     "data": {
      "text/plain": [
       "True"
      ]
     },
     "execution_count": 54,
     "metadata": {},
     "output_type": "execute_result"
    }
   ],
   "source": [
    "#24. Check if a set is disjoint with another set.\n",
    "set1 = {1, 2, 3,5,7,9,8}\n",
    "set2 = {0, 4, 6}\n",
    "\n",
    "set1.isdisjoint(set2)"
   ]
  },
  {
   "cell_type": "code",
   "execution_count": 55,
   "metadata": {},
   "outputs": [
    {
     "data": {
      "text/plain": [
       "{1, 4, 9, 16, 25}"
      ]
     },
     "execution_count": 55,
     "metadata": {},
     "output_type": "execute_result"
    }
   ],
   "source": [
    "#25. Create a set of squares of numbers from 1 to 5.\n",
    "{i**2 for i in range(1,6)}"
   ]
  },
  {
   "cell_type": "code",
   "execution_count": 56,
   "metadata": {},
   "outputs": [
    {
     "name": "stdout",
     "output_type": "stream",
     "text": [
      "{64, 16, 4, 36}\n"
     ]
    }
   ],
   "source": [
    "#26. Filter out all even numbers from a set.\n",
    "set1 = {1, 4, 9, 16, 25, 36, 49, 64, 81}\n",
    "\n",
    "even_set = {i for i in set1 if i % 2 == 0 }\n",
    "\n",
    "print(even_set)"
   ]
  },
  {
   "cell_type": "code",
   "execution_count": 57,
   "metadata": {},
   "outputs": [
    {
     "name": "stdout",
     "output_type": "stream",
     "text": [
      "{128, 32, 2, 98, 162, 8, 72, 18, 50}\n"
     ]
    }
   ],
   "source": [
    "#27. Multiply all elements in a set by 2.\n",
    "set1 = {1, 4, 9, 16, 25, 36, 49, 64, 81}\n",
    "\n",
    "mul_set = {i *2 for i in set1}\n",
    "\n",
    "print(mul_set)"
   ]
  },
  {
   "cell_type": "code",
   "execution_count": 58,
   "metadata": {},
   "outputs": [
    {
     "name": "stdout",
     "output_type": "stream",
     "text": [
      "{64, 37, 70, 42, 11, 76, 51, 23, 55, 56, 26, 29}\n"
     ]
    }
   ],
   "source": [
    "#28. Create a set of random numbers.\n",
    "import random\n",
    "\n",
    "random_set = {random.randint(10,100) for i in range(12)}\n",
    "\n",
    "print(random_set)"
   ]
  },
  {
   "cell_type": "code",
   "execution_count": 59,
   "metadata": {},
   "outputs": [
    {
     "name": "stdout",
     "output_type": "stream",
     "text": [
      "Set is NOT empty\n",
      "Set is empty\n"
     ]
    }
   ],
   "source": [
    "#29. Check if a set is empty.\n",
    "set1 = {96, 67, 42, 75, 47, 48, 81, 80, 54, 26, 63}\n",
    "set2 = {}\n",
    "\n",
    "def check_empty(set1):\n",
    "    if set1:\n",
    "        print(\"Set is NOT empty\")\n",
    "    else:\n",
    "        print(\"Set is empty\")\n",
    "\n",
    "check_empty(set1)\n",
    "check_empty(set2)"
   ]
  },
  {
   "cell_type": "code",
   "execution_count": 60,
   "metadata": {},
   "outputs": [
    {
     "name": "stdout",
     "output_type": "stream",
     "text": [
      "Nested Set: {frozenset({2, 3, 6, 9, 10}), frozenset({0, 1, 4, 5, 9})}\n"
     ]
    }
   ],
   "source": [
    "#30. Create a nested set (hint: use frozenset).\n",
    "set1 = {5, 4, 1, 9, 0}\n",
    "set2 = {6, 9, 2, 3, 10}\n",
    "\n",
    "frozen_set1 = frozenset(set1)\n",
    "frozen_set2 = frozenset(set2)\n",
    "nested_set = {frozen_set1, frozen_set2}\n",
    "print(\"Nested Set:\", nested_set)"
   ]
  },
  {
   "cell_type": "code",
   "execution_count": 61,
   "metadata": {},
   "outputs": [
    {
     "name": "stdout",
     "output_type": "stream",
     "text": [
      "{96, 67, 42, 47, 48, 81, 80, 54, 26, 63}\n"
     ]
    }
   ],
   "source": [
    "#31. Remove an element from a set using the discard method.\n",
    "set1 = {96, 67, 42, 75, 47, 48, 81, 80, 54, 26, 63}\n",
    "\n",
    "set1.discard(75)\n",
    "\n",
    "print(set1)"
   ]
  },
  {
   "cell_type": "code",
   "execution_count": 62,
   "metadata": {},
   "outputs": [
    {
     "name": "stdout",
     "output_type": "stream",
     "text": [
      "Sets are NOT equal\n"
     ]
    }
   ],
   "source": [
    "#32. Compare two sets.\n",
    "set1 = {5, 4, 1, 9, 0}\n",
    "set2 = {6, 9, 2, 3, 10}\n",
    "\n",
    "if set1 == set2:\n",
    "    print(\"Sets are equal\")\n",
    "else:\n",
    "    print(\"Sets are NOT equal\")"
   ]
  },
  {
   "cell_type": "code",
   "execution_count": 63,
   "metadata": {},
   "outputs": [
    {
     "name": "stdout",
     "output_type": "stream",
     "text": [
      "{'w', 'l', 'i', 'h', 'c', 'v', 'r', 'n', 'T', 'b', 'e', ' ', 't', 'o', 's', 'd'}\n"
     ]
    }
   ],
   "source": [
    "#33. Create a set from a string.\n",
    "inp_string = \"This will be converted to set\"\n",
    "\n",
    "set1 = set(inp_string)\n",
    "\n",
    "print(set1)"
   ]
  },
  {
   "cell_type": "code",
   "execution_count": 64,
   "metadata": {},
   "outputs": [
    {
     "name": "stdout",
     "output_type": "stream",
     "text": [
      "{98, 34, 4, 6, 8, 14}\n"
     ]
    }
   ],
   "source": [
    "#34. Convert a set of strings to a set of integers.\n",
    "str_set = {\"14\",\"6\",\"4\",\"8\",\"98\",\"34\"}\n",
    "\n",
    "int_set = {int(i) for i in str_set}\n",
    "\n",
    "print(int_set)"
   ]
  },
  {
   "cell_type": "code",
   "execution_count": 65,
   "metadata": {},
   "outputs": [
    {
     "name": "stdout",
     "output_type": "stream",
     "text": [
      "{'6', '98', '34', '4', '8', '14'}\n"
     ]
    }
   ],
   "source": [
    "#35. Convert a set of integers to a set of strings.\n",
    "int_set = {34, 98, 4, 6, 8, 14}\n",
    "\n",
    "str_set = {str(i) for i in int_set}\n",
    "\n",
    "print(str_set)"
   ]
  },
  {
   "cell_type": "code",
   "execution_count": 66,
   "metadata": {
    "scrolled": true
   },
   "outputs": [
    {
     "name": "stdout",
     "output_type": "stream",
     "text": [
      "{34, 98, 4, 6, 8, 14}\n"
     ]
    }
   ],
   "source": [
    "#36. Create a set from a tuple.\n",
    "tup_set = tuple((34, 98, 4, 6, 8, 14))\n",
    "\n",
    "set1 = set(tup_set)\n",
    "\n",
    "print(set1)"
   ]
  },
  {
   "cell_type": "code",
   "execution_count": 67,
   "metadata": {},
   "outputs": [
    {
     "name": "stdout",
     "output_type": "stream",
     "text": [
      "(34, 98, 4, 6, 8, 14)\n"
     ]
    }
   ],
   "source": [
    "#37. Convert a set to a tuple.\n",
    "tup_set = {34, 98, 4, 6, 8, 14}\n",
    "\n",
    "tup = tuple(tup_set)\n",
    "\n",
    "print(tup)"
   ]
  },
  {
   "cell_type": "code",
   "execution_count": 68,
   "metadata": {},
   "outputs": [
    {
     "name": "stdout",
     "output_type": "stream",
     "text": [
      "Maximum val in set:  96\n"
     ]
    }
   ],
   "source": [
    "#38. Find the maximum value in a set.\n",
    "set1 = {96, 67, 42, 75, 47, 48, 81, 80, 54, 26, 63}\n",
    "\n",
    "print(\"Maximum val in set: \", max(set1))"
   ]
  },
  {
   "cell_type": "code",
   "execution_count": 69,
   "metadata": {},
   "outputs": [
    {
     "name": "stdout",
     "output_type": "stream",
     "text": [
      "Minimum val in set:  26\n"
     ]
    }
   ],
   "source": [
    "#39. Find the minimum value in a set.\n",
    "set1 = {96, 67, 42, 75, 47, 48, 81, 80, 54, 26, 63}\n",
    "\n",
    "print(\"Minimum val in set: \", min(set1))"
   ]
  },
  {
   "cell_type": "code",
   "execution_count": 70,
   "metadata": {},
   "outputs": [
    {
     "name": "stdout",
     "output_type": "stream",
     "text": [
      "Enter input for set4,5,3,,6,8,4,3,\n",
      "{'', '6', '3', '4', '5', '8'}\n"
     ]
    }
   ],
   "source": [
    "#40. Create a set from user input.\n",
    "set_inp = input(\"Enter input for set\")\n",
    "\n",
    "inp_list = set_inp.split(\",\")\n",
    "\n",
    "set1 = set(inp_list)\n",
    "\n",
    "print(set1)"
   ]
  },
  {
   "cell_type": "code",
   "execution_count": 71,
   "metadata": {},
   "outputs": [
    {
     "name": "stdout",
     "output_type": "stream",
     "text": [
      "Intersection is empty\n",
      "set()\n"
     ]
    }
   ],
   "source": [
    "#41. Check if the intersection of two sets is empty.\n",
    "set1 = {5, 4, 1, 9, 0}\n",
    "set2 = {6, 91, 2, 3, 10}\n",
    "\n",
    "inter_set = set1.intersection(set2)\n",
    "\n",
    "if len(inter_set) > 0:\n",
    "    print(\"Intersection is NOT empty\")\n",
    "    print(inter_set)\n",
    "else:\n",
    "    print(\"Intersection is empty\")\n",
    "    print(inter_set)"
   ]
  },
  {
   "cell_type": "code",
   "execution_count": 72,
   "metadata": {},
   "outputs": [
    {
     "name": "stdout",
     "output_type": "stream",
     "text": [
      "Set of the first 5 Fibonacci numbers: {0, 1, 2, 3, 5}\n"
     ]
    }
   ],
   "source": [
    "#42. Create a set of the first 5 Fibonacci numbers.\n",
    "fibonacci_set = set()\n",
    "a, b = 0, 1\n",
    "\n",
    "for _ in range(6):\n",
    "    fibonacci_set.add(a)\n",
    "    a, b = b, a + b\n",
    "\n",
    "print(\"Set of the first 5 Fibonacci numbers:\", fibonacci_set)"
   ]
  },
  {
   "cell_type": "code",
   "execution_count": 73,
   "metadata": {},
   "outputs": [
    {
     "name": "stdout",
     "output_type": "stream",
     "text": [
      "{1, 2, 3, 4, 5, 6, 7, 8, 9}\n"
     ]
    }
   ],
   "source": [
    "#43. Remove duplicates from a list using sets.\n",
    "dup_list = [1,1,2,3,3,4,5,5,6,6,7,7,8,8,9,9,9]\n",
    "\n",
    "unique_list = set(dup_list)\n",
    "\n",
    "print(unique_list)"
   ]
  },
  {
   "cell_type": "code",
   "execution_count": 74,
   "metadata": {},
   "outputs": [
    {
     "data": {
      "text/plain": [
       "False"
      ]
     },
     "execution_count": 74,
     "metadata": {},
     "output_type": "execute_result"
    }
   ],
   "source": [
    "#44. Check if two sets have the same elements, regardless of their count.\n",
    "\n",
    "set1 = {4, 5, 6, 7, 8}\n",
    "set2 = {7, 6, 8}\n",
    "\n",
    "sorted(set1) == sorted(set2)"
   ]
  },
  {
   "cell_type": "code",
   "execution_count": 75,
   "metadata": {},
   "outputs": [
    {
     "name": "stdout",
     "output_type": "stream",
     "text": [
      "[1, 2, 4, 8, 16, 32, 64, 128, 256, 512]\n"
     ]
    }
   ],
   "source": [
    "#45. Create a set of the first `n` powers of 2.\n",
    "n = 10\n",
    "\n",
    "set1 = {2 ** i for i in range(10)}\n",
    "\n",
    "print(sorted(set1))"
   ]
  },
  {
   "cell_type": "code",
   "execution_count": 76,
   "metadata": {},
   "outputs": [
    {
     "name": "stdout",
     "output_type": "stream",
     "text": [
      "{8, 6, 7}\n"
     ]
    }
   ],
   "source": [
    "#46. Find the common elements between a set and a list.\n",
    "list1 = [4, 5, 6, 7, 8,9,0]\n",
    "set2 = {7, 6, 8}\n",
    "\n",
    "common_elements = set(list1).intersection(set2)\n",
    "\n",
    "print(common_elements)"
   ]
  },
  {
   "cell_type": "code",
   "execution_count": 77,
   "metadata": {},
   "outputs": [
    {
     "name": "stdout",
     "output_type": "stream",
     "text": [
      "[0, 1, 3, 6, 10, 15, 21, 28, 36]\n"
     ]
    }
   ],
   "source": [
    "#47. Create a set of the first `n` triangular numbers.\n",
    "n = 10\n",
    "\n",
    "triangular = set()\n",
    "\n",
    "for i in range(1,n+1):\n",
    "    count = 0\n",
    "    for j in range(1,i):\n",
    "        for k in range(1,j):\n",
    "            count +=1\n",
    "    triangular.add(count)\n",
    "\n",
    "print(sorted(triangular))"
   ]
  },
  {
   "cell_type": "code",
   "execution_count": 78,
   "metadata": {},
   "outputs": [
    {
     "name": "stdout",
     "output_type": "stream",
     "text": [
      "set2 is a subset of set1\n"
     ]
    }
   ],
   "source": [
    "# 48. Check if a set contains another set as a subset.\n",
    "set1 = {1, 2, 3, 4, 5}\n",
    "set2 = {3, 4}\n",
    "\n",
    "is_subset = set2.issubset(set1)\n",
    "\n",
    "if is_subset:\n",
    "    print(\"set2 is a subset of set1\")\n",
    "else:\n",
    "    print(\"set2 is not a subset of set1\")"
   ]
  },
  {
   "cell_type": "code",
   "execution_count": 79,
   "metadata": {},
   "outputs": [
    {
     "name": "stdout",
     "output_type": "stream",
     "text": [
      "{0, 1}\n"
     ]
    }
   ],
   "source": [
    "# 49. Create a set of alternating 1s and 0s of length `n`.\n",
    "n = 20\n",
    "set_0_1 = {1 if i % 2 == 0 else 0 for i in range(n)}\n",
    "\n",
    "print(set_0_1)"
   ]
  },
  {
   "cell_type": "code",
   "execution_count": 80,
   "metadata": {},
   "outputs": [
    {
     "name": "stdout",
     "output_type": "stream",
     "text": [
      "{1, 2, 3, 4, 5, 6, 7, 8, 9, 10, 11, 12, 13}\n"
     ]
    }
   ],
   "source": [
    "# 50. Merge multiple sets into one.\n",
    "set1 = {1, 2, 3}\n",
    "set2 = {3, 4, 5}\n",
    "set3 = {5, 6, 7}\n",
    "set4 = {8, 9, 10}\n",
    "set5 = {11, 12, 13}\n",
    "\n",
    "new_set = set1.union(set2, set3, set4, set5)\n",
    "\n",
    "print(new_set)"
   ]
  },
  {
   "cell_type": "code",
   "execution_count": 82,
   "metadata": {},
   "outputs": [],
   "source": [
    "#Solution shared by Mentor\n",
    "#https://colab.research.google.com/drive/1ocuILLMYhPK7YMatOJvyC61SiRquoKHY#scrollTo=o8E5Cwzsgtb3\n"
   ]
  },
  {
   "cell_type": "code",
   "execution_count": null,
   "metadata": {},
   "outputs": [],
   "source": []
  }
 ],
 "metadata": {
  "kernelspec": {
   "display_name": "Python 3",
   "language": "python",
   "name": "python3"
  },
  "language_info": {
   "codemirror_mode": {
    "name": "ipython",
    "version": 3
   },
   "file_extension": ".py",
   "mimetype": "text/x-python",
   "name": "python",
   "nbconvert_exporter": "python",
   "pygments_lexer": "ipython3",
   "version": "3.8.5"
  }
 },
 "nbformat": 4,
 "nbformat_minor": 4
}
