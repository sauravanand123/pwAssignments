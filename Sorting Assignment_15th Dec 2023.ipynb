{
 "cells": [
  {
   "cell_type": "code",
   "execution_count": 1,
   "id": "087d5e39-72d3-4cb7-a026-8f80bb0ae1eb",
   "metadata": {},
   "outputs": [
    {
     "name": "stdout",
     "output_type": "stream",
     "text": [
      "2\n"
     ]
    }
   ],
   "source": [
    "#Problem 1.Given an array of n numbers, give an algorithm which gives the element appearing maximum number of times?\n",
    "\n",
    "\n",
    "  \n",
    "def maxappearElement(arr, n): \n",
    "\n",
    "    # Sort the array \n",
    "    arr.sort() \n",
    "  \n",
    "    # find the max frequency using \n",
    "    # linear traversal \n",
    "    max_count = 1\n",
    "    res = arr[0] \n",
    "    curr_count = 1\n",
    "  \n",
    "    for i in range(1, n): \n",
    "        if (arr[i] == arr[i - 1]): \n",
    "            curr_count += 1\n",
    "        else: \n",
    "            curr_count = 1\n",
    "  \n",
    "         # If last element is most frequent \n",
    "        if (curr_count > max_count): \n",
    "            max_count = curr_count \n",
    "            res = arr[i - 1] \n",
    "  \n",
    "    return res \n",
    "  \n",
    "  \n",
    "arr = [3,2,1,2,4,5,2,6,3,1] \n",
    "n = len(arr) \n",
    "print(maxappearElement(arr, n)) \n",
    "  \n"
   ]
  },
  {
   "cell_type": "code",
   "execution_count": 3,
   "id": "1c528080-3f37-41cc-82ac-878c3f93a419",
   "metadata": {},
   "outputs": [
    {
     "name": "stdout",
     "output_type": "stream",
     "text": [
      "The missing number is 5\n"
     ]
    }
   ],
   "source": [
    "#Problem 2 : We are given a list of n-1 integers and these integers are in the range of 1 to n . There are no duplicates in the list. One of the integers is missing in the list. Give an algorithm to find that element Ex: [1,2,4,6,3,7,8] 5 is the missing num.\n",
    "#Xor approach\n",
    "\n",
    "def getMissingNumber(arr):\n",
    " \n",
    "    # Compute XOR of all the elements in the list\n",
    "    xor = 0\n",
    "    for i in arr:\n",
    "        xor = xor ^ i\n",
    " \n",
    "    # Compute XOR of all the elements from 1 to `n+1`\n",
    "    for i in range(1, len(arr) + 2):\n",
    "        xor = xor ^ i\n",
    " \n",
    "    return xor\n",
    " \n",
    " \n",
    "if __name__ == '__main__':\n",
    " \n",
    "    arr = [1, 2, 3, 4, 6, 7, 8]\n",
    "    print('The missing number is', getMissingNumber(arr))"
   ]
  },
  {
   "cell_type": "code",
   "execution_count": 4,
   "id": "db6a5e2d-a34b-4acc-8288-8320d7357e02",
   "metadata": {},
   "outputs": [
    {
     "name": "stdout",
     "output_type": "stream",
     "text": [
      "Number occurring odd number of times: 3\n"
     ]
    }
   ],
   "source": [
    "#Problem 3 : Given an array of n positive numbers. All numbers occurs even number of times except 1 which occurs odd number of times. Find that number in O(n) time and O(1) space. Ex: [1,2,3,2,3,1,3]. 3 is repeats odd  times.\n",
    "\n",
    "\n",
    "def find_odd_occurrence(arr):\n",
    "    result = 0\n",
    "\n",
    "    for num in arr:\n",
    "        result ^= num\n",
    "\n",
    "    return result\n",
    "\n",
    "# Example usage:\n",
    "arr = [1, 2, 3, 2, 3, 1, 3]\n",
    "odd_occurrence_number = find_odd_occurrence(arr)\n",
    "print(\"Number occurring odd number of times:\", odd_occurrence_number)"
   ]
  },
  {
   "cell_type": "code",
   "execution_count": 6,
   "id": "11595bf4-1860-47e2-9b86-cb3e19e9ddcd",
   "metadata": {},
   "outputs": [
    {
     "name": "stdout",
     "output_type": "stream",
     "text": [
      "Pair with sum 6 : (1, 5)\n"
     ]
    }
   ],
   "source": [
    "#Problem 4 : Given an array of n elements. Find two elements in the array such that their sum is equal to given element K.\n",
    "\n",
    "def find_pair_with_sum(arr, target_sum):\n",
    "    arr.sort()\n",
    "    left, right = 0, len(arr) - 1\n",
    "\n",
    "    while left < right:\n",
    "        current_sum = arr[left] + arr[right]\n",
    "\n",
    "        if current_sum == target_sum:\n",
    "            # Found a pair whose sum is equal to target_sum\n",
    "            return arr[left], arr[right]\n",
    "        elif current_sum < target_sum:\n",
    "            left += 1\n",
    "        else:\n",
    "            right -= 1\n",
    "\n",
    "    # If no pair is found\n",
    "    return None\n",
    "\n",
    "\n",
    "arr = [1, 2, 3, 4, 5, 6, 7]\n",
    "target_sum = 6\n",
    "result = find_pair_with_sum(arr, target_sum)\n",
    "\n",
    "if result:\n",
    "    print(\"Pair with sum\", target_sum, \":\", result)\n",
    "else:\n",
    "    print(\"No pair found with sum\", target_sum)\n"
   ]
  },
  {
   "cell_type": "code",
   "execution_count": 8,
   "id": "e94909c0-42b6-40be-b195-b8a4e4f45802",
   "metadata": {},
   "outputs": [
    {
     "name": "stdout",
     "output_type": "stream",
     "text": [
      "Closest sum pair: (-5, 3)\n"
     ]
    }
   ],
   "source": [
    "#Problem 5 : Given an array of both positive and negative numbers, find two numbers such that their sum is closest to 0. Ex: [ 1 ,60 ,-10, 70, -80,85]. Ans : -80,85.\n",
    "\n",
    "def closest_sum_pair(arr):\n",
    "    arr.sort()\n",
    "\n",
    "    left, right = 0, len(arr) - 1\n",
    "    closest_sum = float('inf')\n",
    "    result_pair = None\n",
    "\n",
    "    while left < right:\n",
    "        current_sum = arr[left] + arr[right]\n",
    "        current_diff = abs(current_sum)\n",
    "\n",
    "        if current_diff < closest_sum:\n",
    "            closest_sum = current_diff\n",
    "            result_pair = (arr[left], arr[right])\n",
    "\n",
    "        if current_sum < 0:\n",
    "            left += 1\n",
    "        else:\n",
    "            right -= 1\n",
    "\n",
    "    return result_pair\n",
    "\n",
    "# Example usage:\n",
    "arr = [3, 20, -5, 10, -30, 40]\n",
    "result = closest_sum_pair(arr)\n",
    "print(\"Closest sum pair:\", result)\n"
   ]
  },
  {
   "cell_type": "code",
   "execution_count": 11,
   "id": "21ed50e8-1ee1-448a-95c5-a9a58fcb8bef",
   "metadata": {},
   "outputs": [
    {
     "name": "stdout",
     "output_type": "stream",
     "text": [
      "Triplet with sum 10 : (1, 3, 6)\n"
     ]
    }
   ],
   "source": [
    "#Problem 6 : Given an array of n elements . Find three elements such that their sum is equal to the given number.\n",
    "\n",
    "def find_three_elements_with_sum(arr, target_sum):\n",
    "    arr.sort()\n",
    "    n = len(arr)\n",
    "\n",
    "    for i in range(n - 2):\n",
    "        left, right = i + 1, n - 1\n",
    "\n",
    "        while left < right:\n",
    "            current_sum = arr[i] + arr[left] + arr[right]\n",
    "\n",
    "            if current_sum == target_sum:\n",
    "                # Found a triplet whose sum is equal to target_sum\n",
    "                return arr[i], arr[left], arr[right]\n",
    "            elif current_sum < target_sum:\n",
    "                left += 1\n",
    "            else:\n",
    "                right -= 1\n",
    "\n",
    "    # If no triplet is found\n",
    "    return None\n",
    "\n",
    "# Example usage:\n",
    "arr = [1, 4, 2, 10, 5, 6, 3]\n",
    "target_sum = 10\n",
    "result = find_three_elements_with_sum(arr, target_sum)\n",
    "\n",
    "if result:\n",
    "    print(\"Triplet with sum\", target_sum, \":\", result)\n",
    "else:\n",
    "    print(\"No triplet found with sum\", target_sum)\n"
   ]
  },
  {
   "cell_type": "code",
   "execution_count": 12,
   "id": "19f8ec17-55e3-4c20-994a-00be1c4ab1ef",
   "metadata": {},
   "outputs": [
    {
     "name": "stdout",
     "output_type": "stream",
     "text": [
      "Pythagorean triplet: (3, 4, 5)\n"
     ]
    }
   ],
   "source": [
    "#Problem 7 : Given an array of n elements . Find three elements i, j, k in the array such that i * i + j * j = k*k.\n",
    "\n",
    "\n",
    "def find_pythagorean_triplet(arr):\n",
    "    arr.sort()\n",
    "\n",
    "    n = len(arr)\n",
    "\n",
    "    for k in range(n - 1, 1, -1):\n",
    "        left, right = 0, k - 1\n",
    "\n",
    "        while left < right:\n",
    "            current_sum = arr[left] * arr[left] + arr[right] * arr[right]\n",
    "\n",
    "            if current_sum == arr[k] * arr[k]:\n",
    "                # Found a triplet i, j, k\n",
    "                return arr[left], arr[right], arr[k]\n",
    "            elif current_sum < arr[k] * arr[k]:\n",
    "                left += 1\n",
    "            else:\n",
    "                right -= 1\n",
    "\n",
    "    # If no triplet is found\n",
    "    return None\n",
    "\n",
    "# Example usage:\n",
    "arr = [3, 1, 4, 6, 5]\n",
    "result = find_pythagorean_triplet(arr)\n",
    "\n",
    "if result:\n",
    "    print(\"Pythagorean triplet:\", result)\n",
    "else:\n",
    "    print(\"No Pythagorean triplet found.\")"
   ]
  },
  {
   "cell_type": "code",
   "execution_count": 15,
   "id": "ae7da298-3c98-4d06-9c31-778975a04691",
   "metadata": {},
   "outputs": [
    {
     "name": "stdout",
     "output_type": "stream",
     "text": [
      "Majority element: 2\n"
     ]
    }
   ],
   "source": [
    "#Problem 8 : An element is a majority if it appears more than n/2 times. Give an algorithm takes an array of n element as argument and identifies a majority (if it exists).\n",
    "\n",
    "def find_majority_element(arr):\n",
    "    candidate = None\n",
    "    count = 0\n",
    "\n",
    "    # Step 1: Find the potential majority candidate\n",
    "    for num in arr:\n",
    "        if count == 0:\n",
    "            candidate = num\n",
    "        count += 1 if num == candidate else -1\n",
    "\n",
    "    # Step 2: Verify if the candidate is a majority element\n",
    "    count = 0\n",
    "    for num in arr:\n",
    "        if num == candidate:\n",
    "            count += 1\n",
    "\n",
    "    if count > len(arr) // 2:\n",
    "        return candidate\n",
    "    else:\n",
    "        return None\n",
    "\n",
    "# Example usage: # \"2\"element appears more than half the time\n",
    "arr = [2, 2, 1, 1, 2, 2, 2, 2, 3, 3, 3]\n",
    "result = find_majority_element(arr)\n",
    "\n",
    "if result is not None:\n",
    "    print(\"Majority element:\", result)\n",
    "else:\n",
    "    print(\"No majority element found.\")\n"
   ]
  },
  {
   "cell_type": "code",
   "execution_count": 17,
   "id": "937adde3-e33d-4b76-9b8f-cf6acb6418e9",
   "metadata": {},
   "outputs": [
    {
     "name": "stdout",
     "output_type": "stream",
     "text": [
      "Row with the maximum number of 0's: 4\n"
     ]
    }
   ],
   "source": [
    "#Problem 9 : Given n × n matrix, and in each row all 1’s are followed by 0’s. Find the row with the maximum number of 0’s.\n",
    "\n",
    "\n",
    "def binary_search_for_zeros(row):\n",
    "    low, high = 0, len(row) - 1\n",
    "\n",
    "    while low <= high:\n",
    "        mid = (low + high) // 2\n",
    "\n",
    "        if row[mid] == 0:\n",
    "            high = mid - 1\n",
    "        else:\n",
    "            low = mid + 1\n",
    "\n",
    "    return len(row) - low\n",
    "\n",
    "def find_row_with_max_zeros(matrix):\n",
    "    if not matrix or not matrix[0]:\n",
    "        return -1  # No rows in the matrix\n",
    "\n",
    "    n = len(matrix)\n",
    "    max_zeros_row = -1\n",
    "    max_zeros_count = -1\n",
    "\n",
    "    for i in range(n):\n",
    "        zeros_count = binary_search_for_zeros(matrix[i])\n",
    "\n",
    "        if zeros_count > max_zeros_count:\n",
    "            max_zeros_count = zeros_count\n",
    "            max_zeros_row = i\n",
    "\n",
    "    return max_zeros_row\n",
    "\n",
    "# Example usage:\n",
    "matrix = [\n",
    "    [1, 1, 1, 0, 0],\n",
    "    [1, 1, 0, 0, 0],\n",
    "    [1, 1, 1, 1, 0],\n",
    "    [1, 1, 0, 0, 0],\n",
    "    [1, 0, 0, 0, 0]\n",
    "]\n",
    "\n",
    "result = find_row_with_max_zeros(matrix)\n",
    "\n",
    "if result != -1:\n",
    "    print(\"Row with the maximum number of 0's:\", result)\n",
    "else:\n",
    "    print(\"Matrix is empty.\")"
   ]
  },
  {
   "cell_type": "code",
   "execution_count": 19,
   "id": "3af48068-3e92-4f49-a41d-1d82650e2bd2",
   "metadata": {},
   "outputs": [
    {
     "name": "stdout",
     "output_type": "stream",
     "text": [
      "Sorted array: [0, 0, 0, 0, 0, 1, 1, 1, 1, 1, 2, 2, 2]\n"
     ]
    }
   ],
   "source": [
    "#Problem 10 : Sort an array of 0’s, 1’s and 2’s [or R’s, G’s and B’s]: Given an array A[] consisting of 0’s, 1’s and 2’s, give an algorithm for sorting A[].The algorithm should put all 0’s first, then all 1’s and finally all 2’s at the  end. Example Input = {0,1,1,0,1,2,1,2,0,0,0,1}, Output = {0,0,0,0,0,1,1,1,1,1,2,2}\n",
    "\n",
    "\n",
    "def sort_nums(arr):\n",
    "    low, mid, high = 0, 0, len(arr) - 1\n",
    "\n",
    "    while mid <= high:\n",
    "        if arr[mid] == 0:\n",
    "            arr[low], arr[mid] = arr[mid], arr[low]\n",
    "            low += 1\n",
    "            mid += 1\n",
    "        elif arr[mid] == 1:\n",
    "            mid += 1\n",
    "        else:\n",
    "            arr[mid], arr[high] = arr[high], arr[mid]\n",
    "            high -= 1\n",
    "\n",
    "# Example usage:\n",
    "arr = [0, 1, 1, 0, 1, 2, 1, 2, 0, 0, 0, 1,2]\n",
    "sort_nums(arr)\n",
    "print(\"Sorted array:\", arr)"
   ]
  },
  {
   "cell_type": "code",
   "execution_count": 1,
   "id": "20425a7c-6a10-491e-b647-c8013512ff56",
   "metadata": {},
   "outputs": [
    {
     "name": "stdout",
     "output_type": "stream",
     "text": [
      "[[7, 2, 1], [4, 5, 6], [9, 8, 3]]\n",
      "[[7, 4, 1], [8, 5, 2], [9, 6, 3]]\n",
      "[[7, 4, 1], [8, 5, 2], [9, 6, 3]]\n"
     ]
    }
   ],
   "source": [
    "def rotate(matrix, n):\n",
    "  circle = 0\n",
    "  i,j=0,0 #This indicates the first element\n",
    "  while(circle< n/2):\n",
    "    no_elements_tobe_rotated = n-2*circle-1\n",
    "\n",
    "    elements_rotated = 0\n",
    "    while(elements_rotated < no_elements_tobe_rotated) :\n",
    "      #Logic to rotate the elements\n",
    "      temp =matrix[i][j+elements_rotated]\n",
    "      matrix[i][j+elements_rotated] = matrix[i+no_elements_tobe_rotated - elements_rotated][j]\n",
    "      matrix[i+no_elements_tobe_rotated - elements_rotated][j] = matrix[i+no_elements_tobe_rotated][j+no_elements_tobe_rotated- elements_rotated]\n",
    "      matrix[i+no_elements_tobe_rotated][j+no_elements_tobe_rotated - elements_rotated] = matrix[i+ elements_rotated][j+no_elements_tobe_rotated]\n",
    "      matrix[i+elements_rotated][j+no_elements_tobe_rotated] = temp\n",
    "      print(matrix)\n",
    "      elements_rotated +=1\n",
    "\n",
    "    i +=1\n",
    "    j +=1\n",
    "    circle +=1\n",
    "\n",
    "matrix = [[1,2,3],[4,5,6],[7,8,9]]\n",
    "rotate(matrix,3)\n",
    "print(matrix)"
   ]
  },
  {
   "cell_type": "code",
   "execution_count": 2,
   "id": "f3fb789f-ed45-4c67-8ada-34e49af75f4b",
   "metadata": {},
   "outputs": [
    {
     "name": "stdout",
     "output_type": "stream",
     "text": [
      "1.1102230246251565e-16\n"
     ]
    }
   ],
   "source": [
    "print(0.9 -0.3*3)"
   ]
  },
  {
   "cell_type": "code",
   "execution_count": 3,
   "id": "bf5867d6-7a18-4832-90df-7793d15f8f35",
   "metadata": {},
   "outputs": [
    {
     "name": "stdout",
     "output_type": "stream",
     "text": [
      "[1, 1, 3, 4, 6, 7, 8]\n"
     ]
    }
   ],
   "source": [
    "def count_sort(input_arr):\n",
    "\n",
    "  M = max(input_arr)\n",
    "\n",
    "  #Create a new list of the size M+1\n",
    "  count_arr = [0]*(M+1)\n",
    "\n",
    "  for num in input_arr :\n",
    "    count_arr[num] += 1\n",
    "\n",
    "  # We need to find the prefix sum\n",
    "  for i in range(1, M+1):\n",
    "    count_arr[i] +=count_arr[i-1]\n",
    "\n",
    "  #Create a final output array\n",
    "  out_arr = [0]*len(input_arr)\n",
    "\n",
    "  for i in range(len(input_arr)-1, -1, -1):\n",
    "    out_arr[count_arr[input_arr[i]]-1] = input_arr[i]\n",
    "    count_arr[input_arr[i]] -=1\n",
    "\n",
    "  return out_arr\n",
    "\n",
    "\n",
    "print(count_sort([4,3,1,1,7,8,6]))"
   ]
  },
  {
   "cell_type": "code",
   "execution_count": null,
   "id": "175d0be3-377f-4496-bb75-3948670522e5",
   "metadata": {},
   "outputs": [],
   "source": []
  }
 ],
 "metadata": {
  "kernelspec": {
   "display_name": "Python 3 (ipykernel)",
   "language": "python",
   "name": "python3"
  },
  "language_info": {
   "codemirror_mode": {
    "name": "ipython",
    "version": 3
   },
   "file_extension": ".py",
   "mimetype": "text/x-python",
   "name": "python",
   "nbconvert_exporter": "python",
   "pygments_lexer": "ipython3",
   "version": "3.10.8"
  }
 },
 "nbformat": 4,
 "nbformat_minor": 5
}
