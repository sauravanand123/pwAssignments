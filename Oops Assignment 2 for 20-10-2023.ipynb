{
 "cells": [
  {
   "cell_type": "code",
   "execution_count": 5,
   "id": "bf664b20-67a6-4107-9015-21d75e78110e",
   "metadata": {},
   "outputs": [],
   "source": [
    "#Constructor : \n",
    "\n",
    "\n",
    "#1. What is a constructor in Python? Explain its purpose and usage.\n",
    "\n",
    "\n",
    "#In Python, a constructor is a special method used to initialize the attributes of an object when it is created. Constructors are defined within a class and are called automatically when an object of the class is instantiated. The most commonly used constructor in Python is the __init__ method.\n",
    "\n",
    "#Basic explanation of constructors and their purpose:\n",
    "\n",
    "#Purpose of Constructors: Constructors are used to set up the initial state of an object by initializing its attributes or performing any setup tasks. hey allow you to ensure that an object is in a valid and consistent state from the moment it is created. onstructors provide a way to pass initial values to an object when it is created.\n",
    "\n",
    "#Usage:To define a constructor in Python, you create a special method named __init__ within a class. This method takes at least one argument, usually named self, which refers to the instance of the object being created. You can also include additional arguments to initialize the object's attributes.\n",
    "\n",
    "\n"
   ]
  },
  {
   "cell_type": "code",
   "execution_count": 4,
   "id": "90e8ede3-b924-4467-8373-f50d35fac173",
   "metadata": {},
   "outputs": [],
   "source": [
    "#2. Differentiate between a parameterless constructor and a parameterized constructor in Python.\n",
    "\n",
    "#Parameterless Constructor:\n",
    "\n",
    "#A parameterless constructor, also known as a default constructor, is a constructor that takes no arguments (parameters) other than self. Its primary purpose is to initialize the object's attributes with default values, typically hard-coded within the constructor. If you don't provide a custom constructor in your class, Python will automatically create a parameterless constructor for you, and it will not require any arguments to instantiate an object. Here's an example of a parameterless constructor:\n",
    "#Here's an example of a parameterless constructor:\n",
    "\n",
    "#in this example, the Car class has a parameterless constructor that sets default values for the make, model, and year attributes.\n",
    "\n",
    "class Car:\n",
    "    def __init__(self):\n",
    "        self.make = \"Unknown\"\n",
    "        self.model = \"Unknown\"\n",
    "        self.year = 2023\n",
    "\n",
    "        \n",
    "#Parameterized Constructor:\n",
    "\n",
    "#A parameterized constructor, also known as a custom constructor, is a constructor that accepts one or more arguments (in addition to self) when creating an object. Its purpose is to allow you to provide specific initial values for the object's attributes when you instantiate an object. You define the parameterized constructor to take the desired arguments and use those arguments to set the object's attributes. \n",
    "\n",
    "#Here's an example of a parameterized constructor:\n",
    "\n",
    "class Book:\n",
    "    def __init__(self, title, author, year):\n",
    "        self.title = title\n",
    "        self.author = author\n",
    "        self.year = year\n",
    "        \n",
    "#in this example, the Book class has a parameterized constructor that takes title, author, and year as arguments, allowing you to specify these values when creating a Book object.\n",
    "\n",
    "#In summary, the key difference between parameterless and parameterized constructors in Python is whether or not they accept arguments when creating an object. Parameterless constructors are used when default values are sufficient, while parameterized constructors are used to provide custom initial values for object attributes."
   ]
  },
  {
   "cell_type": "code",
   "execution_count": 8,
   "id": "5461eb9b-d807-4592-92bd-ca925bef235a",
   "metadata": {},
   "outputs": [
    {
     "name": "stdout",
     "output_type": "stream",
     "text": [
      "The Great Gatsby by F. Scott Fitzgerald\n",
      "To Kill a Mockingbird by Harper Lee\n"
     ]
    }
   ],
   "source": [
    "#3. How do you define a constructor in a Python class? Provide an example.\n",
    "\n",
    "#A constructor is defined using a special method called __init__. This method is automatically called when an object of the class is created. You can define the constructor within the class to initialize the object's attributes or perform any setup tasks.\n",
    "\n",
    "#Here's how you define a constructor in a Python class:\n",
    "\n",
    "\n",
    "\n",
    "class Book:\n",
    "    def __init__(self, title, author):\n",
    "        self.title = title\n",
    "        self.author = author\n",
    "\n",
    "# Creating instances of the Book class\n",
    "book1 = Book(\"The Great Gatsby\", \"F. Scott Fitzgerald\")\n",
    "book2 = Book(\"To Kill a Mockingbird\", \"Harper Lee\")\n",
    "\n",
    "# Accessing object attributes\n",
    "print(book1.title, \"by\", book1.author)\n",
    "print(book2.title, \"by\", book2.author)\n",
    "\n",
    "\n",
    "#In this example the Book class has an __init__ method that takes title and author as arguments to initialize the book's attributes. We then create instances of the Book class and access the attributes."
   ]
  },
  {
   "cell_type": "code",
   "execution_count": 7,
   "id": "90e0203a-2abb-4e39-a7fa-ae7c65990676",
   "metadata": {},
   "outputs": [],
   "source": [
    "#4. Explain the `__init__` method in Python and its role in constructors\n",
    "\n",
    "#The __init__ method in Python is a special method, also known as a dunder (double underscore) method or a magic method. It plays a crucial role in constructors, as it is automatically called when you create an instance of a class. Its primary purpose is to initialize the attributes or properties of an object. In other words, the __init__ method sets the initial state of an object when it is created.\n",
    "\n",
    "#The __init__ method is responsible for initializing the attributes or properties of an object by assigning values to them. These values can be passed as arguments when creating an object.\n",
    "\n",
    "#When you create an instance of a class by calling the class's name, Python automatically calls the __init__ method associated with that class. This means you don't need to explicitly call __init when creating objects; it happens automatically.\n",
    "\n",
    "#The __init__ method always takes self as its first parameter, which refers to the instance of the object being created. You use self to access and manipulate the object's attributes within the method."
   ]
  },
  {
   "cell_type": "code",
   "execution_count": 9,
   "id": "56deb2a9-b095-4940-9500-d7424e7d465d",
   "metadata": {},
   "outputs": [
    {
     "name": "stdout",
     "output_type": "stream",
     "text": [
      "Sam\n",
      "30\n"
     ]
    }
   ],
   "source": [
    "#5. In a class named `Person`, create a constructor that initializes the `name` and `age` attributes. Provide an example of creating an object of this class.\n",
    "\n",
    "class Person:\n",
    "    def __init__(self, name, age):\n",
    "        self.name = name\n",
    "        self.age = age\n",
    "\n",
    "# Creating an instance of the Person class\n",
    "person1 = Person(\"Sam\", 30)\n",
    "\n",
    "# Accessing object attributes\n",
    "print(person1.name) \n",
    "print(person1.age)   "
   ]
  },
  {
   "cell_type": "code",
   "execution_count": 17,
   "id": "438d3761-ccb3-41b0-9528-3ca7b39a3738",
   "metadata": {},
   "outputs": [
    {
     "name": "stdout",
     "output_type": "stream",
     "text": [
      "Nirma School\n",
      "Cityville\n"
     ]
    }
   ],
   "source": [
    "#How can you call a constructor explicitly in Python? Give an example.\n",
    "\n",
    "#In Python, constructors are typically called automatically when you create an instance of a class. However, if you want to call a constructor explicitly, you can do so by using the class name and the __init__ method, just like any other method. This can be useful in certain advanced scenarios, but it's not a common practice.\n",
    "\n",
    "#Here's an example using a School class where we explicitly call the constructor:\n",
    "\n",
    "\n",
    "class School:\n",
    "    def __init__(self, name, location):\n",
    "        self.name = name\n",
    "        self.location = location\n",
    "\n",
    "# Explicitly calling the constructor to create an instance\n",
    "\n",
    "\n",
    "school1 = School(\"Nirma School\", \"Ahmedabad\")\n",
    "\n",
    "# Accessing object attributes\n",
    "\n",
    "print(school1.name)       \n",
    "print(school1.location)   \n",
    "\n"
   ]
  },
  {
   "cell_type": "code",
   "execution_count": null,
   "id": "5ba7f43c-2ba9-45fe-a798-c83b78fa4ee1",
   "metadata": {},
   "outputs": [],
   "source": [
    "#7. What is the significance of the `self` parameter in Python constructors? Explain with an example.\n",
    "\n",
    "#The self parameter in constructors is a reference to the instance of the class. It is a convention that allows you to work with instance-specific attributes and methods. The self parameter is crucial because it distinguishes instance variables from local variables and makes it possible to initialize and manipulate object attributes during object creation. Here's a simple example to illustrate its significance:\n",
    "\n",
    "\n",
    "\n",
    "class Dog:\n",
    "    def __init__(self, name, breed):\n",
    "        self.name = name\n",
    "        self.breed = breed\n",
    "\n",
    "    def bark(self):\n",
    "        print(f\"{self.name} the {self.breed} is barking!\")\n",
    "\n",
    "# Creating instances of the Dog class\n",
    "dog1 = Dog(\"Buddy\", \"Golden Retriever\")\n",
    "dog2 = Dog(\"Rocky\", \"German Shepherd\")\n",
    "\n",
    "# Accessing attributes and calling methods using self\n",
    "print(f\"{dog1.name} is a {dog1.breed}.\")\n",
    "dog1.bark()\n",
    "\n",
    "print(f\"{dog2.name} is a {dog2.breed}.\")\n",
    "dog2.bark()\n",
    "\n",
    "\n",
    "#(f\"{dog2.name} is a {dog2.breed}.\")\n",
    "dog2.bark()\n",
    "\n",
    "#In this example:\n",
    "\n",
    "#We define a Dog class with a constructor __init__. The self parameter is used to represent the instance being created. Inside the constructor, we use self.name and self.breed to set the instance-specific attributes.\n",
    "\n",
    "#We create two instances of the Dog class, dog1 and dog2. When we pass arguments to the constructor (e.g., Dog(\"Buddy\", \"Golden Retriever\")), Python assigns those values to the self parameter for the respective instance.\n",
    "\n",
    "#We access the attributes and call the bark method using the self parameter. For instance, dog1.name and dog1.breed refer to the attributes of dog1, and dog1.bark() calls the bark method for dog1.\n",
    "\n",
    "#Without the self parameter, you wouldn't be able to distinguish between different instances of the same class or access their specific attributes and methods. The self parameter is fundamental in object-oriented programming in Python, allowing you to work with the unique properties and behaviors of each instance."
   ]
  },
  {
   "cell_type": "code",
   "execution_count": 2,
   "id": "e7a44676-a496-4dc7-a42f-520fd5f08391",
   "metadata": {},
   "outputs": [
    {
     "name": "stdout",
     "output_type": "stream",
     "text": [
      "Hello, Alice!\n"
     ]
    }
   ],
   "source": [
    "\n",
    "\n",
    "#8. Discuss the concept of default constructors in Python. When are they used?\n",
    "\n",
    "#The concept of \"defaults\" usually refers to default values assigned to function parameters. Default values are used when you call a function without providing a value for a particular parameter. They are a way to make function arguments optional, providing a default value if the caller does not specify one.\n",
    "\n",
    "#Default values allow you to make certain function arguments optional, meaning that callers can omit them, and the function will use the default value as a fallback.\n",
    "\n",
    "#Default values can help prevent errors or exceptions when a function expects certain inputs but might not receive them. If a parameter has a default value, the function can proceed even if the caller doesn't provide that argument.\n",
    "\n",
    "\n",
    "#In this example, the greet function has a single parameter, name, and a default value of \"Hello\" for the greeting parameter. When you call the function without specifying the greeting argument (e.g., greet(\"Alice\")), it uses the default value \"Hello\" for the greeting. If you provide a value for greeting, it will override the default, as shown in the previous response.\n",
    "\n",
    "def greet(name, greeting=\"Hello\"):\n",
    "    print(f\"{greeting}, {name}!\")\n",
    "\n",
    "# Using the function without providing the \"greeting\" parameter\n",
    "greet(\"Alice\")  # Uses the default greeting \"Hello\""
   ]
  },
  {
   "cell_type": "code",
   "execution_count": 3,
   "id": "8d328458-fd55-4f4f-9e6d-60c0f0c378c8",
   "metadata": {},
   "outputs": [
    {
     "name": "stdout",
     "output_type": "stream",
     "text": [
      "The area of the rectangle is 40 square units.\n"
     ]
    }
   ],
   "source": [
    "#9. Create a Python class called `Rectangle` with a constructor that initializes the `width` and `height`attributes. Provide a method to calculate the area of the rectangle.\n",
    "\n",
    "class Rectangle:\n",
    "    def __init__(self, width, height):\n",
    "        self.width = width\n",
    "        self.height = height\n",
    "\n",
    "    def calculate_area(self):\n",
    "        return self.width * self.height\n",
    "\n",
    "# Creating an instance of the Rectangle class\n",
    "rectangle = Rectangle(5, 8)\n",
    "\n",
    "# Calculating and printing the area of the rectangle\n",
    "area = rectangle.calculate_area()\n",
    "print(f\"The area of the rectangle is {area} square units.\")"
   ]
  },
  {
   "cell_type": "code",
   "execution_count": 5,
   "id": "f8377ca5-6438-44fb-b63f-13719e2e6484",
   "metadata": {},
   "outputs": [
    {
     "name": "stdout",
     "output_type": "stream",
     "text": [
      "Person 1: Name = None, Age = None\n",
      "Person 2: Name = Amar, Age = None\n",
      "Person 3: Name = None, Age = 30\n",
      "Person 4: Name = Akbar, Age = 25\n",
      "Person 5: Name = Anthony, Age = None\n",
      "Person 6: Name = None, Age = 40\n",
      "Person 7: Name = Jaadu, Age = 22\n"
     ]
    }
   ],
   "source": [
    "#10. How can you have multiple constructors in a Python class? Explain with an example.\n",
    "\n",
    "#We cannot have multiple constructors in the same way you might have in some other programming languages. However, you can achieve similar behavior by using default arguments and method overloading. This allows you to create a class with multiple ways to initialize its objects.\n",
    "\n",
    "\n",
    "class Person:\n",
    "    def __init__(self, name=None, age=None):\n",
    "        self.name = name\n",
    "        self.age = age\n",
    "\n",
    "    @classmethod\n",
    "    def create_person_with_name(cls, name):\n",
    "        return cls(name=name)\n",
    "\n",
    "    @classmethod\n",
    "    def create_person_with_age(cls, age):\n",
    "        return cls(age=age)\n",
    "\n",
    "    @classmethod\n",
    "    def create_person_with_name_and_age(cls, name, age):\n",
    "        return cls(name=name, age=age)\n",
    "\n",
    "    \n",
    "#The Person class has a default constructor __init__, which takes optional name and age arguments to initialize the object.\n",
    "#It also provides three class methods: create_person_with_name, create_person_with_age, and create_person_with_name_and_age. These class methods allow you to create instances of the Person class with different sets of parameters, simulating the concept of multiple \"constructors.\"\n",
    "#We create instances of the Person class using various approaches:\n",
    "#person3 and person4 are created with either a name or an age, and the other attribute is set to None.\n",
    "#Person5, person6, and person7 are created using the class methods to set their attributes based on different combinations of name and age.\n",
    "    \n",
    "# Creating instances of the Person class using different \"constructors\"\n",
    "person1 = Person()                            # No arguments, name and age are None\n",
    "person2 = Person(\"Amar\")                     # Provide only a name, age is None\n",
    "person3 = Person(age=30)                      # Provide only an age, name is None\n",
    "person4 = Person(\"Akbar\", 25)                   # Provide both name and age\n",
    "person5 = Person.create_person_with_name(\"Anthony\")  # Using a class method to create with a name\n",
    "person6 = Person.create_person_with_age(40)       # Using a class method to create with an age\n",
    "person7 = Person.create_person_with_name_and_age(\"Jaadu\", 22)  # Using a class method to create with both\n",
    "\n",
    "# Printing the attributes of the persons\n",
    "print(f\"Person 1: Name = {person1.name}, Age = {person1.age}\")\n",
    "print(f\"Person 2: Name = {person2.name}, Age = {person2.age}\")\n",
    "print(f\"Person 3: Name = {person3.name}, Age = {person3.age}\")\n",
    "print(f\"Person 4: Name = {person4.name}, Age = {person4.age}\")\n",
    "print(f\"Person 5: Name = {person5.name}, Age = {person5.age}\")\n",
    "print(f\"Person 6: Name = {person6.name}, Age = {person6.age}\")\n",
    "print(f\"Person 7: Name = {person7.name}, Age = {person7.age}\")\n",
    "\n",
    "\n",
    "\n"
   ]
  },
  {
   "cell_type": "code",
   "execution_count": 6,
   "id": "f99318b8-604d-4143-9a21-d45aa0544307",
   "metadata": {},
   "outputs": [],
   "source": [
    "#11. What is method overloading, and how is it related to constructors in Python?\n",
    "\n",
    "#Method overloading is a concept in object-oriented programming where multiple methods in a class have the same name but different parameter lists. The method that gets called is determined by the number and types of arguments passed during the method call. In Python, method overloading is not supported in the same way as in some other languages like Java or C++. Python allows you to define multiple methods with the same name in a class, but only the latest defined method with that name will be used, essentially overwriting the previous one.\n",
    "\n",
    "#However, you can achieve method overloading in Python by using default arguments and conditionally handling different argument sets within a single method. This technique is often used with constructors to provide different ways to create instances of a class, simulating method overloading.\n",
    "\n",
    "#So method overloading is the concept of having multiple methods with the same name but different parameters, while in Python, you can simulate method overloading for constructors by using default arguments and conditional logic to handle different argument sets within a single constructor method."
   ]
  },
  {
   "cell_type": "code",
   "execution_count": 8,
   "id": "5d18ce58-0ee5-45dc-bfd1-55e47f5565d4",
   "metadata": {},
   "outputs": [],
   "source": [
    "#Explain the use of the `super()` function in Python constructors. Provide an example.\n",
    "\n",
    "#the super() function is used to call a method from a parent class (or superclass) within a child class. This is often used in constructors to ensure that the initialization code from the parent class is executed before the child class adds its own specific initialization. It allows you to build on the behavior of the parent class and avoid code duplication.\n",
    "\n",
    "#Example:\n",
    "    \n",
    "class Animal:\n",
    "    def __init__(self, breed):\n",
    "        self.breed = breed\n",
    "\n",
    "    def breed_name(self):\n",
    "        print(self.breed)\n",
    "\n",
    "class Dog(Animal):\n",
    "    def __init__(self, breed, name):\n",
    "        super().__init__(breed)  # Call the constructor of the parent class\n",
    "        self.name = name\n",
    "\n",
    "    def speak(self):\n",
    "        super().breed_name()\n",
    "        print(self.breed, self.name)"
   ]
  },
  {
   "cell_type": "code",
   "execution_count": 11,
   "id": "6cc7e910-3dc1-4127-9b02-bac3399bbb00",
   "metadata": {},
   "outputs": [],
   "source": [
    "dog = Dog(\"Golden Retriever\", \"JoJo\")"
   ]
  },
  {
   "cell_type": "code",
   "execution_count": 12,
   "id": "bbe111ce-4639-488d-8aed-28013ca5550f",
   "metadata": {},
   "outputs": [
    {
     "name": "stdout",
     "output_type": "stream",
     "text": [
      "Golden Retriever\n",
      "Golden Retriever JoJo\n"
     ]
    }
   ],
   "source": [
    "dog.speak()"
   ]
  },
  {
   "cell_type": "code",
   "execution_count": 21,
   "id": "34b58180-148b-4a27-91b3-bc43d32408ae",
   "metadata": {},
   "outputs": [
    {
     "name": "stdout",
     "output_type": "stream",
     "text": [
      "Title: The Firm\n",
      "Author: Jhon Grisham\n",
      "Published Year: 2002\n",
      "Title: The Firm\n",
      "Author: Jhon Grisham\n",
      "Published Year: 2002\n"
     ]
    }
   ],
   "source": [
    "#13. Create a class called `Book` with a constructor that initializes the `title`, `author`, and `published_year` attributes. Provide a method to display book details.\n",
    "\n",
    "\n",
    "class Book:\n",
    "    def __init__(self, title, author, published_year):\n",
    "        self.title = title\n",
    "        self.author = author\n",
    "        self.published_year = published_year\n",
    "\n",
    "    def display_details(self):\n",
    "        print(f\"Title: {self.title}\")\n",
    "        print(f\"Author: {self.author}\")\n",
    "        print(f\"Published Year: {self.published_year}\")\n",
    "\n",
    "# Creating an instance of the Book class\n",
    "book1 = Book(\"The Firm\", \"Jhon Grisham\", 2002)\n",
    "\n",
    "# Displaying book details\n",
    "book1.display_details()\n",
    "\n",
    "class Book:\n",
    "    def __init__(self, title, author, published_year):\n",
    "        self.title = title\n",
    "        self.author = author\n",
    "        self.published_year = published_year\n",
    "\n",
    "    def display_details(self):\n",
    "        print(f\"Title: {self.title}\")\n",
    "        print(f\"Author: {self.author}\")\n",
    "        print(f\"Published Year: {self.published_year}\")\n",
    "\n",
    "# Creating an instance of the Book class\n",
    "book1 = Book(\"The Firm\", \"Jhon Grisham\", 2002)\n",
    "\n",
    "# Displaying book details\n",
    "book1.display_details()\n"
   ]
  },
  {
   "cell_type": "code",
   "execution_count": null,
   "id": "99236a46-7d42-49b7-ab8c-8a5bc68cf63b",
   "metadata": {},
   "outputs": [
    {
     "ename": "SyntaxError",
     "evalue": "invalid syntax (290736525.py, line 7)",
     "output_type": "error",
     "traceback": [
      "\u001b[0;36m  Cell \u001b[0;32mIn[20], line 7\u001b[0;36m\u001b[0m\n\u001b[0;31m    Constructors initialize objects and are called automatically when an instance is created.\u001b[0m\n\u001b[0m                 ^\u001b[0m\n\u001b[0;31mSyntaxError\u001b[0m\u001b[0;31m:\u001b[0m invalid syntax\n"
     ]
    }
   ],
   "source": [
    "#14. Discuss the differences between constructors and regular methods in Python classes.\n",
    "\n",
    "#The key differences between constructors and regular methods in Python classes are:\n",
    "\n",
    "#Purpose:\n",
    "\n",
    "Constructors initialize objects and are called automatically when an instance is created.\n",
    "Regular methods define the behavior or actions of objects and are invoked explicitly.\n",
    "\n",
    "#Name:\n",
    "\n",
    "Constructors have a fixed name, __init()__.\n",
    "Regular methods can have any name.\n",
    "\n",
    "#Invocation:\n",
    "\n",
    "Constructors are automatically invoked on object creation.\n",
    "Regular methods must be explicitly called.\n",
    "\n",
    "#Return Value:\n",
    "\n",
    "Constructors do not return a value explicitly.\n",
    "Regular methods can return values or perform actions.\n",
    "\n",
    "#Arguments:\n",
    "\n",
    "Constructors always have the self parameter and may have additional parameters.\n",
    "Regular methods can have any number of parameters, including the self parameter.\n",
    "\n",
    "#Number of Instances:\n",
    "\n",
    "Constructors are executed once for each instance during object creation.\n",
    "Regular methods can be called multiple times on the same or different instances"
   ]
  },
  {
   "cell_type": "code",
   "execution_count": 22,
   "id": "fc2d6f01-a90d-4ea4-a996-557c40d14c07",
   "metadata": {},
   "outputs": [],
   "source": [
    "#15. Explain the role of the `self` parameter in instance variable initialization within a constructor.\n",
    "\n",
    "#The self parameter in a constructor (typically named __init__) is used to reference the instance being created. It plays a crucial role in initializing and accessing instance-specific attributes within the class, ensuring that each instance has its own set of attributes and encapsulating the object's data.\n",
    "\n"
   ]
  },
  {
   "cell_type": "code",
   "execution_count": 23,
   "id": "3c76bd41-9cdf-4558-8141-7b1fcca8eb45",
   "metadata": {},
   "outputs": [
    {
     "name": "stdout",
     "output_type": "stream",
     "text": [
      "True\n"
     ]
    }
   ],
   "source": [
    "#16. How do you prevent a class from having multiple instances by using constructors in Python? Provide anexample.\n",
    "\n",
    "#In Python, you can prevent a class from having multiple instances by implementing a Singleton pattern. The Singleton pattern ensures that a class has only one instance, and if an instance already exists, it returns that instance instead of creating a new one. This can be achieved by maintaining a class variable that holds the single instance and overriding the constructor to check if an instance already exists.\n",
    "\n",
    "#Example of how to create a Singleton class in Python:\n",
    "\n",
    "\n",
    "class Singleton:\n",
    "    _instance = None\n",
    "\n",
    "    def __new__(cls):\n",
    "        if cls._instance is None:\n",
    "            cls._instance = super(Singleton, cls).__new__(cls)\n",
    "        return cls._instance\n",
    "\n",
    "# Creating instances of the Singleton class\n",
    "database_connection = Singleton()\n",
    "file_system = Singleton()\n",
    "\n",
    "# Checking if both instances are the same\n",
    "print(database_connection is file_system)  # This should print True\n"
   ]
  },
  {
   "cell_type": "code",
   "execution_count": 29,
   "id": "65d6c5a3-837d-4329-a603-ce73e80ba8f1",
   "metadata": {},
   "outputs": [
    {
     "data": {
      "text/plain": [
       "['Maths', 'Science', 'History', 'English']"
      ]
     },
     "execution_count": 29,
     "metadata": {},
     "output_type": "execute_result"
    }
   ],
   "source": [
    "#17. Create a Python class called `Student` with a constructor that takes a list of subjects as a parameter andinitializes the `subjects` attribute.\n",
    "\n",
    "\n",
    "class Student:\n",
    "    def __init__(self, subjects):\n",
    "        self.subjects = subjects\n",
    "\n",
    "# Creating an instance of the Student class with a list of subjects\n",
    "student1 = Student([\"Maths\", \"Science\", \"History\", \"English\"])\n",
    "\n",
    "# Accessing the subjects attribute\n",
    "student1.subjects\n",
    "#print(\"Subjects for student1:\", student1.subjects)"
   ]
  },
  {
   "cell_type": "code",
   "execution_count": 30,
   "id": "ac804cf1-4ba5-4552-9f9f-107f747a7aff",
   "metadata": {},
   "outputs": [
    {
     "name": "stdout",
     "output_type": "stream",
     "text": [
      "Object created\n",
      "Object destroyed\n"
     ]
    }
   ],
   "source": [
    "#18. What is the purpose of the `__del__` method in Python classes, and how does it relate to constructors?\n",
    "\n",
    "#The __del__ method in Python is used to define the destruction or cleanup behavior for objects when they are no longer needed. It is called when an object is about to be destroyed and deallocated from memory, typically during the garbage collection process. The primary purpose of the __del__ method is to perform any necessary cleanup actions, such as releasing resources like files or network connections, before an object is removed from memory.\n",
    "\n",
    "#The __del__ method is related to constructors (__init__) in the sense that it defines the final steps in the object's lifecycle, complementing the initialization process. Constructors set up an object's initial state, while the __del__ method handles its cleanup and finalization. Together, they define the full lifecycle of an object in Python.\n",
    "\n",
    "#Here's an example of the __del__ method in a Python class:\n",
    "\n",
    "\n",
    "class MyClass:\n",
    "    def __init__(self):\n",
    "        print(\"Object created\")\n",
    "\n",
    "    def __del__(self):\n",
    "        print(\"Object destroyed\")\n",
    "\n",
    "# Create an instance of the class\n",
    "obj = MyClass()\n",
    "\n",
    "# Delete the instance, triggering the __del__ method\n",
    "del obj\n",
    "\n"
   ]
  },
  {
   "cell_type": "code",
   "execution_count": 32,
   "id": "0b757755-4778-4779-950d-0f8a29096ded",
   "metadata": {},
   "outputs": [
    {
     "name": "stdout",
     "output_type": "stream",
     "text": [
      "2023 Toyota Camry\n"
     ]
    }
   ],
   "source": [
    "#19. Explain the use of constructor chaining in Python. Provide a practical example.\n",
    "\n",
    "#constructor chaining in Python allows one constructor to call another constructor in the same class or in its parent class using super(). This helps reusing initialization code and ensuring a consistent sequence of actions when creating instances in a class hierarchy.\n",
    "\n",
    "class Vehicle:\n",
    "    def __init__(self, make, model):\n",
    "        self.make = make\n",
    "        self.model = model\n",
    "\n",
    "class Car(Vehicle):\n",
    "    def __init__(self, make, model, year):\n",
    "        super().__init__(make, model)  # Call the parent class constructor\n",
    "        self.year = year\n",
    "\n",
    "    def get_description(self):\n",
    "        return f\"{self.year} {self.make} {self.model}\"\n",
    "\n",
    "# Creating an instance of the Car class\n",
    "car = Car(\"Toyota\", \"Camry\", 2023)\n",
    "\n",
    "# Accessing and displaying the car's description\n",
    "\n",
    "class Vehicle:\n",
    "    def __init__(self, make, model):\n",
    "        self.make = make\n",
    "        self.model = model\n",
    "\n",
    "class Car(Vehicle):\n",
    "    def __init__(self, make, model, year):\n",
    "        super().__init__(make, model)  # Call the parent class constructor\n",
    "        self.year = year\n",
    "\n",
    "    def get_description(self):\n",
    "        return f\"{self.year} {self.make} {self.model}\"\n",
    "\n",
    "# Creating an instance of the Car class\n",
    "car = Car(\"Toyota\", \"Camry\", 2023)\n",
    "\n",
    "# Accessing and displaying the car's description\n",
    "print(car.get_description())"
   ]
  },
  {
   "cell_type": "code",
   "execution_count": 38,
   "id": "e89977c0-c1eb-4f2f-985d-b42ae5475656",
   "metadata": {},
   "outputs": [
    {
     "name": "stdout",
     "output_type": "stream",
     "text": [
      "Car Make: BMW\n",
      "Car Model: S5\n"
     ]
    }
   ],
   "source": [
    "#20. Create a Python class called `Car` with a default constructor that initializes the `make` and `model`attributes. Provide a method to display car information.\n",
    "\n",
    "class Car:\n",
    "    def __init__(self):\n",
    "        self.make = \"BMW\"\n",
    "        self.mode = \"S5\"\n",
    "\n",
    "    def display_info(self):\n",
    "        print(f\"Car Make: {self.make}\")\n",
    "        print(f\"Car Model: {self.mode}\")\n",
    "\n",
    "# Creating an instance of the Car class\n",
    "car = Car()\n",
    "\n",
    "# Displaying car information\n",
    "car.display_info()"
   ]
  },
  {
   "cell_type": "code",
   "execution_count": 39,
   "id": "ae9889ae-c3f0-49f0-9a36-1a8da2fe6858",
   "metadata": {},
   "outputs": [],
   "source": [
    "#Inheritance:\n",
    "\n",
    "#1. What is inheritance in Python? Explain its significance in object-oriented programming.\n",
    "\n",
    "#Inheritance in Python is a fundamental concept in object-oriented programming (OOP) that allows you to create a new class (called the subclass or derived class) by inheriting the properties and behaviors of an existing class (called the superclass or base class). Inheritance forms an \"is-a\" relationship between classes, where the subclass is a specialized version of the superclass, inheriting its attributes and methods while being able to add its own or override the inherited behavior."
   ]
  },
  {
   "cell_type": "code",
   "execution_count": null,
   "id": "2d1698b5-6138-45d4-8641-fdbd909ae429",
   "metadata": {},
   "outputs": [],
   "source": [
    "#Multiple Inheritance:"
   ]
  },
  {
   "cell_type": "code",
   "execution_count": 2,
   "id": "3d908803-9597-4d50-a5eb-68f75f4e62d2",
   "metadata": {},
   "outputs": [],
   "source": [
    "#2. Differentiate between single inheritance and multiple inheritance in Python. Provide examples for each.\n",
    "\n",
    "#Definition: In single inheritance, a class can inherit from only one superclass or base class.\n",
    "\n",
    "#Class Hierarchy: The class hierarchy is a simple, linear chain, where each subclass has a single parent class.\n",
    "\n",
    "#single Inheritance:\n",
    "\n",
    "#In this code, the Allmem class inherits from the Family class, which is an example of single inheritance. The Allmem class inherits the methods Elderbrother and Youngerbrother from the Family class, forming a single parent-child relationship in the class hierarchy.\n",
    "\n",
    "\n",
    "\n",
    "class Family:\n",
    "    \n",
    "    def Elderbrother(self):\n",
    "        print(\"Suraj is eldest son\")\n",
    "        \n",
    "    def Youngerson(self):\n",
    "        print(\"Ritesh is youngest in the family\")\n",
    "        \n"
   ]
  },
  {
   "cell_type": "code",
   "execution_count": 4,
   "id": "bf531461-9042-412b-a2f0-65b597f66ce9",
   "metadata": {},
   "outputs": [],
   "source": [
    "myfamily = Family()"
   ]
  },
  {
   "cell_type": "code",
   "execution_count": 5,
   "id": "76a24d8c-c1d1-45c7-814c-e047eb7d54f8",
   "metadata": {},
   "outputs": [
    {
     "name": "stdout",
     "output_type": "stream",
     "text": [
      "Suraj is eldest son\n"
     ]
    }
   ],
   "source": [
    "myfamily.Elderbrother()"
   ]
  },
  {
   "cell_type": "code",
   "execution_count": 6,
   "id": "e992aea6-56ca-4a7d-bd4c-00dd49cfe664",
   "metadata": {},
   "outputs": [
    {
     "name": "stdout",
     "output_type": "stream",
     "text": [
      "Ritesh is youngest in the family\n"
     ]
    }
   ],
   "source": [
    "myfamily.Youngerson()"
   ]
  },
  {
   "cell_type": "code",
   "execution_count": 7,
   "id": "ef9d5eff-a465-4165-bcc4-df6b3e5e96d7",
   "metadata": {},
   "outputs": [],
   "source": [
    "class Allmem(Family):\n",
    "    def Allmembers(self):\n",
    "        print(\"There are 10 members in the family\")"
   ]
  },
  {
   "cell_type": "code",
   "execution_count": 8,
   "id": "875a81c2-fd13-40ad-b6ed-7254e16f64b4",
   "metadata": {},
   "outputs": [],
   "source": [
    "members = Allmem()"
   ]
  },
  {
   "cell_type": "code",
   "execution_count": 9,
   "id": "86c3e6a8-4abf-478d-85fd-59074e914693",
   "metadata": {},
   "outputs": [
    {
     "name": "stdout",
     "output_type": "stream",
     "text": [
      "Suraj is eldest son\n"
     ]
    }
   ],
   "source": [
    "members.Elderbrother()"
   ]
  },
  {
   "cell_type": "code",
   "execution_count": 10,
   "id": "e6f02fa2-22cb-4c7f-a8ae-54d9e31dc536",
   "metadata": {},
   "outputs": [],
   "source": [
    "#Multiple Inheritance:\n",
    "\n",
    "# In multiple inheritance, a class can inherit from multiple superclasses or base classes.\n",
    "\n",
    "#Class Hierarchy: The class hierarchy becomes a directed acyclic graph (DAG), where a class can have multiple parent classes.\n",
    "\n",
    "#In this code, the Father and Mother classes provide information about the parents. The Family class inherits from both Father and Mother, forming a multiple inheritance relationship. The Allmem class then inherits from the Family class.\n",
    "\n",
    "class Father:\n",
    "    def FatherInfo(self):\n",
    "        print(\"The father's name is Ramkishore Sharma\")\n",
    "        \n",
    "        def Youngerson(self):\n",
    "            print(\"Ritesh is youngest son\")\n",
    "\n",
    "class Mother:\n",
    "    def MotherInfo(self):\n",
    "        print(\"The mother's name is Kaushalya Devi\")\n",
    "\n",
    "class Family(Father, Mother):\n",
    "    def Elderbrother(self):\n",
    "        print(\"Suraj is the eldest son\")\n",
    "        \n",
    "    def Youngerson(self):\n",
    "        print(\"Ritesh is youngest son\")\n",
    "        \n",
    "class Allmem(Family):\n",
    "    def Allmembers(self):\n",
    "        print(\"There are 10 members in the family\")\n"
   ]
  },
  {
   "cell_type": "code",
   "execution_count": 11,
   "id": "5b88e575-c3fd-4e3d-b1d5-645c3837a24a",
   "metadata": {},
   "outputs": [],
   "source": [
    "myfamily = Allmem()"
   ]
  },
  {
   "cell_type": "code",
   "execution_count": 12,
   "id": "06a48ad5-b74e-405d-805e-33a43b4d75e1",
   "metadata": {},
   "outputs": [
    {
     "name": "stdout",
     "output_type": "stream",
     "text": [
      "The father's name is Ramkishore Sharma\n"
     ]
    }
   ],
   "source": [
    "myfamily.FatherInfo()"
   ]
  },
  {
   "cell_type": "code",
   "execution_count": 13,
   "id": "36047252-aeeb-4d4b-b9ac-820e4620bd6c",
   "metadata": {},
   "outputs": [
    {
     "name": "stdout",
     "output_type": "stream",
     "text": [
      "The mother's name is Kaushalya Devi\n"
     ]
    }
   ],
   "source": [
    "myfamily.MotherInfo()"
   ]
  },
  {
   "cell_type": "code",
   "execution_count": 14,
   "id": "42eba677-29d7-45c0-8a9c-495c9ab10705",
   "metadata": {},
   "outputs": [
    {
     "name": "stdout",
     "output_type": "stream",
     "text": [
      "Suraj is the eldest son\n"
     ]
    }
   ],
   "source": [
    "myfamily.Elderbrother()"
   ]
  },
  {
   "cell_type": "code",
   "execution_count": 15,
   "id": "dd540a4b-ab55-445d-ac57-a80937e503ef",
   "metadata": {},
   "outputs": [
    {
     "name": "stdout",
     "output_type": "stream",
     "text": [
      "There are 10 members in the family\n"
     ]
    }
   ],
   "source": [
    "myfamily.Allmembers()"
   ]
  },
  {
   "cell_type": "code",
   "execution_count": 16,
   "id": "26197bad-3958-4710-ae6d-2726b2090f69",
   "metadata": {},
   "outputs": [
    {
     "name": "stdout",
     "output_type": "stream",
     "text": [
      "Ritesh is youngest son\n"
     ]
    }
   ],
   "source": [
    "myfamily.Youngerson()"
   ]
  },
  {
   "cell_type": "code",
   "execution_count": 28,
   "id": "3bd46785-131f-45d8-a5ee-63ec587ef92c",
   "metadata": {},
   "outputs": [],
   "source": [
    "#3 Create a Python class called `Vehicle` with attributes `color` and `speed`. Then, create a child class called `Car` that inherits from `Vehicle` and adds a `brand` attribute. Provide an example of creating a `Car` object\n",
    "\n",
    "class Vehicle:\n",
    "    def __init__(self, color, speed):\n",
    "        self.color = color\n",
    "        self.speed = speed\n",
    "        \n",
    "class Car(Vehicle):\n",
    "    def __init__(self, color, speed, brand):\n",
    "        self.color = color\n",
    "        self.speed = speed\n",
    "        self.brand = brand\n"
   ]
  },
  {
   "cell_type": "code",
   "execution_count": 29,
   "id": "85e6421b-8cd9-4315-816c-d0056f9babed",
   "metadata": {},
   "outputs": [],
   "source": [
    "my_car = Car(\"Blue\", 70, \"Hyundai\")"
   ]
  },
  {
   "cell_type": "code",
   "execution_count": 33,
   "id": "a546242c-a64f-418e-8c5a-c6932f8184ff",
   "metadata": {},
   "outputs": [
    {
     "name": "stdout",
     "output_type": "stream",
     "text": [
      "Color: Blue Speed: 70 Brand: Hyundai\n"
     ]
    }
   ],
   "source": [
    "print(\"Color:\", my_car.color, \"Speed:\", my_car.speed, \"Brand:\", my_car.brand)"
   ]
  },
  {
   "cell_type": "code",
   "execution_count": 37,
   "id": "adbcbcca-373c-4fb9-94c8-f609dfe9dbf6",
   "metadata": {},
   "outputs": [],
   "source": [
    "# Explain the concept of method overriding in inheritance. Provide a practical example\n",
    "\n",
    "#Method overriding is a concept in object-oriented programming that allows a subclass to provide a specific implementation for a method that is already defined in its superclass. This means that the subclass redefines the behavior of the method, effectively replacing the implementation inherited from the superclass.\n",
    "\n",
    "#We have a base class Animal with a method speak, which is overridden in the subclasses Dog and Cat.\n",
    "\n",
    "#Each subclass provides its own implementation of the speak method. The Dog class barks with \"Woof! Woof!\" and the Cat class meows with \"Meow!\"\n",
    "\n",
    "class Animal:\n",
    "    def speak(self):\n",
    "        print(\"This is a generic animal sound.\")\n",
    "\n",
    "class Cow(Animal):\n",
    "    def speak(self):\n",
    "        print(\"mooh! mooh!\")\n",
    "\n",
    "class Cat(Animal):\n",
    "    def speak(self):\n",
    "        print(\"Meow!\")\n",
    "\n",
    "# Create instances of the classes\n",
    "animal = Animal()\n",
    "cow = Dog()\n",
    "cat = Cat()\n"
   ]
  },
  {
   "cell_type": "code",
   "execution_count": 38,
   "id": "50588ff4-b2ca-452c-a9e6-76ebf3f7b692",
   "metadata": {},
   "outputs": [
    {
     "name": "stdout",
     "output_type": "stream",
     "text": [
      "This is a generic animal sound.\n",
      "Woof! Woof!\n",
      "Meow!\n"
     ]
    }
   ],
   "source": [
    "\n",
    "# Call the speak method for each instance\n",
    "animal.speak()\n",
    "cow.speak()\n",
    "cat.speak()"
   ]
  },
  {
   "cell_type": "code",
   "execution_count": 48,
   "id": "850213a4-f84a-423d-9609-c778b8f73807",
   "metadata": {},
   "outputs": [],
   "source": [
    "#.5 How can you access the methods and attributes of a parent class from a child class in Python? Give an example.\n",
    "\n",
    "#In Python, you can access the methods and attributes of a parent class from a child class using the super() function. The super() function allows you to call methods or access attributes of the parent class within the child class\n",
    "\n",
    "\n",
    "\n",
    "#The Employee class has attributes name and employee_id, as well as a method display_employee_info to display employee information.\n",
    "\n",
    "#The Manager class inherits from the Employee class and adds its own attribute department and method display_manager_info.\n",
    "\n",
    "#In the Manager class, we use super() to call the constructor of the parent class to initialize the name and employee_id attributes.\n",
    "\n",
    "#We also use super().display_employee_info() to call the display_employee_info method of the parent class to display the employee information.\n",
    "\n",
    "#When we create instances of the classes and call the respective methods, we can access the methods and attributes of the parent class from the child class using super().\n",
    "\n",
    "class Employee:\n",
    "    def __init__(self, name, employee_id):\n",
    "        self.name = name\n",
    "        self.employee_id = employee_id\n",
    "\n",
    "    def display_employee_info(self):\n",
    "        print(\"Employee Name:\", self.name)\n",
    "        print(\"Employee ID:\", self.employee_id)\n",
    "\n",
    "class Manager(Employee):\n",
    "    def __init__(self, name, employee_id, department):\n",
    "        super().__init__(name, employee_id)  # Call the constructor of the parent class\n",
    "        self.department = department\n",
    "\n",
    "    def display_manager_info(self):\n",
    "        super().display_employee_info()  # Call the parent class method\n",
    "        print(\"Department:\", self.department)\n",
    "        \n",
    "\n"
   ]
  },
  {
   "cell_type": "code",
   "execution_count": 49,
   "id": "9bb68f10-f664-4117-8635-59e4b7b18ec4",
   "metadata": {},
   "outputs": [],
   "source": [
    "# Create instances of the classes\n",
    "employee1 = Employee(\"Swarup\", 1001)\n",
    "manager1 = Manager(\"Priya\", 2001, \"HR\")"
   ]
  },
  {
   "cell_type": "code",
   "execution_count": 50,
   "id": "4827e840-2628-462d-8c31-0452483a5478",
   "metadata": {},
   "outputs": [
    {
     "name": "stdout",
     "output_type": "stream",
     "text": [
      "Employee Name: Swarup\n",
      "Employee ID: 1001\n",
      "Employee Name: Priya\n",
      "Employee ID: 2001\n",
      "Department: HR\n"
     ]
    }
   ],
   "source": [
    "# Access methods and attributes of the parent class from the child class\n",
    "employee1.display_employee_info()\n",
    "\n",
    "# Access methods and attributes of the parent class from the child class\n",
    "manager1.display_manager_info()"
   ]
  },
  {
   "cell_type": "code",
   "execution_count": 52,
   "id": "0f95d439-bb70-48ec-be41-ac2954cccf88",
   "metadata": {},
   "outputs": [
    {
     "name": "stdout",
     "output_type": "stream",
     "text": [
      "Name: Rajkumar\n",
      "Role: Student\n",
      "Student ID: S12345\n"
     ]
    }
   ],
   "source": [
    "#6. Discuss the use of the `super()` function in Python inheritance. When and why is it used? Provide an \n",
    "example\n",
    "\n",
    "#The super() function in Python is used to call methods and access attributes of a parent or superclass in an inheritance hierarchy. It is especially helpful when you want to extend the functionality of a method in a child class while retaining and utilizing the functionality of the same method in the parent class. super() is typically used in the constructor or methods of a child class to invoke the constructor or methods of the parent class.\n",
    "\n",
    "#The super() function is used for the following reasons:\n",
    "\n",
    "#Initialization of Parent Class: In the constructor of a child class, super() is used to initialize attributes and behavior from the parent class.\n",
    "\n",
    "#Method Overriding: When a child class defines a method with the same name as a method in the parent class, super() is used to invoke the parent class method from within the child class method. This allows you to customize the behavior while reusing the parent class logic.\n",
    "\n",
    "#When we create an instance of the Student class and call the display_info method, it invokes both the parent class's display_info method and the child class's display_info method, demonstrating the use of super() in Python inheritance.\n",
    "\n",
    "\n",
    "\n",
    "class SchoolMember:\n",
    "    def __init__(self, name, role):\n",
    "        self.name = name\n",
    "        self.role = role\n",
    "\n",
    "    def display_info(self):\n",
    "        print(\"Name:\", self.name)\n",
    "        print(\"Role:\", self.role)\n",
    "\n",
    "class Student(SchoolMember):\n",
    "    def __init__(self, name, role, student_id):\n",
    "        super().__init__(name, role)  # Call the parent class constructor\n",
    "        self.student_id = student_id\n",
    "\n",
    "    def display_info(self):\n",
    "        super().display_info()  # Call the parent class method\n",
    "        print(\"Student ID:\", self.student_id)\n",
    "\n",
    "# Create an instance of the Student class\n",
    "student = Student(\"Rajkumar\", \"Student\", \"S12345\")\n",
    "\n",
    "# Access methods and attributes\n",
    "student.display_info()\n",
    "\n",
    "\n",
    "\n"
   ]
  },
  {
   "cell_type": "code",
   "execution_count": 53,
   "id": "2e56796e-719a-4af7-8095-b256a0d19df0",
   "metadata": {},
   "outputs": [
    {
     "name": "stdout",
     "output_type": "stream",
     "text": [
      "Dog says: Woof! Woof!\n",
      "Cat says: Meow!\n"
     ]
    }
   ],
   "source": [
    "#7. Create a Python class called `Animal` with a method `speak()`. Then, create child classes `Dog` and `Cat` that inherit from `Animal` and override the `speak()` method. Provide an example of using these classes.\n",
    "\n",
    "class Animal:\n",
    "    def speak(self):\n",
    "        pass  # This method will be overridden in child classes\n",
    "\n",
    "class Dog(Animal):\n",
    "    def speak(self):\n",
    "        return \"Woof! Woof!\"\n",
    "\n",
    "class Cat(Animal):\n",
    "    def speak(self):\n",
    "        return \"Meow!\"\n",
    "\n"
   ]
  },
  {
   "cell_type": "code",
   "execution_count": 54,
   "id": "d0e84e8c-452c-41c3-9c8a-f935e4a2b172",
   "metadata": {},
   "outputs": [],
   "source": [
    "# Create instances of the child classes\n",
    "dog = Dog()\n",
    "cat = Cat()"
   ]
  },
  {
   "cell_type": "code",
   "execution_count": 55,
   "id": "a9fb5ee1-9df0-4214-935b-3a99fea0c434",
   "metadata": {},
   "outputs": [],
   "source": [
    "# Use the speak() method to get the sounds\n",
    "dog_sound = dog.speak()\n",
    "cat_sound = cat.speak()"
   ]
  },
  {
   "cell_type": "code",
   "execution_count": 56,
   "id": "800e580d-7aaf-41d0-b07e-ee1d216671ce",
   "metadata": {},
   "outputs": [
    {
     "name": "stdout",
     "output_type": "stream",
     "text": [
      "Dog says: Woof! Woof!\n",
      "Cat says: Meow!\n"
     ]
    }
   ],
   "source": [
    "\n",
    "# Print the sounds\n",
    "print(\"Dog says:\", dog_sound)\n",
    "print(\"Cat says:\", cat_sound)"
   ]
  },
  {
   "cell_type": "code",
   "execution_count": 58,
   "id": "9ee2111b-a296-4e7f-8ecc-1d23f2da9ac9",
   "metadata": {},
   "outputs": [],
   "source": [
    "#8. Explain the role of the `isinstance()` function in Python and how it relates to inheritance.\n",
    "\n",
    "#The isinstance() function in Python is used to check whether an object belongs to a particular class or is an instance of a class. It plays a significant role in determining the type or class of an object, and it is related to inheritance in the following ways:\n",
    "\n",
    "#Type Checking: isinstance() is commonly used to perform type checking to ensure that an object is an instance of a specific class or one of its subclasses. This is particularly useful when you have a hierarchy of classes derived through inheritance.\n",
    "\n",
    "#Polymorphism: In Python, you can have different classes with methods of the same name. When you use isinstance(), you can apply polymorphism by checking the type of an object and then calling the appropriate method based on that type. This is a key aspect of object-oriented programming and inheritance.\n",
    "\n",
    "#Hierarchical Relationships: isinstance() helps you identify the hierarchical relationships in an inheritance hierarchy. You can check whether an object is an instance of a base class, a derived class, or any subclass in between.\n",
    "\n",
    "\n",
    "class Animal:\n",
    "    pass\n",
    "\n",
    "class Dog(Animal):\n",
    "    pass\n",
    "\n",
    "class Cat(Animal):\n",
    "    pass\n",
    "\n",
    "\n"
   ]
  },
  {
   "cell_type": "code",
   "execution_count": 60,
   "id": "7368018f-7550-4091-a36b-174005f0dd14",
   "metadata": {},
   "outputs": [],
   "source": [
    "# Create instances of the classes\n",
    "animal = Animal()\n",
    "dog = Dog()\n",
    "cat = Cat()"
   ]
  },
  {
   "cell_type": "code",
   "execution_count": 64,
   "id": "706a1d59-8742-4c9a-b719-65e70a70308b",
   "metadata": {},
   "outputs": [
    {
     "name": "stdout",
     "output_type": "stream",
     "text": [
      "True\n",
      "True\n",
      "False\n",
      "True\n",
      "True\n",
      "False\n"
     ]
    }
   ],
   "source": [
    "\n",
    "# Check if objects are instances of specific classes or their subclasses\n",
    "print(isinstance(animal, Animal))  # True\n",
    "print(isinstance(dog, Animal))     # True\n",
    "print(isinstance(dog, Cat))        # False\n",
    "print(isinstance(cat, Animal))     # True\n",
    "print(isinstance(cat, Cat))        # True\n",
    "print(isinstance(animal, Dog))     # False"
   ]
  },
  {
   "cell_type": "code",
   "execution_count": 65,
   "id": "e260a7ff-3fe3-4aae-9da4-673b06f86bad",
   "metadata": {},
   "outputs": [
    {
     "name": "stdout",
     "output_type": "stream",
     "text": [
      "True\n",
      "True\n",
      "True\n",
      "True\n",
      "False\n"
     ]
    }
   ],
   "source": [
    "#9. What is the purpose of the `issubclass()` function in Python? Provide an example.\n",
    "\n",
    "#The issubclass() function in Python is used to check whether a given class is a subclass of a specified class. It is a built-in function that helps determine the inheritance relationships between classes. The primary purpose of issubclass() is to ascertain if one class is derived from another, thus confirming that a class inherits from a particular superclass.\n",
    "\n",
    "#Here's an example to illustrate the use of issubclass():\n",
    "\n",
    "class Animal:\n",
    "    pass\n",
    "\n",
    "class Mammal(Animal):\n",
    "    pass\n",
    "\n",
    "class Bird(Animal):\n",
    "    pass\n",
    "\n",
    "class Dog(Mammal):\n",
    "    pass\n",
    "\n",
    "# Check if a class is a subclass of another class\n",
    "print(issubclass(Mammal, Animal))  # True, Mammal is a subclass of Animal\n",
    "print(issubclass(Bird, Animal))    # True, Bird is a subclass of Animal\n",
    "print(issubclass(Dog, Animal))     # True, Dog is a subclass of Animal\n",
    "print(issubclass(Dog, Mammal))     # True, Dog is a subclass of Mammal\n",
    "print(issubclass(Mammal, Bird))    # False, Mammal is not a subclass of Bird\n",
    "\n",
    "\n",
    "#We have four classes: Animal, Mammal, Bird, and Dog. These classes form an inheritance hierarchy.\n",
    "\n",
    "#We use issubclass() to check if a class is a subclass of another class. For example, issubclass(Mammal, Animal) returns True because Mammal is a subclass of Animal.\n",
    "\n",
    "#issubclass() is helpful for verifying the relationships between classes in an inheritance hierarchy, making it useful in situations where you need to confirm class inheritance and structure.\n",
    "\n",
    "#The issubclass() function is valuable for understanding the structure of your class hierarchy and ensuring that classes are organized and inherit from the appropriate superclasses.\n"
   ]
  },
  {
   "cell_type": "code",
   "execution_count": 72,
   "id": "bb243204-c2d3-4dae-9e48-42be4354e112",
   "metadata": {},
   "outputs": [
    {
     "name": "stdout",
     "output_type": "stream",
     "text": [
      "Country: France Capital: Paris\n",
      "Indian State: Gujarat Chiefminister: Bhupendra Patel\n"
     ]
    }
   ],
   "source": [
    "#10. Discuss the concept of constructor inheritance in Python. How are constructors inherited in child classes?\n",
    "\n",
    "#constructors are special methods that are used to initialize object attributes when an object is created from a class. Constructor inheritance, also known as the inheritance of constructors, refers to how child classes inherit the constructor from their parent class.\n",
    "\n",
    "#some key points to understand about constructor inheritance in Python:\n",
    "\n",
    "#Constructor Inheritance: When a child class is created, it inherits the constructor of its parent class. This means that the child class can use the constructor of the parent class to initialize attributes that are common to both the parent and child classes.\n",
    "\n",
    "#Superclass Constructor: In many cases, child classes call the constructor of the parent class using the super() function. This allows the child class to inherit the attribute initialization of the parent class and then add or modify attributes specific to the child class.\n",
    "\n",
    "#Overriding Constructors: Child classes can override the constructor of the parent class by providing their own constructor with the same method name. In this case, the child class constructor will be used instead of the parent class constructor.\n",
    "\n",
    "class Country:\n",
    "    def __init__(self, name):\n",
    "        self.name = name\n",
    "\n",
    "class City(Country):\n",
    "    def __init__(self, name, capital):\n",
    "        super().__init__(name)  # Call the parent class constructor\n",
    "        self.capital = capital\n",
    "\n",
    "class State(Country):\n",
    "    def __init__(self, name, chiefminister):\n",
    "        super().__init__(name)  # Call the parent class constructor\n",
    "        self.chiefminister = chiefminister  # Correct the attribute name\n",
    "\n",
    "\n",
    "#The Country class has a constructor that initializes the name attribute, representing the name of a country.\n",
    "\n",
    "#The City and State classes inherit from Country and use super() to call the constructor of the parent class, inheriting the name attribute.\n",
    "\n",
    "#In the child classes, we add additional attributes (capital for City and chiefminister for State) that are specific to each class.\n",
    "\n",
    "#When we create instances of the child classes, they inherit the name attribute from the parent class's constructor and add their own attributes.\n",
    "\n",
    "#This demonstrates how constructor inheritance works with country examples, allowing child classes to inherit and extend the attributes and behavior of the parent class.\n"
   ]
  },
  {
   "cell_type": "code",
   "execution_count": 73,
   "id": "12d7766b-e0b9-4657-8bf8-ae5168a2a9e3",
   "metadata": {},
   "outputs": [],
   "source": [
    "# Create instances of the child classes\n",
    "city = City(\"France\", \"Paris\")\n",
    "state = State(\"Gujarat\", \"Bhupendra Patel\")"
   ]
  },
  {
   "cell_type": "code",
   "execution_count": 74,
   "id": "ef3d1410-825d-496f-9a5d-9cf0c65ef2e7",
   "metadata": {},
   "outputs": [
    {
     "name": "stdout",
     "output_type": "stream",
     "text": [
      "Country: France Capital: Paris\n",
      "Indian State: Gujarat Chiefminister: Bhupendra Patel\n"
     ]
    }
   ],
   "source": [
    "\n",
    "# Access attributes\n",
    "print(\"Country:\", city.name, \"Capital:\", city.capital)\n",
    "print(\"Indian State:\", state.name, \"Chiefminister:\", state.chiefminister) \n",
    "\n"
   ]
  },
  {
   "cell_type": "code",
   "execution_count": 5,
   "id": "96268e99-88ca-4557-bb14-cc9b5b97a4ea",
   "metadata": {},
   "outputs": [
    {
     "name": "stdout",
     "output_type": "stream",
     "text": [
      "Area of the circle with radius 5: 78.53981633974483\n",
      "Area of the rectangle with length 4 and width 6 : 24\n"
     ]
    }
   ],
   "source": [
    "#11. Create a Python class called `Shape` with a method `area()` that calculates the area of a shape. Then, create child classes `Circle` and `Rectangle` that inherit from `Shape` and implement the `area()` methodaccordingly. Provide an example.\n",
    "\n",
    "\n",
    "import math\n",
    "\n",
    "class Shape:\n",
    "    def area(self):\n",
    "        pass\n",
    "\n",
    "class Circle(Shape):\n",
    "    def __init__(self, radius):\n",
    "        self.radius = radius\n",
    "    \n",
    "    def area(self):\n",
    "        return math.pi * self.radius**2\n",
    "\n",
    "class Rectangle(Shape):\n",
    "    def __init__(self, length, width):\n",
    "        self.length = length\n",
    "        self.width = width\n",
    "\n",
    "    def area(self):\n",
    "        return self.length * self.width\n",
    "\n",
    "# Example usage:\n",
    "circle = Circle(5)\n",
    "print(\"Area of the circle with radius 5:\", circle.area())\n",
    "\n",
    "rectangle = Rectangle(4, 6)\n",
    "print(\"Area of the rectangle with length 4 and width 6 :\", rectangle.area())\n",
    "\n"
   ]
  },
  {
   "cell_type": "code",
   "execution_count": 7,
   "id": "28609908-debb-4a6a-b9c4-10ae38573f60",
   "metadata": {},
   "outputs": [],
   "source": [
    "#12. Explain the use of abstract base classes (ABCs) in Python and how they relate to inheritance. Provide anexample using the `abc` module.\n",
    "\n",
    "#Abstract Base Classes (ABCs) in Python are a way to define a set of methods that must be implemented by subclasses. They ensure that child classes follow a specific structure. ABCs use inheritance to create a blueprint for expected behavior, allowing you to maintain a consistent interface across different subclasses. This helps improve code organization and clarity.\n",
    "\n",
    "#In short, ABCs in Python are a way to enforce a common structure in inherited classes, making your code more organized and predictable.\n",
    "\n",
    "\n",
    "#in below example we have a base class Vehicle with two abstract methods, start and stop. The Car and Bicycle subclasses inherit from Vehicle and provide their implementations for these methods.\n",
    "\n",
    "\n",
    "\n",
    "from abc import ABC, abstractmethod\n",
    "\n",
    "class Vehicle(ABC):\n",
    "    @abstractmethod\n",
    "    def start(self):\n",
    "        pass\n",
    "\n",
    "    @abstractmethod\n",
    "    def stop(self):\n",
    "        pass\n",
    "\n",
    "class Car(Vehicle):\n",
    "    def start(self):\n",
    "        print(\"Car is starting.\")\n",
    "\n",
    "    def stop(self):\n",
    "        print(\"Car is stopping.\")\n",
    "\n",
    "class Bicycle(Vehicle):\n",
    "    def start(self):\n",
    "        print(\"Bicycle is starting.\")\n",
    "\n",
    "    def stop(self):\n",
    "        print(\"Bicycle is stopping.\")\n",
    "\n",
    "\n"
   ]
  },
  {
   "cell_type": "code",
   "execution_count": 8,
   "id": "8bad510a-7fa2-442c-9af9-58079ad019a7",
   "metadata": {},
   "outputs": [
    {
     "name": "stdout",
     "output_type": "stream",
     "text": [
      "Car is starting.\n",
      "Car is stopping.\n"
     ]
    }
   ],
   "source": [
    "# Example usage:\n",
    "car = Car()\n",
    "car.start()\n",
    "car.stop()"
   ]
  },
  {
   "cell_type": "code",
   "execution_count": 9,
   "id": "c8460db3-b6db-4b01-9d27-a6b1b36ebe8a",
   "metadata": {},
   "outputs": [
    {
     "name": "stdout",
     "output_type": "stream",
     "text": [
      "Bicycle is starting.\n",
      "Bicycle is stopping.\n"
     ]
    }
   ],
   "source": [
    "\n",
    "bike = Bicycle()\n",
    "bike.start()\n",
    "bike.stop()\n"
   ]
  },
  {
   "cell_type": "code",
   "execution_count": 10,
   "id": "3cb9b096-775c-45c1-bf29-cd31ab4989f0",
   "metadata": {},
   "outputs": [],
   "source": [
    "#13. How can you prevent a child class from modifying certain attributes or methods inherited from a parentclass in Python?\n",
    "\n"
   ]
  },
  {
   "cell_type": "code",
   "execution_count": 15,
   "id": "bbfb4c15-1eb4-4f4d-8412-c01c2d64bc31",
   "metadata": {},
   "outputs": [],
   "source": [
    "#14. Create a Python class called `Employee` with attributes `name` and `salary`. Then, create a child class`Manager` that inherits from `Employee` and adds an attribute `department`. Provide an example.\n",
    "\n",
    "\n",
    "class Employee:\n",
    "    def __init__(self, name, employee_id):\n",
    "        self.name = name\n",
    "        self.employee_id = employee_id\n",
    "\n",
    "    def display_employee_info(self):\n",
    "        print(\"Employee Name:\", self.name)\n",
    "        print(\"Employee ID:\", self.employee_id)\n",
    "\n",
    "class Manager(Employee):\n",
    "    def __init__(self, name, employee_id, department):\n",
    "        super().__init__(name, employee_id)  # Call the constructor of the parent class\n",
    "        self.department = department\n",
    "\n",
    "    def display_manager_info(self):\n",
    "        super().display_employee_info()  # Call the parent class method\n",
    "        print(\"Department:\", self.department)\n",
    "        \n"
   ]
  },
  {
   "cell_type": "code",
   "execution_count": 16,
   "id": "3d5b9db2-3db1-4042-b765-27dfc22b9330",
   "metadata": {},
   "outputs": [],
   "source": [
    "# Create instances of the classes\n",
    "employee1 = Employee(\"MUkesh\", 110022)\n",
    "manager1 = Manager(\"Muriel\", 110050, \"ADMIN\")"
   ]
  },
  {
   "cell_type": "code",
   "execution_count": 17,
   "id": "da6c9abd-a480-4f2a-9aef-49858d7f4baa",
   "metadata": {},
   "outputs": [
    {
     "name": "stdout",
     "output_type": "stream",
     "text": [
      "Employee Name: MUkesh\n",
      "Employee ID: 110022\n",
      "Employee Name: Muriel\n",
      "Employee ID: 110050\n",
      "Department: ADMIN\n"
     ]
    }
   ],
   "source": [
    "# Access methods and attributes of the parent class from the child class\n",
    "employee1.display_employee_info()\n",
    "\n",
    "# Access methods and attributes of the parent class from the child class\n",
    "manager1.display_manager_info()"
   ]
  },
  {
   "cell_type": "code",
   "execution_count": 21,
   "id": "b477b7d1-d91a-4e0f-bdd3-cb945a1d3a71",
   "metadata": {},
   "outputs": [],
   "source": [
    "#15. Discuss the concept of method overloading in Python inheritance. How does it differ from methodoverriding?\n",
    "\n",
    "#Method overloading and method overriding are both concepts related to inheritance and polymorphism in object-oriented programming, but they serve different purposes in Python.\n",
    "\n",
    "#In this example, the MathOperations class defines two add methods with different numbers of arguments. The last add method defined in the class is the one that gets called.\n",
    "\n",
    "class MathOperations:\n",
    "    def add(self, a, b, c=None):\n",
    "        if c is None:\n",
    "            return a + b\n",
    "        else:\n",
    "            return a + b + c\n",
    "\n",
    "\n",
    "\n",
    "\n",
    "#Method overloading allows a class to have multiple methods with the same name but different parameter lists. In Python, method overloading is achieved by defining multiple methods with the same name in a class, but with different numbers or types of arguments.\n"
   ]
  },
  {
   "cell_type": "code",
   "execution_count": 22,
   "id": "7a4cf761-0396-4156-adca-0df33104c40a",
   "metadata": {},
   "outputs": [
    {
     "name": "stdout",
     "output_type": "stream",
     "text": [
      "5\n",
      "9\n"
     ]
    }
   ],
   "source": [
    "math_obj = MathOperations()\n",
    "result1 = math_obj.add(2, 3)\n",
    "result2 = math_obj.add(2, 3, 4)\n",
    "\n",
    "print(result1)  # Calls the second add method\n",
    "print(result2)  # Calls the second add method\n"
   ]
  },
  {
   "cell_type": "code",
   "execution_count": null,
   "id": "bcadb7d7-c9a4-43f1-adbc-a55b93364670",
   "metadata": {},
   "outputs": [
    {
     "name": "stdout",
     "output_type": "stream",
     "text": [
      "Animal speaks\n",
      "Dog barks\n"
     ]
    }
   ],
   "source": [
    "#Method overriding is a concept in which a subclass provides a specific implementation for a method that is already defined in its superclass. It allows a subclass to provide a specialized version of a method that is inherited from its parent class. In Python, method overriding is achieved by defining a method in the subclass with the same name as the method in the superclass. The method in the subclass should have the same name, the same parameters, and it should provide a new implementation.\n",
    "\n",
    "#In this example, the Dog class overrides the speak method inherited from the Animal class to provide a specific implementation for a dog's sound.\n",
    "\n",
    "\n",
    "class Animal:\n",
    "    def speak(self):\n",
    "        print(\"Animal speaks\")\n",
    "\n",
    "class Dog(Animal):\n",
    "    def speak(self):\n",
    "        print(\"Dog barks\")\n",
    "\n",
    "animal = Animal()\n",
    "dog = Dog()\n",
    "\n",
    "animal.speak()  # Output: \"Animal speaks\"\n",
    "dog.speak()     # Output: \"Dog barks\""
   ]
  },
  {
   "cell_type": "code",
   "execution_count": 24,
   "id": "aee2cb1a-ab8c-45d3-9bc3-d2087ad5cffb",
   "metadata": {},
   "outputs": [],
   "source": [
    "#16. Explain the purpose of the `__init__()` method in Python inheritance and how it is utilized in child classes.\n",
    "\n",
    "\n",
    "#The __init__() method in Python is a special method also known as a constructor. It is used for initializing the attributes of an object when the object is created. \n",
    "\n",
    "#In the context of inheritance, the __init__() method plays a crucial role in both the parent (base) class and child (sub) classes.\n",
    "\n",
    "\n",
    "#When a child class inherits from a parent class, it may have its own additional attributes or may need to initialize attributes inherited from the parent. The __init__() method in the child class can call the __init__() method of the parent class using super().__init__(...) to ensure that the attributes from the parent class are properly initialized. It can then add its own attributes or logic.\n",
    "\n",
    "class Parent:\n",
    "    def __init__(self, name, age):\n",
    "        self.name = name\n",
    "        self.age = age\n",
    "        \n",
    "class Child(Parent):\n",
    "    def __init__(self, name, age, grade):\n",
    "        super().__init__(name, age)  # Call the parent class's __init__()\n",
    "        self.grade = grade  # Initialize the child class's attribute\n",
    "\n",
    "\n",
    "\n",
    "#In child classes, the __init__() method is utilized to:\n",
    "\n",
    "#Initialize attributes from the parent class by calling the parent class's __init__() using super().__init__(...). This ensures that the parent class's attributes are properly set for objects of the child class.\n",
    "\n",
    "#Initialize additional attributes specific to the child class.\n",
    "\n",
    "#Perform any other necessary setup or logic required for the child class.\n",
    "        \n",
    "#This demonstrates how the __init__() method is used to initialize object attributes in both parent and child classes."
   ]
  },
  {
   "cell_type": "code",
   "execution_count": 27,
   "id": "a47033da-0100-4d58-9b62-6e08677dd938",
   "metadata": {},
   "outputs": [],
   "source": [
    "# Create an instance of the Parent class\n",
    "parent_instance = Parent(\"John\", 35)"
   ]
  },
  {
   "cell_type": "code",
   "execution_count": 28,
   "id": "aec96a58-7e3a-4d94-9b0d-21ccee88fb54",
   "metadata": {},
   "outputs": [
    {
     "name": "stdout",
     "output_type": "stream",
     "text": [
      "Parent instance attributes:\n",
      "Name: John\n",
      "Age: 35\n"
     ]
    }
   ],
   "source": [
    "# Access the attributes of the parent instance\n",
    "print(\"Parent instance attributes:\")\n",
    "print(\"Name:\", parent_instance.name)\n",
    "print(\"Age:\", parent_instance.age)"
   ]
  },
  {
   "cell_type": "code",
   "execution_count": 25,
   "id": "955f3966-54b4-45b7-bf9b-b440979c462c",
   "metadata": {},
   "outputs": [],
   "source": [
    "# Create an instance of the Child class\n",
    "child_instance = Child(\"Alice\", 12, \"A\")"
   ]
  },
  {
   "cell_type": "code",
   "execution_count": 26,
   "id": "af5de648-2c72-4eb0-adcb-2f27797b4e7a",
   "metadata": {},
   "outputs": [
    {
     "name": "stdout",
     "output_type": "stream",
     "text": [
      "Child instance attributes:\n",
      "Name: Alice\n",
      "Age: 12\n",
      "Grade: A\n"
     ]
    }
   ],
   "source": [
    "# Access the attributes of the child instance, including those inherited from the parent class\n",
    "print(\"Child instance attributes:\")\n",
    "print(\"Name:\", child_instance.name)  # Inherited from Parent\n",
    "print(\"Age:\", child_instance.age)    # Inherited from Parent\n",
    "print(\"Grade:\", child_instance.grade)  # Specific to Child"
   ]
  },
  {
   "cell_type": "code",
   "execution_count": 30,
   "id": "940dddef-1dda-466b-98e1-47575e0827b4",
   "metadata": {},
   "outputs": [],
   "source": [
    "#17. Create a Python class called `Bird` with a method `fly()`. Then, create child classes `Eagle` and `Sparrow` that inherit from `Bird` and implement the `fly()` method differently. Provide an example of using theseclasses.\n",
    "\n",
    "class Bird:\n",
    "    def fly(self):\n",
    "        return \"A bird can fly.\"\n",
    "\n",
    "class Eagle(Bird):\n",
    "    def fly(self):\n",
    "        return \"An eagle can fly high in the sky.\"\n",
    "\n",
    "class Sparrow(Bird):\n",
    "    def fly(self):\n",
    "        return \"A sparrow can fly gracefully.\"\n",
    "\n"
   ]
  },
  {
   "cell_type": "code",
   "execution_count": 33,
   "id": "a2b212bc-063c-409b-83f5-1ccb4e635bce",
   "metadata": {},
   "outputs": [
    {
     "name": "stdout",
     "output_type": "stream",
     "text": [
      "A bird can fly.\n",
      "An eagle can fly high in the sky.\n",
      "A sparrow can fly gracefully.\n"
     ]
    }
   ],
   "source": [
    "\n",
    "#The Bird class defines a fly() method with a generic message indicating that a bird can fly.\n",
    "\n",
    "#The Eagle class and the Sparrow class inherit from Bird and override the fly() method to provide specific descriptions of how eagles and sparrows fly.\n",
    "\n",
    "#When you create instances of these classes, you can see how the fly() method behaves differently for each type of bird.\n",
    "\n",
    "# Example usage:\n",
    "bird = Bird()\n",
    "print(bird.fly())  \n",
    "\n",
    "eagle = Eagle()\n",
    "print(eagle.fly())  \n",
    "\n",
    "sparrow = Sparrow()\n",
    "print(sparrow.fly())  "
   ]
  },
  {
   "cell_type": "code",
   "execution_count": null,
   "id": "13f19432-aab9-43a0-9458-52a262e4d10b",
   "metadata": {},
   "outputs": [],
   "source": [
    "#18. What is the \"diamond problem\" in multiple inheritance, and how does Python address it?\n",
    "\n"
   ]
  },
  {
   "cell_type": "code",
   "execution_count": 35,
   "id": "ee5c2840-1ac6-41e4-bb57-a0bc447591d5",
   "metadata": {},
   "outputs": [],
   "source": [
    "#19. Discuss the concept of \"is-a\" and \"has-a\" relationships in inheritance, and provide examples of each.\n",
    "\n",
    "#The concepts of \"is-a\" and \"has-a\" relationships are important in the context of inheritance and object-oriented programming. They describe the way classes and objects are related to each other and help in designing and modeling the relationships between them.\n",
    "\n",
    "#An \"is-a\" relationship represents inheritance or specialization, where a subclass (child) is a specialized version of a superclass (parent). In other words, a subclass \"is-a\" superclass. This relationship is typically implemented through class inheritance.\n",
    "\n",
    "\n",
    "\n"
   ]
  },
  {
   "cell_type": "code",
   "execution_count": 1,
   "id": "296e3733-8b7f-4b37-86dc-6905ef25d25a",
   "metadata": {},
   "outputs": [],
   "source": [
    "#20. Create a Python class hierarchy for a university system. Start with a base class `Person` and create child classes `Student` and `Professor`, each with their own attributes and methods. Provide an example of using these classes in a university context.\n",
    "\n",
    "\n",
    "\n"
   ]
  },
  {
   "cell_type": "code",
   "execution_count": null,
   "id": "0f52b41a-edcf-4089-901a-032687345b27",
   "metadata": {},
   "outputs": [],
   "source": [
    "#Encapsulation:\n",
    "\n",
    "#1. Explain the concept of encapsulation in Python. What is its role in object-oriented programming?\n",
    "\n",
    "#Encapsulation in Python is about bundling data and methods within a class while controlling access to them. It hides the internal details, promoting code organization, reusability, and protecting data integrity. It's a fundamental concept in object-oriented programming that makes code more modular and maintainable.\n",
    "\n",
    "#2. Describe the key principles of encapsulation, including access control and data hiding.\n",
    "\n",
    "#The key principles of encapsulation, including access control and data hiding, are as follows:\n",
    "\n",
    "Access Control:\n",
    "\n",
    "#Public Access: This is the default level of access for class members (attributes and methods) in Python. Public members are accessible from anywhere in the program. You don't need any special syntax to access them.\n",
    "\n",
    "#Private Access: You can mark members as private by prefixing their names with double underscores (e.g., __private_var). Private members are not accessible from outside the class directly. However, Python does not enforce strict privacy, and it is still possible to access them using name mangling (e.g., _classname__private_var).\n",
    "\n",
    "#Protected Access: You can indicate members as protected by prefixing their names with a single underscore (e.g., _protected_var). While not strictly enforced, this is a convention to indicate that these members are intended for internal use within the class and its subclasses. They are considered non-public but can still be accessed from outside the class.\n",
    "\n",
    "Data Hiding:\n",
    "\n",
    "#Data Encapsulation: Encapsulation involves bundling data (attributes) with the methods that operate on that data within a class. This allows you to control and manage the access to that data.\n",
    "\n",
    "#Information Hiding: By marking attributes as private or protected and providing public methods to interact with them, you hide the internal details of how the data is stored and manipulated. This separation between the public interface (methods) and the internal representation (attributes) of the class is known as information hiding.\n",
    "\n",
    "#Protecting Data Integrity: Hiding data prevents direct manipulation from outside the class, reducing the risk of accidental data corruption and ensuring that data remains in a consistent state.\n",
    "\n",
    "\n"
   ]
  },
  {
   "cell_type": "code",
   "execution_count": 8,
   "id": "e9906205-5418-48f8-b559-0280734d6389",
   "metadata": {},
   "outputs": [],
   "source": [
    "#3. How can you achieve encapsulation in Python classes? Provide an example.\n",
    "\n",
    "#In Python classes, encapsulation is achieved by controlling access to class members (attributes and methods) using access specifiers and naming conventions. The primary access specifiers are public, private, and protected. Here's an example of how to achieve encapsulation in Python:\n",
    "\n",
    "class Student:\n",
    "    def __init__(self, name, roll_number):\n",
    "        self.name = name  # Public attribute\n",
    "        self.__roll_number = roll_number  # Private attribute\n",
    "\n",
    "    def display_student_info(self):\n",
    "        print(f\"Name: {self.name}\")\n",
    "        print(f\"Roll Number: {self.__roll_number}\")\n",
    "\n",
    "    def set_roll_number(self, new_roll_number):\n",
    "        if new_roll_number > 0:\n",
    "            self.__roll_number = new_roll_number\n",
    "        else:\n",
    "            print(\"Invalid roll number\")\n",
    "            \n",
    "            \n",
    "            \n",
    "#In this example:\n",
    "\n",
    "#We define a Student class with a public attribute name and a private attribute __roll_number (note the double underscores).\n",
    "\n",
    "#We provide a public method set_roll_number to modify the private attribute. This method includes validation to ensure a positive roll number.\n",
    "\n",
    "#The display_student_info method is a public method to display student information.\n",
    "\n",
    "#To access the private attribute __roll_number, you can use name mangling (e.g., student1._Student__roll_number). However, it's not recommended to access private attributes directly. Instead, use the provided public methods to maintain encapsulation.\n",
    "\n",
    "#Encapsulation in this example ensures that the private data (roll number) is hidden from direct access and can only be modified through controlled methods, helping to maintain data integrity and security.\n",
    "\n",
    "\n"
   ]
  },
  {
   "cell_type": "code",
   "execution_count": 14,
   "id": "a1ef9d72-49b2-4db0-b438-e66d7caca302",
   "metadata": {},
   "outputs": [
    {
     "name": "stdout",
     "output_type": "stream",
     "text": [
      "Krishna\n",
      "12345\n",
      "Invalid roll number\n",
      "Name: Krishna\n",
      "Roll Number: 54321\n"
     ]
    }
   ],
   "source": [
    "# Create a Student object\n",
    "student1 = Student(\"Krishna\", 12345)\n",
    "\n",
    "# Access public attribute (name)\n",
    "print(student1.name)\n",
    "\n",
    "\n",
    "# Access private attribute (roll_number) - Name mangling is used\n",
    "# The correct way to access it is: student1._Student__roll_number\n",
    "# However, it's not recommended to access private attributes this way.\n",
    "# Instead, use the public methods provided by the class for data access.\n",
    "# Example: student1.set_roll_number(54321)\n",
    "# This way, you can enforce validation and maintain encapsulation.\n",
    "\n",
    "# Accessing private attribute directly (not recommended, for demonstration purposes)\n",
    "print(student1._Student__roll_number)\n",
    "\n",
    "# Use a public method to modify the roll number (encapsulated access)\n",
    "student1.set_roll_number(54321)\n",
    "\n",
    "# Attempt to set a negative roll number (to trigger \"Invalid roll number\" message)\n",
    "student1.set_roll_number(-123)\n",
    "\n",
    "# Display student information using a public method\n",
    "student1.display_student_info()\n",
    "\n"
   ]
  },
  {
   "cell_type": "code",
   "execution_count": null,
   "id": "11a26591-1ea8-4e5c-9e42-0f1a677689ab",
   "metadata": {},
   "outputs": [],
   "source": [
    "#4. Discuss the difference between public, private, and protected access modifiers in Python.\n",
    "\n",
    "#In Python, access modifiers are used to control the visibility and accessibility of class members (attributes and methods). There are three main types of access modifiers: public, private, and protected. Here's a discussion of the differences between these access modifiers:\n",
    "\n",
    "Public Access (No Modifier):\n",
    "\n",
    "#Symbol: No specific symbol is used.\n",
    "\n",
    "#Accessibility: Public members are accessible from anywhere, both inside and outside the class.\n",
    "#Example: class MyClass: def my_method(self): pass\n",
    "\n",
    "Private Access (Double Underscore Prefix - __):\n",
    "\n",
    "#Symbol: Members are prefixed with double underscores (e.g., __my_var, __my_method).\n",
    "#Accessibility: Private members are not directly accessible from outside the class. Python enforces name mangling to make it more difficult but not impossible to access them. The correct way to access a private member from outside the class is _ClassName__member (e.g., _MyClass__my_var).\n",
    "#Usage: Private members are intended to be used within the class and not meant for external access. They are used for internal implementation details.\n",
    "#Example: class MyClass: def __init__(self): self.__my_var = 0\n",
    "\n",
    "Protected Access (Single Underscore Prefix - _):\n",
    "\n",
    "#Symbol: Members are prefixed with a single underscore (e.g., _my_var, _my_method).\n",
    "#Accessibility: Protected members are considered non-public, but there's no enforced restriction on accessing them from outside the class. It's a naming convention that suggests these members are intended for internal use within the class and its subclasses.\n",
    "#Usage: Protected members are used when you want to indicate that a member is not intended for public use but might be accessed in some cases, especially when dealing with class inheritance.\n",
    "#Example: class MyClass: def _my_method(self): pass\n",
    "\n",
    "In summary:\n",
    "\n",
    "#Public: No specific symbol is used, and members are fully accessible from anywhere.\n",
    "#Private: Members are prefixed with double underscores, not meant for external access, and Python uses name mangling to make external access harder.\n",
    "#Protected: Members are prefixed with a single underscore and are considered non-public, but it's a convention, not an enforced restriction. They are intended for internal use but can be accessed from outside the class.\n",
    "#It's essential to use access modifiers appropriately to encapsulate your class members and provide a clear interface for using your classes while also preventing unintended external access. However, in Python, these access modifiers are conventions rather than strict rules, so they rely on developers following best practices for maintaining code integrity.\n",
    "\n"
   ]
  },
  {
   "cell_type": "code",
   "execution_count": 16,
   "id": "76f48744-45dd-41ee-8e4a-e9e4047bad7e",
   "metadata": {},
   "outputs": [],
   "source": [
    "#5. Create a Python class called `Person` with a private attribute `__name`. Provide methods to get and set thename attribute.\n",
    "\n",
    "\n",
    "class Person:\n",
    "    def __init__(self, name):\n",
    "        self.__name = name  # Private attribute\n",
    "\n",
    "    def get_name(self):\n",
    "        return self.__name\n",
    "\n",
    "    def set_name(self, new_name):\n",
    "        self.__name = new_name\n",
    "\n"
   ]
  },
  {
   "cell_type": "code",
   "execution_count": 21,
   "id": "fee6da69-9fb4-4177-8ba1-21e784c2517a",
   "metadata": {},
   "outputs": [],
   "source": [
    "# Create a Person object\n",
    "person1 = Person(\"Kajal\")\n",
    "\n"
   ]
  },
  {
   "cell_type": "code",
   "execution_count": 22,
   "id": "cb1d1dfc-1335-4b23-a5e5-6e2bd3953b46",
   "metadata": {},
   "outputs": [
    {
     "name": "stdout",
     "output_type": "stream",
     "text": [
      "Current name: Kajal\n"
     ]
    }
   ],
   "source": [
    "\n",
    "# Get the name attribute\n",
    "current_name = person1.get_name()\n",
    "print(\"Current name:\", current_name)\n",
    "\n"
   ]
  },
  {
   "cell_type": "code",
   "execution_count": 23,
   "id": "29d5b769-9730-4c3f-989c-926bed13154c",
   "metadata": {},
   "outputs": [],
   "source": [
    "# Set a new name\n",
    "person1.set_name(\"Rihana\")\n",
    "\n"
   ]
  },
  {
   "cell_type": "code",
   "execution_count": 24,
   "id": "d28099ba-e14b-40f2-978a-7ea839ff917e",
   "metadata": {},
   "outputs": [
    {
     "name": "stdout",
     "output_type": "stream",
     "text": [
      "Updated name: Rihana\n"
     ]
    }
   ],
   "source": [
    "# Get the updated name\n",
    "updated_name = person1.get_name()\n",
    "print(\"Updated name:\", updated_name)"
   ]
  },
  {
   "cell_type": "code",
   "execution_count": 25,
   "id": "3c6769b2-c0e5-43b4-b3dc-3c9175de1cd4",
   "metadata": {},
   "outputs": [],
   "source": [
    "#6. Explain the purpose of getter and setter methods in encapsulation. Provide examples.\n",
    "\n",
    "#The purpose of getter and setter methods in encapsulation is to provide controlled access to the attributes of a class while maintaining data integrity and encapsulation. Getter methods allow you to retrieve the value of an attribute, and setter methods enable you to modify the value of an attribute. By using getter and setter methods, you can enforce validation, implement business logic, and hide the internal representation of the data, all while providing a clear and consistent interface for interacting with class attributes.\n",
    "\n",
    "#Here's why getter and setter methods are useful in encapsulation:\n",
    "\n",
    "#Data Validation: Setter methods can include validation checks to ensure that the data being set is valid and adheres to specific rules or constraints. This helps maintain the integrity of the data.\n",
    "\n",
    "#Encapsulation: Getter and setter methods allow you to hide the internal representation of the data (private attributes) and provide a controlled interface for accessing and modifying the data. This prevents unintended or unauthorized access to the data.\n",
    "\n",
    "#Flexibility: You can change the internal representation of the data without affecting the code that uses the class, as long as the getter and setter methods remain the same. This flexibility promotes code maintenance and evolution.\n",
    "\n",
    "#Business Logic: You can incorporate additional logic or side effects in setter methods, such as triggering events or updating related attributes when a value is modified.\n",
    "\n",
    "#Read-Only or Write-Only Access: By providing only a getter method or a setter method, you can create read-only or write-only attributes, respectively, if needed.\n",
    "\n",
    "#Here are examples of a Python class with getter and setter methods for a private attribute:\n",
    "\n",
    "\n",
    "class Country:\n",
    "    def __init__(self, name, population):\n",
    "        self.__name = name  # Private attribute\n",
    "        self.__population = population  # Private attribute\n",
    "\n",
    "    def get_name(self):\n",
    "        return self.__name\n",
    "\n",
    "    def set_name(self, new_name):\n",
    "        if len(new_name) > 0:\n",
    "            self.__name = new_name\n",
    "        else:\n",
    "            print(\"Country name cannot be empty.\")\n",
    "\n",
    "    def get_population(self):\n",
    "        return self.__population\n",
    "\n",
    "    def set_population(self, new_population):\n",
    "        if new_population >= 0:\n",
    "            self.__population = new_population\n",
    "        else:\n",
    "            print(\"Population cannot be negative.\")\n",
    "\n",
    "#In this example, the Country class has private attributes __name and __population. Getter and setter methods are used to control access to these attributes and enforce validation rules for the country name and population. The provided example demonstrates how getter and setter methods can be used in the context of a country's attributes.\n"
   ]
  },
  {
   "cell_type": "code",
   "execution_count": 26,
   "id": "a4fad7ac-ab9a-47d0-b808-93d8d8c7c010",
   "metadata": {},
   "outputs": [],
   "source": [
    "# Create a Country object\n",
    "country1 = Country(\"United States\", 331000000)\n",
    "\n"
   ]
  },
  {
   "cell_type": "code",
   "execution_count": 27,
   "id": "3675bc70-49f6-4868-b0b8-5d2b335d02ae",
   "metadata": {},
   "outputs": [
    {
     "name": "stdout",
     "output_type": "stream",
     "text": [
      "Current country name: United States\n",
      "Current population: 331000000\n"
     ]
    }
   ],
   "source": [
    "# Get the country name and population using getter methods\n",
    "current_name = country1.get_name()\n",
    "current_population = country1.get_population()\n",
    "print(\"Current country name:\", current_name)\n",
    "print(\"Current population:\", current_population)\n",
    "\n"
   ]
  },
  {
   "cell_type": "code",
   "execution_count": 28,
   "id": "d17952b5-c343-4030-8e06-3577012bc451",
   "metadata": {},
   "outputs": [
    {
     "name": "stdout",
     "output_type": "stream",
     "text": [
      "Country name cannot be empty.\n",
      "Population cannot be negative.\n"
     ]
    }
   ],
   "source": [
    "# Set a new country name and population using setter methods\n",
    "country1.set_name(\"Canada\")\n",
    "country1.set_population(38000000)\n",
    "\n",
    "# Try to set an empty country name and a negative population (validation in setter methods)\n",
    "country1.set_name(\"\")\n",
    "country1.set_population(-10000)\n",
    "\n"
   ]
  },
  {
   "cell_type": "code",
   "execution_count": 29,
   "id": "12dda2dc-83cd-4948-b26b-c6349092a3cf",
   "metadata": {},
   "outputs": [
    {
     "name": "stdout",
     "output_type": "stream",
     "text": [
      "Updated country name: Canada\n",
      "Updated population: 38000000\n"
     ]
    }
   ],
   "source": [
    "# Get the updated country name and population\n",
    "updated_name = country1.get_name()\n",
    "updated_population = country1.get_population()\n",
    "print(\"Updated country name:\", updated_name)\n",
    "print(\"Updated population:\", updated_population)\n"
   ]
  },
  {
   "cell_type": "code",
   "execution_count": 31,
   "id": "858175b4-ab0d-480c-a1b1-81580d50c8f4",
   "metadata": {},
   "outputs": [],
   "source": [
    "#7. What is name mangling in Python, and how does it affect encapsulation?\n",
    "\n",
    "#Name mangling in Python is a mechanism that affects the visibility and accessibility of class members (attributes and methods) with double underscores (__) as a prefix. It is a way to make these members less accessible from outside the class, while still allowing limited access when necessary. Name mangling alters the name of the member in a way that includes the class name as a prefix, making it less likely to accidentally clash with similarly named members in derived classes or external code.\n",
    "\n",
    "#The primary purpose of name mangling is to partially enforce encapsulation by making it more difficult to access private or protected members outside the class. It doesn't make the members completely private, but it acts as a way to prevent unintentional or accidental access to them. Name mangling is essentially a form of \"name scrambling.\"\n",
    "\n",
    "\n",
    "#Name Mangling Format: When you use a double underscore prefix (e.g., __my_var) for an attribute or method within a class, Python internally renames it by adding the class name as a prefix followed by another underscore (e.g., _ClassName__my_var).\n",
    "\n",
    "#Limited Protection: This renaming is performed automatically by Python, and it is intended to provide limited protection for these members. It makes it less likely that external code or derived classes will accidentally override or access these members.\n",
    "\n",
    "#Encapsulation: Name mangling is not a strict security feature. It doesn't fully prevent access to these members if you explicitly use the mangled name from external code. However, it serves as a signal that the member is intended for internal use, and it should not be accessed directly.\n",
    "\n",
    "#Here's an example to illustrate the concept of name mangling:\n",
    "\n",
    "\n",
    "class MyClass:\n",
    "    def __init__(self):\n",
    "        self.__my_var = 42  # Private attribute\n",
    "\n",
    "    def my_method(self):\n",
    "        print(self.__my_var)\n",
    "\n",
    "#In this example, __my_var is a private attribute, and name mangling changes it to _MyClass__my_var. While it is technically possible to access _MyClass__my_var directly from outside the class, it goes against the principle of encapsulation. The recommended approach is to access the private attribute through a public method, promoting encapsulation and maintaining code integrity.\n"
   ]
  },
  {
   "cell_type": "code",
   "execution_count": 32,
   "id": "77f76d2f-2199-4e20-840e-a70f521ca07a",
   "metadata": {},
   "outputs": [],
   "source": [
    "# Create an instance of MyClass\n",
    "obj = MyClass()\n",
    "\n",
    "\n"
   ]
  },
  {
   "cell_type": "code",
   "execution_count": 33,
   "id": "d3274a33-3b00-48e3-86d8-7b0105925c37",
   "metadata": {},
   "outputs": [
    {
     "name": "stdout",
     "output_type": "stream",
     "text": [
      "42\n"
     ]
    }
   ],
   "source": [
    "# Accessing the private attribute using name mangling\n",
    "print(obj._MyClass__my_var)  # This is possible but not recommended\n",
    "\n"
   ]
  },
  {
   "cell_type": "code",
   "execution_count": 34,
   "id": "8d1f23a0-d3d6-4e5b-a1d5-1389438e0a1f",
   "metadata": {},
   "outputs": [
    {
     "name": "stdout",
     "output_type": "stream",
     "text": [
      "42\n"
     ]
    }
   ],
   "source": [
    "# Accessing the private attribute via a public method\n",
    "obj.my_method()  # This is the recommended way to access encapsulated data"
   ]
  },
  {
   "cell_type": "code",
   "execution_count": 36,
   "id": "2a1ab95a-9802-4d97-ba56-0e4a97f10d66",
   "metadata": {},
   "outputs": [
    {
     "name": "stdout",
     "output_type": "stream",
     "text": [
      "Current balance: 1000.0\n"
     ]
    }
   ],
   "source": [
    "#8. Create a Python class called `BankAccount` with private attributes for the account balance (`__balance`)\n",
    "\n",
    "class BankAccount:\n",
    "    def __init__(self, initial_balance=0.0):\n",
    "        self.__balance = initial_balance  # Private attribute\n",
    "\n",
    "    def deposit(self, amount):\n",
    "        self.__balance += amount\n",
    "\n",
    "    def withdraw(self, amount):\n",
    "        if amount <= self.__balance:\n",
    "            self.__balance -= amount\n",
    "        else:\n",
    "            print(\"Insufficient funds for withdrawal.\")\n",
    "\n",
    "# Create a BankAccount object with an initial balance of $1000.0\n",
    "account1 = BankAccount(1000.0)\n",
    "\n",
    "# Access the account balance directly\n",
    "current_balance = account1._BankAccount__balance\n",
    "print(\"Current balance:\", current_balance)\n"
   ]
  },
  {
   "cell_type": "code",
   "execution_count": 37,
   "id": "fc0e0fa1-0ca1-442d-8a04-04c250dee523",
   "metadata": {},
   "outputs": [],
   "source": [
    "\n",
    "# Deposit $500 into the account\n",
    "account1.deposit(500.0)\n",
    "\n"
   ]
  },
  {
   "cell_type": "code",
   "execution_count": 38,
   "id": "9957da3c-8afc-4b28-8a96-b38006be625d",
   "metadata": {},
   "outputs": [],
   "source": [
    "# Withdraw $300 from the account\n",
    "account1.withdraw(300.0)\n",
    "\n"
   ]
  },
  {
   "cell_type": "code",
   "execution_count": 39,
   "id": "35e46aa5-5c9f-4caa-994c-8246177eed4b",
   "metadata": {},
   "outputs": [
    {
     "name": "stdout",
     "output_type": "stream",
     "text": [
      "Insufficient funds for withdrawal.\n"
     ]
    }
   ],
   "source": [
    "# Try to withdraw an amount greater than the current balance (validation in the withdraw method)\n",
    "account1.withdraw(10000.0)\n",
    "\n",
    "\n"
   ]
  },
  {
   "cell_type": "code",
   "execution_count": 40,
   "id": "d50bc6fe-e5ae-4d89-b9bb-f501e5099b02",
   "metadata": {},
   "outputs": [
    {
     "name": "stdout",
     "output_type": "stream",
     "text": [
      "Updated balance: 1200.0\n"
     ]
    }
   ],
   "source": [
    "# Access the updated account balance directly\n",
    "updated_balance = account1._BankAccount__balance\n",
    "print(\"Updated balance:\", updated_balance)"
   ]
  },
  {
   "cell_type": "code",
   "execution_count": 42,
   "id": "fb692b8b-7298-42c0-8ab3-024d7504a90c",
   "metadata": {},
   "outputs": [],
   "source": [
    "#9. Discuss the advantages of encapsulation in terms of code maintainability and security.\n",
    "\n",
    "#Encapsulation is a fundamental concept in object-oriented programming that offers several advantages in terms of code maintainability and security:\n",
    "\n",
    "\n",
    "Code Maintainability:\n",
    "\n",
    "#Modular Design: Encapsulation promotes modular and independent class design.\n",
    "#Ease of Updates: Internal changes don't affect external code if the public interface remains the same.\n",
    "#Improved Collaboration: Multiple developers can work on different parts of a codebase without interfering with each other.\n",
    "#Reduced Complexity: Users interact with classes through a simplified interface.\n",
    "#Easier Debugging: Issues can be isolated to specific classes, making debugging more manageable.\n",
    "\n",
    "Security:\n",
    "\n",
    "#Access Control: Restricts access to class members, reducing the risk of unintended or unauthorized access.\n",
    "#Data Integrity: Validates and sanitizes data through controlled access methods.\n",
    "#Preventing Unauthorized Modifications: Protects data from unauthorized changes.\n",
    "#Information Hiding: Hides internal details, reducing exposure of sensitive information and vulnerabilities.\n",
    "#Version Control: Facilitates controlled data changes and the implementation of security measures during updates.\n",
    "\n",
    "\n"
   ]
  },
  {
   "cell_type": "code",
   "execution_count": 43,
   "id": "9843c886-04be-4970-aa3f-e42306b1ecd4",
   "metadata": {},
   "outputs": [
    {
     "name": "stdout",
     "output_type": "stream",
     "text": [
      "John smith\n",
      "112200\n"
     ]
    }
   ],
   "source": [
    "#10. How can you access private attributes in Python? Provide an example demonstrating the use of namemangling.\n",
    "\n",
    "#In Python, private attributes (those with a double underscore prefix, such as __private_attribute) can be accessed using a technique called \"name mangling.\" Name mangling changes the name of the private attribute by adding the class name as a prefix, making it less accessible from outside the class.\n",
    "\n",
    "class Employee:\n",
    "    def __init__(self, name, employee_id):\n",
    "        self.__name = name  # Private attribute\n",
    "        self.__employee_id = employee_id  # Private attribute\n",
    "\n",
    "    def display_info(self):\n",
    "        print(\"Employee Name:\", self.__name)\n",
    "        print(\"Employee ID:\", self.__employee_id)\n",
    "\n",
    "# Create an Employee object\n",
    "employee = Employee(\"John smith\", 112200)\n",
    "\n",
    "# Accessing the private attributes using name mangling\n",
    "print(employee._Employee__name)\n",
    "print(employee._Employee__employee_id)\n",
    "\n",
    "\n",
    "#In this example, the Employee class has two private attributes, __name and __employee_id. We access these private attributes using name mangling by prefixing the attribute names with _Employee__. However, I want to emphasize that directly accessing private attributes using name mangling is generally discouraged in Python. It's recommended to use the class's public methods for accessing or modifying these attributes to maintain proper encapsulation."
   ]
  },
  {
   "cell_type": "code",
   "execution_count": 2,
   "id": "1ee5d36f-7aca-4323-bdfc-8a3e7d7c4a0f",
   "metadata": {},
   "outputs": [
    {
     "name": "stdout",
     "output_type": "stream",
     "text": [
      "Student ID: 111002345, Name: Raj Malhotra, Age: 18\n",
      "Teacher ID: 111000012, Name: Anjan Mehra, Age: 35\n",
      "Student ID: 111002345, Name: Raj Malhotra, Age: 18 is enrolled in the following courses:\n",
      "Course Code: MATH101, Course Name: Introduction to Mathematics\n",
      "Teacher ID: 111000012, Name: Anjan Mehra, Age: 35 is teaching the following courses:\n",
      "Course Code: MATH101, Course Name: Introduction to Mathematics\n",
      "Course Code: PHYS101, Course Name: Physics Fundamentals\n"
     ]
    }
   ],
   "source": [
    "#11. Create a Python class hierarchy for a school system, including classes for students, teachers, and courses,and implement encapsulation principles to protect sensitive information.\n",
    "\n",
    "\n",
    "class Student:\n",
    "    def __init__(self, student_id, name, age):\n",
    "        self.__student_id = student_id\n",
    "        self.__name = name\n",
    "        self.__age = age\n",
    "        self.__courses = []\n",
    "\n",
    "    def enroll(self, course):\n",
    "        self.__courses.append(course)\n",
    "\n",
    "    def get_info(self):\n",
    "        return f\"Student ID: {self.__student_id}, Name: {self.__name}, Age: {self.__age}\"\n",
    "\n",
    "class Teacher:\n",
    "    def __init__(self, teacher_id, name, age):\n",
    "        self.__teacher_id = teacher_id\n",
    "        self.__name = name\n",
    "        self.__age = age\n",
    "        self.__courses_taught = []\n",
    "\n",
    "    def assign(self, course):\n",
    "        self.__courses_taught.append(course)\n",
    "\n",
    "    def get_info(self):\n",
    "        return f\"Teacher ID: {self.__teacher_id}, Name: {self.__name}, Age: {self.__age}\"\n",
    "\n",
    "class Course:\n",
    "    def __init__(self, course_code, course_name):\n",
    "        self.__course_code = course_code\n",
    "        self.__course_name = course_name\n",
    "\n",
    "    def get_info(self):\n",
    "        return f\"Course Code: {self.__course_code}, Course Name: {self.__course_name}\"\n",
    "\n",
    "# Usage Example:\n",
    "if __name__ == \"__main__\":\n",
    "    student1 = Student(\"111002345\", \"Raj Malhotra\", 18)\n",
    "    teacher1 = Teacher(\"111000012\", \"Anjan Mehra\", 35)\n",
    "    math_course = Course(\"MATH101\", \"Introduction to Mathematics\")\n",
    "    physics_course = Course(\"PHYS101\", \"Physics Fundamentals\")\n",
    "\n",
    "    student1.enroll(math_course)\n",
    "    teacher1.assign(math_course)\n",
    "    teacher1.assign(physics_course)\n",
    "\n",
    "    print(student1.get_info())\n",
    "    print(teacher1.get_info())\n",
    "\n",
    "    enrolled_courses = student1._Student__courses  # Direct access to courses (for demonstration only)\n",
    "    print(f\"{student1.get_info()} is enrolled in the following courses:\")\n",
    "    for course in enrolled_courses:\n",
    "        print(course.get_info())\n",
    "\n",
    "    courses_taught = teacher1._Teacher__courses_taught  # Direct access to courses_taught (for demonstration only)\n",
    "    print(f\"{teacher1.get_info()} is teaching the following courses:\")\n",
    "    for course in courses_taught:\n",
    "        print(course.get_info())\n",
    "#This code defines the Student, Teacher, and Course classes with private attributes and methods to access and modify their data, following encapsulation principles. The usage example demonstrates how to create instances of these classes and interact with them."
   ]
  },
  {
   "cell_type": "code",
   "execution_count": 7,
   "id": "0d0fc9e7-af21-4ec6-b4c3-b6bcfd8fa398",
   "metadata": {},
   "outputs": [
    {
     "name": "stdout",
     "output_type": "stream",
     "text": [
      "Getting name\n",
      "Alex\n",
      "Setting name\n",
      "Setting name\n",
      "Name must be a string\n",
      "Deleting name\n"
     ]
    }
   ],
   "source": [
    "#12. Explain the concept of property decorators in Python and how they relate to encapsulation.\n",
    "\n",
    "#In Python, property decorators are a way to encapsulate class attributes by providing getter, setter, and deleter methods for those attributes while allowing you to control access and modification of the attribute's values. Property decorators are used to implement the concept of encapsulation by hiding the implementation details of how attributes are accessed and modified.\n",
    "\n",
    "#@property: The @property decorator is used to define a getter method for an attribute. This allows you to access the attribute as if it were a read-only property, and it is invoked when you try to access the attribute's value. It's useful when you want to compute or validate the value before returning it.\n",
    "\n",
    "#@attribute_name.setter: The @attribute_name.setter decorator is used to define a setter method for an attribute. It is called when you attempt to assign a value to the attribute. This allows you to control and validate the value being assigned to the attribute.\n",
    "\n",
    "#@attribute_name.deleter: The @attribute_name.deleter decorator is used to define a deleter method for an attribute. It is called when you use the del statement to delete the attribute. This is helpful for performing any cleanup or custom actions when an attribute is deleted.\n",
    "\n",
    "#Here's an example that demonstrates property decorators and encapsulation:\n",
    "\n",
    "\n",
    "class Student:\n",
    "    def __init__(self, name, age):\n",
    "        self.__name = name  # Private attribute\n",
    "        self.__age = age\n",
    "\n",
    "    @property\n",
    "    def name(self):\n",
    "        print(\"Getting name\")\n",
    "        return self.__name\n",
    "\n",
    "    @name.setter\n",
    "    def name(self, value):\n",
    "        print(\"Setting name\")\n",
    "        if isinstance(value, str):\n",
    "            self.__name = value\n",
    "        else:\n",
    "            print(\"Name must be a string\")\n",
    "\n",
    "    @name.deleter\n",
    "    def name(self):\n",
    "        print(\"Deleting name\")\n",
    "        del self.__name\n",
    "\n",
    "student = Student(\"Alex\", 20)\n",
    "\n",
    "print(student.name)  # Accessing the name attribute using the getter\n",
    "student.name = \"Angel\"  # Setting the name attribute using the setter\n",
    "student.name = 123  # Attempting to set the name to an invalid value\n",
    "del student.name  # Deleting the name attribute\n",
    "\n",
    "#In this example, the name attribute is encapsulated with a getter, setter, and deleter. When you access, set, or delete the name attribute, the corresponding getter, setter, or deleter methods are invoked, allowing you to control and validate the attribute's behavior. This is how property decorators help achieve encapsulation by providing controlled access to class attributes.\n",
    "\n",
    "\n",
    "\n",
    "\n",
    "\n",
    "\n"
   ]
  },
  {
   "cell_type": "code",
   "execution_count": 9,
   "id": "9f7f2eb9-6eae-43f0-9736-3a46165d849d",
   "metadata": {},
   "outputs": [
    {
     "name": "stdout",
     "output_type": "stream",
     "text": [
      "Name: Suraj, Age: 20\n",
      "Name: Suraj, Age: 25\n"
     ]
    }
   ],
   "source": [
    "#13. What is data hiding, and why is it important in encapsulation? Provide examples.\n",
    "\n",
    "#Data hiding is a concept in object-oriented programming and encapsulation that involves restricting direct access to certain attributes or methods of a class from outside the class. It's important in encapsulation because it allows you to protect the internal state and implementation details of a class, which helps maintain the integrity of the data and prevents unintended or unauthorized modifications. Data hiding is achieved by using access modifiers (public, private, protected) to control the visibility of class members\n",
    "\n",
    "#Security: It prevents unauthorized access or modification of sensitive data, which is crucial for maintaining data security and integrity.\n",
    "\n",
    "#Abstraction: It abstracts the implementation details from the user of a class, allowing the class to change its internal structure without affecting the external interface.\n",
    "\n",
    "#Encapsulation: It's a fundamental aspect of encapsulation, as it encapsulates the data and behavior within a class, providing controlled access to them through well-defined methods\n",
    "\n",
    "\n",
    "\n",
    "class Student:\n",
    "    def __init__(self, name, age):\n",
    "        self.__name = name  # Private attribute\n",
    "        self.__age = age\n",
    "\n",
    "    def get_info(self):\n",
    "        return f\"Name: {self.__name}, Age: {self.__age}\"\n",
    "\n",
    "    def set_age(self, age):\n",
    "        if 0 < age < 100:\n",
    "            self.__age = age\n",
    "            \n",
    "            \n",
    "#the __name and __age attributes are marked as private, and a getter method get_info and a setter method set_age are used for controlled access and modification. The attempt to modify __age directly is ineffective due to data hiding, and the set_age method is used to update the age with validation.\n",
    "\n",
    "# Example usage:\n",
    "student = Student(\"Suraj\", 20)\n",
    "\n",
    "print(student.get_info())  # Accessing data using a getter\n",
    "\n",
    "# Attempt to modify the age directly (not effective due to data hiding)\n",
    "student.__age = 30\n",
    "\n",
    "# Set the age using a method with validation\n",
    "student.set_age(25)\n",
    "\n",
    "print(student.get_info())  # Updated age is displayed"
   ]
  },
  {
   "cell_type": "code",
   "execution_count": 11,
   "id": "5b24bd5c-a5e1-4cca-a5d8-9ceb1f2c2221",
   "metadata": {},
   "outputs": [
    {
     "name": "stdout",
     "output_type": "stream",
     "text": [
      "Employee ID: E12345, Salary: $50000\n",
      "Employee ID: E67890, Salary: $60000\n",
      "Employee ID: E12345, Salary: $55000\n"
     ]
    }
   ],
   "source": [
    "#14. Create a Python class called `Employee` with private attributes for salary (`__salary`) and employee ID\n",
    "\n",
    "class Employee:\n",
    "    def __init__(self, employee_id, salary):\n",
    "        self.__employee_id = employee_id\n",
    "        self.__salary = salary\n",
    "\n",
    "    def get_employee_info(self):\n",
    "        return f\"Employee ID: {self.__employee_id}, Salary: ${self.__salary}\"\n",
    "\n",
    "    def update_salary(self, new_salary):\n",
    "        if new_salary >= 0:\n",
    "            self.__salary = new_salary\n",
    "\n",
    "# Example usage:\n",
    "employee1 = Employee(\"E12345\", 50000)\n",
    "employee2 = Employee(\"E67890\", 60000)\n",
    "\n",
    "print(employee1.get_employee_info())\n",
    "print(employee2.get_employee_info())\n",
    "\n",
    "employee1.__salary = 55000  # Attempt to modify salary directly (ineffective due to data hiding)\n",
    "\n",
    "employee1.update_salary(55000)  # Update salary using the method\n",
    "print(employee1.get_employee_info())  # Updated salary is displayed"
   ]
  },
  {
   "cell_type": "code",
   "execution_count": 15,
   "id": "7deaef72-6ef5-43e1-9abc-eee9bd4c55ec",
   "metadata": {},
   "outputs": [
    {
     "name": "stdout",
     "output_type": "stream",
     "text": [
      "50000\n"
     ]
    }
   ],
   "source": [
    "#15. Discuss the use of accessors and mutators in encapsulation. How do they help maintain control overattribute access?\n",
    "\n",
    "#Accessors and mutators are methods used in encapsulation to control access to an object's attributes (also known as getter and setter methods, respectively). They play a crucial role in maintaining control over attribute access, ensuring that the object's internal state remains consistent and that data validation can be performed\n",
    "\n",
    "\n",
    "#Accessors (Getter Methods):\n",
    "\n",
    "#Purpose: Accessors are methods used to retrieve the value of an attribute, providing read-only access to it. They allow external code to obtain the value without directly accessing the attribute.\n",
    "#Use: Accessors are used to expose the state of an object's attributes to the outside world. They provide a controlled and standardized way to access data. By encapsulating attribute access within accessors, you can add logic or validation checks as needed.\n",
    "\n",
    "\n",
    "class Employee:\n",
    "    def __init__(self, name, salary):\n",
    "        self.__name = name\n",
    "        self.__salary = salary\n",
    "\n",
    "    def get_salary(self):\n",
    "        return self.__salary\n",
    "\n",
    "emp = Employee(\"Ajay\", 50000)\n",
    "salary = emp.get_salary()  # Accessing salary using the getter method\n",
    "print(salary)"
   ]
  },
  {
   "cell_type": "code",
   "execution_count": 21,
   "id": "53d8e25e-a788-47a9-af3c-28bd2db0dae1",
   "metadata": {},
   "outputs": [
    {
     "name": "stdout",
     "output_type": "stream",
     "text": [
      "75000\n"
     ]
    }
   ],
   "source": [
    "#Mutators (Setter Methods):\n",
    "\n",
    "#Purpose: Mutators are methods used to modify the value of an attribute. They provide write access to the attribute while allowing for validation and control over the change.\n",
    "#Use: Mutators enable controlled modification of attributes. They are essential for maintaining data integrity by validating and enforcing rules on the new value of an attribute.\n",
    "\n",
    "class Employee:\n",
    "    def __init__(self, name, salary):\n",
    "        self.__name = name\n",
    "        self.__salary = salary\n",
    "\n",
    "    def set_salary(self, new_salary):\n",
    "        if new_salary >= 0:\n",
    "            self.__salary = new_salary\n",
    "\n",
    "emp = Employee(\"Trisha\", 70000)\n",
    "emp.set_salary(75000)  # Modifying salary using the setter method\n",
    "print(emp._Employee__salary)"
   ]
  },
  {
   "cell_type": "code",
   "execution_count": null,
   "id": "30726a1b-5f74-4bfe-9d73-17b833bc64c9",
   "metadata": {},
   "outputs": [],
   "source": [
    "#16. What are the potential drawbacks or disadvantages of using encapsulation in Python?\n",
    "\n",
    "#In Python, encapsulation helps control and protect the internal state of objects by using private attributes and accessor methods (getters and setters). However, there are potential drawbacks:\n",
    "\n",
    "#Complexity: Excessive encapsulation can make code more complex and harder to read.\n",
    "\n",
    "#Performance Overhead: Using getter and setter methods can have a small performance cost.\n",
    "\n",
    "#Reduced Flexibility: Over-encapsulation can make it harder to modify code later.\n",
    "\n",
    "#Reduced Readability: Too many getter and setter methods can make code less readable.\n",
    "\n",
    "#Possible Compatibility Issues: Changing attribute access to methods can break existing code.\n",
    "\n",
    "#Testing Overhead: Testing getter and setter methods can add testing complexity.\n",
    "\n"
   ]
  },
  {
   "cell_type": "code",
   "execution_count": 24,
   "id": "64fe32bf-902a-4119-993d-fad3eb90b05e",
   "metadata": {},
   "outputs": [
    {
     "name": "stdout",
     "output_type": "stream",
     "text": [
      "Title: As the crow flies, Author: Jeoffrey Archer, Available: Yes\n",
      "Title: Street Lawyer, Author: Jhon Grisham, Available: Yes\n",
      "Book 'As the crow flies' by Jeoffrey Archer is checked out.\n",
      "Book 'Street Lawyer' by Jhon Grisham is already available.\n",
      "Title: As the crow flies, Author: Jeoffrey Archer, Available: No\n",
      "Title: Street Lawyer, Author: Jhon Grisham, Available: Yes\n"
     ]
    }
   ],
   "source": [
    "#17. Create a Python class for a library system that encapsulates book information, including titles, authors,and availability status.\n",
    "\n",
    "\n",
    "class Book:\n",
    "    def __init__(self, title, author):\n",
    "        self.title = title\n",
    "        self.author = author\n",
    "        self.available = True\n",
    "\n",
    "    def check_out(self):\n",
    "        if self.available:\n",
    "            self.available = False\n",
    "            return f\"Book '{self.title}' by {self.author} is checked out.\"\n",
    "        else:\n",
    "            return f\"Book '{self.title}' by {self.author} is not available.\"\n",
    "\n",
    "    def check_in(self):\n",
    "        if not self.available:\n",
    "            self.available = True\n",
    "            return f\"Book '{self.title}' by {self.author} is checked in.\"\n",
    "        else:\n",
    "            return f\"Book '{self.title}' by {self.author} is already available.\"\n",
    "\n",
    "    def get_info(self):\n",
    "        return f\"Title: {self.title}, Author: {self.author}, Available: {'Yes' if self.available else 'No'}\"\n",
    "\n",
    "# Example usage:\n",
    "if __name__ == \"__main__\":\n",
    "    book1 = Book(\"As the crow flies\", \"Jeoffrey Archer\")\n",
    "    book2 = Book(\"Street Lawyer\", \"Jhon Grisham\")\n",
    "\n",
    "    print(book1.get_info())  # Display book information\n",
    "    print(book2.get_info())\n",
    "\n",
    "    print(book1.check_out())  # Check out a book\n",
    "    print(book2.check_in())  # Check in a book\n",
    "\n",
    "    print(book1.get_info())  # Display updated availability\n",
    "    print(book2.get_info())"
   ]
  },
  {
   "cell_type": "code",
   "execution_count": null,
   "id": "acb34a4e-9270-4a92-90a7-857e86faa4a5",
   "metadata": {},
   "outputs": [],
   "source": [
    "#18. Explain how encapsulation enhances code reusability and modularity in Python programs.\n",
    "\n",
    "#Encapsulation in Python enhances code reusability and modularity by hiding the internal complexities of objects and providing a clean, well-defined interface for interaction. This makes it easier to reuse classes in different parts of the program, develop self-contained modules, and maintain code without affecting other parts of the program. It promotes separation of concerns and information hiding, simplifying development and updates.\n",
    "\n"
   ]
  },
  {
   "cell_type": "code",
   "execution_count": null,
   "id": "46320907-950d-4526-ae4f-a54f3687c50d",
   "metadata": {},
   "outputs": [],
   "source": [
    "#19. Describe the concept of information hiding in encapsulation. Why is it essential in software development?\n",
    "\n",
    "#Information hiding in encapsulation involves concealing the inner workings of an object or class while providing controlled access to its attributes and methods. It's essential in software development because it:\n",
    "\n",
    "#1.Simplifies code by abstracting complexity.\n",
    "#2.Promotes modular design for independent components.\n",
    "#3.Enhances security and data integrity.\n",
    "#4.Streamlines code maintenance and updates.\n",
    "#5.Facilitates collaboration in team development.\n",
    "#6.Encourages good software design practices."
   ]
  },
  {
   "cell_type": "code",
   "execution_count": 29,
   "id": "e2428233-cb04-46b4-a8c4-e6aa1ed79962",
   "metadata": {},
   "outputs": [
    {
     "name": "stdout",
     "output_type": "stream",
     "text": [
      "Name: Sam willimson\n",
      "Address: 123 Main St, City, Country\n",
      "Contact Info: sam@email.com\n",
      "Updated Contact Info: sam.Wil@gmail.com\n"
     ]
    }
   ],
   "source": [
    "#20. Create a Python class called `Customer` with private attributes for customer details like name, address,and contact information. Implement encapsulation to ensure data integrity and security.\n",
    "\n",
    "class Customer:\n",
    "    def __init__(self, name, address, contact_info):\n",
    "        self.__name = name\n",
    "        self.__address = address\n",
    "        self.__contact_info = contact_info\n",
    "\n",
    "    def get_name(self):\n",
    "        return self.__name\n",
    "\n",
    "    def get_address(self):\n",
    "        return self.__address\n",
    "\n",
    "    def get_contact_info(self):\n",
    "        return self.__contact_info\n",
    "\n",
    "    def update_contact_info(self, new_contact_info):\n",
    "        self.__contact_info = new_contact_info\n",
    "\n",
    "# Example usage:\n",
    "if __name__ == \"__main__\":\n",
    "    customer1 = Customer(\"Sam willimson\", \"123 Main St, City, Country\", \"sam@email.com\")\n",
    "    \n",
    "    print(f\"Name: {customer1.get_name()}\")\n",
    "    print(f\"Address: {customer1.get_address()}\")\n",
    "    print(f\"Contact Info: {customer1.get_contact_info()}\")\n",
    "    \n",
    "    # Update contact information\n",
    "    customer1.update_contact_info(\"sam.Wil@gmail.com\")\n",
    "    print(f\"Updated Contact Info: {customer1.get_contact_info()}\")\n",
    "\n",
    "#the Customer class encapsulates customer details with private attributes for name, address, and contact information. Getter methods (get_name, get_address, get_contact_info) are provided for controlled access to these attributes, and there's also a update_contact_info method for modifying the contact information while enforcing data integrity."
   ]
  },
  {
   "cell_type": "code",
   "execution_count": 30,
   "id": "c7a083dc-ade6-4f9c-b295-39e4fb9ff23b",
   "metadata": {},
   "outputs": [],
   "source": [
    "#Polymorphism:\n",
    "\n",
    "#1. What is polymorphism in Python? Explain how it is related to object-oriented programming.\n",
    "\n",
    "#Polymorphism in Python and object-oriented programming allows different classes to be treated as instances of a common superclass. It enables a single method or interface to work with objects of various classes, fostering code reusability and flexibility. Polymorphism is realized through method overriding, dynamic binding, interfaces, and abstract classes, simplifying code and promoting a high-level, consistent interface for objects. It's a key OOP concept that enhances code flexibility and maintainability."
   ]
  },
  {
   "cell_type": "code",
   "execution_count": 31,
   "id": "0e964d8a-19fc-4637-b4b2-7de1f4a4efd2",
   "metadata": {},
   "outputs": [
    {
     "ename": "TypeError",
     "evalue": "add() missing 1 required positional argument: 'z'",
     "output_type": "error",
     "traceback": [
      "\u001b[0;31m---------------------------------------------------------------------------\u001b[0m",
      "\u001b[0;31mTypeError\u001b[0m                                 Traceback (most recent call last)",
      "Cell \u001b[0;32mIn[31], line 18\u001b[0m\n\u001b[1;32m     15\u001b[0m \u001b[38;5;28;01mdef\u001b[39;00m \u001b[38;5;21madd\u001b[39m(x, y, z):\n\u001b[1;32m     16\u001b[0m     \u001b[38;5;28;01mreturn\u001b[39;00m x \u001b[38;5;241m+\u001b[39m y \u001b[38;5;241m+\u001b[39m z\n\u001b[0;32m---> 18\u001b[0m result \u001b[38;5;241m=\u001b[39m \u001b[43madd\u001b[49m\u001b[43m(\u001b[49m\u001b[38;5;241;43m1\u001b[39;49m\u001b[43m,\u001b[49m\u001b[43m \u001b[49m\u001b[38;5;241;43m2\u001b[39;49m\u001b[43m)\u001b[49m  \u001b[38;5;66;03m# Decided at compile time\u001b[39;00m\n",
      "\u001b[0;31mTypeError\u001b[0m: add() missing 1 required positional argument: 'z'"
     ]
    }
   ],
   "source": [
    "#2. Describe the difference between compile-time polymorphism and runtime polymorphism in Python.\n",
    "\n",
    "#Compile-time polymorphism and runtime polymorphism are two different types of polymorphism in Python, each occurring at a different stage of program execution:\n",
    "\n",
    "#Compile-time Polymorphism (Static Binding / Early Binding):\n",
    "\n",
    "#Occurs at compile time, before the program runs.\n",
    "#Involves method overloading, where multiple methods with the same name exist in the same class or scope but have different parameter lists.\n",
    "#The appropriate method is determined based on the method name and the number and types of arguments provided during compilation.\n",
    "#Example: Function overloading in Python, which allows defining multiple functions with the same name but different parameter lists, where the correct function is resolved at compile time based on the arguments.\n",
    "\n",
    "def add(x, y):\n",
    "    return x + y\n",
    "\n",
    "def add(x, y, z):\n",
    "    return x + y + z\n",
    "\n",
    "result = add(1, 2)  # Decided at compile time"
   ]
  },
  {
   "cell_type": "code",
   "execution_count": 33,
   "id": "792045e8-3c06-471a-b0f9-be0b1bcddcce",
   "metadata": {},
   "outputs": [],
   "source": [
    "#Runtime Polymorphism (Dynamic Binding / Late Binding):\n",
    "\n",
    "#Occurs at runtime, during program execution.\n",
    "#Involves method overriding, where a subclass provides a specific implementation of a method that is inherited from a superclass.\n",
    "#The appropriate method is determined dynamically based on the actual class of the object being referred to, allowing for polymorphic behavior.\n",
    "#Example: Inheritance and method overriding, where the method to execute is decided at runtime based on the object's actual class.\n",
    "\n",
    "class Animal:\n",
    "    def make_sound(self):\n",
    "        pass\n",
    "\n",
    "class Dog(Animal):\n",
    "    def make_sound(self):\n",
    "        return \"Woof!\"\n",
    "\n",
    "class Cat(Animal):\n",
    "    def make_sound(self):\n",
    "        return \"Meow!\"\n",
    "\n",
    "pet = Dog()\n",
    "sound = pet.make_sound()  # Decided at runtime based on the object's class"
   ]
  },
  {
   "cell_type": "code",
   "execution_count": null,
   "id": "a9b1795c-05da-4f4e-ae44-26a8b06f0465",
   "metadata": {},
   "outputs": [],
   "source": []
  },
  {
   "cell_type": "code",
   "execution_count": null,
   "id": "106badfa-d360-42bb-a369-63f3b331e21b",
   "metadata": {},
   "outputs": [],
   "source": [
    "#In summary, the key difference between compile-time polymorphism and runtime polymorphism is when the method to be executed is determined. Compile-time polymorphism is resolved during compilation based on the method signature, while runtime polymorphism is determined at runtime based on the actual class of the object. Runtime polymorphism, achieved through method overriding, is a core feature of object-oriented programming, allowing for dynamic behavior and extensibility in your code.\n",
    "\n",
    "\n"
   ]
  },
  {
   "cell_type": "code",
   "execution_count": 37,
   "id": "63510be2-a37a-4248-9030-f6aa02f6c1f8",
   "metadata": {},
   "outputs": [
    {
     "name": "stdout",
     "output_type": "stream",
     "text": [
      "Area of Circle: 28.274333882308138\n",
      "Area of Square: 16\n",
      "Area of Triangle: 9.0\n"
     ]
    }
   ],
   "source": [
    "#3. Create a Python class hierarchy for shapes (e.g., circle, square, triangle) and demonstrate polymorphismthrough a common method, such as `calculate_area()`.\n",
    "import math\n",
    "\n",
    "class Shape:\n",
    "    def calculate_area(self):\n",
    "        pass\n",
    "\n",
    "class Circle(Shape):\n",
    "    def __init__(self, radius):\n",
    "        self.radius = radius\n",
    "\n",
    "    def calculate_area(self):\n",
    "        return math.pi * self.radius**2\n",
    "\n",
    "class Square(Shape):\n",
    "    def __init__(self, side_length):\n",
    "        self.side_length = side_length\n",
    "\n",
    "    def calculate_area(self):\n",
    "        return self.side_length**2\n",
    "\n",
    "class Triangle(Shape):\n",
    "    def __init__(self, base, height):\n",
    "        self.base = base\n",
    "        self.height = height\n",
    "\n",
    "    def calculate_area(self):\n",
    "        return 0.5 * self.base * self.height\n",
    "\n",
    "# Example usage:\n",
    "if __name__ == \"__main__\":\n",
    "    shapes = [Circle(3), Square(4), Triangle(3, 6)]\n",
    "\n",
    "    for shape in shapes:\n",
    "        print(f\"Area of {shape.__class__.__name__}: {shape.calculate_area()}\")\n",
    "\n"
   ]
  },
  {
   "cell_type": "code",
   "execution_count": 40,
   "id": "f95a0eb6-1a8b-4676-b31d-7421de466f45",
   "metadata": {},
   "outputs": [
    {
     "name": "stdout",
     "output_type": "stream",
     "text": [
      "Sparrow: Chirp! Chirp!\n",
      "Eagle: Screech!\n",
      "Generic Bird: Some generic bird sound\n"
     ]
    }
   ],
   "source": [
    "#4. Explain the concept of method overriding in polymorphism. Provide an example.\n",
    "\n",
    "\n",
    "#Method overriding is a concept in polymorphism where a subclass provides a specific implementation of a method that is already defined in its superclass. It allows a subclass to replace or extend the behavior of the method inherited from the superclass. In short, method overriding enables a subclass to provide its own implementation of a method with the same name as the superclass, ensuring that the method call is resolved dynamically based on the object's actual class at runtime.\n",
    "\n",
    "class Bird:\n",
    "    def make_sound(self):\n",
    "        return \"Some generic bird sound\"\n",
    "\n",
    "class Sparrow(Bird):\n",
    "    def make_sound(self):\n",
    "        return \"Chirp! Chirp!\"\n",
    "\n",
    "class Eagle(Bird):\n",
    "    def make_sound(self):\n",
    "        return \"Screech!\"\n",
    "\n",
    "# Polymorphic behavior\n",
    "bird1 = Sparrow()  # Create a Sparrow object\n",
    "sound1 = bird1.make_sound()  # Calls Sparrow's implementation\n",
    "print(\"Sparrow:\", sound1)  # Outputs \"Sparrow: Chirp! Chirp!\"\n",
    "\n",
    "bird2 = Eagle()  # Create an Eagle object\n",
    "sound2 = bird2.make_sound()  # Calls Eagle's implementation\n",
    "print(\"Eagle:\", sound2)  # Outputs \"Eagle: Screech!\"\n",
    "\n",
    "generic_bird = Bird()  # Create a generic Bird object\n",
    "sound3 = generic_bird.make_sound()  # Calls Bird's implementation\n",
    "print(\"Generic Bird:\", sound3)  # Outputs \"Generic Bird: Some generic bird sound\"\n",
    "\n"
   ]
  },
  {
   "cell_type": "code",
   "execution_count": 44,
   "id": "023a9a19-0bd0-46a7-8c98-b0a28a6c3c66",
   "metadata": {},
   "outputs": [
    {
     "name": "stdout",
     "output_type": "stream",
     "text": [
      "Woof!\n"
     ]
    }
   ],
   "source": [
    "#5. How is polymorphism different from method overloading in Python? Provide examples for both.\n",
    "\n",
    "#Polymorphism and method overloading are related concepts in Python, but they have key differences:\n",
    "\n",
    "#Polymorphism allows different classes to be treated as instances of a common superclass.\n",
    "#It involves method overriding, where a subclass provides a specific implementation of a method inherited from a superclass.\n",
    "#The method to execute is determined at runtime based on the actual class of the object.\n",
    "#It provides dynamic behavior and flexibility by allowing a single method or interface to work with objects of different classes.\n",
    "\n",
    "class Car:\n",
    "    def accelerate(self):\n",
    "        return \"Car is accelerating.\"\n",
    "\n",
    "class Bicycle:\n",
    "    def accelerate(self):\n",
    "        return \"Bicycle is accelerating.\"\n",
    "\n",
    "class Boat:\n",
    "    def accelerate(self):\n",
    "        return \"Boat is accelerating.\"\n",
    "\n",
    "# Polymorphic behavior\n",
    "vehicles = [Car(), Bicycle(), Boat()]\n",
    "\n",
    "for vehicle in vehicles:\n",
    "    print(vehicle.accelerate())\n",
    "\n",
    "#Method Overloading:\n",
    "\n",
    "#Method overloading is not directly supported in Python as it is in some other languages (e.g., Java).\n",
    "#It involves defining multiple methods with the same name but different parameter lists within the same class or scope.\n",
    "#The appropriate method is determined at compile time based on the method name and the number/types of arguments passed.\n",
    "#In Python, you can't have two functions with the same name differing only in the number of parameters.\n",
    "\n",
    "\n",
    "def add(x, y):\n",
    "    return x + y\n",
    "\n",
    "def add(x, y, z):\n",
    "    return x + y + z\n",
    "\n",
    "result = add(1, 2)  # Would lead to a TypeError because Python does not support method overloading."
   ]
  },
  {
   "cell_type": "code",
   "execution_count": 1,
   "id": "e97e1ba1-d366-4f2b-8cab-b5270820d322",
   "metadata": {},
   "outputs": [
    {
     "name": "stdout",
     "output_type": "stream",
     "text": [
      "Woof!\n",
      "Meow!\n",
      "Chirp!\n"
     ]
    }
   ],
   "source": [
    "#6. Create a Python class called `Animal` with a method `speak()`. Then, create child classes like `Dog`, `Cat`, and `Bird`, each with their own `speak()` method. Demonstrate polymorphism by calling the `speak()` methodon objects of different subclasses.\n",
    "\n",
    "class Animal:\n",
    "    def speak(self):\n",
    "        pass\n",
    "\n",
    "class Dog(Animal):\n",
    "    def speak(self):\n",
    "        return \"Woof!\"\n",
    "\n",
    "class Cat(Animal):\n",
    "    def speak(self):\n",
    "        return \"Meow!\"\n",
    "\n",
    "class Bird(Animal):\n",
    "    def speak(self):\n",
    "        return \"Chirp!\"\n",
    "\n",
    "# Demonstrate polymorphism by calling the `speak()` method on objects of different subclasses\n",
    "animals = [Dog(), Cat(), Bird()]\n",
    "\n",
    "for animal in animals:\n",
    "    print(animal.speak())\n",
    "\n",
    "\n",
    "\n"
   ]
  },
  {
   "cell_type": "code",
   "execution_count": 2,
   "id": "9ffe85e3-2cbb-4cee-b200-08aae611d790",
   "metadata": {},
   "outputs": [
    {
     "name": "stdout",
     "output_type": "stream",
     "text": [
      "Woof!\n",
      "Meow!\n",
      "Chirp!\n"
     ]
    }
   ],
   "source": [
    "\n",
    "#7. Discuss the use of abstract methods and classes in achieving polymorphism in Python. Provide an example using the `abc` module.\n",
    "\n",
    "#Abstract methods and classes in Python are a way to achieve polymorphism by defining a common interface that subclasses must implement. This enforces a contract on the derived classes to provide specific methods, allowing you to ensure that each subclass follows the same API.\n",
    "\n",
    "#The abc (Abstract Base Classes) module in Python allows you to define abstract base classes and abstract methods. Abstract methods are methods declared in the base class but without an implementation, and they must be implemented in the derived classes. The use of abstract methods and classes provides a clear structure for achieving polymorphism.\n",
    "\n",
    "#Here's an example using the abc module to define an abstract base class Animal with an abstract method speak(), and then we create child classes Dog, Cat, and Bird that inherit from the abstract base class:\n",
    "\n",
    "\n",
    "from abc import ABC, abstractmethod\n",
    "\n",
    "class Animal(ABC):\n",
    "    @abstractmethod\n",
    "    def speak(self):\n",
    "        pass\n",
    "\n",
    "class Dog(Animal):\n",
    "    def speak(self):\n",
    "        return \"Woof!\"\n",
    "\n",
    "class Cat(Animal):\n",
    "    def speak(self):\n",
    "        return \"Meow!\"\n",
    "\n",
    "class Bird(Animal):\n",
    "    def speak(self):\n",
    "        return \"Chirp!\"\n",
    "\n",
    "# You can't create an instance of the abstract base class, which enforces the implementation of the abstract method.\n",
    "# animal = Animal()  # This will raise a TypeError\n",
    "\n",
    "# Demonstrate polymorphism by calling the `speak()` method on objects of different subclasses\n",
    "animals = [Dog(), Cat(), Bird()]\n",
    "\n",
    "for animal in animals:\n",
    "    print(animal.speak())\n",
    "    \n",
    "#In this example, we define an abstract base class Animal with an abstract method speak(). The child classes Dog, Cat, and Bird inherit from Animal and must implement the speak() method, which enforces a common interface. This ensures that all derived classes have a speak() method, allowing you to achieve polymorphism by calling the method on objects of different subclasses.\n",
    "\n",
    "#Using abstract methods and classes in combination with the abc module helps maintain a clear and consistent structure in your code while achieving polymorphism.\n",
    "\n",
    "\n",
    "\n",
    "\n",
    "\n",
    "\n",
    "\n"
   ]
  },
  {
   "cell_type": "code",
   "execution_count": 4,
   "id": "9d8d3238-794a-4491-8172-5849f95ae03f",
   "metadata": {},
   "outputs": [
    {
     "name": "stdout",
     "output_type": "stream",
     "text": [
      "Audi V7 starts the engine and drives off.\n",
      "Trek Mountain Bike starts pedaling.\n",
      "SeaRay Sailboat raises the sails and sets sail.\n"
     ]
    }
   ],
   "source": [
    "#8. Create a Python class hierarchy for a vehicle system (e.g., car, bicycle, boat) and implement a polymorphic `start()` method that prints a message specific to each vehicle type.\n",
    "\n",
    "class Vehicle:\n",
    "    def __init__(self, brand, model):\n",
    "        self.brand = brand\n",
    "        self.model = model\n",
    "\n",
    "    def start(self):\n",
    "        pass\n",
    "\n",
    "class Car(Vehicle):\n",
    "    def start(self):\n",
    "        return f\"{self.brand} {self.model} starts the engine and drives off.\"\n",
    "\n",
    "class Bicycle(Vehicle):\n",
    "    def start(self):\n",
    "        return f\"{self.brand} {self.model} starts pedaling.\"\n",
    "\n",
    "class Boat(Vehicle):\n",
    "    def start(self):\n",
    "        return f\"{self.brand} {self.model} raises the sails and sets sail.\"\n",
    "\n",
    "# Create objects of different vehicle types and demonstrate polymorphism by calling the `start()` method.\n",
    "vehicles = [\n",
    "    Car(\"Audi\", \"V7\"),\n",
    "    Bicycle(\"Trek\", \"Mountain Bike\"),\n",
    "    Boat(\"SeaRay\", \"Sailboat\"),\n",
    "]\n",
    "\n",
    "for vehicle in vehicles:\n",
    "    print(vehicle.start())"
   ]
  },
  {
   "cell_type": "code",
   "execution_count": 6,
   "id": "847288c6-1677-4615-821b-f8513624bf40",
   "metadata": {},
   "outputs": [
    {
     "name": "stdout",
     "output_type": "stream",
     "text": [
      "This is a Vehicle.\n",
      "Dog is a subclass of Animal.\n"
     ]
    }
   ],
   "source": [
    "#9. Explain the significance of the `isinstance()` and `issubclass()` functions in Python polymorphism.\n",
    "\n",
    "#isinstance(): This function is used to check if an object belongs to a particular class or a tuple of classes.\n",
    "\n",
    "#issubclass(): This function is used to check if a class is a subclass of a given class or tuple of classes.\n",
    "\n",
    "\n",
    "\n",
    "class Vehicle:\n",
    "    pass\n",
    "\n",
    "class Car(Vehicle):\n",
    "    pass\n",
    "\n",
    "class Bicycle(Vehicle):\n",
    "    pass\n",
    "\n",
    "class Animal:\n",
    "    pass\n",
    "\n",
    "class Dog(Animal):\n",
    "    pass\n",
    "\n",
    "vehicle = Car()\n",
    "\n",
    "if isinstance(vehicle, Vehicle):\n",
    "    print(\"This is a Vehicle.\")\n",
    "\n",
    "if issubclass(Dog, Animal):\n",
    "    print(\"Dog is a subclass of Animal.\")"
   ]
  },
  {
   "cell_type": "code",
   "execution_count": 7,
   "id": "4b2a9fa0-5842-44ab-ba81-12efd5417a21",
   "metadata": {},
   "outputs": [
    {
     "name": "stdout",
     "output_type": "stream",
     "text": [
      "Withdrew $500 from Savings Account. New balance: $500\n",
      "Withdrew $500 from Checking Account. New balance: $1500\n"
     ]
    }
   ],
   "source": [
    "#10. What is the role of the `@abstractmethod` decorator in achieving polymorphism in Python? Provide an example.\n",
    "\n",
    "#The @abstractmethod decorator, from the abc (Abstract Base Classes) module in Python, plays a crucial role in achieving polymorphism by marking a method as abstract. An abstract method is a method declared in a base class but without an implementation. Subclasses must implement these abstract methods, ensuring a common interface for polymorphic behavior.\n",
    "\n",
    "from abc import ABC, abstractmethod\n",
    "\n",
    "class Account(ABC):\n",
    "    def __init__(self, account_number, balance):\n",
    "        self.account_number = account_number\n",
    "        self.balance = balance\n",
    "\n",
    "    @abstractmethod\n",
    "    def withdraw(self, amount):\n",
    "        pass\n",
    "\n",
    "class SavingsAccount(Account):\n",
    "    def withdraw(self, amount):\n",
    "        if self.balance >= amount:\n",
    "            self.balance -= amount\n",
    "            return f\"Withdrew ${amount} from Savings Account. New balance: ${self.balance}\"\n",
    "        else:\n",
    "            return \"Insufficient funds.\"\n",
    "\n",
    "class CheckingAccount(Account):\n",
    "    def withdraw(self, amount):\n",
    "        if self.balance >= amount:\n",
    "            self.balance -= amount\n",
    "            return f\"Withdrew ${amount} from Checking Account. New balance: ${self.balance}\"\n",
    "        else:\n",
    "            return \"Insufficient funds.\"\n",
    "\n",
    "# Create objects of different account types and demonstrate polymorphism by calling the `withdraw()` method.\n",
    "accounts = [SavingsAccount(\"SA123\", 1000), CheckingAccount(\"CA456\", 2000)]\n",
    "\n",
    "for account in accounts:\n",
    "    print(account.withdraw(500))\n"
   ]
  },
  {
   "cell_type": "code",
   "execution_count": 8,
   "id": "54317c59-b665-444d-bb5d-d423cc9ade7e",
   "metadata": {},
   "outputs": [
    {
     "name": "stdout",
     "output_type": "stream",
     "text": [
      "Area of the shape: 12.566370614359172\n",
      "Area of the shape: 12\n",
      "Area of the shape: 15.0\n"
     ]
    }
   ],
   "source": [
    "#11.Create a Python class called `Shape` with a polymorphic method `area()` that calculates the area of different shapes (e.g., circle, rectangle, triangle).\n",
    "\n",
    "\n",
    "\n",
    "\n",
    "import math\n",
    "\n",
    "class Shape:\n",
    "    def area(self):\n",
    "        pass\n",
    "\n",
    "class Circle(Shape):\n",
    "    def __init__(self, radius):\n",
    "        self.radius = radius\n",
    "\n",
    "    def area(self):\n",
    "        return math.pi * self.radius**2\n",
    "\n",
    "class Rectangle(Shape):\n",
    "    def __init__(self, width, height):\n",
    "        self.width = width\n",
    "        self.height = height\n",
    "\n",
    "    def area(self):\n",
    "        return self.width * self.height\n",
    "\n",
    "class Triangle(Shape):\n",
    "    def __init__(self, base, height):\n",
    "        self.base = base\n",
    "        self.height = height\n",
    "\n",
    "    def area(self):\n",
    "        return 0.5 * self.base * self.height\n",
    "\n",
    "# Create objects of different shape types and demonstrate polymorphism by calling the `area()` method.\n",
    "shapes = [Circle(2), Rectangle(3, 4), Triangle(5, 6)]\n",
    "\n",
    "for shape in shapes:\n",
    "    print(f\"Area of the shape: {shape.area()}\")\n"
   ]
  },
  {
   "cell_type": "code",
   "execution_count": 9,
   "id": "82d8a5a2-db8e-470b-bea4-223174096255",
   "metadata": {},
   "outputs": [],
   "source": [
    "#12. Discuss the benefits of polymorphism in terms of code reusability and flexibility in Python programs.\n",
    "\n",
    "#Polymorphism in Python promotes code reusability and flexibility by allowing you to write generic code that can work with multiple types of objects, reducing redundancy and making it easier to adapt and extend your code. It simplifies interfaces, improves code readability, encourages good software design practices, and simplifies testing and maintenance. Polymorphism helps create more modular and scalable code, reducing the need for extensive conditional statements and enhancing code organization.\n",
    "\n"
   ]
  },
  {
   "cell_type": "code",
   "execution_count": 11,
   "id": "fc33008e-a084-447a-9fa7-23cbd568a319",
   "metadata": {},
   "outputs": [
    {
     "name": "stdout",
     "output_type": "stream",
     "text": [
      "This is the parent class.\n",
      "This is the child class.\n"
     ]
    }
   ],
   "source": [
    "#13. Explain the use of the `super()` function in Python polymorphism. How does it help call methods of parent classes?\n",
    "\n",
    "#The super() function in Python is used to call methods and constructors of a parent class (or superclass) from within a subclass. It helps in achieving method overriding and maintaining a connection between the parent and child classes. This is essential in Python polymorphism as it allows you to customize the behavior of methods in a child class while retaining and extending the functionality of methods from the parent class.\n",
    "\n",
    "\n",
    "class Parent:\n",
    "    def show(self):\n",
    "        print(\"This is the parent class.\")\n",
    "\n",
    "class Child(Parent):\n",
    "    def show(self):\n",
    "        super().show()  # Call the parent class method\n",
    "        print(\"This is the child class.\")\n",
    "\n",
    "child_obj = Child()\n",
    "child_obj.show()\n",
    "\n",
    "#In this example, the Child class overrides the show() method defined in the Parent class. Inside the show() method of the Child class, super().show() is used to call the show() method of the Parent class. This allows you to extend the behavior of the parent class method in the child class."
   ]
  },
  {
   "cell_type": "code",
   "execution_count": 12,
   "id": "213d7ac9-9cc1-485d-9235-cb0ddfb73689",
   "metadata": {},
   "outputs": [
    {
     "name": "stdout",
     "output_type": "stream",
     "text": [
      "Withdrew $500 from Savings Account. New balance: $500\n",
      "Withdrew $500 from Checking Account. New balance: $1500\n",
      "Withdrew $500 from Credit Card Account. New balance: $0\n"
     ]
    }
   ],
   "source": [
    "#14. Create a Python class hierarchy for a banking system with various account types (e.g., savings, checking, credit card) and demonstrate polymorphism by implementing a common `withdraw()` method.\n",
    "\n",
    "class Account:\n",
    "    def __init__(self, account_number, balance):\n",
    "        self.account_number = account_number\n",
    "        self.balance = balance\n",
    "\n",
    "    def withdraw(self, amount):\n",
    "        if amount > 0 and amount <= self.balance:\n",
    "            self.balance -= amount\n",
    "            return f\"Withdrew ${amount}. New balance: ${self.balance}\"\n",
    "        else:\n",
    "            return \"Invalid withdrawal amount or insufficient funds.\"\n",
    "\n",
    "class SavingsAccount(Account):\n",
    "    def withdraw(self, amount):\n",
    "        if amount <= 0:\n",
    "            return \"Invalid withdrawal amount.\"\n",
    "        elif amount <= self.balance:\n",
    "            self.balance -= amount\n",
    "            return f\"Withdrew ${amount} from Savings Account. New balance: ${self.balance}\"\n",
    "        else:\n",
    "            return \"Insufficient funds in Savings Account.\"\n",
    "\n",
    "class CheckingAccount(Account):\n",
    "    def withdraw(self, amount):\n",
    "        if amount <= 0:\n",
    "            return \"Invalid withdrawal amount.\"\n",
    "        elif amount <= self.balance:\n",
    "            self.balance -= amount\n",
    "            return f\"Withdrew ${amount} from Checking Account. New balance: ${self.balance}\"\n",
    "        else:\n",
    "            return \"Insufficient funds in Checking Account.\"\n",
    "\n",
    "class CreditCardAccount(Account):\n",
    "    def withdraw(self, amount):\n",
    "        if amount <= 0:\n",
    "            return \"Invalid withdrawal amount.\"\n",
    "        else:\n",
    "            self.balance -= amount\n",
    "            return f\"Withdrew ${amount} from Credit Card Account. New balance: ${self.balance}\"\n",
    "\n",
    "# Create objects of different account types and demonstrate polymorphism by calling the `withdraw()` method.\n",
    "accounts = [\n",
    "    SavingsAccount(\"SA123\", 1000),\n",
    "    CheckingAccount(\"CA456\", 2000),\n",
    "    CreditCardAccount(\"CC789\", 500)\n",
    "]\n",
    "\n",
    "for account in accounts:\n",
    "    print(account.withdraw(500))\n"
   ]
  },
  {
   "cell_type": "code",
   "execution_count": 15,
   "id": "7c3f434e-f14f-498c-ad1a-f03a2e602dfc",
   "metadata": {},
   "outputs": [
    {
     "name": "stdout",
     "output_type": "stream",
     "text": [
      "Vector(4, 6)\n"
     ]
    }
   ],
   "source": [
    "\n",
    "#15. Describe the concept of operator overloading in Python and how it relates to polymorphism. Provide examples using operators like `+` and `*`.\n",
    "\n",
    "#Operator overloading in Python allows you to define and customize the behavior of operators such as +, *, ==, and many others for user-defined objects. This means that you can make these operators work differently for your own classes based on the context and the specific operation you want to perform. Operator overloading is closely related to polymorphism because it allows objects of different classes to respond to operators in a way that makes sense for their context.\n",
    "\n",
    "\n",
    "#Example 1: Operator Overloading with +\n",
    "\n",
    "\n",
    "class Vector:\n",
    "    def __init__(self, x, y):\n",
    "        self.x = x\n",
    "        self.y = y\n",
    "\n",
    "    def __mul__(self, scalar):\n",
    "        if isinstance(scalar, (int, float)):\n",
    "            return Vector(self.x * scalar, self.y * scalar)\n",
    "        else:\n",
    "            raise ValueError(\"Unsupported operand type\")\n",
    "\n",
    "    def __str__(self):\n",
    "        return f\"Vector({self.x}, {self.y})\"\n",
    "\n",
    "vector = Vector(2, 3)\n",
    "scaled_vector = vector * 2  # Calls the custom __mul__() method\n",
    "print(scaled_vector)\n",
    "\n",
    "#In this example, we've defined a Vector class and overloaded the * operator to support multiplication of a Vector object by an integer or float. The * operator behaves differently based on the type of the scalar operand, demonstrating polymorphism.\n",
    "\n",
    "\n",
    "\n",
    "\n",
    "\n",
    "\n",
    "\n"
   ]
  },
  {
   "cell_type": "code",
   "execution_count": 16,
   "id": "5c25289e-0bc6-411a-9c4c-df4a139925af",
   "metadata": {},
   "outputs": [
    {
     "name": "stdout",
     "output_type": "stream",
     "text": [
      "Vector(4, 6)\n"
     ]
    }
   ],
   "source": [
    "#Example 2: Operator Overloading with *\n",
    "\n",
    "\n",
    "\n",
    "class Vector:\n",
    "    def __init__(self, x, y):\n",
    "        self.x = x\n",
    "        self.y = y\n",
    "\n",
    "    def __mul__(self, scalar):\n",
    "        if isinstance(scalar, (int, float)):\n",
    "            return Vector(self.x * scalar, self.y * scalar)\n",
    "        else:\n",
    "            raise ValueError(\"Unsupported operand type\")\n",
    "\n",
    "    def __str__(self):\n",
    "        return f\"Vector({self.x}, {self.y})\"\n",
    "\n",
    "vector = Vector(2, 3)\n",
    "scaled_vector = vector * 2  # Calls the custom __mul__() method\n",
    "print(scaled_vector)\n",
    "\n",
    "#In this example, we've defined a Vector class and overloaded the * operator to support multiplication of a Vector object by an integer or float. The * operator behaves differently based on the type of the scalar operand, demonstrating polymorphism.\n",
    "\n"
   ]
  },
  {
   "cell_type": "code",
   "execution_count": 17,
   "id": "a2033782-c172-4d29-9a78-f8c60aff2d10",
   "metadata": {},
   "outputs": [],
   "source": [
    "#16. What is dynamic polymorphism, and how is it achieved in Python?\n",
    "\n",
    "#Dynamic polymorphism in Python allows objects of different classes to respond to the same method differently based on their actual class types. It is achieved through inheritance and method overriding, where a subclass can provide its own implementation of a method inherited from its parent class. At runtime, Python dispatches method calls to the appropriate implementation based on the object's class, enabling flexible and extensible code.\n",
    "\n",
    "\n"
   ]
  },
  {
   "cell_type": "code",
   "execution_count": 20,
   "id": "2e411455-36cc-4d3a-9fc1-48d7628c726f",
   "metadata": {},
   "outputs": [
    {
     "name": "stdout",
     "output_type": "stream",
     "text": [
      "Anthony's total salary: $70000\n",
      "Salim's total salary: $60000\n",
      "Priyanka's total salary: $53000\n"
     ]
    }
   ],
   "source": [
    "#17. Create a Python class hierarchy for employees in a company (e.g., manager, developer, designer) and implement polymorphism through a common `calculate_salary()` method.\n",
    "class Employee:\n",
    "    def __init__(self, name, salary):\n",
    "        self.name = name\n",
    "        self.salary = salary\n",
    "\n",
    "    def calculate_salary(self):\n",
    "        return self.salary\n",
    "\n",
    "class Manager(Employee):\n",
    "    def calculate_salary(self):\n",
    "        return self.salary + 10000  # Manager's salary has an additional bonus\n",
    "\n",
    "class Developer(Employee):\n",
    "    def calculate_salary(self):\n",
    "        return self.salary + 5000  # Developer's salary has a skill-based bonus\n",
    "\n",
    "class Designer(Employee):\n",
    "    def calculate_salary(self):\n",
    "        return self.salary + 3000  # Designer's salary has a creativity-based bonus\n",
    "\n",
    "# Create objects of different employee types and demonstrate polymorphism by calling the `calculate_salary()` method.\n",
    "employees = [\n",
    "    Manager(\"Anthony\", 60000),\n",
    "    Developer(\"Salim\", 55000),\n",
    "    Designer(\"Priyanka\", 50000)\n",
    "]\n",
    "\n",
    "for employee in employees:\n",
    "    print(f\"{employee.name}'s total salary: ${employee.calculate_salary()}\")\n",
    "\n",
    "\n",
    "          "
   ]
  },
  {
   "cell_type": "code",
   "execution_count": 23,
   "id": "521fd118-7c02-4091-a02f-f02c353093fc",
   "metadata": {},
   "outputs": [
    {
     "name": "stdout",
     "output_type": "stream",
     "text": [
      "Playing cricket.\n",
      "Playing football.\n",
      "Playing tennis.\n"
     ]
    }
   ],
   "source": [
    "#18. Discuss the concept of function pointers and how they can be used to achieve polymorphism in Python.\n",
    "\n",
    "\n",
    "#Function pointers are a concept in many programming languages that allow you to store references to functions and later call them through the references. While Python does not have traditional function pointers like some other languages, you can achieve similar behavior using first-class functions, which are a fundamental aspect of Python's flexibility.\n",
    "\n",
    "#In Python, you can use first-class functions, such as functions stored in variables or passed as arguments, to achieve a form of polymorphism by selecting and calling functions dynamically based on the runtime context.\n",
    "\n",
    "\n",
    "def play_football():\n",
    "    return \"Playing football.\"\n",
    "\n",
    "def play_cricket():\n",
    "    return \"Playing cricket.\"\n",
    "\n",
    "def play_tennis():\n",
    "    return \"Playing tennis.\"\n",
    "\n",
    "# Function references\n",
    "sports_play = play_cricket\n",
    "\n",
    "# Achieving polymorphism\n",
    "print(sports_play())  # Calls the selected function\n",
    "\n",
    "sports_play = play_football\n",
    "print(sports_play())  # Calls a different function\n",
    "\n",
    "sports_play = play_tennis\n",
    "print(sports_play())  # Calls yet another function\n",
    "\n",
    "\n",
    "#In this example, we have three functions (play_football(), play_cricket(), and play_tennis()) representing playing different sports. We use function references to dynamically select and call the appropriate function, achieving polymorphism by allowing the same function reference to represent different sports activities based on the selected sport type.\n",
    "\n",
    "\n",
    "\n",
    "\n"
   ]
  },
  {
   "cell_type": "code",
   "execution_count": 24,
   "id": "47124443-3943-496e-8bdc-c47eb9e0de80",
   "metadata": {},
   "outputs": [],
   "source": [
    "#19. Explain the role of interfaces and abstract classes in polymorphism, drawing comparisons between them.\n",
    "\n",
    "#Interfaces define a set of method names that classes must implement, but they don't provide method implementations. They ensure a common structure.\n",
    "\n",
    "#Abstract Classes are like blueprints for classes. They can include methods with or without implementation. They provide a mix of shared and specific behavior.\n",
    "\n",
    "#Comparison: Interfaces enforce structure, while abstract classes offer both structure and shared behavior. The choice depends on how much shared behavior you need.\n"
   ]
  },
  {
   "cell_type": "code",
   "execution_count": 26,
   "id": "da41b43c-a48a-4502-a441-3e7197e5debd",
   "metadata": {},
   "outputs": [
    {
     "name": "stdout",
     "output_type": "stream",
     "text": [
      "Lion is eating.\n",
      "Lion is sleeping.\n",
      "Lion growls.\n",
      "\n",
      "Sparrow is eating.\n",
      "Sparrow is sleeping.\n",
      "Sparrow chirps.\n",
      "\n",
      "Snake is eating.\n",
      "Snake is sleeping.\n",
      "Snake hisses.\n",
      "\n"
     ]
    }
   ],
   "source": [
    "#20. Create a Python class for a zoo simulation, demonstrating polymorphism with different animal types (e.g., mammals, birds, reptiles) and their behavior (e.g., eating, sleeping, making sounds).\n",
    "\n",
    "\n",
    "class Animal:\n",
    "    def __init__(self, name):\n",
    "        self.name = name\n",
    "\n",
    "    def eat(self):\n",
    "        return f\"{self.name} is eating.\"\n",
    "\n",
    "    def sleep(self):\n",
    "        return f\"{self.name} is sleeping.\"\n",
    "\n",
    "    def make_sound(self):\n",
    "        return f\"{self.name} makes a sound.\"\n",
    "\n",
    "class Mammal(Animal):\n",
    "    def make_sound(self):\n",
    "        return f\"{self.name} growls.\"\n",
    "\n",
    "class Bird(Animal):\n",
    "    def make_sound(self):\n",
    "        return f\"{self.name} chirps.\"\n",
    "\n",
    "class Reptile(Animal):\n",
    "    def make_sound(self):\n",
    "        return f\"{self.name} hisses.\"\n",
    "\n",
    "# Create objects of different animal types and demonstrate polymorphism by calling their behaviors.\n",
    "zoo = [\n",
    "    Mammal(\"Lion\"),\n",
    "    Bird(\"Sparrow\"),\n",
    "    Reptile(\"Snake\")\n",
    "]\n",
    "\n",
    "for animal in zoo:\n",
    "    print(animal.eat())\n",
    "    print(animal.sleep())\n",
    "    print(animal.make_sound())\n",
    "    print()\n"
   ]
  },
  {
   "cell_type": "code",
   "execution_count": null,
   "id": "5040f3bb-f8fe-4579-a09a-49a1ecab5093",
   "metadata": {},
   "outputs": [],
   "source": [
    "#Abstraction:\n",
    "\n",
    "#. What is abstraction in Python, and how does it relate to object-oriented programming?\n",
    "\n",
    "#Abstraction in Python and object-oriented programming involves simplifying complex systems by creating objects with well-defined interfaces while hiding their internal details. This concept allows you to focus on what objects can do (their methods) and what data they have (attributes) without needing to know how they achieve it. It promotes code organization, reusability, and maintainability in Python's object-oriented paradigm.\n",
    "\n",
    "#In Python, you can achieve abstraction through various mechanisms like defining abstract base classes (ABCs) using the abc module, using abstract methods, and making use of encapsulation by marking attributes and methods as public, protected, or private. By employing these OOP principles and abstraction, you can create modular, maintainable, and flexible code that models real-world systems effectively while minimizing complexity and promoting code reuse\n",
    "\n"
   ]
  },
  {
   "cell_type": "code",
   "execution_count": null,
   "id": "7a9eca73-0947-4e60-8a6e-95f7b0d37225",
   "metadata": {},
   "outputs": [],
   "source": [
    "#2. Describe the benefits of abstraction in terms of code organization and complexity reduction.\n",
    "\n",
    "#Abstraction in code organization and complexity reduction offers benefits such as modularity, simplified interfaces, reusability, scalability, easier maintenance, improved collaboration, code readability, reduced complexity, and adaptability. It simplifies complex systems, making them easier to understand, maintain, and extend.\n",
    "\n"
   ]
  },
  {
   "cell_type": "code",
   "execution_count": 1,
   "id": "d8112801-16bc-42fd-afb0-865e6a6b7a07",
   "metadata": {},
   "outputs": [
    {
     "name": "stdout",
     "output_type": "stream",
     "text": [
      "Circle Area: 78.53981633974483\n",
      "Rectangle Area: 24\n"
     ]
    }
   ],
   "source": [
    "#3. Create a Python class called `Shape` with an abstract method `calculate_area()`. Then, create child classes (e.g., `Circle`, `Rectangle`) that implement the `calculate_area()` method. Provide an example ofusing these classes.\n",
    "\n",
    "from abc import ABC, abstractmethod\n",
    "import math\n",
    "\n",
    "class Shape(ABC):\n",
    "    @abstractmethod\n",
    "    def calculate_area(self):\n",
    "        pass\n",
    "\n",
    "class Circle(Shape):\n",
    "    def __init__(self, radius):\n",
    "        self.radius = radius\n",
    "\n",
    "    def calculate_area(self):\n",
    "        return math.pi * self.radius ** 2\n",
    "\n",
    "class Rectangle(Shape):\n",
    "    def __init__(self, length, width):\n",
    "        self.length = length\n",
    "        self.width = width\n",
    "\n",
    "    def calculate_area(self):\n",
    "        return self.length * self.width\n",
    "\n",
    "# Example usage:\n",
    "circle = Circle(5)\n",
    "rectangle = Rectangle(4, 6)\n",
    "\n",
    "print(\"Circle Area:\", circle.calculate_area())\n",
    "print(\"Rectangle Area:\", rectangle.calculate_area())\n",
    "\n",
    "#This design allows you to use a common interface (calculate_area()) for different shapes while providing specific implementations for each shape type, promoting code reusability and maintainability.\n",
    "\n"
   ]
  },
  {
   "cell_type": "code",
   "execution_count": 2,
   "id": "ab3ba792-157b-4c8b-803b-3e86f081fda4",
   "metadata": {},
   "outputs": [
    {
     "name": "stdout",
     "output_type": "stream",
     "text": [
      "Buddy barks.\n",
      "Whiskers meows.\n",
      "Tweetie chirps.\n"
     ]
    }
   ],
   "source": [
    "#4. Explain the concept of abstract classes in Python and how they are defined using the `abc` module. Providean example.\n",
    "\n",
    "#Abstract classes in Python are like templates for other classes. They can't be used on their own; they're meant to be a model for other classes to follow. These abstract classes often include methods that are left empty, which means that any class based on the abstract class must fill in those empty methods. This enforces a certain structure in the classes that inherit from the abstract class.\n",
    "\n",
    "#Python's abc module (Abstract Base Classes) provides the tools to define abstract classes. To create an abstract class, you typically follow these steps:\n",
    "\n",
    "#Import the ABC class and the abstractmethod decorator from the abc module.\n",
    "#Create a class that inherits from ABC.\n",
    "#Use the @abstractmethod decorator to mark the methods you want to be abstract in the abstract class.\n",
    "#Define concrete (non-abstract) subclasses that inherit from the abstract class and provide implementations for the abstract methods.\n",
    "\n",
    "from abc import ABC, abstractmethod\n",
    "\n",
    "class Animal(ABC):\n",
    "    def __init__(self, name):\n",
    "        self.name = name\n",
    "\n",
    "    @abstractmethod\n",
    "    def speak(self):\n",
    "        pass\n",
    "\n",
    "class Dog(Animal):\n",
    "    def speak(self):\n",
    "        return f\"{self.name} barks.\"\n",
    "\n",
    "class Cat(Animal):\n",
    "    def speak(self):\n",
    "        return f\"{self.name} meows.\"\n",
    "\n",
    "class Bird(Animal):\n",
    "    def speak(self):\n",
    "        return f\"{self.name} chirps.\"\n",
    "\n",
    "# Creating instances of concrete classes\n",
    "dog = Dog(\"Buddy\")\n",
    "cat = Cat(\"Whiskers\")\n",
    "bird = Bird(\"Tweetie\")\n",
    "\n",
    "# Using the concrete classes\n",
    "print(dog.speak())\n",
    "print(cat.speak())\n",
    "print(bird.speak())\n",
    "\n",
    "\n",
    "#We define an abstract class Animal with an abstract method speak.\n",
    "#The Dog, Cat, and Bird classes inherit from the abstract class Animal and provide concrete implementations for the speak method.\n",
    "#We create instances of the concrete classes and call their speak methods."
   ]
  },
  {
   "cell_type": "code",
   "execution_count": null,
   "id": "2cbda991-dd35-4e0d-9843-07588baca3a4",
   "metadata": {},
   "outputs": [],
   "source": [
    "#5. How do abstract classes differ from regular classes in Python? Discuss their use cases.\n",
    "\n",
    "#Abstract classes in Python serve as templates or blueprints for other classes. They can't be instantiated and often include abstract methods that must be implemented by subclasses. They are used to define a common interface or structure for related classes.\n",
    "\n",
    "#Regular classes in Python can be instantiated, and they typically have concrete methods with implementations. They are used for creating objects and encapsulating data and behavior.\n",
    "\n",
    "\n",
    "#Use Cases:\n",
    "\n",
    "#Use abstract classes when you want to enforce a specific structure or behavior in a group of related classes.\n",
    "\n",
    "#Use regular classes for creating objects with specific functionality and data without the need for inheritance or a common interface.\n",
    "\n",
    "\n"
   ]
  },
  {
   "cell_type": "code",
   "execution_count": 4,
   "id": "c1e436ea-adf0-47f5-914c-0343ef81e6af",
   "metadata": {},
   "outputs": [
    {
     "name": "stdout",
     "output_type": "stream",
     "text": [
      "Deposited $1500. New balance: $6500.0\n",
      "Withdrew $1200. New balance: $5300.0\n",
      "Account balance for Suraj: $5300.0\n"
     ]
    }
   ],
   "source": [
    "#6. Create a Python class for a bank account and demonstrate abstraction by hiding the account balance and providing methods to deposit and withdraw funds.\n",
    "\n",
    "\n",
    "class BankAccount:\n",
    "    def __init__(self, account_number, account_holder, initial_balance=0.0):\n",
    "        self.account_number = account_number\n",
    "        self.account_holder = account_holder\n",
    "        self.__balance = initial_balance  # Private attribute to hide the balance\n",
    "\n",
    "    def deposit(self, amount):\n",
    "        if amount > 0:\n",
    "            self.__balance += amount\n",
    "            return f\"Deposited ${amount}. New balance: ${self.__balance}\"\n",
    "        else:\n",
    "            return \"Invalid deposit amount.\"\n",
    "\n",
    "    def withdraw(self, amount):\n",
    "        if amount > 0 and amount <= self.__balance:\n",
    "            self.__balance -= amount\n",
    "            return f\"Withdrew ${amount}. New balance: ${self.__balance}\"\n",
    "        else:\n",
    "            return \"Invalid withdrawal amount or insufficient balance.\"\n",
    "\n",
    "    def get_balance(self):\n",
    "        return f\"Account balance for {self.account_holder}: ${self.__balance}\"\n",
    "\n",
    "# Example usage:\n",
    "account1 = BankAccount(\"324578\", \"Suraj\", 5000.0)\n",
    "print(account1.deposit(1500))\n",
    "print(account1.withdraw(1200))\n",
    "print(account1.get_balance())\n",
    "\n",
    "#We define the BankAccount class with an account number, account holder name, and an initial balance (defaulted to 0.0).\n",
    "\n",
    "#The __balance attribute is made private by using double underscores to hide it from direct access.\n",
    "\n",
    "#The deposit and withdraw methods allow interactions with the balance, ensuring that the deposit and withdrawal amounts are valid.\n",
    "\n",
    "#The get_balance method provides a controlled way to retrieve the account balance without direct access to the private attribute.\n",
    "\n",
    "#In the example usage, we create an account for Alice, deposit money, withdraw some funds, and check the balance. The abstraction here ensures that the account balance can't be modified directly and provides controlled methods for transactions."
   ]
  },
  {
   "cell_type": "code",
   "execution_count": null,
   "id": "73bfd73d-c1ec-4bba-8d3f-5741be469706",
   "metadata": {},
   "outputs": [],
   "source": [
    "#7. Discuss the concept of interface classes in Python and their role in achieving abstraction.\n",
    "\n",
    "#In Python, interface classes are not a built-in feature like in some other programming languages (e.g., Java or C#). Instead, Python relies on a more flexible approach to achieve abstraction and interface-like behavior through the use of abstract base classes (ABCs) and duck typing.\n",
    "\n",
    "#Here's how abstract base classes and duck typing achieve the concept of interfaces and abstraction in Python:\n",
    "\n",
    "#Abstract Base Classes (ABCs): Python provides the abc module, which allows you to define abstract base classes. An abstract base class is a class that contains one or more abstract methods (methods without implementations). Subclasses are expected to provide concrete implementations for these abstract methods. ABCs are used to define a common interface that multiple classes should adhere to.\n",
    "\n",
    "#Duck Typing: Python follows the \"duck typing\" philosophy, which means that an object's suitability for a particular operation is determined by the presence of methods and properties rather than by the type of the object. If an object walks like a duck and quacks like a duck, it's treated as a duck.\n",
    "\n",
    "#When it comes to interface-like behavior and abstraction in Python, you can achieve it through the following:\n",
    "\n",
    "#Defining abstract base classes using the abc module to create a common interface that related classes must follow. This ensures that the classes have specific methods with particular names and signatures.\n",
    "\n",
    "#Using duck typing, where you don't explicitly define interfaces but instead rely on the presence of specific methods and attributes. As long as an object has the required methods, it can be used in a certain context, promoting flexibility and code reusability.\n",
    "\n"
   ]
  },
  {
   "cell_type": "code",
   "execution_count": 5,
   "id": "277a569e-f830-4abf-a551-15d9ac0323cc",
   "metadata": {},
   "outputs": [
    {
     "name": "stdout",
     "output_type": "stream",
     "text": [
      "Dumbo trumpets.\n",
      "Dumbo walks with its enormous legs.\n",
      "Polly squawks.\n",
      "Polly flies and perches on branches.\n"
     ]
    }
   ],
   "source": [
    "#8. Create a Python class hierarchy for animals and implement abstraction by defining common methods\n",
    "\n",
    "\n",
    "\n",
    "\n",
    "from abc import ABC, abstractmethod\n",
    "\n",
    "class Animal(ABC):\n",
    "    def __init__(self, name):\n",
    "        self.name = name\n",
    "\n",
    "    @abstractmethod\n",
    "    def speak(self):\n",
    "        pass\n",
    "\n",
    "    @abstractmethod\n",
    "    def move(self):\n",
    "        pass\n",
    "\n",
    "class Elephant(Animal):\n",
    "    def speak(self):\n",
    "        return f\"{self.name} trumpets.\"\n",
    "\n",
    "    def move(self):\n",
    "        return f\"{self.name} walks with its enormous legs.\"\n",
    "\n",
    "class Parrot(Animal):\n",
    "    def speak(self):\n",
    "        return f\"{self.name} squawks.\"\n",
    "\n",
    "    def move(self):\n",
    "        return f\"{self.name} flies and perches on branches.\"\n",
    "\n",
    "# Example usage for the Elephant and Parrot classes:\n",
    "elephant = Elephant(\"Dumbo\")\n",
    "parrot = Parrot(\"Polly\")\n",
    "\n",
    "print(elephant.speak())\n",
    "print(elephant.move())\n",
    "\n",
    "print(parrot.speak())\n",
    "print(parrot.move())\n",
    "\n"
   ]
  },
  {
   "cell_type": "code",
   "execution_count": 6,
   "id": "4931d4b0-a9e1-4b66-bcd2-a1823ff76474",
   "metadata": {},
   "outputs": [
    {
     "name": "stdout",
     "output_type": "stream",
     "text": [
      "1000\n"
     ]
    }
   ],
   "source": [
    "#9. Explain the significance of encapsulation in achieving abstraction. Provide examples.\n",
    "\n",
    "#Encapsulation and abstraction are closely related concepts in object-oriented programming, and encapsulation plays a significant role in achieving abstraction. Let's break down the significance of encapsulation in achieving abstraction with examples:\n",
    "\n",
    "#1. Data Hiding:\n",
    "\n",
    "#Encapsulation: Encapsulation involves bundling data (attributes or properties) and methods (functions) that operate on that data into a single unit, which is an object.\n",
    "#Abstraction: By encapsulating data within an object, you hide the internal details of that data from the outside world. This is essential for achieving abstraction because it allows you to expose only the necessary information about an object and hide its implementation details.\n",
    "#Example:\n",
    "\n",
    "class BankAccount:\n",
    "    def __init__(self, account_number, balance):\n",
    "        self.account_number = account_number  # Encapsulated attribute\n",
    "        self.__balance = balance  # Encapsulated and private attribute\n",
    "\n",
    "    def get_balance(self):\n",
    "        return self.__balance  # Exposing balance while hiding its internal details\n",
    "\n",
    "account = BankAccount(\"123456\", 1000)\n",
    "print(account.get_balance())  # Accessing balance through a method\n",
    "\n",
    "#In this example, __balance is encapsulated within the BankAccount object, and the get_balance method provides controlled access to it, hiding its implementation details.\n",
    "\n",
    "\n"
   ]
  },
  {
   "cell_type": "code",
   "execution_count": 7,
   "id": "6bdabdcf-88d2-44f9-b317-fafd2399cd0c",
   "metadata": {},
   "outputs": [
    {
     "name": "stdout",
     "output_type": "stream",
     "text": [
      "Alice\n",
      "50000\n",
      "12345\n"
     ]
    }
   ],
   "source": [
    "#2. Access Control:\n",
    "\n",
    "#Encapsulation: Encapsulation allows you to define access levels for attributes and methods, such as public, protected, and private.\n",
    "#Abstraction: Access control mechanisms provided by encapsulation ensure that only the necessary parts of an object's interface are exposed, promoting abstraction by limiting what the outside world can see and modify.\n",
    "\n",
    "#Example:\n",
    "\n",
    "class Employee:\n",
    "    def __init__(self, name, salary):\n",
    "        self.name = name  # Public attribute\n",
    "        self._salary = salary  # Protected attribute\n",
    "        self.__employee_id = 12345  # Private attribute\n",
    "\n",
    "    def get_employee_id(self):\n",
    "        return self.__employee_id  # Exposing employee ID while keeping it private\n",
    "\n",
    "employee = Employee(\"Suraj\", 50000)\n",
    "print(employee.name)  # Accessing the public attribute\n",
    "print(employee._salary)  # Accessing the protected attribute\n",
    "print(employee.get_employee_id())  # Accessing the private attribute through a method\n",
    "\n",
    "\n",
    "#In this example, access control through encapsulation allows the Employee class to define public, protected, and private attributes, maintaining the abstraction of the object's internal state.\n",
    "\n"
   ]
  },
  {
   "cell_type": "code",
   "execution_count": 11,
   "id": "4909a5a2-8768-4143-ae0f-fd380fc0201c",
   "metadata": {},
   "outputs": [
    {
     "name": "stdout",
     "output_type": "stream",
     "text": [
      "Addition result: 8\n",
      "Subtraction result: 6\n"
     ]
    }
   ],
   "source": [
    "#3. Implementation Hiding:\n",
    "\n",
    "#Encapsulation: Encapsulation encapsulates the implementation details of an object's methods within the object, so they are not exposed to the outside world.\n",
    "#Abstraction: By hiding the implementation details, encapsulation allows you to abstract away the complexities of how a particular operation is performed, making it easier for users of the object to interact with it.\n",
    "#Example:\n",
    "\n",
    "class Calculator:\n",
    "    def __init__(self):\n",
    "        pass\n",
    "\n",
    "    def add(self, x, y):\n",
    "        return x + y  # Implementation hidden within the method\n",
    "\n",
    "    def subtract(self, x, y):\n",
    "        return x - y  # Implementation hidden within the method\n",
    "\n",
    "calculator = Calculator()\n",
    "result_add = calculator.add(5, 3)  # Users don't need to know how addition is implemented\n",
    "\n",
    "result_subtract = calculator.subtract(10, 4)  # Calling the 'subtract' method\n",
    "\n",
    "print(\"Addition result:\", result_add)  # Output: Addition result: 8\n",
    "print(\"Subtraction result:\", result_subtract)  # Output: Subtraction result: 6\n",
    "#In this example, the add and subtract methods hide the details of their implementation, allowing users to perform operations without needing to understand how they are carried out."
   ]
  },
  {
   "cell_type": "code",
   "execution_count": null,
   "id": "db8a339a-541f-402c-afe5-876215e3c4d1",
   "metadata": {},
   "outputs": [],
   "source": [
    "#10. What is the purpose of abstract methods, and how do they enforce abstraction in Python classes?\n",
    "\n",
    "\n",
    "#Abstract methods in Python are placeholders for methods that must be implemented in subclasses. They define a common interface for related classes, ensuring required behavior. Abstract methods hide the implementation details and prevent the instantiation of the abstract class on its own, promoting code structure and consistency.\n",
    "#For example, you might have an abstract class \"Shape\" with an abstract method \"calculate_area.\" Any shape-based class, like \"Circle\" or \"Rectangle,\" must fill in the details for how to calculate its own area. This makes code more organized and predictable because you know what to expect from related classes.\n"
   ]
  },
  {
   "cell_type": "code",
   "execution_count": 12,
   "id": "e0f4289b-3443-420e-87ba-d1a91790be5a",
   "metadata": {},
   "outputs": [
    {
     "name": "stdout",
     "output_type": "stream",
     "text": [
      "Starting the engine of Toyota Camry car.\n",
      "Stopping the engine of Toyota Camry car.\n",
      "Starting the engine of Honda CBR500 motorcycle.\n",
      "Stopping the engine of Honda CBR500 motorcycle.\n"
     ]
    }
   ],
   "source": [
    "#11. Create a Python class for a vehicle system and demonstrate abstraction by defining common methods (e.g., `start()`, `stop()`) in an abstract base class.\n",
    "\n",
    "from abc import ABC, abstractmethod\n",
    "\n",
    "class Vehicle(ABC):\n",
    "    def __init__(self, brand, model):\n",
    "        self.brand = brand\n",
    "        self.model = model\n",
    "\n",
    "    @abstractmethod\n",
    "    def start(self):\n",
    "        pass\n",
    "\n",
    "    @abstractmethod\n",
    "    def stop(self):\n",
    "        pass\n",
    "\n",
    "class Car(Vehicle):\n",
    "    def start(self):\n",
    "        return f\"Starting the engine of {self.brand} {self.model} car.\"\n",
    "\n",
    "    def stop(self):\n",
    "        return f\"Stopping the engine of {self.brand} {self.model} car.\"\n",
    "\n",
    "class Motorcycle(Vehicle):\n",
    "    def start(self):\n",
    "        return f\"Starting the engine of {self.brand} {self.model} motorcycle.\"\n",
    "\n",
    "    def stop(self):\n",
    "        return f\"Stopping the engine of {self.brand} {self.model} motorcycle.\"\n",
    "\n",
    "# Example usage:\n",
    "car = Car(\"Toyota\", \"Camry\")\n",
    "motorcycle = Motorcycle(\"Honda\", \"CBR500\")\n",
    "\n",
    "print(car.start())\n",
    "print(car.stop())\n",
    "\n",
    "print(motorcycle.start())\n",
    "print(motorcycle.stop())\n",
    "\n",
    "#We define an abstract base class Vehicle with common methods start and stop. These methods are marked as abstract, indicating that they must be implemented by concrete subclasses.\n",
    "\n",
    "#The Car and Motorcycle classes inherit from the Vehicle abstract base class and provide concrete implementations for the start and stop methods.\n",
    "\n",
    "#We create instances of the Car and Motorcycle classes and call their start and stop methods to demonstrate common behaviors for vehicles while hiding their specific implementations. This abstraction simplifies how we work with different types of vehicles in a uniform manner.\n",
    "\n"
   ]
  },
  {
   "cell_type": "code",
   "execution_count": 15,
   "id": "675a54cc-c49a-48e9-a9c1-155569f0c275",
   "metadata": {},
   "outputs": [
    {
     "name": "stdout",
     "output_type": "stream",
     "text": [
      "Rinki is a Student. Responsibilities: Attend classes, study, and complete assignments\n",
      "Mr. Verma is a Teacher. Responsibilities: Teach students, create lesson plans, and assess student progress\n"
     ]
    }
   ],
   "source": [
    "#12. Describe the use of abstract properties in Python and how they can be employed in abstract classes.\n",
    "\n",
    "\n",
    "#Abstract properties in Python are used to define attributes that must be implemented by subclasses. They play a similar role to abstract methods but for attributes instead of methods. Abstract properties ensure that specific properties exist in derived classes, enforcing a consistent structure and interface.\n",
    "\n",
    "#To employ abstract properties in abstract classes, you can follow these steps:\n",
    "\n",
    "#Import the ABC (Abstract Base Class) and abstractmethod (for methods) or abstractproperty (for properties) from the abc module.\n",
    "\n",
    "#Create an abstract base class (often inherit from ABC).\n",
    "\n",
    "#Define abstract properties using the @abstractproperty decorator within the abstract base class.\n",
    "\n",
    "#Concrete (non-abstract) subclasses must inherit from the abstract base class and provide concrete implementations for the abstract properties.\n",
    "\n",
    "from abc import ABC, abstractproperty\n",
    "\n",
    "class SchoolMember(ABC):\n",
    "    def __init__(self, name, age):\n",
    "        self.name = name\n",
    "        self.age = age\n",
    "\n",
    "    @abstractproperty\n",
    "    def role(self):\n",
    "        pass\n",
    "\n",
    "    @abstractproperty\n",
    "    def responsibilities(self):\n",
    "        pass\n",
    "\n",
    "class Student(SchoolMember):\n",
    "    @property\n",
    "    def role(self):\n",
    "        return \"Student\"\n",
    "\n",
    "    @property\n",
    "    def responsibilities(self):\n",
    "        return \"Attend classes, study, and complete assignments\"\n",
    "\n",
    "class Teacher(SchoolMember):\n",
    "    @property\n",
    "    def role(self):\n",
    "        return \"Teacher\"\n",
    "\n",
    "    @property\n",
    "    def responsibilities(self):\n",
    "        return \"Teach students, create lesson plans, and assess student progress\"\n",
    "\n",
    "# Example usage:\n",
    "student = Student(\"Rinki\", 15)\n",
    "teacher = Teacher(\"Mr. Verma\", 40)\n",
    "\n",
    "print(f\"{student.name} is a {student.role}. Responsibilities: {student.responsibilities}\")\n",
    "print(f\"{teacher.name} is a {teacher.role}. Responsibilities: {teacher.responsibilities}\")\n",
    "\n",
    "\n",
    "#The SchoolMember abstract base class defines two abstract properties: role and responsibilities. Subclasses (Student and Teacher) must provide concrete implementations for these properties.\n",
    "\n",
    "#The Student and Teacher classes inherit from SchoolMember and provide their specific implementations for the role and responsibilities properties.\n",
    "\n",
    "#We create instances of the Student and Teacher classes and access their properties to display information about their roles and responsibilities within the school."
   ]
  },
  {
   "cell_type": "code",
   "execution_count": 17,
   "id": "cd91f4ed-2b42-44bd-9b15-5a0b0dd59580",
   "metadata": {},
   "outputs": [
    {
     "name": "stdout",
     "output_type": "stream",
     "text": [
      "Manager scott's salary: $5000\n",
      "Developer Ramon's salary: $4800\n",
      "Designer James's salary: $4500\n"
     ]
    }
   ],
   "source": [
    "#13. Create a Python class hierarchy for employees in a company (e.g., manager, developer, designer) and implement abstraction by defining a common `get_salary()` method.\n",
    "\n",
    "from abc import ABC, abstractmethod\n",
    "\n",
    "class Employee(ABC):\n",
    "    def __init__(self, name, employee_id):\n",
    "        self.name = name\n",
    "        self.employee_id = employee_id\n",
    "\n",
    "    @abstractmethod\n",
    "    def get_salary(self):\n",
    "        pass\n",
    "\n",
    "class Manager(Employee):\n",
    "    def __init__(self, name, employee_id, base_salary):\n",
    "        super().__init__(name, employee_id)\n",
    "        self.base_salary = base_salary\n",
    "\n",
    "    def get_salary(self):\n",
    "        return f\"Manager {self.name}'s salary: ${self.base_salary}\"\n",
    "\n",
    "class Developer(Employee):\n",
    "    def __init__(self, name, employee_id, hourly_rate, hours_worked):\n",
    "        super().__init__(name, employee_id)\n",
    "        self.hourly_rate = hourly_rate\n",
    "        self.hours_worked = hours_worked\n",
    "\n",
    "    def get_salary(self):\n",
    "        return f\"Developer {self.name}'s salary: ${self.hourly_rate * self.hours_worked}\"\n",
    "\n",
    "class Designer(Employee):\n",
    "    def __init__(self, name, employee_id, monthly_salary):\n",
    "        super().__init__(name, employee_id)\n",
    "        self.monthly_salary = monthly_salary\n",
    "\n",
    "    def get_salary(self):\n",
    "        return f\"Designer {self.name}'s salary: ${self.monthly_salary}\"\n",
    "\n",
    "# Example usage:\n",
    "manager = Manager(\"scott\", 101, 5000)\n",
    "developer = Developer(\"Ramon\", 102, 30, 160)\n",
    "designer = Designer(\"James\", 103, 4500)\n",
    "\n",
    "print(manager.get_salary())\n",
    "print(developer.get_salary())\n",
    "print(designer.get_salary())\n",
    "\n",
    "#We define an abstract base class Employee with the abstract method get_salary. Subclasses are required to provide concrete implementations for this method.\n",
    "\n",
    "#The Manager, Developer, and Designer classes inherit from Employee and provide their own implementations for the get_salary method based on their specific roles and salary calculation methods.\n",
    "\n",
    "#We create instances of these classes and call their get_salary methods to demonstrate how the common method is abstracted to provide salary information for different employee types within the company.\n",
    "\n"
   ]
  },
  {
   "cell_type": "code",
   "execution_count": 18,
   "id": "3e46156c-ab14-4701-a4d1-e66e4d034a8b",
   "metadata": {},
   "outputs": [
    {
     "name": "stdout",
     "output_type": "stream",
     "text": [
      "Car started.\n"
     ]
    }
   ],
   "source": [
    "#14. Discuss the differences between abstract classes and concrete classes in Python, including theirinstantiation.\n",
    "\n",
    "#1. Definition:\n",
    "\n",
    "#Abstract Classes: Abstract classes are classes that can't be instantiated on their own. They are meant to serve as blueprints for other classes and often contain abstract methods or properties that must be implemented by subclasses.\n",
    "#Concrete Classes: Concrete classes are regular, fully implemented classes that can be instantiated directly. They are not meant to be inherited; instead, they are intended for direct use.\n",
    "#2. Instantiation:\n",
    "\n",
    "#Abstract Classes: You cannot create instances (objects) of abstract classes. Attempting to instantiate an abstract class directly will result in a TypeError.\n",
    "#Concrete Classes: You can create instances of concrete classes using the class_name() constructor. These instances can be used to store data, call methods, and perform various operations.\n",
    "#3. Purpose:\n",
    "\n",
    "#Abstract Classes: Abstract classes serve as templates for related classes. They define a common interface through abstract methods and properties, ensuring that subclasses adhere to a specific structure.\n",
    "#Concrete Classes: Concrete classes are used to create objects that can be used to perform specific tasks and store data. They provide complete implementations of methods and attributes.\n",
    "#4. Inheritance:\n",
    "\n",
    "#Abstract Classes: Abstract classes are meant to be inherited by other classes. Subclasses inherit the structure and abstract methods/properties of the abstract class, which they must implement.\n",
    "#Concrete Classes: Concrete classes can be used directly without inheritance, although they can be inherited to create subclasses with additional or modified functionality.\n",
    "\n",
    "\n",
    "from abc import ABC, abstractmethod\n",
    "\n",
    "# Abstract Class\n",
    "class Vehicle(ABC):\n",
    "    @abstractmethod\n",
    "    def start(self):\n",
    "        pass\n",
    "\n",
    "# Concrete Class\n",
    "class Car(Vehicle):\n",
    "    def start(self):\n",
    "        return \"Car started.\"\n",
    "\n",
    "# Attempting to instantiate an abstract class results in a TypeError\n",
    "# vehicle = Vehicle()  # Raises TypeError\n",
    "\n",
    "# Instantiating a concrete class is allowed\n",
    "car = Car()\n",
    "print(car.start())  # Output: Car started.\n",
    "\n",
    "#In this example, the Vehicle class is an abstract class with an abstract start method, which must be implemented by subclasses. The Car class is a concrete class that inherits f\n",
    "\n",
    "\n"
   ]
  },
  {
   "cell_type": "code",
   "execution_count": null,
   "id": "7dc8b8f8-4a54-4def-a02d-7649354056b1",
   "metadata": {},
   "outputs": [],
   "source": [
    "#15. Explain the concept of abstract data types (ADTs) and their role in achieving abstraction in Python.\n",
    "\n",
    "#Abstract Data Types (ADTs) are a fundamental concept in computer science and programming that help achieve abstraction, modularity, and encapsulation. They provide a high-level view of data structures and their associated operations, allowing you to work with data in a way that hides the underlying implementation details. In Python, as in many other programming languages, ADTs are implemented using classes and objects.\n",
    "\n",
    "#Abstract Data Types (ADTs) in Python help achieve abstraction by allowing you to define data structures with well-defined interfaces and behaviors. They encapsulate data and operations within a single unit (class) while hiding the underlying implementation details. Users of ADTs interact with the data and its operations through the defined interface, promoting modularity and code safety. This separation of interface and implementation allows for the development of custom data structures and promotes a higher level of abstraction in Python programs.\n",
    "\n",
    "\n",
    "\n",
    "\n"
   ]
  },
  {
   "cell_type": "code",
   "execution_count": 1,
   "id": "68cdc64e-b321-4c9d-8d6e-7d150f481d79",
   "metadata": {},
   "outputs": [
    {
     "name": "stdout",
     "output_type": "stream",
     "text": [
      "Dell XPS 9000 is now powered on.\n",
      "Dell XPS 9000 is shutting down.\n",
      "Lenovo ThinkPad X1 Carbon is now powered on. Battery life: 5 hours\n",
      "Lenovo ThinkPad X1 Carbon is shutting down. Battery saving mode enabled.\n",
      "Dell XPS 9000 is now powered on.\n",
      "Dell XPS 9000 is shutting down.\n",
      "Lenovo ThinkPad X1 Carbon is now powered on. Battery life: 5 hours\n",
      "Lenovo ThinkPad X1 Carbon is shutting down. Battery saving mode enabled.\n"
     ]
    }
   ],
   "source": [
    "#16. Create a Python class for a computer system, demonstrating abstraction by defining common methods (e.g., `power_on()`, `shutdown()`) in an abstract base class.\n",
    "\n",
    "from abc import ABC, abstractmethod\n",
    "\n",
    "class ComputerSystem(ABC):\n",
    "    def __init__(self, brand, model):\n",
    "        self.brand = brand\n",
    "        self.model = model\n",
    "        self.is_powered_on = False\n",
    "\n",
    "    @abstractmethod\n",
    "    def power_on(self):\n",
    "        pass\n",
    "\n",
    "    @abstractmethod\n",
    "    def shutdown(self):\n",
    "        pass\n",
    "\n",
    "class DesktopComputer(ComputerSystem):\n",
    "    def power_on(self):\n",
    "        self.is_powered_on = True\n",
    "        print(f\"{self.brand} {self.model} is now powered on.\")\n",
    "\n",
    "    def shutdown(self):\n",
    "        self.is_powered_on = False\n",
    "        print(f\"{self.brand} {self.model} is shutting down.\")\n",
    "\n",
    "class LaptopComputer(ComputerSystem):\n",
    "    def power_on(self):\n",
    "        self.is_powered_on = True\n",
    "        print(f\"{self.brand} {self.model} is now powered on. Battery life: 5 hours\")\n",
    "\n",
    "    def shutdown(self):\n",
    "        self.is_powered_on = False\n",
    "        print(f\"{self.brand} {self.model} is shutting down. Battery saving mode enabled.\")\n",
    "\n",
    "# Example usage\n",
    "desktop = DesktopComputer(\"Dell\", \"XPS 9000\")\n",
    "laptop = LaptopComputer(\"Lenovo\", \"ThinkPad X1 Carbon\")\n",
    "\n",
    "desktop.power_on()\n",
    "desktop.shutdown()\n",
    "\n",
    "laptop.power_on()\n",
    "laptop.shutdown()\n",
    "from abc import ABC, abstractmethod\n",
    "\n",
    "class ComputerSystem(ABC):\n",
    "    def __init__(self, brand, model):\n",
    "        self.brand = brand\n",
    "        self.model = model\n",
    "        self.is_powered_on = False\n",
    "\n",
    "    @abstractmethod\n",
    "    def power_on(self):\n",
    "        pass\n",
    "\n",
    "    @abstractmethod\n",
    "    def shutdown(self):\n",
    "        pass\n",
    "\n",
    "class DesktopComputer(ComputerSystem):\n",
    "    def power_on(self):\n",
    "        self.is_powered_on = True\n",
    "        print(f\"{self.brand} {self.model} is now powered on.\")\n",
    "\n",
    "    def shutdown(self):\n",
    "        self.is_powered_on = False\n",
    "        print(f\"{self.brand} {self.model} is shutting down.\")\n",
    "\n",
    "class LaptopComputer(ComputerSystem):\n",
    "    def power_on(self):\n",
    "        self.is_powered_on = True\n",
    "        print(f\"{self.brand} {self.model} is now powered on. Battery life: 5 hours\")\n",
    "\n",
    "    def shutdown(self):\n",
    "        self.is_powered_on = False\n",
    "        print(f\"{self.brand} {self.model} is shutting down. Battery saving mode enabled.\")\n",
    "\n",
    "# Example usage\n",
    "desktop = DesktopComputer(\"Dell\", \"XPS 9000\")\n",
    "laptop = LaptopComputer(\"Lenovo\", \"ThinkPad X1 Carbon\")\n",
    "\n",
    "desktop.power_on()\n",
    "desktop.shutdown()\n",
    "\n",
    "laptop.power_on()\n",
    "laptop.shutdown()"
   ]
  },
  {
   "cell_type": "code",
   "execution_count": null,
   "id": "4aed68d7-c39f-49a5-a7da-edfea6e0be3b",
   "metadata": {},
   "outputs": [],
   "source": [
    "#17. Discuss the benefits of using abstraction in large-scale software development projects.\n",
    "\n",
    "#Abstraction plays a crucial role in large-scale software development projects and offers several benefits that help improve the quality, maintainability, and efficiency of the software. Here are some of the key benefits of using abstraction in large-scale software development:\n",
    "\n",
    "\n",
    "#Complexity Management: Abstraction simplifies complex systems by breaking them into manageable, understandable components.\n",
    "#Modularity: It promotes the development of independent, encapsulated modules with clear interfaces, aiding development and maintenance.\n",
    "#Code Reusability: Abstraction fosters the creation of reusable components, reducing redundancy and saving time.\n",
    "#Scalability: Well-abstracted systems can adapt and grow as requirements change, supporting scalability.\n",
    "#Testing and Debugging: Abstraction simplifies testing, as modules with clear interfaces allow for focused unit testing.\n",
    "#Collaboration: Teams can work on separate modules with well-defined interfaces, promoting efficient collaboration.\n",
    "#Maintenance and Updates: Abstraction enables targeted maintenance and updates, reducing the risk of introducing new issues.\n",
    "#Hiding Implementation Details: It shields implementation details, allowing changes without affecting external interfaces.\n",
    "#Sustainability: Well-abstracted code is more maintainable, easing onboarding and long-term sustainability.\n",
    "#Security and Compliance: Abstraction supports security and compliance efforts by isolating critical components and interfaces for auditing and securing.\n"
   ]
  },
  {
   "cell_type": "code",
   "execution_count": null,
   "id": "5e02f822-12d9-491e-9f3f-bdd1c84f15ac",
   "metadata": {},
   "outputs": [],
   "source": [
    "#18. Explain how abstraction enhances code reusability and modularity in Python programs.\n",
    "\n",
    "#Code Reusability:\n",
    "\n",
    "#Abstraction allows you to create abstract classes and interfaces, defining common functionality without specifying implementation details. These abstract classes serve as templates for concrete classes.\n",
    "#By defining abstract methods in these classes, you establish a contract for how concrete classes should behave.\n",
    "#Concrete classes can then implement these abstract methods with their specific functionality, making it easy to reuse the abstract class in multiple contexts.\n",
    "#The use of abstract classes and interfaces promotes a \"write once, use many times\" approach, reducing redundant code and saving development time.\n",
    "\n",
    "#Modularity:\n",
    "\n",
    "#Abstraction encourages the creation of modular components, where each module is encapsulated and has well-defined interfaces.\n",
    "#Modules represent distinct functionality or features of the program, making it easier to understand and manage the codebase.\n",
    "#Each module can be developed and tested independently, reducing the risk of introducing bugs in other parts of the program when changes are made.\n",
    "#Modularity allows for a clear separation of concerns, making the codebase more maintainable and facilitating collaboration among developers or teams.\n",
    "#In Python, abstraction for code reusability is often achieved through the use of abstract base classes and interfaces, which define common methods and attributes without providing concrete implementations. Concrete classes then inherit from these abstract base classes, implementing the required functionality. This approach ensures a consistent interface while allowing for diverse implementations.\n",
    "\n"
   ]
  },
  {
   "cell_type": "code",
   "execution_count": 3,
   "id": "2fdea276-c1a5-401c-8918-a9f0fb54d276",
   "metadata": {},
   "outputs": [
    {
     "name": "stdout",
     "output_type": "stream",
     "text": [
      "{'Data Structures in Python': 'Jeoffrey Lomado'}\n"
     ]
    }
   ],
   "source": [
    "#19. Create a Python class for a library system, implementing abstraction by defining common methods (e.g., `add_book()`, `borrow_book()`) in an abstract base class.\n",
    "\n",
    "\n",
    "from abc import ABC, abstractmethod\n",
    "\n",
    "class LibrarySystem(ABC):\n",
    "    def __init__(self, name):\n",
    "        self.name = name\n",
    "        self.books = {}\n",
    "\n",
    "    @abstractmethod\n",
    "    def add_book(self, book_title, author):\n",
    "        pass\n",
    "\n",
    "    @abstractmethod\n",
    "    def borrow_book(self, book_title):\n",
    "        pass\n",
    "\n",
    "    @abstractmethod\n",
    "    def return_book(self, book_title):\n",
    "        pass\n",
    "\n",
    "class MyLibrary(LibrarySystem):\n",
    "    def add_book(self, book_title, author):\n",
    "        self.books[book_title] = author\n",
    "\n",
    "    def borrow_book(self, book_title):\n",
    "        self.books.pop(book_title, None)\n",
    "\n",
    "    def return_book(self, book_title):\n",
    "        author = self.books.get(book_title)\n",
    "        if author:\n",
    "            self.books[book_title] = author\n",
    "\n",
    "# Example usage\n",
    "library = MyLibrary(\"My Public Library\")\n",
    "\n",
    "library.add_book(\"Python Programming\", \"John Smith\")\n",
    "library.add_book(\"Data Structures in Python\", \"Jeoffrey Lomado\")\n",
    "\n",
    "library.borrow_book(\"Python Programming\")\n",
    "\n",
    "print(library.books)"
   ]
  },
  {
   "cell_type": "code",
   "execution_count": null,
   "id": "59b52722-f542-4bae-aa06-6c7595f6e729",
   "metadata": {},
   "outputs": [],
   "source": [
    "#20. Describe the concept of method abstraction in Python and how it relates to polymorphism.\n",
    "\n",
    "#Method abstraction in Python refers to the practice of defining methods in a way that allows them to be used in a generalized manner without concern for specific implementation details. This concept is closely related to polymorphism, a fundamental object-oriented programming principle\n",
    "\n",
    "#Method Abstraction:\n",
    "\n",
    "#Method abstraction involves defining methods in classes without specifying the exact implementation details.\n",
    "#Abstract methods are often used for this purpose. These are methods declared without providing a concrete implementation in the base class\n",
    "\n",
    "#Polymorphism:\n",
    "\n",
    "#Polymorphism is the ability of different objects to respond to the same method or function call in a way that is context-specific.\n",
    "#In Python, polymorphism is primarily achieved through method abstraction using abstract base classes and interfaces.\n",
    "#Concrete subclasses that inherit from abstract base classes implement the abstract methods, providing their specific behavior.\n",
    "#When objects of different concrete subclasses are created, they can be used interchangeably where the abstract methods are expected.\n",
    "\n",
    "#How They Relate:\n",
    "\n",
    "#Method abstraction and polymorphism work together to provide a high level of flexibility and modularity in object-oriented programming.\n",
    "#By using method abstraction, you define a common interface with abstract methods that multiple concrete classes can adhere to. This allows objects of different classes to be treated uniformly based on their shared interface.\n",
    "#Polymorphism allows you to call the same method on different objects without knowing their specific types. The method's behavior is determined at runtime based on the actual object's class.\n",
    "#This flexibility simplifies code and promotes code reusability since you can create more generic code that operates on abstract interfaces rather than concrete implementations.\n",
    "\n"
   ]
  },
  {
   "cell_type": "code",
   "execution_count": null,
   "id": "50261a22-8ca4-468d-87d3-85525b985455",
   "metadata": {},
   "outputs": [],
   "source": [
    "#Composition:\n",
    "\n",
    "#1. Explain the concept of composition in Python and how it is used to build complex objects from simpler ones.\n",
    "\n",
    "#Composition in Python is a fundamental object-oriented programming concept that allows you to build complex objects by combining simpler ones. It involves creating objects that contain or are composed of other objects as parts or components. Composition is a way to achieve code reusability, modularity, and maintainability by organizing code into smaller, more manageable pieces.\n",
    "\n",
    "\n",
    "#Composition in Python is the practice of creating complex objects by combining simpler ones. It involves constructing an object from other objects, often using them as attributes. This approach promotes code reusability, modularity, and maintainability. Complex objects are built by defining classes that have attributes, which are instances of other classes. This enables you to create modular and maintainable code by breaking down the system into smaller, well-defined components that can be reused in different contexts. It is a powerful way to achieve flexibility and extensibility in software design. In short, composition allows you to assemble complex objects from simpler ones, enhancing code organization and reuse.\n",
    "\n",
    "\n"
   ]
  },
  {
   "cell_type": "code",
   "execution_count": null,
   "id": "b9322ba4-8bd4-4421-be29-3fe05c2a41dc",
   "metadata": {},
   "outputs": [],
   "source": [
    "#2. Describe the difference between composition and inheritance in object-oriented programming.\n",
    "\n",
    "\n",
    "#Inheritance represents an \"is-a\" relationship and involves creating specialized classes that inherit attributes and behaviors from a base class. Composition represents a \"has-a\" relationship and is about constructing complex objects by combining simpler objects as components. Inheritance can lead to rigid class hierarchies, while composition promotes code reusability, flexibility, and modularity, allowing changes to components without affecting the entire object. Composition enforces encapsulation and reduces dependency, offering a more flexible and maintainable approach to building complex objects. The choice between composition and inheritance depends on the specific design goals and requirements of a software project.\n",
    "\n",
    "\n",
    "\n"
   ]
  },
  {
   "cell_type": "code",
   "execution_count": 4,
   "id": "ac56574c-8370-411b-a3b3-e44bd97a2a07",
   "metadata": {},
   "outputs": [
    {
     "name": "stdout",
     "output_type": "stream",
     "text": [
      "Title: Harry Potter and the Sorcerer's Stone, Author: J.K. Rowling, Birthdate: July 31, 1965, Publication Year: 1997\n"
     ]
    }
   ],
   "source": [
    "#3. Create a Python class called `Author` with attributes for name and birthdate. Then, create a `Book` class that contains an instance of `Author` as a composition. Provide an example of creating a `Book` object.\n",
    "\n",
    "\n",
    "class Author:\n",
    "    def __init__(self, name, birthdate):\n",
    "        self.name = name\n",
    "        self.birthdate = birthdate\n",
    "\n",
    "class Book:\n",
    "    def __init__(self, title, author, publication_year):\n",
    "        self.title = title\n",
    "        self.author = author\n",
    "        self.publication_year = publication_year\n",
    "\n",
    "    def display_info(self):\n",
    "        return f\"Title: {self.title}, Author: {self.author.name}, Birthdate: {self.author.birthdate}, Publication Year: {self.publication_year}\"\n",
    "\n",
    "# Example usage\n",
    "author = Author(\"J.K. Rowling\", \"July 31, 1965\")\n",
    "book = Book(\"Harry Potter and the Sorcerer's Stone\", author, 1997)\n",
    "\n",
    "print(book.display_info())"
   ]
  },
  {
   "cell_type": "code",
   "execution_count": null,
   "id": "001047a7-8841-490d-9602-4bc5007f4d6b",
   "metadata": {},
   "outputs": [],
   "source": [
    "#4. Discuss the benefits of using composition over inheritance in Python, especially in terms of code flexibility and reusability.\n",
    "\n",
    "#Flexibility:\n",
    "\n",
    "#Composition allows you to build complex objects by combining simpler components, providing greater flexibility. You can mix and match components to create different configurations, avoiding the rigidity of class hierarchies in inheritance.\n",
    "#Changes to individual components do not ripple through the entire codebase, making it easier to adapt to evolving requirements.\n",
    "\n",
    "#Code Reusability:\n",
    "\n",
    "#Composition encourages code reusability by creating components that can be reused in various contexts. You can use the same components in different complex objects, reducing code duplication.\n",
    "#Reusable components simplify development and promote the \"Don't Repeat Yourself\" (DRY) principle.\n",
    "\n"
   ]
  },
  {
   "cell_type": "code",
   "execution_count": 5,
   "id": "acc18521-2ac0-4888-8391-b3134cb264cc",
   "metadata": {},
   "outputs": [
    {
     "name": "stdout",
     "output_type": "stream",
     "text": [
      "Engine started.\n",
      "Wheels are rolling.\n"
     ]
    }
   ],
   "source": [
    "#5. How can you implement composition in Python classes? Provide examples of using composition to create complex objects.\n",
    "\n",
    "#We can implement composition in Python classes by including instances of other classes as attributes within a class. This allows you to create complex objects by combining simpler components. Here's an example of implementing composition and creating complex objects using composition:\n",
    "\n",
    "class Engine:\n",
    "    def start(self):\n",
    "        print(\"Engine started.\")\n",
    "\n",
    "class Wheels:\n",
    "    def roll(self):\n",
    "        print(\"Wheels are rolling.\")\n",
    "\n",
    "class Car:\n",
    "    def __init__(self):\n",
    "        self.engine = Engine()\n",
    "        self.wheels = Wheels()\n",
    "\n",
    "    def drive(self):\n",
    "        self.engine.start()\n",
    "        self.wheels.roll()\n",
    "\n",
    "# Example usage\n",
    "my_car = Car()\n",
    "my_car.drive()\n",
    "\n",
    "#In this example, we have three classes: Engine, Wheels, and Car. The Car class uses composition to include instances of Engine and Wheels as attributes. When you create a Car object and call the drive method, it uses the Engine and Wheels components to start the engine and make the wheels roll.\n",
    "\n",
    "#This demonstrates how composition allows you to assemble complex objects from simpler components, creating a more modular and flexible code structure. It promotes code reusability and maintainability while keeping the system's individual parts well-encapsulated."
   ]
  },
  {
   "cell_type": "code",
   "execution_count": 7,
   "id": "670d0280-8100-43e4-aec9-24bf7c39bca7",
   "metadata": {},
   "outputs": [
    {
     "name": "stdout",
     "output_type": "stream",
     "text": [
      "Playlist: Favorites\n",
      "Playing: Song 1 by Artist 1\n",
      "Playing: Song 2 by Artist 2\n",
      "Playlist: Chill Mix\n",
      "Playing: Song 3 by Artist 3\n",
      "Playing: Song 4 by Artist 4\n"
     ]
    }
   ],
   "source": [
    "#6. Create a Python class hierarchy for a music player system, using composition to represent playlists and songs.\n",
    "\n",
    "\n",
    "class Song:\n",
    "    def __init__(self, title, artist, duration):\n",
    "        self.title = title\n",
    "        self.artist = artist\n",
    "        self.duration = duration\n",
    "\n",
    "    def play(self):\n",
    "        print(f\"Playing: {self.title} by {self.artist}\")\n",
    "\n",
    "class Playlist:\n",
    "    def __init__(self, name):\n",
    "        self.name = name\n",
    "        self.songs = []\n",
    "\n",
    "    def add_song(self, song):\n",
    "        self.songs.append(song)\n",
    "\n",
    "    def play(self):\n",
    "        print(f\"Playlist: {self.name}\")\n",
    "        for song in self.songs:\n",
    "            song.play()\n",
    "\n",
    "class MusicPlayer:\n",
    "    def __init__(self):\n",
    "        self.playlists = []\n",
    "\n",
    "    def create_playlist(self, name):\n",
    "        playlist = Playlist(name)\n",
    "        self.playlists.append(playlist)\n",
    "        return playlist\n",
    "\n",
    "# Example usage\n",
    "player = MusicPlayer()\n",
    "\n",
    "playlist1 = player.create_playlist(\"Favorites\")\n",
    "playlist1.add_song(Song(\"Song 1\", \"Artist 1\", \"3:45\"))\n",
    "playlist1.add_song(Song(\"Song 2\", \"Artist 2\", \"4:20\"))\n",
    "\n",
    "playlist2 = player.create_playlist(\"Chill Mix\")\n",
    "playlist2.add_song(Song(\"Song 3\", \"Artist 3\", \"5:15\"))\n",
    "playlist2.add_song(Song(\"Song 4\", \"Artist 4\", \"3:30\"))\n",
    "\n",
    "playlist1.play()\n",
    "playlist2.play()"
   ]
  },
  {
   "cell_type": "code",
   "execution_count": null,
   "id": "d2f15788-c749-4b78-ae74-a1a28d7ae7d6",
   "metadata": {},
   "outputs": [],
   "source": [
    "#7. Explain the concept of \"has-a\" relationships in composition and how it helps design software systems.\n",
    "\n",
    "#The concept of \"has-a\" relationships in composition involves objects containing other objects as components. This helps design software systems by promoting modularity, code reusability, and encapsulation. It simplifies code, reduces dependencies, and provides flexibility to adapt to evolving requirements. \"Has-a\" relationships in composition create a clear, maintainable, and scalable structure, enabling more efficient development and testing.\n",
    "\n"
   ]
  },
  {
   "cell_type": "code",
   "execution_count": 9,
   "id": "226701c7-e303-4821-bca5-fb8d8d37296e",
   "metadata": {},
   "outputs": [
    {
     "name": "stdout",
     "output_type": "stream",
     "text": [
      "Computer System:\n",
      "CPU: Intel, Speed: 3.5 GHz\n",
      "RAM: 16 GB, Type: DDR4\n",
      "Storage: 256 GB SSD\n"
     ]
    }
   ],
   "source": [
    "#8. Create a Python class for a computer system, using composition to represent components like CPU, RAM, and storage devices.\n",
    "\n",
    "\n",
    "class CPU:\n",
    "    def __init__(self, brand, speed):\n",
    "        self.brand = brand\n",
    "        self.speed = speed\n",
    "\n",
    "    def get_info(self):\n",
    "        return f\"CPU: {self.brand}, Speed: {self.speed} GHz\"\n",
    "\n",
    "class RAM:\n",
    "    def __init__(self, capacity, type):\n",
    "        self.capacity = capacity\n",
    "        self.type = type\n",
    "\n",
    "    def get_info(self):\n",
    "        return f\"RAM: {self.capacity} GB, Type: {self.type}\"\n",
    "\n",
    "class StorageDevice:\n",
    "    def __init__(self, storage_type, capacity):\n",
    "        self.storage_type = storage_type\n",
    "        self.capacity = capacity\n",
    "\n",
    "    def get_info(self):\n",
    "        return f\"Storage: {self.capacity} GB {self.storage_type}\"\n",
    "\n",
    "class Computer:\n",
    "    def __init__(self, cpu, ram, storage):\n",
    "        self.cpu = cpu\n",
    "        self.ram = ram\n",
    "        self.storage = storage\n",
    "\n",
    "    def system_info(self):\n",
    "        return f\"Computer System:\\n{self.cpu.get_info()}\\n{self.ram.get_info()}\\n{self.storage.get_info()}\"\n",
    "\n",
    "# Example usage\n",
    "cpu = CPU(\"Intel\", 3.5)\n",
    "ram = RAM(16, \"DDR4\")\n",
    "storage = StorageDevice(\"SSD\", 256)\n",
    "\n",
    "my_computer = Computer(cpu, ram, storage)\n",
    "print(my_computer.system_info())\n",
    "\n",
    "\n",
    "#In this code:\n",
    "\n",
    "#The CPU, RAM, and StorageDevice classes represent individual components of a computer system, each with their specific attributes and methods to retrieve information.\n",
    "#The Computer class uses composition to include instances of CPU, RAM, and StorageDevice as attributes, creating a complete computer system.\n",
    "#The system_info method in the Computer class displays information about the computer system, including details of the CPU, RAM, and storage devices.\n",
    "#This example demonstrates how composition can be used to represent components within a computer system, allowing for the creation of a modular and flexible code structure.\n",
    "\n",
    "\n",
    "\n",
    "\n",
    "\n",
    "\n"
   ]
  },
  {
   "cell_type": "code",
   "execution_count": null,
   "id": "c20f774d-7f90-4a11-9fc6-2bf68437b4fb",
   "metadata": {},
   "outputs": [],
   "source": [
    "#9. Describe the concept of \"delegation\" in composition and how it simplifies the design of complex systems.\n",
    "\n",
    "#The concept of \"delegation\" in composition refers to the practice of allowing a complex object (the composite) to delegate or hand off specific tasks or responsibilities to its component objects. It simplifies the design of complex systems by promoting modularity, code reuse, and a clear separation of concerns\n",
    "\n",
    "\n"
   ]
  },
  {
   "cell_type": "code",
   "execution_count": 10,
   "id": "6d1bf20a-823a-4f8e-8787-e3af60eab4bd",
   "metadata": {},
   "outputs": [
    {
     "name": "stdout",
     "output_type": "stream",
     "text": [
      "Engine started.\n",
      "Wheels are rolling.\n",
      "Shifted gears.\n"
     ]
    }
   ],
   "source": [
    "#10. Create a Python class for a car, using composition to represent components like the engine, wheels, and transmission.\n",
    "\n",
    "class Engine:\n",
    "    def start(self):\n",
    "        print(\"Engine started.\")\n",
    "\n",
    "class Wheels:\n",
    "    def roll(self):\n",
    "        print(\"Wheels are rolling.\")\n",
    "\n",
    "class Transmission:\n",
    "    def shift_gear(self):\n",
    "        print(\"Shifted gears.\")\n",
    "\n",
    "class Car:\n",
    "    def __init__(self):\n",
    "        self.engine = Engine()\n",
    "        self.wheels = Wheels()\n",
    "        self.transmission = Transmission()\n",
    "\n",
    "    def start(self):\n",
    "        self.engine.start()\n",
    "\n",
    "    def drive(self):\n",
    "        self.wheels.roll()\n",
    "\n",
    "    def change_gear(self):\n",
    "        self.transmission.shift_gear()\n",
    "\n",
    "# Example usage\n",
    "my_car = Car()\n",
    "my_car.start()\n",
    "my_car.drive()\n",
    "my_car.change_gear()\n"
   ]
  },
  {
   "cell_type": "code",
   "execution_count": 11,
   "id": "5192d50f-7586-4551-a0c2-1bba37d24261",
   "metadata": {},
   "outputs": [
    {
     "name": "stdout",
     "output_type": "stream",
     "text": [
      "2023 Toyota Camry started.\n",
      "Driven 100 miles.\n",
      "Odometer Reading: 100\n"
     ]
    }
   ],
   "source": [
    "#11. How can you encapsulate and hide the details of composed objects in Python classes to maintain abstraction?\n",
    "\n",
    "\n",
    "#To encapsulate and hide the details of composed objects in Python classes for maintaining abstraction:\n",
    "\n",
    "#Use a single underscore prefix (e.g., _attribute) to indicate internal attributes.\n",
    "#Define a clear public interface with only necessary methods and properties.\n",
    "#Avoid direct access to internal attributes.\n",
    "#Leverage properties for controlled attribute access.\n",
    "#Document which parts of the class are intended for public use and which are for internal implementation.\n",
    "#By following these practices, you can achieve encapsulation, hide implementation details, and maintain abstraction in your Python classes.\n",
    "\n",
    "\n",
    "class Car:\n",
    "    def __init__(self, make, model, year):\n",
    "        self._make = make  # Encapsulation: Use a single underscore to indicate internal use\n",
    "        self._model = model\n",
    "        self._year = year\n",
    "        self._odometer = 0\n",
    "\n",
    "    def start(self):\n",
    "        # Public method\n",
    "        print(f\"{self._year} {self._make} {self._model} started.\")\n",
    "\n",
    "    def _update_odometer(self, miles):\n",
    "        # Internal method (encapsulation)\n",
    "        if miles >= 0:\n",
    "            self._odometer += miles\n",
    "\n",
    "    def get_odometer(self):\n",
    "        # Public method for accessing the odometer reading\n",
    "        return self._odometer\n",
    "\n",
    "    def drive(self, miles):\n",
    "        # Public method\n",
    "        self._update_odometer(miles)\n",
    "        print(f\"Driven {miles} miles.\")\n",
    "\n",
    "# Example usage\n",
    "my_car = Car(\"Toyota\", \"Camry\", 2023)\n",
    "my_car.start()\n",
    "my_car.drive(100)\n",
    "print(f\"Odometer Reading: {my_car.get_odometer()}\")\n",
    "\n",
    "#In this example, attributes _make, _model, _year, and _odometer are used to hide the details of the composed Car object. The _update_odometer method is intended for internal use, and the get_odometer method is the public interface for accessing the odometer reading.\n",
    "\n",
    "#By following these practices, you can maintain abstraction and encapsulate the details of composed objects within your Python classes, promoting code maintainability and preventing unintended direct access to internal attributes and methods.\n",
    "\n",
    "\n",
    "\n"
   ]
  },
  {
   "cell_type": "code",
   "execution_count": 21,
   "id": "6e6053c4-04f3-4136-b77e-42160f42b930",
   "metadata": {},
   "outputs": [
    {
     "name": "stdout",
     "output_type": "stream",
     "text": [
      "Course: COMP101 - Introduction to Computer Science\n",
      "Instructor: Dr. Khurana (I303)\n",
      "Students:\n",
      "- Jay (A101)\n",
      "- Sunil (B202)\n",
      "Course Materials:\n",
      "- Textbook: Python Programming\n",
      "- Lecture Notes: Week 1\n",
      "- Lab Assignments: Lab 1\n"
     ]
    }
   ],
   "source": [
    "#12. Create a Python class for a university course, using composition to represent students, instructors, and course materials.\n",
    "\n",
    "\n",
    "class Student:\n",
    "    def __init__(self, name, student_id):\n",
    "        self.name = name\n",
    "        self.student_id = student_id\n",
    "\n",
    "class Instructor:\n",
    "    def __init__(self, name, instructor_id):\n",
    "        self.name = name\n",
    "        self.instructor_id = instructor_id\n",
    "\n",
    "class Course:\n",
    "    \n",
    "    def __init__(self, course_code, course_title):\n",
    "        self.course_code = course_code\n",
    "        self.course_title = course_title\n",
    "        self.students = []\n",
    "        self.instructor = None\n",
    "        self.course_materials = []  # List of course materials\n",
    "\n",
    "    def add_student(self, student):\n",
    "        self.students.append(student)\n",
    "\n",
    "    def assign_instructor(self, instructor):\n",
    "        self.instructor = instructor\n",
    "\n",
    "    def add_material(self, material):\n",
    "        self.course_materials.append(material)\n",
    "\n",
    "    def list_materials(self):\n",
    "        return self.course_materials\n",
    "\n",
    "# Example usage\n",
    "student1 = Student(\"Jay\", \"A101\")\n",
    "student2 = Student(\"Sunil\", \"B202\")\n",
    "instructor = Instructor(\"Dr. Khurana\", \"I303\")\n",
    "course = Course(\"COMP101\", \"Introduction to Computer Science\")\n",
    "\n",
    "course.add_student(student1)\n",
    "course.add_student(student2)\n",
    "course.assign_instructor(instructor)\n",
    "\n",
    "# Add course materials\n",
    "course.add_material(\"Textbook: Python Programming\")\n",
    "course.add_material(\"Lecture Notes: Week 1\")\n",
    "course.add_material(\"Lab Assignments: Lab 1\")\n",
    "\n",
    "# Display information including course materials\n",
    "print(f\"Course: {course.course_code} - {course.course_title}\")\n",
    "print(f\"Instructor: {course.instructor.name} ({course.instructor.instructor_id})\")\n",
    "print(\"Students:\")\n",
    "for student in course.students:\n",
    "    print(f\"- {student.name} ({student.student_id})\")\n",
    "print(\"Course Materials:\")\n",
    "\n",
    "for material in course.list_materials():\n",
    "    print(f\"- {material}\")\n",
    "\n",
    "\n",
    "\n",
    "\n",
    "\n",
    "\n",
    "\n",
    "\n"
   ]
  },
  {
   "cell_type": "code",
   "execution_count": null,
   "id": "513f9c52-b94f-40ef-af3d-b30c135b4fd7",
   "metadata": {},
   "outputs": [],
   "source": [
    "#13. Discuss the challenges and drawbacks of composition, such as increased complexity and potential for tight coupling between objects.\n",
    "\n",
    "\n",
    "#Composition is a fundamental concept in software engineering that involves building complex systems by combining smaller, reusable components or objects. While composition offers numerous benefits, including modularity, reusability, and maintainability, it also comes with several challenges and drawbacks, some of which are as follows:\n",
    "\n",
    "#Increased Complexity:\n",
    "\n",
    "#omposition can make a system more complex due to the interdependence of objects or components. As you combine multiple objects to create a larger system, it can become harder to understand and maintain. Developers must keep track of the relationships and interactions between these objects, which can lead to complexity and potential confusion.\n",
    "\n",
    "#Tight Coupling:\n",
    "\n",
    "#One of the primary challenges in composition is the potential for tight coupling between objects. Tight coupling occurs when objects are highly dependent on each other, making it difficult to modify or replace one component without affecting others. This leads to a lack of flexibility and can hinder code maintenance and evolution."
   ]
  },
  {
   "cell_type": "code",
   "execution_count": 1,
   "id": "399bfe86-4e0a-4033-9c01-fae4dd09eabf",
   "metadata": {},
   "outputs": [
    {
     "name": "stdout",
     "output_type": "stream",
     "text": [
      "Menu: Italian Menu\n",
      "Dish: Pizza, Price: $12.99\n",
      "Ingredients:\n",
      "Tomatoes: 100 g\n",
      "Cheese: 50 g\n",
      "Dough: 200 g\n"
     ]
    }
   ],
   "source": [
    "#14. Create a Python class hierarchy for a restaurant system, using composition to represent menus, dishes, and ingredients.\n",
    "\n",
    "#1.Ingredient Class:\n",
    "#Represents individual ingredients used in dishes.\n",
    "#Contains attributes such as name, quantity, and unit.\n",
    "\n",
    "\n",
    "class Ingredient:\n",
    "    def __init__(self, name, quantity, unit):\n",
    "        self.name = name\n",
    "        self.quantity = quantity\n",
    "        self.unit = unit\n",
    "        \n",
    "#2. Dish Class:\n",
    "#Represents a dish served in the restaurant.\n",
    "#Contains attributes like name, description, price, and a list of ingredients.\n",
    "#Utilizes composition to include ingredients.\n",
    "\n",
    "class Dish:\n",
    "    def __init__(self, name, description, price, ingredients):\n",
    "        self.name = name\n",
    "        self.description = description\n",
    "        self.price = price\n",
    "        self.ingredients = ingredients\n",
    "    def add_ingredient(self, ingredient):\n",
    "        self.ingredients.append(ingredient)   \n",
    "\n",
    "#Menu Class:\n",
    "\n",
    "#Represents a menu that includes a collection of dishes.\n",
    "#Contains attributes like name and a list of dishes.\n",
    "#Utilizes composition to include dishes.\n",
    "\n",
    "   \n",
    "class Menu:\n",
    "    def __init__(self, name):\n",
    "        self.name = name\n",
    "        self.dishes = []\n",
    "\n",
    "    def add_dish(self, dish):\n",
    "        self.dishes.append(dish)\n",
    "        \n",
    "        \n",
    "#Restaurant Class:\n",
    "\n",
    "#Represents the restaurant itself, which may have multiple menus.\n",
    "#Contains attributes such as the restaurant's name and a list of menus.\n",
    "#Utilizes composition to include menus.       \n",
    "\n",
    "class Restaurant:\n",
    "    def __init__(self, name):\n",
    "        self.name = name\n",
    "        self.menus = []\n",
    "\n",
    "    def add_menu(self, menu):\n",
    "        self.menus.append(menu)\n",
    "        \n",
    "        \n",
    "        \n",
    "# Create ingredients\n",
    "ingredient1 = Ingredient(\"Tomatoes\", 100, \"g\")\n",
    "ingredient2 = Ingredient(\"Cheese\", 50, \"g\")\n",
    "ingredient3 = Ingredient(\"Dough\", 200, \"g\")\n",
    "\n",
    "# Create dishes\n",
    "pizza = Dish(\"Pizza\", \"Classic Italian pizza\", 12.99, [ingredient1, ingredient2, ingredient3])\n",
    "\n",
    "# Create menus\n",
    "menu1 = Menu(\"Italian Menu\")\n",
    "menu1.add_dish(pizza)\n",
    "\n",
    "# Create the restaurant\n",
    "my_restaurant = Restaurant(\"My Pizzeria\")\n",
    "my_restaurant.add_menu(menu1)\n",
    "\n",
    "# Access the restaurant's menu and dishes\n",
    "for menu in my_restaurant.menus:\n",
    "    print(f\"Menu: {menu.name}\")\n",
    "    for dish in menu.dishes:\n",
    "        print(f\"Dish: {dish.name}, Price: ${dish.price}\")\n",
    "        print(\"Ingredients:\")\n",
    "        for ingredient in dish.ingredients:\n",
    "            print(f\"{ingredient.name}: {ingredient.quantity} {ingredient.unit}\")\n",
    "    \n",
    "    "
   ]
  },
  {
   "cell_type": "code",
   "execution_count": null,
   "id": "be8e3d37-b7a3-43ab-ae4d-a2a04bd61df1",
   "metadata": {},
   "outputs": [],
   "source": [
    "#15. Explain how composition enhances code maintainability and modularity in Python programs.\n",
    "\n",
    "\n",
    "#Composition is a key principle in software design that enhances code maintainability and modularity in Python programs, as well as in programming in general. It achieves this by promoting the construction of complex systems from smaller, reusable components. Here are some ways in which composition contributes to these goals:\n",
    "\n",
    "#Modularity:\n",
    "\n",
    "#Composition encourages breaking down a system into smaller, self-contained modules or components. Each component focuses on a specific task or responsibility, making the code more modular. These modules can be developed, tested, and maintained independently, simplifying the development process.\n",
    "\n",
    "#Reusability:\n",
    "\n",
    "#Composition allows you to create reusable components that can be used in multiple parts of your codebase. For example, you can create a class for handling database connections, and then use it in various parts of your application. This reduces redundancy and promotes code reuse.\n",
    "\n",
    "#Maintainability:\n",
    "\n",
    "#Smaller, well-defined components are easier to understand and maintain. When a component is designed to do one thing well, it is less likely to have complex, intertwined code. This makes it easier to debug, update, and extend.\n"
   ]
  },
  {
   "cell_type": "code",
   "execution_count": 3,
   "id": "827bdfec-0601-4ab8-ab3b-e9093ba52c9e",
   "metadata": {},
   "outputs": [
    {
     "name": "stdout",
     "output_type": "stream",
     "text": [
      "Warrior - Health: 100, Attack: 30, Defense: 20\n",
      "Equipped Weapon: Sword, Damage: 40\n",
      "Equipped Armor: Iron Armor, Defense: 35\n",
      "Warrior's Inventory:\n",
      "- Health Potion\n",
      "- Health Potion\n"
     ]
    }
   ],
   "source": [
    "#16. Create a Python class for a computer game character, using composition to represent attributes like weapons, armor, and inventory.\n",
    "\n",
    "class Character:\n",
    "    def __init__(self, name, health, attack, defense):\n",
    "        self.name = name\n",
    "        self.health = health\n",
    "        self.attack = attack\n",
    "        self.defense = defense\n",
    "        self.weapon = None\n",
    "        self.armor = None\n",
    "        self.inventory = []\n",
    "\n",
    "    def equip_weapon(self, weapon):\n",
    "        self.weapon = weapon\n",
    "\n",
    "    def equip_armor(self, armor):\n",
    "        self.armor = armor\n",
    "\n",
    "    def add_to_inventory(self, item):\n",
    "        self.inventory.append(item)\n",
    "\n",
    "class Weapon:\n",
    "    def __init__(self, name, damage):\n",
    "        self.name = name\n",
    "        self.damage = damage\n",
    "\n",
    "class Armor:\n",
    "    def __init__(self, name, defense):\n",
    "        self.name = name\n",
    "        self.defense = defense\n",
    "\n",
    "# Create a character\n",
    "warrior = Character(\"Warrior\", 100, 30, 20)\n",
    "\n",
    "# Create a sword and armor\n",
    "sword = Weapon(\"Sword\", 40)\n",
    "iron_armor = Armor(\"Iron Armor\", 35)\n",
    "health_potion1 = \"Health Potion\"\n",
    "health_potion2 = \"Health Potion\"\n",
    "\n",
    "# Equip the character with a sword and armor\n",
    "warrior.equip_weapon(sword)\n",
    "warrior.equip_armor(iron_armor)\n",
    "\n",
    "# Add items to the character's inventory\n",
    "warrior.add_to_inventory(health_potion1)\n",
    "warrior.add_to_inventory(health_potion2)\n",
    "\n",
    "# Display the character's attributes\n",
    "print(f\"{warrior.name} - Health: {warrior.health}, Attack: {warrior.attack}, Defense: {warrior.defense}\")\n",
    "\n",
    "# Display the equipped sword and armor\n",
    "if warrior.weapon:\n",
    "    print(f\"Equipped Weapon: {warrior.weapon.name}, Damage: {warrior.weapon.damage}\")\n",
    "if warrior.armor:\n",
    "    print(f\"Equipped Armor: {warrior.armor.name}, Defense: {warrior.armor.defense}\")\n",
    "\n",
    "# Display the character's inventory\n",
    "if warrior.inventory:\n",
    "    print(f\"{warrior.name}'s Inventory:\")\n",
    "    for item in warrior.inventory:\n",
    "        print(f\"- {item}\")\n",
    "else:\n",
    "    print(f\"{warrior.name}'s Inventory is empty.\")\n"
   ]
  },
  {
   "cell_type": "code",
   "execution_count": 4,
   "id": "3d277da6-c962-4c76-9d63-095f1a4d1d7f",
   "metadata": {},
   "outputs": [
    {
     "name": "stdout",
     "output_type": "stream",
     "text": [
      "Mario - Lives: 3, Coins: 0\n",
      "Mario's Inventory:\n",
      "- Super Mushroom\n",
      "- Fire Flower\n"
     ]
    }
   ],
   "source": [
    "\n",
    "class Character:\n",
    "    def __init__(self, name, lives, coins):\n",
    "        self.name = name\n",
    "        self.lives = lives\n",
    "        self.coins = coins\n",
    "        self.inventory = []\n",
    "\n",
    "    def collect_powerup(self, powerup):\n",
    "        self.inventory.append(powerup)\n",
    "\n",
    "class Powerup:\n",
    "    def __init__(self, name):\n",
    "        self.name = name\n",
    "\n",
    "# Create a character\n",
    "mario = Character(\"Mario\", 3, 0)\n",
    "\n",
    "# Create power-ups\n",
    "super_mushroom = Powerup(\"Super Mushroom\")\n",
    "fire_flower = Powerup(\"Fire Flower\")\n",
    "\n",
    "# Collect power-ups\n",
    "mario.collect_powerup(super_mushroom)\n",
    "mario.collect_powerup(fire_flower)\n",
    "\n",
    "# Display Mario's attributes\n",
    "print(f\"{mario.name} - Lives: {mario.lives}, Coins: {mario.coins}\")\n",
    "\n",
    "# Display Mario's inventory\n",
    "if mario.inventory:\n",
    "    print(f\"{mario.name}'s Inventory:\")\n",
    "    for item in mario.inventory:\n",
    "        print(f\"- {item.name}\")\n",
    "else:\n",
    "    print(f\"{mario.name}'s Inventory is empty.\")\n"
   ]
  },
  {
   "cell_type": "code",
   "execution_count": null,
   "id": "d212cdd1-11d7-4d20-bc66-46219f4728a1",
   "metadata": {},
   "outputs": [],
   "source": [
    "#17. Describe the concept of \"aggregation\" in composition and how it differs from simple composition.\n",
    "\n",
    "#In composition, the whole (containing object) is made up of parts (contained objects). Aggregation is a specific form of composition where the parts have a weaker relationship with the whole. In aggregation, parts can exist independently, have a varying multiplicity, and may not be owned by the whole. In simple composition, the parts are strongly tied to the whole, and their lifecycle is typically managed by the containing object.\n",
    "\n",
    "\n"
   ]
  },
  {
   "cell_type": "code",
   "execution_count": 8,
   "id": "894d1eb0-f5f5-48ad-8274-254457110781",
   "metadata": {},
   "outputs": [
    {
     "name": "stdout",
     "output_type": "stream",
     "text": [
      "House at Gurukul Road, Radhakrishna Bunglows\n",
      "Living Room - Area: 300 sq. ft\n",
      "Furniture:\n",
      "- Sofa\n",
      "Kitchen - Area: 200 sq. ft\n",
      "Furniture:\n",
      "- Dining Table\n",
      "Appliances:\n",
      "- Refrigerator\n",
      "- Oven\n"
     ]
    }
   ],
   "source": [
    "#18. Create a Python class for a house, using composition to represent rooms, furniture, and appliances.\n",
    "\n",
    "\n",
    "class House:\n",
    "    def __init__(self, address):\n",
    "        self.address = address\n",
    "        self.rooms = []\n",
    "\n",
    "    def add_room(self, room):\n",
    "        self.rooms.append(room)\n",
    "\n",
    "    def describe(self):\n",
    "        print(f\"House at {self.address}\")\n",
    "        for room in self.rooms:\n",
    "            room.describe()\n",
    "\n",
    "class Room:\n",
    "    def __init__(self, name, area):\n",
    "        self.name = name\n",
    "        self.area = area\n",
    "        self.furniture = []\n",
    "        self.appliances = []\n",
    "\n",
    "    def add_furniture(self, furniture):\n",
    "        self.furniture.append(furniture)\n",
    "\n",
    "    def add_appliance(self, appliance):\n",
    "        self.appliances.append(appliance)\n",
    "\n",
    "    def describe(self):\n",
    "        print(f\"{self.name} - Area: {self.area} sq. ft\")\n",
    "        if self.furniture:\n",
    "            print(\"Furniture:\")\n",
    "            for item in self.furniture:\n",
    "                print(f\"- {item.name}\")\n",
    "        if self.appliances:\n",
    "            print(\"Appliances:\")\n",
    "            for item in self.appliances:\n",
    "                print(f\"- {item.name}\")\n",
    "\n",
    "class Furniture:\n",
    "    def __init__(self, name):\n",
    "        self.name = name\n",
    "\n",
    "class Appliance:\n",
    "    def __init__(self, name):\n",
    "        self.name = name\n",
    "\n",
    "# Create a house\n",
    "my_house = House(\"Gurukul Road, Radhakrishna Bunglows\") \n",
    "\n",
    "# Create rooms\n",
    "living_room = Room(\"Living Room\", 300)\n",
    "kitchen = Room(\"Kitchen\", 200)\n",
    "\n",
    "# Add rooms to the house\n",
    "my_house.add_room(living_room)\n",
    "my_house.add_room(kitchen)\n",
    "\n",
    "# Create furniture and appliances\n",
    "sofa = Furniture(\"Sofa\")\n",
    "dining_table = Furniture(\"Dining Table\")\n",
    "refrigerator = Appliance(\"Refrigerator\")\n",
    "oven = Appliance(\"Oven\")\n",
    "\n",
    "# Furnish the rooms\n",
    "living_room.add_furniture(sofa)\n",
    "kitchen.add_furniture(dining_table)\n",
    "kitchen.add_appliance(refrigerator)\n",
    "kitchen.add_appliance(oven)\n",
    "\n",
    "# Describe the house and its contents\n",
    "my_house.describe()\n",
    "\n",
    "        "
   ]
  },
  {
   "cell_type": "code",
   "execution_count": null,
   "id": "80d9b10b-fde6-439f-bcdf-643258f32b58",
   "metadata": {},
   "outputs": [],
   "source": [
    "#19. How can you achieve flexibility in composed objects by allowing them to be replaced or modified dynamically at runtime?\n",
    "\n",
    "#To achieve flexibility in composed objects, allowing them to be replaced or modified dynamically at runtime:\n",
    "\n",
    "#Use Dependency Injection to inject dependencies, making it easy to swap components.\n",
    "\n",
    "#Apply the Strategy Pattern to encapsulate different algorithms and switch between them at runtime.\n",
    "#Implement the Factory Pattern to create objects dynamically, providing flexibility in object types.\n",
    "#Employ the Decorator Pattern to add or modify behavior without changing the object's structure.\n",
    "#Use the Proxy Pattern to control access and intercept calls for dynamic behavior.\n",
    "#Leverage Python's reflection and metaprogramming for runtime object modifications.\n",
    "#Benefit from Python's duck typing to work with objects based on behavior, not type.\n",
    "#Utilize Python's dynamic features like metaclasses, attribute assignment, and function modification for flexibility.\n",
    "#These techniques and patterns enable objects to adapt to changing requirements and conditions during runtime.\n",
    "\n",
    "\n",
    "\n",
    "\n",
    "\n",
    "\n"
   ]
  },
  {
   "cell_type": "code",
   "execution_count": 23,
   "id": "8995b9b2-f88f-4f50-bcae-0dcf998b9746",
   "metadata": {},
   "outputs": [
    {
     "name": "stdout",
     "output_type": "stream",
     "text": [
      "Comments on post1:\n",
      "Rohan commented: Hello, Suraj!\n",
      "Suraj's comments:\n",
      "Suraj commented: Nice to meet you, Rohan!\n",
      "Suraj commented: Thanks, Rohan!\n"
     ]
    }
   ],
   "source": [
    "#20. Create a Python class for a social media application, using composition to represent users, posts, and comments.\n",
    "\n",
    "class User:\n",
    "    def __init__(self, username, name):\n",
    "        self.username = username\n",
    "        self.name = name\n",
    "        self.posts = []\n",
    "        self.comments = []\n",
    "\n",
    "    def create_post(self, content):\n",
    "        post = Post(content, self)\n",
    "        self.posts.append(post)\n",
    "        return post\n",
    "\n",
    "    def add_comment(self, post, content):\n",
    "        comment = Comment(content, self, post)\n",
    "        post.comments.append(comment)\n",
    "        self.comments.append(comment)\n",
    "        return comment\n",
    "\n",
    "class Post:\n",
    "    def __init__(self, content, author):\n",
    "        self.content = content\n",
    "        self.author = author\n",
    "        self.comments = []\n",
    "\n",
    "    def add_comment(self, user, content):\n",
    "        comment = Comment(content, user, self)\n",
    "        self.comments.append(comment)\n",
    "        user.comments.append(comment)\n",
    "        return comment\n",
    "\n",
    "class Comment:\n",
    "    def __init__(self, content, author, post):\n",
    "        self.content = content\n",
    "        self.author = author\n",
    "        self.post = post\n",
    "\n",
    "    def __str__(self):\n",
    "        return f\"{self.author.name} commented: {self.content}\"\n",
    "\n",
    "# Create users\n",
    "suraj = User(\"suraj0204\", \"Suraj\")\n",
    "rohan = User(\"rohan123\", \"Rohan\")\n",
    "\n",
    "# Suraj's posts\n",
    "post1 = suraj.create_post(\"Hello, everyone!\")\n",
    "post2 = suraj.create_post(\"I'm enjoying this social media app!\")\n",
    "\n",
    "# ROhan's posts\n",
    "post3 = rohan.create_post(\"Hi there!\")\n",
    "post4 = rohan.create_post(\"I agree with Alice.\")\n",
    "\n",
    "# Add comments\n",
    "suraj.add_comment(post3, \"Nice to meet you, Rohan!\")\n",
    "rohan.add_comment(post1, \"Hello, Suraj!\")\n",
    "suraj.add_comment(post4, \"Thanks, Rohan!\")\n",
    "\n",
    "# Display comments on post1\n",
    "print(\"Comments on post1:\")\n",
    "for comment in post1.comments:\n",
    "    print(comment)\n",
    "\n",
    "# Display comments by Suraj\n",
    "print(\"Suraj's comments:\")\n",
    "for comment in suraj.comments:\n",
    "    print(comment)\n"
   ]
  },
  {
   "cell_type": "code",
   "execution_count": null,
   "id": "41b28626-194f-455d-9e05-a5f27aa9be0d",
   "metadata": {},
   "outputs": [],
   "source": []
  }
 ],
 "metadata": {
  "kernelspec": {
   "display_name": "Python 3 (ipykernel)",
   "language": "python",
   "name": "python3"
  },
  "language_info": {
   "codemirror_mode": {
    "name": "ipython",
    "version": 3
   },
   "file_extension": ".py",
   "mimetype": "text/x-python",
   "name": "python",
   "nbconvert_exporter": "python",
   "pygments_lexer": "ipython3",
   "version": "3.10.8"
  }
 },
 "nbformat": 4,
 "nbformat_minor": 5
}
