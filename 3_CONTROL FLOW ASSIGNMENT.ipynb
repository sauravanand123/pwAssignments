{
 "cells": [
  {
   "cell_type": "markdown",
   "id": "656f9284",
   "metadata": {},
   "source": [
    "1. Write a Python program to check if a given number is positive or negative"
   ]
  },
  {
   "cell_type": "code",
   "execution_count": 1,
   "id": "9a7c781d",
   "metadata": {},
   "outputs": [
    {
     "name": "stdout",
     "output_type": "stream",
     "text": [
      "Number is positive\n"
     ]
    }
   ],
   "source": [
    "n=8\n",
    "if n>0:\n",
    "    print(\"Number is positive\")\n",
    "else:\n",
    "    print(\"number is negative\")"
   ]
  },
  {
   "cell_type": "markdown",
   "id": "492e0b79",
   "metadata": {},
   "source": [
    "2. Create a program that determines if a person is eligible to vote based on their age"
   ]
  },
  {
   "cell_type": "code",
   "execution_count": 2,
   "id": "b5cbe80e",
   "metadata": {},
   "outputs": [
    {
     "name": "stdout",
     "output_type": "stream",
     "text": [
      "enter the age45\n",
      "person is eligible to vote\n"
     ]
    }
   ],
   "source": [
    "age=int(input(\"enter the age\"))\n",
    "if age>18:\n",
    "    print(\"person is eligible to vote\")\n",
    "else:\n",
    "    print(\"person is not eligible to vote\")"
   ]
  },
  {
   "cell_type": "markdown",
   "id": "bf298cac",
   "metadata": {},
   "source": [
    "3. Develop a program to find the maximum of two numbers using if-else statements"
   ]
  },
  {
   "cell_type": "code",
   "execution_count": 3,
   "id": "1d8b71b1",
   "metadata": {},
   "outputs": [
    {
     "name": "stdout",
     "output_type": "stream",
     "text": [
      "b is greater than a\n"
     ]
    }
   ],
   "source": [
    "a=10\n",
    "b=12\n",
    "if a>b:\n",
    "    print(\"a is greater than b\")\n",
    "else:\n",
    "    print(\"b is greater than a\")"
   ]
  },
  {
   "cell_type": "markdown",
   "id": "f5f3fa28",
   "metadata": {},
   "source": [
    "4Write a Python script to classify a given year as a leap year or not."
   ]
  },
  {
   "cell_type": "code",
   "execution_count": 13,
   "id": "e06e8d3f",
   "metadata": {},
   "outputs": [
    {
     "name": "stdout",
     "output_type": "stream",
     "text": [
      "year is leap yr\n"
     ]
    }
   ],
   "source": [
    "year=2024\n",
    "if (year%4==0 and year%100!=0) or (year%400==0):\n",
    "    print(\"year is leap yr\")\n",
    "else:\n",
    "    print(\"year is not leap yr\")"
   ]
  },
  {
   "cell_type": "markdown",
   "id": "ea5ce48e",
   "metadata": {},
   "source": [
    "5. Create a program that checks whether a character is a vowel or a consonant"
   ]
  },
  {
   "cell_type": "code",
   "execution_count": 4,
   "id": "b24bdf27",
   "metadata": {},
   "outputs": [
    {
     "name": "stdout",
     "output_type": "stream",
     "text": [
      "character is consonant\n"
     ]
    }
   ],
   "source": [
    "v=['a','e','i','o','u','A','E','I',\"O\",'U']\n",
    "string='s'\n",
    "if string in v:\n",
    "    print(\"character is a vowel\")\n",
    "else:\n",
    "    print(\"character is consonant\")"
   ]
  },
  {
   "cell_type": "markdown",
   "id": "f3eacd49",
   "metadata": {},
   "source": [
    "6. Implement a program to determine whether a given number is even or odd."
   ]
  },
  {
   "cell_type": "code",
   "execution_count": 5,
   "id": "14e713dc",
   "metadata": {},
   "outputs": [
    {
     "name": "stdout",
     "output_type": "stream",
     "text": [
      "z is odd\n"
     ]
    }
   ],
   "source": [
    "z=2139\n",
    "if z%2==0:\n",
    "    print(\"z is even\")\n",
    "else:\n",
    "    print(\"z is odd\")"
   ]
  },
  {
   "cell_type": "markdown",
   "id": "cda6bf8e",
   "metadata": {},
   "source": [
    "7. Write a Python function to calculate the absolute value of a number without using the `abs()` function."
   ]
  },
  {
   "cell_type": "code",
   "execution_count": 11,
   "id": "26c3a408",
   "metadata": {},
   "outputs": [
    {
     "name": "stdout",
     "output_type": "stream",
     "text": [
      "9\n"
     ]
    }
   ],
   "source": [
    "num=-9\n",
    "if num<0:\n",
    "    num=-num\n",
    "else:\n",
    "    num=num\n",
    "print(num)"
   ]
  },
  {
   "cell_type": "markdown",
   "id": "4078580e",
   "metadata": {},
   "source": [
    "8. Develop a program that determines the largest of three given numbers using if-else statements"
   ]
  },
  {
   "cell_type": "code",
   "execution_count": 7,
   "id": "8c56527b",
   "metadata": {},
   "outputs": [
    {
     "name": "stdout",
     "output_type": "stream",
     "text": [
      "c is greatest\n"
     ]
    }
   ],
   "source": [
    "a=10\n",
    "b=13\n",
    "c=18\n",
    "if a>b and a>c:\n",
    "    print(\"a is greatest\")\n",
    "elif b>c:\n",
    "    print(\"b is greatest\")\n",
    "else:\n",
    "    print(\"c is greatest\")"
   ]
  },
  {
   "cell_type": "markdown",
   "id": "0e05da21",
   "metadata": {},
   "source": [
    "9. Create a program that checks if a given string is a palindrome"
   ]
  },
  {
   "cell_type": "code",
   "execution_count": 9,
   "id": "87531042",
   "metadata": {},
   "outputs": [
    {
     "name": "stdout",
     "output_type": "stream",
     "text": [
      "string is palindrome\n"
     ]
    }
   ],
   "source": [
    "string='madam'\n",
    "if string==string[::-1]:\n",
    "    print(\"string is palindrome\")\n",
    "else:\n",
    "    print(\"string is not palindrome\")"
   ]
  },
  {
   "cell_type": "markdown",
   "id": "03b3a642",
   "metadata": {},
   "source": [
    "10. Write a Python program to calculate the grade based on a student's score"
   ]
  },
  {
   "cell_type": "code",
   "execution_count": 10,
   "id": "b79eac12",
   "metadata": {},
   "outputs": [
    {
     "name": "stdout",
     "output_type": "stream",
     "text": [
      "enter the score23\n",
      "Fail\n"
     ]
    }
   ],
   "source": [
    "score=int(input(\"enter the score\"))\n",
    "if score>75:\n",
    "    print(\"Distinction\")\n",
    "elif score>60:\n",
    "    print(\"First class\")\n",
    "elif 45<score<60:\n",
    "    print(\"Second class\")\n",
    "else:\n",
    "    print(\"Fail\")"
   ]
  },
  {
   "cell_type": "code",
   "execution_count": 14,
   "id": "222a7d13",
   "metadata": {},
   "outputs": [],
   "source": [
    "#nested  if-else"
   ]
  },
  {
   "cell_type": "markdown",
   "id": "3350f5e8",
   "metadata": {},
   "source": [
    "11. Write a program to find the largest among three numbers using nested if-else statements."
   ]
  },
  {
   "cell_type": "code",
   "execution_count": 15,
   "id": "1a27a347",
   "metadata": {},
   "outputs": [
    {
     "name": "stdout",
     "output_type": "stream",
     "text": [
      "b is greatest\n"
     ]
    }
   ],
   "source": [
    "a=17\n",
    "b=23\n",
    "c=12\n",
    "if a>b and a>c:\n",
    "    print(\"a is greatest\")\n",
    "elif b>c:\n",
    "    print(\"b is greatest\")\n",
    "else:\n",
    "    print(\"c is greatest\")"
   ]
  },
  {
   "cell_type": "markdown",
   "id": "f0e70d7d",
   "metadata": {},
   "source": [
    "12. Implement a program to determine if a triangle is equilateral, isosceles, or scalene."
   ]
  },
  {
   "cell_type": "code",
   "execution_count": 16,
   "id": "89408f6d",
   "metadata": {},
   "outputs": [
    {
     "name": "stdout",
     "output_type": "stream",
     "text": [
      "triangle is isosceles\n"
     ]
    }
   ],
   "source": [
    "a=23\n",
    "b=23\n",
    "c=12\n",
    "if a==b==c:\n",
    "    print(\"triangle is equilateral\")\n",
    "elif a==b!=c:\n",
    "    print(\"triangle is isosceles\")\n",
    "else:\n",
    "    print(\"triangle is scalene\")"
   ]
  },
  {
   "cell_type": "markdown",
   "id": "4ac0bfe6",
   "metadata": {},
   "source": [
    "13. Develop a program that checks if a year is a leap year and also if it is a century year."
   ]
  },
  {
   "cell_type": "code",
   "execution_count": 30,
   "id": "4cfa3c15",
   "metadata": {},
   "outputs": [
    {
     "name": "stdout",
     "output_type": "stream",
     "text": [
      "year is a leap yr\n"
     ]
    }
   ],
   "source": [
    "year=2012\n",
    "if (year%4==0 and year%100!=0) or (year%400==0):\n",
    "    print(\"year is a leap yr\")\n",
    "    \n",
    "if year%100==0:\n",
    "    print(\"year is a century yr\")\n",
    "    "
   ]
  },
  {
   "cell_type": "markdown",
   "id": "fc124030",
   "metadata": {},
   "source": [
    "14. Write a Python script to determine if a number is positive, negative, or zero"
   ]
  },
  {
   "cell_type": "code",
   "execution_count": 17,
   "id": "c1bfe4c7",
   "metadata": {},
   "outputs": [
    {
     "name": "stdout",
     "output_type": "stream",
     "text": [
      "number is 0\n"
     ]
    }
   ],
   "source": [
    "n=0\n",
    "if n >0:\n",
    "    print(\"number is positive\")\n",
    "elif n==0:\n",
    "    print(\"number is 0\")\n",
    "else:\n",
    "    print(\"number is negative\")"
   ]
  },
  {
   "cell_type": "markdown",
   "id": "b33594c0",
   "metadata": {},
   "source": [
    "15. Create a program to check if a person is a teenager (between 13 and 19 years old)."
   ]
  },
  {
   "cell_type": "code",
   "execution_count": 18,
   "id": "89815e36",
   "metadata": {},
   "outputs": [
    {
     "name": "stdout",
     "output_type": "stream",
     "text": [
      "enter age34\n",
      "person is not a teenager\n"
     ]
    }
   ],
   "source": [
    "age=int(input(\"enter age\"))\n",
    "if 13<age<19:\n",
    "    print(\"person is a teenager\")\n",
    "else:\n",
    "    print(\"person is not a teenager\")"
   ]
  },
  {
   "cell_type": "markdown",
   "id": "26f66e7f",
   "metadata": {},
   "source": [
    "16. Develop a program that determines the type of angle based on its measure (acute, obtuse, or right)."
   ]
  },
  {
   "cell_type": "code",
   "execution_count": 19,
   "id": "0e428214",
   "metadata": {},
   "outputs": [
    {
     "name": "stdout",
     "output_type": "stream",
     "text": [
      "angle is right  angle \n"
     ]
    }
   ],
   "source": [
    "a=30\n",
    "b=90\n",
    "c=60\n",
    "if a==b:\n",
    "    print(\"angle is acute\")\n",
    "elif (a==90) or (b==90) or (c==90):\n",
    "    print(\"angle is right  angle \")\n",
    "else:\n",
    "    print(\"angle is obtuse\")"
   ]
  },
  {
   "cell_type": "markdown",
   "id": "91f2ee9f",
   "metadata": {},
   "source": [
    "17. Write a Python program to calculate the roots of a quadratic equation."
   ]
  },
  {
   "cell_type": "code",
   "execution_count": 29,
   "id": "ca66dfcb",
   "metadata": {},
   "outputs": [
    {
     "name": "stdout",
     "output_type": "stream",
     "text": [
      "Enter the coefficient of x^2: 54\n",
      "Enter the coefficient of x: 56\n",
      "Enter the constant term: 45\n",
      "Root 1: (-0.5185185185185185+0.7513134361148442j)\n",
      "Root 2: (-0.5185185185185185-0.7513134361148442j)\n"
     ]
    }
   ],
   "source": [
    "import math\n",
    "\n",
    "def quadratic_roots(a, b, c):\n",
    "    # Calculate discriminant\n",
    "    discriminant = b**2 - 4*a*c\n",
    "    \n",
    "    # Check if roots are real\n",
    "    if discriminant >= 0:\n",
    "        # Calculate real roots\n",
    "        root1 = (-b + math.sqrt(discriminant)) / (2*a)\n",
    "        root2 = (-b - math.sqrt(discriminant)) / (2*a)\n",
    "        return root1, root2\n",
    "    else:\n",
    "        # Calculate real and imaginary parts of complex roots\n",
    "        real_part = -b / (2*a)\n",
    "        imag_part = math.sqrt(abs(discriminant)) / (2*a)\n",
    "        root1 = complex(real_part, imag_part)\n",
    "        root2 = complex(real_part, -imag_part)\n",
    "        return root1, root2\n",
    "\n",
    "# Input coefficients of the quadratic equation\n",
    "a = float(input(\"Enter the coefficient of x^2: \"))\n",
    "b = float(input(\"Enter the coefficient of x: \"))\n",
    "c = float(input(\"Enter the constant term: \"))\n",
    "\n",
    "# Calculate and print the roots\n",
    "root1, root2 = quadratic_roots(a, b, c)\n",
    "print(\"Root 1:\", root1)\n",
    "print(\"Root 2:\", root2)\n"
   ]
  },
  {
   "cell_type": "markdown",
   "id": "36ba2814",
   "metadata": {},
   "source": [
    "18. Implement a program to determine the day of the week based on a user-provided number (1 for Monday, 2 \n",
    "for Tuesday, etc.)"
   ]
  },
  {
   "cell_type": "code",
   "execution_count": 28,
   "id": "497401d0",
   "metadata": {},
   "outputs": [
    {
     "name": "stdout",
     "output_type": "stream",
     "text": [
      "enter the number4\n",
      "Thursday\n"
     ]
    }
   ],
   "source": [
    "n=str(input(\"enter the number\"))    \n",
    "if n=='1':\n",
    "    print(\"Monday\")\n",
    "elif n=='2':\n",
    "    print(\"Tuesday\")\n",
    "elif n=='3':\n",
    "    print(\"Wednesday\")\n",
    "elif n=='4':\n",
    "    print(\"Thursday\")\n",
    "elif n=='5':\n",
    "    print(\"Friday\")\n",
    "elif n=='6':\n",
    "    print(\"Saturday\")\n",
    "else:\n",
    "    print(\"Sunday\")\n"
   ]
  },
  {
   "cell_type": "markdown",
   "id": "6b3e5048",
   "metadata": {},
   "source": [
    "19. Create a program that determines if a year is a leap year and also if it is evenly divisible by 400.\n",
    "\n"
   ]
  },
  {
   "cell_type": "code",
   "execution_count": 23,
   "id": "81083e6b",
   "metadata": {},
   "outputs": [
    {
     "name": "stdout",
     "output_type": "stream",
     "text": [
      "year is not a leap yr\n"
     ]
    }
   ],
   "source": [
    "year=2023\n",
    "if (year%4==0 and year%100!=0) or (year%400==0):\n",
    "    print(\"year is a leap yr\")\n",
    "else:\n",
    "    print(\"year is not a leap yr\")"
   ]
  },
  {
   "cell_type": "markdown",
   "id": "11df399f",
   "metadata": {},
   "source": [
    "20. Develop a program that checks if a given number is prime or not using nested if-else statement"
   ]
  },
  {
   "cell_type": "code",
   "execution_count": 25,
   "id": "15cd7c94",
   "metadata": {},
   "outputs": [
    {
     "name": "stdout",
     "output_type": "stream",
     "text": [
      "number is prime\n"
     ]
    }
   ],
   "source": [
    "def prime(n):\n",
    "    for i in range(2,int(n**0.5)+1):\n",
    "        if n%i==0:\n",
    "            return False\n",
    "    return True\n",
    "if prime(23):\n",
    "    print(\"number is prime\")\n",
    "else:\n",
    "    print(\"number is not prime\")"
   ]
  },
  {
   "cell_type": "code",
   "execution_count": 31,
   "id": "6bd258b7",
   "metadata": {},
   "outputs": [],
   "source": [
    "#elif statements"
   ]
  },
  {
   "cell_type": "markdown",
   "id": "5a1da490",
   "metadata": {},
   "source": [
    "21. Write a Python program to assign grades based on different ranges of scores using elif statements."
   ]
  },
  {
   "cell_type": "code",
   "execution_count": 32,
   "id": "e3934e03",
   "metadata": {},
   "outputs": [
    {
     "name": "stdout",
     "output_type": "stream",
     "text": [
      "enter the score56\n",
      "Grade B\n"
     ]
    }
   ],
   "source": [
    "score=int(input(\"enter the score\"))\n",
    "if score>75:\n",
    "    print(\"Distinction\")\n",
    "elif 60<score<75:\n",
    "    print(\"Grade A\")\n",
    "elif 45<score<60:\n",
    "    print(\"Grade B\")\n",
    "else:\n",
    "    print(\"Fail\")"
   ]
  },
  {
   "cell_type": "markdown",
   "id": "a690f671",
   "metadata": {},
   "source": [
    "22. Implement a program to determine the type of a triangle based on its angles"
   ]
  },
  {
   "cell_type": "code",
   "execution_count": null,
   "id": "aa3e9bd1",
   "metadata": {},
   "outputs": [],
   "source": [
    "a=float(input(\"enter the angle\"))\n",
    "b=float(input(\"enter the angle\"))\n",
    "c=float(input(\"enter the angle\"))\n",
    "if a==b:\n",
    "    print(\"\")"
   ]
  },
  {
   "cell_type": "markdown",
   "id": "6d7f4049",
   "metadata": {},
   "source": [
    "23. Develop a program to categorize a given person's BMI into underweight, normal, overweight, or obese using \n",
    "elif statements"
   ]
  },
  {
   "cell_type": "code",
   "execution_count": 7,
   "id": "eae834ac",
   "metadata": {},
   "outputs": [
    {
     "name": "stdout",
     "output_type": "stream",
     "text": [
      "Enter your weight in kilograms: 56\n",
      "Enter your height in meters: 5.2\n",
      "Your BMI is: 2.07\n",
      "You are Underweight\n"
     ]
    }
   ],
   "source": [
    "def calculate_bmi(weight, height):\n",
    "    return weight / (height ** 2)\n",
    "\n",
    "def categorize_bmi(bmi):\n",
    "    if bmi < 18.5:\n",
    "        return \"Underweight\"\n",
    "    elif 18.5 <= bmi < 25:\n",
    "        return \"Normal weight\"\n",
    "    elif 25 <= bmi < 30:\n",
    "        return \"Overweight\"\n",
    "    else:\n",
    "        return \"Obese\"\n",
    "\n",
    "def main():\n",
    "    weight = float(input(\"Enter your weight in kilograms: \"))\n",
    "    height = float(input(\"Enter your height in meters: \"))\n",
    "    \n",
    "    bmi = calculate_bmi(weight, height)\n",
    "    category = categorize_bmi(bmi)\n",
    "    \n",
    "    print(\"Your BMI is:\", round(bmi, 2))\n",
    "    print(\"You are\", category)\n",
    "\n",
    "if __name__ == \"__main__\":\n",
    "    main()\n"
   ]
  },
  {
   "cell_type": "markdown",
   "id": "8780ff04",
   "metadata": {},
   "source": [
    "24. Create a program that determines whether a given number is positive, negative, or zero using elif \n",
    "statements."
   ]
  },
  {
   "cell_type": "code",
   "execution_count": 33,
   "id": "338c8a1c",
   "metadata": {},
   "outputs": [
    {
     "name": "stdout",
     "output_type": "stream",
     "text": [
      "number is positive\n"
     ]
    }
   ],
   "source": [
    "n=9\n",
    "if n>0:\n",
    "    print(\"number is positive\")\n",
    "elif n==0:\n",
    "    print(\"number is 0\")\n",
    "else:\n",
    "    print(\"number is negative\")"
   ]
  },
  {
   "cell_type": "markdown",
   "id": "626a7350",
   "metadata": {},
   "source": [
    "25. Write a Python script to determine the type of a character (uppercase, lowercase, or special) using elif \n",
    "statements."
   ]
  },
  {
   "cell_type": "code",
   "execution_count": 1,
   "id": "1c92c473",
   "metadata": {},
   "outputs": [
    {
     "name": "stdout",
     "output_type": "stream",
     "text": [
      "String is lowercase\n"
     ]
    }
   ],
   "source": [
    "string=\"manifestation\"\n",
    "if string.isupper():\n",
    "    print(\"String is uppercase\")\n",
    "elif string.islower():\n",
    "    print(\"String is lowercase\")\n",
    "else:\n",
    "    print(\"string is special\")"
   ]
  },
  {
   "cell_type": "markdown",
   "id": "69b01cbb",
   "metadata": {},
   "source": [
    "26. Implement a program to calculate the discounted price based on different purchase amounts using elif \n",
    "statements."
   ]
  },
  {
   "cell_type": "code",
   "execution_count": 2,
   "id": "983bf97f",
   "metadata": {},
   "outputs": [
    {
     "name": "stdout",
     "output_type": "stream",
     "text": [
      "7000.0\n"
     ]
    }
   ],
   "source": [
    "amt=10000\n",
    "if amt>=8000:\n",
    "    discounted_price=amt-0.3*amt\n",
    "elif 5000<amt<8000:\n",
    "    discounted_price=amt-0.2*amt\n",
    "else:\n",
    "    discounted_price=amt-0.1*amt\n",
    "print(discounted_price)\n",
    "    "
   ]
  },
  {
   "cell_type": "markdown",
   "id": "49c4d4c0",
   "metadata": {},
   "source": [
    "27. Develop a program to calculate the electricity bill based on different consumption slabs using elif \n",
    "statements"
   ]
  },
  {
   "cell_type": "code",
   "execution_count": 8,
   "id": "3b37590e",
   "metadata": {},
   "outputs": [
    {
     "name": "stdout",
     "output_type": "stream",
     "text": [
      "Enter the number of units consumed: 45\n",
      "Your electricity bill is: $ 22.5\n"
     ]
    }
   ],
   "source": [
    "def calculate_bill(units):\n",
    "    if units <= 50:\n",
    "        bill = units * 0.50\n",
    "    elif units <= 150:\n",
    "        bill = 25 + (units - 50) * 0.75\n",
    "    elif units <= 250:\n",
    "        bill = 100 + (units - 150) * 1.20\n",
    "    else:\n",
    "        bill = 220 + (units - 250) * 1.50\n",
    "    return bill\n",
    "\n",
    "def main():\n",
    "    units = float(input(\"Enter the number of units consumed: \"))\n",
    "    total_bill = calculate_bill(units)\n",
    "    print(\"Your electricity bill is: $\", round(total_bill, 2))\n",
    "\n",
    "if __name__ == \"__main__\":\n",
    "    main()\n"
   ]
  },
  {
   "cell_type": "markdown",
   "id": "193f1b19",
   "metadata": {},
   "source": [
    "28. Create a program to determine the type of quadrilateral based on its angles and sides using elif \n",
    "statements."
   ]
  },
  {
   "cell_type": "code",
   "execution_count": 5,
   "id": "942b9fdb",
   "metadata": {},
   "outputs": [
    {
     "name": "stdout",
     "output_type": "stream",
     "text": [
      "enter no of side4\n",
      "quad is rectangle\n"
     ]
    }
   ],
   "source": [
    "side=int(input(\"enter no of side\"))\n",
    "a=20\n",
    "b=10\n",
    "c=20\n",
    "d=10\n",
    "A=B=C=D=90\n",
    "if side==4:\n",
    "    if a==b==c==d:\n",
    "        if A==B==C==D==90:\n",
    "            print(\"quad is square\")\n",
    "        else:\n",
    "            print(\"quad is a rhombus\")\n",
    "    elif a==c and b==d:\n",
    "        print(\"quad is rectangle\")\n",
    "    else:\n",
    "        print(\"quad is a trapezium\")\n",
    "else:\n",
    "    print(\" not a quadrilateral\")\n",
    "        \n",
    "    "
   ]
  },
  {
   "cell_type": "markdown",
   "id": "d793cf9c",
   "metadata": {},
   "source": [
    "29. Write a Python script to determine the season based on a user-provided month using elif statements."
   ]
  },
  {
   "cell_type": "code",
   "execution_count": 6,
   "id": "bbbcd3d8",
   "metadata": {},
   "outputs": [
    {
     "name": "stdout",
     "output_type": "stream",
     "text": [
      "enter the monthsept\n",
      "Winter\n"
     ]
    }
   ],
   "source": [
    "month=str(input(\"enter the month\"))\n",
    "if month=='Jan' or month==\"Feb\" or month=='March':\n",
    "    print(\"Summer\")\n",
    "elif month=='April' or month=='May':\n",
    "    print(\"Spring/Autumn\")\n",
    "elif month=='June' or month=='July' or month=='August':\n",
    "    print(\"Rainy\")\n",
    "else:\n",
    "    print(\"Winter\")"
   ]
  },
  {
   "cell_type": "markdown",
   "id": "d9702619",
   "metadata": {},
   "source": [
    "30. Implement a program to determine the type of a year (leap or common) and month (30 or 31 days) using \n",
    "elif statements"
   ]
  },
  {
   "cell_type": "code",
   "execution_count": 9,
   "id": "409447a4",
   "metadata": {},
   "outputs": [
    {
     "name": "stdout",
     "output_type": "stream",
     "text": [
      "Enter the year: 2013\n",
      "Enter the month (1-12): 3\n",
      "The month has 31 days.\n",
      "2013 is not a leap year.\n"
     ]
    }
   ],
   "source": [
    "def is_leap_year(year):\n",
    "    if (year % 4 == 0 and year % 100 != 0) or (year % 400 == 0):\n",
    "        return True\n",
    "    else:\n",
    "        return False\n",
    "\n",
    "def days_in_month(year, month):\n",
    "    if month in [1, 3, 5, 7, 8, 10, 12]:\n",
    "        return 31\n",
    "    elif month in [4, 6, 9, 11]:\n",
    "        return 30\n",
    "    elif month == 2:\n",
    "        if is_leap_year(year):\n",
    "            return 29\n",
    "        else:\n",
    "            return 28\n",
    "    else:\n",
    "        return -1  # Invalid month\n",
    "\n",
    "def main():\n",
    "    year = int(input(\"Enter the year: \"))\n",
    "    month = int(input(\"Enter the month (1-12): \"))\n",
    "    \n",
    "    if days_in_month(year, month) != -1:\n",
    "        print(\"The month has\", days_in_month(year, month), \"days.\")\n",
    "    else:\n",
    "        print(\"Invalid month entered.\")\n",
    "\n",
    "    if is_leap_year(year):\n",
    "        print(year, \"is a leap year.\")\n",
    "    else:\n",
    "        print(year, \"is not a leap year.\")\n",
    "\n",
    "if __name__ == \"__main__\":\n",
    "    main()\n"
   ]
  },
  {
   "cell_type": "code",
   "execution_count": 1,
   "id": "ee18d21e",
   "metadata": {},
   "outputs": [],
   "source": [
    "#basic"
   ]
  },
  {
   "cell_type": "markdown",
   "id": "3abec164",
   "metadata": {},
   "source": [
    "1. Write a Python program that checks if a given number is positive, negative, or zero."
   ]
  },
  {
   "cell_type": "code",
   "execution_count": 2,
   "id": "796a8fbf",
   "metadata": {},
   "outputs": [
    {
     "name": "stdout",
     "output_type": "stream",
     "text": [
      "positive number\n"
     ]
    }
   ],
   "source": [
    "c=10\n",
    "if c>0:\n",
    "    print(\"positive number\")\n",
    "elif c==0:\n",
    "    print(\"number is zero\")\n",
    "else:\n",
    "    print(\"negative number\")"
   ]
  },
  {
   "cell_type": "markdown",
   "id": "54ec2412",
   "metadata": {},
   "source": [
    "2. Create a program to determine if a person is eligible to vote based on their age."
   ]
  },
  {
   "cell_type": "code",
   "execution_count": 3,
   "id": "ad816c41",
   "metadata": {},
   "outputs": [
    {
     "name": "stdout",
     "output_type": "stream",
     "text": [
      "enter the age34\n",
      "person is eligible to vote\n"
     ]
    }
   ],
   "source": [
    "age=int(input(\"enter the age\"))\n",
    "if age>18:\n",
    "    print(\"person is eligible to vote\")\n",
    "else:\n",
    "    print(\"person is not eligible to vote\")"
   ]
  },
  {
   "cell_type": "markdown",
   "id": "c19d03a3",
   "metadata": {},
   "source": [
    "3. Write a program to find the maximum of two given numbers using conditional statements"
   ]
  },
  {
   "cell_type": "code",
   "execution_count": 4,
   "id": "57694c8d",
   "metadata": {},
   "outputs": [
    {
     "name": "stdout",
     "output_type": "stream",
     "text": [
      "a is greater\n"
     ]
    }
   ],
   "source": [
    "a=90\n",
    "b=56\n",
    "if a>b:\n",
    "    print(\"a is greater\")\n",
    "else:\n",
    "    print(\"b is greater\")"
   ]
  },
  {
   "cell_type": "markdown",
   "id": "a23bd7e4",
   "metadata": {},
   "source": [
    "4. Develop a program that calculates the grade of a student based on their exam score."
   ]
  },
  {
   "cell_type": "code",
   "execution_count": 8,
   "id": "30343c18",
   "metadata": {},
   "outputs": [
    {
     "name": "stdout",
     "output_type": "stream",
     "text": [
      "enter the score45\n",
      "grade B\n"
     ]
    }
   ],
   "source": [
    "score=int(input(\"enter the score\"))\n",
    "if score>=75:\n",
    "    print(\"Distinction\")\n",
    "elif 60<=score<75:\n",
    "    print(\"Grade A\")\n",
    "elif 45<=score<60:\n",
    "    print(\"grade B\")\n",
    "else:\n",
    "    print(\"Fail\")"
   ]
  },
  {
   "cell_type": "markdown",
   "id": "f3c744a9",
   "metadata": {},
   "source": [
    "5. Create a program that checks if a year is a leap year or not."
   ]
  },
  {
   "cell_type": "code",
   "execution_count": 9,
   "id": "dc37bca8",
   "metadata": {},
   "outputs": [
    {
     "name": "stdout",
     "output_type": "stream",
     "text": [
      "enter the year4056\n",
      "year is not a leap yr\n"
     ]
    }
   ],
   "source": [
    "year=int(input(\"enter the year\"))\n",
    "if (year%4==0 and year%100!=0) and (year%400==0):\n",
    "    print(\"year is leap yr\")\n",
    "else:\n",
    "    print(\"year is not a leap yr\")"
   ]
  },
  {
   "cell_type": "markdown",
   "id": "a0f5dae7",
   "metadata": {},
   "source": [
    "6. Write a program to classify a triangle based on its sides' lengths."
   ]
  },
  {
   "cell_type": "code",
   "execution_count": 10,
   "id": "f242e524",
   "metadata": {},
   "outputs": [
    {
     "name": "stdout",
     "output_type": "stream",
     "text": [
      "scalene triangle\n"
     ]
    }
   ],
   "source": [
    "a=34\n",
    "b=67\n",
    "c=78\n",
    "if a==b==c:\n",
    "    print(\"equilateral triangle\")\n",
    "elif (a==b) or (b==c) or (a==c):\n",
    "    print(\"isosceles triangle\")\n",
    "else:\n",
    "    print(\"scalene triangle\")"
   ]
  },
  {
   "cell_type": "markdown",
   "id": "9464d622",
   "metadata": {},
   "source": [
    "7. Build a program that determines the largest of three given numbers"
   ]
  },
  {
   "cell_type": "code",
   "execution_count": 11,
   "id": "6196de69",
   "metadata": {},
   "outputs": [
    {
     "name": "stdout",
     "output_type": "stream",
     "text": [
      "a is largest\n"
     ]
    }
   ],
   "source": [
    "a=80\n",
    "b=45\n",
    "c=27\n",
    "if a>b and a>c:\n",
    "    print(\"a is largest\")\n",
    "elif b>c:\n",
    "    print(\"b is largest\")\n",
    "else:\n",
    "    print(\"c is largest\")"
   ]
  },
  {
   "cell_type": "markdown",
   "id": "ad51446a",
   "metadata": {},
   "source": [
    "8. Develop a program that checks whether a character is a vowel or a consonant."
   ]
  },
  {
   "cell_type": "code",
   "execution_count": 12,
   "id": "5ae4730a",
   "metadata": {},
   "outputs": [
    {
     "name": "stdout",
     "output_type": "stream",
     "text": [
      "char is consonant\n"
     ]
    }
   ],
   "source": [
    "char='t'\n",
    "v=['a','e','i','o','u','A','E','I','O','U']\n",
    "if char in v:\n",
    "    print(\"char is vowel\")\n",
    "else:\n",
    "    print(\"char is consonant\")"
   ]
  },
  {
   "cell_type": "markdown",
   "id": "bce7c8a2",
   "metadata": {},
   "source": [
    "9. Create a program to calculate the total cost of a shopping cart based on discounts."
   ]
  },
  {
   "cell_type": "code",
   "execution_count": 19,
   "id": "7d4add4a",
   "metadata": {},
   "outputs": [
    {
     "name": "stdout",
     "output_type": "stream",
     "text": [
      "enter the discount30\n",
      "3500\n"
     ]
    }
   ],
   "source": [
    "mrp_price=4000\n",
    "disc=int(input(\"enter the discount\"))\n",
    "if disc==10:#disc in percentage\n",
    "    total_cost=mrp_price-disc*mrp_price\n",
    "elif disc==20:\n",
    "    total_cost=mrp_price=disc*mrp_price\n",
    "else:\n",
    "    total_cost=3500\n",
    "print(total_cost)\n",
    "    \n",
    "\n",
    "    "
   ]
  },
  {
   "cell_type": "markdown",
   "id": "f0958eb1",
   "metadata": {},
   "source": [
    "10. Write a program that checks if a given number is even or odd."
   ]
  },
  {
   "cell_type": "code",
   "execution_count": 13,
   "id": "88a69138",
   "metadata": {},
   "outputs": [
    {
     "name": "stdout",
     "output_type": "stream",
     "text": [
      "enter the number45\n",
      "num is odd\n"
     ]
    }
   ],
   "source": [
    "num=int(input(\"enter the number\"))\n",
    "if num%2==0:\n",
    "    print(\"num is even\")\n",
    "else:\n",
    "    print(\"num is odd\")"
   ]
  },
  {
   "cell_type": "code",
   "execution_count": 20,
   "id": "1843c964",
   "metadata": {},
   "outputs": [],
   "source": [
    "#intermediate level"
   ]
  },
  {
   "cell_type": "markdown",
   "id": "de7d0cd5",
   "metadata": {},
   "source": [
    "11. Write a program that calculates the roots of a quadratic equation "
   ]
  },
  {
   "cell_type": "code",
   "execution_count": 21,
   "id": "28508645",
   "metadata": {},
   "outputs": [
    {
     "name": "stdout",
     "output_type": "stream",
     "text": [
      "Enter the coefficient of x^2: 56\n",
      "Enter the coefficient of x: 46\n",
      "Enter the constant term: 34\n",
      "Root 1: (-0.4107142857142857+0.66216057920497j)\n",
      "Root 2: (-0.4107142857142857-0.66216057920497j)\n"
     ]
    }
   ],
   "source": [
    "import math\n",
    "\n",
    "def quadratic_roots(a, b, c):\n",
    "    # Calculate discriminant\n",
    "    discriminant = b**2 - 4*a*c\n",
    "    \n",
    "    # Check if roots are real\n",
    "    if discriminant >= 0:\n",
    "        # Calculate real roots\n",
    "        root1 = (-b + math.sqrt(discriminant)) / (2*a)\n",
    "        root2 = (-b - math.sqrt(discriminant)) / (2*a)\n",
    "        return root1, root2\n",
    "    else:\n",
    "        # Calculate real and imaginary parts of complex roots\n",
    "        real_part = -b / (2*a)\n",
    "        imag_part = math.sqrt(abs(discriminant)) / (2*a)\n",
    "        root1 = complex(real_part, imag_part)\n",
    "        root2 = complex(real_part, -imag_part)\n",
    "        return root1, root2\n",
    "\n",
    "# Input coefficients of the quadratic equation\n",
    "a = float(input(\"Enter the coefficient of x^2: \"))\n",
    "b = float(input(\"Enter the coefficient of x: \"))\n",
    "c = float(input(\"Enter the constant term: \"))\n",
    "\n",
    "# Calculate and print the roots\n",
    "root1, root2 = quadratic_roots(a, b, c)\n",
    "print(\"Root 1:\", root1)\n",
    "print(\"Root 2:\", root2)\n"
   ]
  },
  {
   "cell_type": "markdown",
   "id": "e693f4e1",
   "metadata": {},
   "source": [
    "12. Create a program that determines the day of the week based on the day number (1-7)."
   ]
  },
  {
   "cell_type": "code",
   "execution_count": 22,
   "id": "9134892b",
   "metadata": {},
   "outputs": [
    {
     "name": "stdout",
     "output_type": "stream",
     "text": [
      "enter the number8\n",
      "Sunday\n"
     ]
    }
   ],
   "source": [
    "n=str(input(\"enter the number\"))    \n",
    "if n=='1':\n",
    "    print(\"Monday\")\n",
    "elif n=='2':\n",
    "    print(\"Tuesday\")\n",
    "elif n=='3':\n",
    "    print(\"Wednesday\")\n",
    "elif n=='4':\n",
    "    print(\"Thursday\")\n",
    "elif n=='5':\n",
    "    print(\"Friday\")\n",
    "elif n=='6':\n",
    "    print(\"Saturday\")\n",
    "else:\n",
    "    print(\"Sunday\")\n"
   ]
  },
  {
   "cell_type": "markdown",
   "id": "6399d42f",
   "metadata": {},
   "source": [
    "13. Develop a program that calculates the factorial of a given number using recursion."
   ]
  },
  {
   "cell_type": "code",
   "execution_count": null,
   "id": "74ccec44",
   "metadata": {},
   "outputs": [],
   "source": [
    "def fact"
   ]
  },
  {
   "cell_type": "markdown",
   "id": "961e2b48",
   "metadata": {},
   "source": [
    "14. Write a program to find the largest among three numbers without using the `max()` function."
   ]
  },
  {
   "cell_type": "code",
   "execution_count": 23,
   "id": "2c3425c4",
   "metadata": {},
   "outputs": [
    {
     "name": "stdout",
     "output_type": "stream",
     "text": [
      "a is greater\n"
     ]
    }
   ],
   "source": [
    "a=78\n",
    "b=56\n",
    "c=34\n",
    "if a>b and a>c:\n",
    "    print(\"a is greater\")\n",
    "elif b>c:\n",
    "    print(\"b is greater\")\n",
    "else:\n",
    "    print(\"c is greatest\")"
   ]
  },
  {
   "cell_type": "markdown",
   "id": "a3802550",
   "metadata": {},
   "source": [
    "15. Create a program that simulates a basic ATM transaction menu"
   ]
  },
  {
   "cell_type": "code",
   "execution_count": 50,
   "id": "d0d5fafa",
   "metadata": {},
   "outputs": [
    {
     "name": "stdout",
     "output_type": "stream",
     "text": [
      "\n",
      "===== ATM MENU =====\n",
      "1. Check Balance\n",
      "2. Deposit\n",
      "3. Withdraw\n",
      "4. Exit\n",
      "Enter your choice (1-4): 3\n",
      "Enter the amount to withdraw: 3000\n",
      "Insufficient funds.\n",
      "\n",
      "===== ATM MENU =====\n",
      "1. Check Balance\n",
      "2. Deposit\n",
      "3. Withdraw\n",
      "4. Exit\n",
      "Enter your choice (1-4): 4\n",
      "Thank you for using our ATM. Goodbye!\n"
     ]
    }
   ],
   "source": [
    "def check_balance(balance):\n",
    "    print(\"Your current balance is:\", balance)\n",
    "\n",
    "def deposit(balance):\n",
    "    amount = float(input(\"Enter the amount to deposit: \"))\n",
    "    balance += amount\n",
    "    print(\"Deposit successful. Your new balance is:\", balance)\n",
    "    return balance\n",
    "\n",
    "def withdraw(balance):\n",
    "    amount = float(input(\"Enter the amount to withdraw: \"))\n",
    "    if amount > balance:\n",
    "        print(\"Insufficient funds.\")\n",
    "    else:\n",
    "        balance -= amount\n",
    "        print(\"Withdrawal successful. Your new balance is:\", balance)\n",
    "    return balance\n",
    "\n",
    "def main():\n",
    "    balance = 1000  # Initial balance\n",
    "    while True:\n",
    "        print(\"\\n===== ATM MENU =====\")\n",
    "        print(\"1. Check Balance\")\n",
    "        print(\"2. Deposit\")\n",
    "        print(\"3. Withdraw\")\n",
    "        print(\"4. Exit\")\n",
    "        choice = input(\"Enter your choice (1-4): \")\n",
    "\n",
    "        if choice == '1':\n",
    "            check_balance(balance)\n",
    "        elif choice == '2':\n",
    "            balance = deposit(balance)\n",
    "        elif choice == '3':\n",
    "            balance = withdraw(balance)\n",
    "        elif choice == '4':\n",
    "            print(\"Thank you for using our ATM. Goodbye!\")\n",
    "            break\n",
    "        else:\n",
    "            print(\"Invalid choice. Please enter a number between 1 and 4.\")\n",
    "\n",
    "if __name__ == \"__main__\":\n",
    "    main()\n"
   ]
  },
  {
   "cell_type": "markdown",
   "id": "bd6721eb",
   "metadata": {},
   "source": [
    "16. Build a program that checks if a given string is a palindrome or not."
   ]
  },
  {
   "cell_type": "code",
   "execution_count": 27,
   "id": "4bf7f2f5",
   "metadata": {},
   "outputs": [
    {
     "name": "stdout",
     "output_type": "stream",
     "text": [
      "enter the stringmam\n",
      "string is palindrome\n"
     ]
    }
   ],
   "source": [
    "str1=str(input(\"enter the string\"))\n",
    "if str1==str1[::-1]:\n",
    "    print(\"string is palindrome\")\n",
    "else:\n",
    "    print(\"string is not palindrome\")"
   ]
  },
  {
   "cell_type": "markdown",
   "id": "13221d16",
   "metadata": {},
   "source": [
    "17. Write a program that calculates the average of a list of numbers, excluding the smallest and largest values"
   ]
  },
  {
   "cell_type": "code",
   "execution_count": 48,
   "id": "24001d1c",
   "metadata": {},
   "outputs": [
    {
     "name": "stdout",
     "output_type": "stream",
     "text": [
      "1.4\n"
     ]
    }
   ],
   "source": [
    "l=[3,2,5,1,7,5,8]\n",
    "d=sorted(l)\n",
    "s=0\n",
    "for i in d:\n",
    "    if (i==min(d)) or (i==max(d)):\n",
    "        continue\n",
    "    z=s+i\n",
    "avg=z/(len(d)-2) \n",
    "print(avg)"
   ]
  },
  {
   "cell_type": "markdown",
   "id": "4c177a04",
   "metadata": {},
   "source": [
    "18. Develop a program that converts a given temperature from Celsius to Fahrenheit."
   ]
  },
  {
   "cell_type": "code",
   "execution_count": 41,
   "id": "a1f1afcc",
   "metadata": {},
   "outputs": [
    {
     "name": "stdout",
     "output_type": "stream",
     "text": [
      "109.4\n"
     ]
    }
   ],
   "source": [
    "\n",
    "temp=43\n",
    "fah=temp*1.8+32\n",
    "print(fah)"
   ]
  },
  {
   "cell_type": "markdown",
   "id": "d061cf1a",
   "metadata": {},
   "source": [
    "19. Create a program that simulates a basic calculator for addition, subtraction, multiplication, and division."
   ]
  },
  {
   "cell_type": "code",
   "execution_count": 44,
   "id": "c75d510e",
   "metadata": {},
   "outputs": [
    {
     "data": {
      "text/plain": [
       "57"
      ]
     },
     "execution_count": 44,
     "metadata": {},
     "output_type": "execute_result"
    }
   ],
   "source": [
    "def addition(a,b):\n",
    "    s=a+b\n",
    "    return s\n",
    "def subtraction(a,b):\n",
    "    d=a-b\n",
    "    return d\n",
    "def multiplication(a,b):\n",
    "    r=a*b\n",
    "    return r\n",
    "def division(a,b):\n",
    "    x=a/b\n",
    "    return x\n",
    "addition(23,34)"
   ]
  },
  {
   "cell_type": "markdown",
   "id": "1405b246",
   "metadata": {},
   "source": [
    "20. Write a program that determines the roots of a cubic equation using the Cardano formula"
   ]
  },
  {
   "cell_type": "code",
   "execution_count": 49,
   "id": "6d42ae83",
   "metadata": {},
   "outputs": [
    {
     "name": "stdout",
     "output_type": "stream",
     "text": [
      "Enter coefficient a: 67\n",
      "Enter coefficient b: 89\n",
      "Enter coefficient c: 43\n",
      "Enter constant term d: 900\n",
      "Roots: [-2.8058546163439533]\n"
     ]
    }
   ],
   "source": [
    "import math\n",
    "\n",
    "def cubic_roots(a, b, c, d):\n",
    "    # Calculate discriminant\n",
    "    p = (3 * a * c - b ** 2) / (3 * a ** 2)\n",
    "    q = (2 * b ** 3 - 9 * a * b * c + 27 * a ** 2 * d) / (27 * a ** 3)\n",
    "    discriminant = q ** 2 / 4 + p ** 3 / 27\n",
    "\n",
    "    # Check if the discriminant is positive, negative, or zero\n",
    "    if discriminant > 0:\n",
    "        # One real root and two complex roots\n",
    "        r = -q / 2 + math.sqrt(discriminant)\n",
    "        s = r ** (1 / 3) if r >= 0 else -(-r) ** (1 / 3)\n",
    "        t = -q / 2 - math.sqrt(discriminant)\n",
    "        u = t ** (1 / 3) if t >= 0 else -(-t) ** (1 / 3)\n",
    "        real_root = s + u - b / (3 * a)\n",
    "        return [real_root]\n",
    "    elif discriminant == 0:\n",
    "        # Three real roots, but two are identical\n",
    "        if q >= 0:\n",
    "            real_root = -2 * q ** (1 / 3) - b / (3 * a)\n",
    "            return [real_root, real_root]\n",
    "        else:\n",
    "            real_root = 2 * (-q) ** (1 / 3) - b / (3 * a)\n",
    "            return [real_root, real_root]\n",
    "    else:\n",
    "        # Three real roots\n",
    "        phi = math.acos(-q / 2 * math.sqrt(-27 / (p ** 3)))\n",
    "        real_root1 = 2 * math.sqrt(-p / 3) * math.cos(phi / 3) - b / (3 * a)\n",
    "        real_root2 = 2 * math.sqrt(-p / 3) * math.cos((phi + 2 * math.pi) / 3) - b / (3 * a)\n",
    "        real_root3 = 2 * math.sqrt(-p / 3) * math.cos((phi + 4 * math.pi) / 3) - b / (3 * a)\n",
    "        return [real_root1, real_root2, real_root3]\n",
    "\n",
    "# Example usage\n",
    "a = float(input(\"Enter coefficient a: \"))\n",
    "b = float(input(\"Enter coefficient b: \"))\n",
    "c = float(input(\"Enter coefficient c: \"))\n",
    "d = float(input(\"Enter constant term d: \"))\n",
    "\n",
    "roots = cubic_roots(a, b, c, d)\n",
    "print(\"Roots:\", roots)\n"
   ]
  },
  {
   "cell_type": "code",
   "execution_count": 51,
   "id": "09b222df",
   "metadata": {},
   "outputs": [],
   "source": [
    "#advanced"
   ]
  },
  {
   "cell_type": "markdown",
   "id": "a5cdab1e",
   "metadata": {},
   "source": [
    "21. Create a program that calculates the income tax based on the user's income and tax brackets."
   ]
  },
  {
   "cell_type": "code",
   "execution_count": 3,
   "id": "ae0a9337",
   "metadata": {},
   "outputs": [
    {
     "name": "stdout",
     "output_type": "stream",
     "text": [
      "What's your annual income?\n",
      ">>> 1700000\n",
      "Total tax applicable at ₹1700000.0 is ₹247500.0\n"
     ]
    }
   ],
   "source": [
    "def calculate(amount, percent): \n",
    "    return (amount * percent) / 100\n",
    "  \n",
    "def calculate_income_tax(total_income:  \n",
    "                         float) -> float: \n",
    "  \n",
    "    if total_income <= 250000: \n",
    "        return 0\n",
    "    elif total_income <= 500000: \n",
    "        return calculate(total_income - \n",
    "                         250000, 5) \n",
    "    elif total_income <= 750000: \n",
    "        return calculate(total_income - \n",
    "                         500000, 10) + 12500\n",
    "    elif total_income <= 1000000: \n",
    "        return calculate(total_income - \n",
    "                         750000, 15) + 37500\n",
    "    elif total_income <= 1250000: \n",
    "        return calculate(total_income - \n",
    "                         1000000, 20) + 75000\n",
    "    elif total_income <= 1500000: \n",
    "        return calculate(total_income - \n",
    "                         1250000, 25) + 125000\n",
    "    else: \n",
    "        return calculate(total_income - \n",
    "                         1500000, 30) + 187500\n",
    "  \n",
    "  \n",
    "if __name__ == '__main__': \n",
    "    total_income = float(input(\"What's your annual income?\\n>>> \")) \n",
    "    tax = calculate_income_tax(total_income) \n",
    "    print(f\"Total tax applicable at ₹{total_income} is ₹{tax}\") "
   ]
  },
  {
   "cell_type": "markdown",
   "id": "c6f1ee7a",
   "metadata": {},
   "source": [
    "22. Write a program that simulates a rock-paper-scissors game against the computer."
   ]
  },
  {
   "cell_type": "code",
   "execution_count": 7,
   "id": "a9d18e31",
   "metadata": {},
   "outputs": [
    {
     "name": "stdout",
     "output_type": "stream",
     "text": [
      "enter the optionscissor\n",
      "scissor\n",
      "rock\n",
      "Computer wins\n"
     ]
    }
   ],
   "source": [
    "import random\n",
    "options=['rock','paper','scissor']\n",
    "user_input=input(\"enter the option\")\n",
    "computer_choice=random.choice(options)\n",
    "print(user_input)\n",
    "print(computer_choice)\n",
    "if user_input==computer_choice:\n",
    "    print(\"Its a tie\")\n",
    "elif user_input=='rock' and computer_choice=='scissor':\n",
    "    print('You win')\n",
    "elif user_input=='scissor' and computer_choice=='paper':\n",
    "    print('You win')\n",
    "elif user_input=='paper' and computer_choice=='rock':\n",
    "    print('You win')\n",
    "else:\n",
    "    print('Computer wins')"
   ]
  },
  {
   "cell_type": "markdown",
   "id": "e66b934e",
   "metadata": {},
   "source": [
    "23. Develop a program that generates a random password based on user preferences (length, complexity)."
   ]
  },
  {
   "cell_type": "code",
   "execution_count": 11,
   "id": "066f2a3d",
   "metadata": {},
   "outputs": [
    {
     "name": "stdout",
     "output_type": "stream",
     "text": [
      "enter the length6\n",
      "For Password enter the input\n",
      "      1.Letters\n",
      "      2.Digits\n",
      "      3.SpecialCharacters\n",
      "      4.exit\n",
      "Pick a number1\n",
      "Pick a number2\n",
      "Pick a number3\n",
      "Pick a number4\n",
      "the password is biJ;,g\n"
     ]
    }
   ],
   "source": [
    "import random,string\n",
    "length=int(input(\"enter the length\"))\n",
    "print('''For Password enter the input\n",
    "      1.Letters\n",
    "      2.Digits\n",
    "      3.SpecialCharacters\n",
    "      4.exit''')\n",
    "charlst=\"\"\n",
    "while(True):\n",
    "    choice=int(input('Pick a number'))\n",
    "    if choice==1:\n",
    "        charlst+=string.ascii_letters\n",
    "    elif choice==2:\n",
    "        charlst+=string.digits\n",
    "    elif choice==3:\n",
    "        charlst+=string.punctuation\n",
    "    elif choice==4:\n",
    "        break\n",
    "    else:\n",
    "        print(\"Pick a valid option\")\n",
    "password=[]\n",
    "for i in range(length):\n",
    "    randomchar=random.choice(charlst)\n",
    "    password.append(randomchar)\n",
    "print(\"the password is \"+\"\".join(password))"
   ]
  },
  {
   "cell_type": "markdown",
   "id": "00f05f83",
   "metadata": {},
   "source": [
    "24. Create a program that implements a simple text-based adventure game with branching scenarios."
   ]
  },
  {
   "cell_type": "code",
   "execution_count": null,
   "id": "bf832153",
   "metadata": {},
   "outputs": [
    {
     "name": "stdout",
     "output_type": "stream",
     "text": [
      "Welcome to the Adventure Game!\n",
      "As an avid traveller, you have decided to visit the Catacombs of Paris.\n",
      "However, during your exploration, you find yourself lost.\n",
      "You can choose to walk in multiple directions to find a way out.\n",
      "Let's start with your name: \n",
      "madhuri\n",
      "Good luck, madhuri.\n",
      "You are at a crossroads, and you can choose to go down any of the four hallways. Where would you like to go?\n",
      "Options: left/right/backward/forward\n",
      "forward\n",
      "You hear strange voices. You think you have awoken some of the dead. Where would you like to go?\n",
      "Options: right/left/backward\n",
      "backward\n",
      "You are at a crossroads, and you can choose to go down any of the four hallways. Where would you like to go?\n",
      "Options: left/right/backward/forward\n",
      "right\n",
      "You see a wall of skeletons as you walk into the room. Someone is watching you. Where would you like to go?\n",
      "Options: left/backward/forward\n",
      "forward\n",
      "A strange goul-like creature has appeared. You can either run or fight it. What would you like to do?\n",
      "Options: flee/fight\n",
      "flee\n",
      "You see a wall of skeletons as you walk into the room. Someone is watching you. Where would you like to go?\n",
      "Options: left/backward/forward\n",
      "forward\n",
      "A strange goul-like creature has appeared. You can either run or fight it. What would you like to do?\n",
      "Options: flee/fight\n",
      "flee\n",
      "You see a wall of skeletons as you walk into the room. Someone is watching you. Where would you like to go?\n",
      "Options: left/backward/forward\n",
      "left\n",
      "You find that this door opens into a wall. You open some of the drywall to discover a knife.\n",
      "Options: left/backward/forward\n",
      "forward\n",
      "A strange goul-like creature has appeared. You can either run or fight it. What would you like to do?\n",
      "Options: flee/fight\n",
      "flee\n",
      "You see a wall of skeletons as you walk into the room. Someone is watching you. Where would you like to go?\n",
      "Options: left/backward/forward\n",
      "backward\n",
      "You are at a crossroads, and you can choose to go down any of the four hallways. Where would you like to go?\n",
      "Options: left/right/backward/forward\n",
      "right\n",
      "You see a wall of skeletons as you walk into the room. Someone is watching you. Where would you like to go?\n",
      "Options: left/backward/forward\n",
      "forward\n",
      "A strange goul-like creature has appeared. You can either run or fight it. What would you like to do?\n",
      "Options: flee/fight\n",
      "fight\n",
      "You kill the goul with the knife you found earlier. After moving forward, you find one of the exits. Congats!\n",
      "Welcome to the Adventure Game!\n",
      "As an avid traveller, you have decided to visit the Catacombs of Paris.\n",
      "However, during your exploration, you find yourself lost.\n",
      "You can choose to walk in multiple directions to find a way out.\n",
      "Let's start with your name: \n"
     ]
    }
   ],
   "source": [
    "weapon = False\n",
    "\n",
    "def strangeCreature():\n",
    "  actions = [\"fight\",\"flee\"]\n",
    "  global weapon\n",
    "  print(\"A strange goul-like creature has appeared. You can either run or fight it. What would you like to do?\")\n",
    "  userInput = \"\"\n",
    "  while userInput not in actions:\n",
    "    print(\"Options: flee/fight\")\n",
    "    userInput = input()\n",
    "    if userInput == \"fight\":\n",
    "      if weapon:\n",
    "        print(\"You kill the goul with the knife you found earlier. After moving forward, you find one of the exits. Congats!\")\n",
    "      else:\n",
    "        print(\"The goul-like creature has killed you.\")\n",
    "      quit()\n",
    "    elif userInput == \"flee\":\n",
    "      showSkeletons()\n",
    "    else:\n",
    "      print(\"Please enter a valid option.\")\n",
    "      \n",
    "def showSkeletons():\n",
    "  directions = [\"backward\",\"forward\"]\n",
    "  global weapon\n",
    "  print(\"You see a wall of skeletons as you walk into the room. Someone is watching you. Where would you like to go?\")\n",
    "  userInput = \"\"\n",
    "  while userInput not in directions:\n",
    "    print(\"Options: left/backward/forward\")\n",
    "    userInput = input()\n",
    "    if userInput == \"left\":\n",
    "      print(\"You find that this door opens into a wall. You open some of the drywall to discover a knife.\")\n",
    "      weapon = True\n",
    "    elif userInput == \"backward\":\n",
    "      introScene()\n",
    "    elif userInput == \"forward\":\n",
    "      strangeCreature()\n",
    "    else:\n",
    "      print(\"Please enter a valid option.\")\n",
    "      \n",
    "\n",
    "def hauntedRoom():\n",
    "  directions = [\"right\",\"left\",\"backward\"]\n",
    "  print(\"You hear strange voices. You think you have awoken some of the dead. Where would you like to go?\")\n",
    "  userInput = \"\"\n",
    "  while userInput not in directions:\n",
    "    print(\"Options: right/left/backward\")\n",
    "    userInput = input()\n",
    "    if userInput == \"right\":\n",
    "      print(\"Multiple goul-like creatures start emerging as you enter the room. You are killed.\")\n",
    "      quit()\n",
    "    elif userInput == \"left\":\n",
    "      print(\"You made it! You've found an exit.\")\n",
    "      quit()\n",
    "    elif userInput == \"backward\":\n",
    "      introScene()\n",
    "    else:\n",
    "      print(\"Please enter a valid option.\")\n",
    "\n",
    "def cameraScene():\n",
    "  directions = [\"forward\",\"backward\"]\n",
    "  print(\"You see a camera that has been dropped on the ground. Someone has been here recently. Where would you like to go?\")\n",
    "  userInput = \"\"\n",
    "  while userInput not in directions:\n",
    "    print(\"Options: forward/backward\")\n",
    "    userInput = input()\n",
    "    if userInput == \"forward\":\n",
    "      print(\"You made it! You've found an exit.\")\n",
    "      quit()\n",
    "    elif userInput == \"backward\":\n",
    "      showShadowFigure()\n",
    "    else:\n",
    "      print(\"Please enter a valid option.\")\n",
    "      \n",
    "def showShadowFigure():\n",
    "  directions = [\"right\",\"backward\"]\n",
    "  print(\"You see a dark shadowy figure appear in the distance. You are creeped out. Where would you like to go?\")\n",
    "  userInput = \"\"\n",
    "  while userInput not in directions:\n",
    "    print(\"Options: right/left/backward\")\n",
    "    userInput = input()\n",
    "    if userInput == \"right\":\n",
    "      cameraScene()\n",
    "    elif userInput == \"left\":\n",
    "      print(\"You find that this door opens into a wall.\")\n",
    "    elif userInput == \"backward\":\n",
    "      introScene()\n",
    "    else:\n",
    "      print(\"Please enter a valid option.\")\n",
    "\n",
    "\n",
    "def introScene():\n",
    "  directions = [\"left\",\"right\",\"forward\"]\n",
    "  print(\"You are at a crossroads, and you can choose to go down any of the four hallways. Where would you like to go?\")\n",
    "  userInput = \"\"\n",
    "  while userInput not in directions:\n",
    "    print(\"Options: left/right/backward/forward\")\n",
    "    userInput = input()\n",
    "    if userInput == \"left\":\n",
    "      showShadowFigure()\n",
    "    elif userInput == \"right\":\n",
    "      showSkeletons()\n",
    "    elif userInput == \"forward\":\n",
    "      hauntedRoom()\n",
    "    elif userInput == \"backward\":\n",
    "      print(\"You find that this door opens into a wall.\")\n",
    "    else: \n",
    "      print(\"Please enter a valid option.\")\n",
    "\n",
    "if __name__ == \"__main__\":\n",
    "  while True:\n",
    "    print(\"Welcome to the Adventure Game!\")\n",
    "    print(\"As an avid traveller, you have decided to visit the Catacombs of Paris.\")\n",
    "    print(\"However, during your exploration, you find yourself lost.\")\n",
    "    print(\"You can choose to walk in multiple directions to find a way out.\")\n",
    "    print(\"Let's start with your name: \")\n",
    "    name = input()\n",
    "    print(\"Good luck, \" +name+ \".\")\n",
    "    introScene()"
   ]
  },
  {
   "cell_type": "markdown",
   "id": "73cef616",
   "metadata": {},
   "source": [
    "25. Build a program that solves a linear equation  for x, considering different cases."
   ]
  },
  {
   "cell_type": "code",
   "execution_count": 13,
   "id": "1daca77d",
   "metadata": {},
   "outputs": [
    {
     "name": "stdout",
     "output_type": "stream",
     "text": [
      "x = 2\n"
     ]
    }
   ],
   "source": [
    "def solveEquation(equation) :\n",
    " \n",
    "    n = len(equation) \n",
    "    sign = 1\n",
    "    coeff = 0\n",
    "    total = 0\n",
    "    i = 0\n",
    " \n",
    "    # Traverse the equation\n",
    "    for j in range(0, n) :\n",
    "     \n",
    "        if (equation[j] == '+' or\n",
    "            equation[j] == '-') :\n",
    "         \n",
    "            if (j > i) :\n",
    "                total = (total + sign *\n",
    "                         int(equation[i: j]))\n",
    "            i = j\n",
    "         \n",
    "        # For cases such \n",
    "        # as: x, -x, +x\n",
    "        elif (equation[j] == 'x') :\n",
    "         \n",
    "            if ((i == j) or\n",
    "                equation[j - 1] == '+') :\n",
    "                coeff += sign\n",
    "            elif (equation[j - 1] == '-') :\n",
    "                coeff = coeff - sign\n",
    "            else :\n",
    "                coeff = (coeff + sign *\n",
    "                         int(equation[i: j]))\n",
    "            i = j + 1\n",
    "         \n",
    "        # Flip sign once \n",
    "        # '=' is seen\n",
    "        elif (equation[j] == '=') :\n",
    "         \n",
    "            if (j > i) :\n",
    "                total = (total + sign *\n",
    "                         int(equation[i: j]))\n",
    "            sign = -1\n",
    "            i = j + 1\n",
    "         \n",
    "    # There may be a number\n",
    "    # left in the end\n",
    "    if (i < n) :\n",
    "        total = (total + sign *\n",
    "                 int(equation[i: len(equation)]))\n",
    " \n",
    "    # For infinite solutions\n",
    "    if (coeff == 0 and\n",
    "        total == 0) :\n",
    "        return \"Infinite solutions\"\n",
    " \n",
    "    # For no solution\n",
    "    if (coeff == 0 and total) :\n",
    "        return \"No solution\"\n",
    " \n",
    "    # x = total sum / coeff of x\n",
    "    # '-' sign indicates moving\n",
    "    # numeric value to right hand side\n",
    "    ans = -total / coeff\n",
    "    return int(ans)\n",
    " \n",
    "# Driver code\n",
    "equation = \"x+5-3+x=6+x-2\"\n",
    "print (\"x = {}\" . \n",
    "        format(solveEquation(equation)))\n",
    " "
   ]
  },
  {
   "cell_type": "markdown",
   "id": "1cf46903",
   "metadata": {},
   "source": [
    "26. Write a program that simulates a basic quiz game with multiple-choice questions and scoring"
   ]
  },
  {
   "cell_type": "code",
   "execution_count": 20,
   "id": "ba260834",
   "metadata": {},
   "outputs": [
    {
     "name": "stdout",
     "output_type": "stream",
     "text": [
      "Wellcome to quiz game !!\n",
      "NOTE: if your spelling is incorrect then it is considered as wrong answer\n",
      "Do you want to play ? yes\n",
      "\n",
      "1. what does CPU stand for? central processing unit\n",
      "correct! you got 1 point\n",
      "\n",
      "2. what does GPU stand for? graphic processing unit\n",
      "Incorrect!\n",
      "current answer is --> graphics processing unit\n",
      "\n",
      "3. what does RAM stand for? random access memory\n",
      "correct! you got 1 point\n",
      "\n",
      "4. what does PSU stand for? public sector unit\n",
      "Incorrect!\n",
      "current answer is --> power supply unit\n",
      "\n",
      "5. what does ROM stand for? read only memory\n",
      "correct! you got 1 point\n",
      "\n",
      "number of question is 5\n",
      "your score is 3\n",
      "60.0% questions are correct.\n"
     ]
    }
   ],
   "source": [
    "print(\"Wellcome to quiz game !!\")\n",
    "print('NOTE: if your spelling is incorrect then it is considered as wrong answer')\n",
    "score = 0\n",
    "question_no = 0\n",
    "playing = input('Do you want to play ? ').lower()\n",
    "if playing == 'yes':\n",
    "    question_no += 1\n",
    "    ques = input(f'\\n{question_no}. what does CPU stand for? ').lower()\n",
    "    if ques == 'central processing unit':\n",
    "        score +=1\n",
    "        print('correct! you got 1 point')\n",
    "        \n",
    "    else:\n",
    "        print('Incorrect!')\n",
    "        print(f'current answer is --> central processing unit')\n",
    "\n",
    "# ------1\n",
    "    question_no += 1\n",
    "    ques = input(f'\\n{question_no}. what does GPU stand for? ').lower()\n",
    "    \n",
    "    if ques == 'graphics processing unit':\n",
    "        score +=1\n",
    "        print('correct! you got 1 point')\n",
    "        \n",
    "    else:\n",
    "        print('Incorrect!')\n",
    "        print(f'current answer is --> graphics processing unit')\n",
    "\n",
    "# -----2\n",
    "    question_no += 1\n",
    "    ques = input(f'\\n{question_no}. what does RAM stand for? ').lower()\n",
    "    \n",
    "    if ques == 'random access memory':\n",
    "        score +=1\n",
    "        print('correct! you got 1 point')\n",
    "        \n",
    "    else:\n",
    "        print('Incorrect!')\n",
    "        print(f'current answer is --> random access memory')\n",
    "\n",
    "# -----3\n",
    "    question_no += 1\n",
    "    ques = input(f'\\n{question_no}. what does PSU stand for? ').lower()\n",
    "    \n",
    "    if ques == 'power supply unit':\n",
    "        score +=1\n",
    "        print('correct! you got 1 point')\n",
    "        \n",
    "    else:\n",
    "        print('Incorrect!')\n",
    "        print(f'current answer is --> power supply unit')\n",
    "\n",
    "\n",
    "# -----4\n",
    "    question_no += 1\n",
    "    ques = input(f'\\n{question_no}. what does ROM stand for? ').lower()\n",
    "    \n",
    "    if ques == 'read only memory':\n",
    "        score +=1\n",
    "        print('correct! you got 1 point')\n",
    "        \n",
    "    else:\n",
    "        print('Incorrect!')\n",
    "        print(f'current answer is --> read only memory')\n",
    "\n",
    "\n",
    "# ------5 \n",
    "\n",
    "else:\n",
    "    print('thankyou you are out of a game.')\n",
    "    quit()\n",
    "\n",
    "print(f'\\nnumber of question is {question_no}')\n",
    "print(f'your score is {score}')\n",
    "try:\n",
    "    percentage = (score *100)/question_no\n",
    "except ZeroDivisionError:\n",
    "    print('0% quetions are correct')\n",
    "\n",
    "print(f'{percentage}% questions are correct.')"
   ]
  },
  {
   "cell_type": "markdown",
   "id": "04038580",
   "metadata": {},
   "source": [
    "27. Develop a program that determines whether a given year is a prime number or not."
   ]
  },
  {
   "cell_type": "code",
   "execution_count": 15,
   "id": "576df593",
   "metadata": {},
   "outputs": [
    {
     "name": "stdout",
     "output_type": "stream",
     "text": [
      "yr not a prime yr\n"
     ]
    }
   ],
   "source": [
    "year=2020\n",
    "def prime(n):\n",
    "    for i in range(2,int(n**0.5)+1):\n",
    "        if n%i==0:\n",
    "            return False\n",
    "    return True\n",
    "if prime(year):\n",
    "    print(\"year is prime yr\")\n",
    "else:\n",
    "    print(\"yr not a prime yr\")\n",
    "    "
   ]
  },
  {
   "cell_type": "markdown",
   "id": "56a70a1f",
   "metadata": {},
   "source": [
    "28. Create a program that sorts three numbers in ascending order using conditional statements"
   ]
  },
  {
   "cell_type": "code",
   "execution_count": 17,
   "id": "b7d3accc",
   "metadata": {},
   "outputs": [
    {
     "name": "stdout",
     "output_type": "stream",
     "text": [
      "sorted numbers are [10, 30, 289]\n"
     ]
    }
   ],
   "source": [
    "a=10\n",
    "b=289\n",
    "c=30\n",
    "if a<=b and a<=c:\n",
    "    smallest=a\n",
    "    if b<=c:\n",
    "        mid=b\n",
    "        largest=c\n",
    "    else:\n",
    "        mid=c\n",
    "        largest=b\n",
    "elif b<=a and b<=c:\n",
    "    smallest=b\n",
    "    if a<=c:\n",
    "        mid=a\n",
    "        largest=c\n",
    "    else:\n",
    "        mid=c\n",
    "        largest=a\n",
    "else:\n",
    "    smallest=c\n",
    "    if a<=b:\n",
    "        mid=a\n",
    "        largest=b\n",
    "    else:\n",
    "        mid=b\n",
    "        largest=c\n",
    "print(\"sorted numbers are\",[smallest,mid,largest])"
   ]
  },
  {
   "cell_type": "markdown",
   "id": "7342f00c",
   "metadata": {},
   "source": [
    "29. Build a program that determines the roots of a quartic equation using numerical methods."
   ]
  },
  {
   "cell_type": "code",
   "execution_count": 18,
   "id": "8dbc197f",
   "metadata": {},
   "outputs": [
    {
     "name": "stdout",
     "output_type": "stream",
     "text": [
      "Enter the coefficient of x^2: 20\n",
      "Enter the coefficient of x: 35\n",
      "Enter the constant term: 90\n",
      "Root 1: (-0.875+1.9324531042175384j)\n",
      "Root 2: (-0.875-1.9324531042175384j)\n"
     ]
    }
   ],
   "source": [
    "import math\n",
    "\n",
    "def quadratic_roots(a, b, c):\n",
    "    # Calculate discriminant\n",
    "    discriminant = b**2 - 4*a*c\n",
    "    \n",
    "    # Check if roots are real\n",
    "    if discriminant >= 0:\n",
    "        # Calculate real roots\n",
    "        root1 = (-b + math.sqrt(discriminant)) / (2*a)\n",
    "        root2 = (-b - math.sqrt(discriminant)) / (2*a)\n",
    "        return root1, root2\n",
    "    else:\n",
    "        # Calculate real and imaginary parts of complex roots\n",
    "        real_part = -b / (2*a)\n",
    "        imag_part = math.sqrt(abs(discriminant)) / (2*a)\n",
    "        root1 = complex(real_part, imag_part)\n",
    "        root2 = complex(real_part, -imag_part)\n",
    "        return root1, root2\n",
    "\n",
    "# Input coefficients of the quadratic equation\n",
    "a = float(input(\"Enter the coefficient of x^2: \"))\n",
    "b = float(input(\"Enter the coefficient of x: \"))\n",
    "c = float(input(\"Enter the constant term: \"))\n",
    "\n",
    "# Calculate and print the roots\n",
    "root1, root2 = quadratic_roots(a, b, c)\n",
    "print(\"Root 1:\", root1)\n",
    "print(\"Root 2:\", root2)\n"
   ]
  },
  {
   "cell_type": "markdown",
   "id": "5f06f452",
   "metadata": {},
   "source": [
    "30. Write a program that calculates the BMI (Body Mass Index) and provides health recommendations based \n",
    "on the user's input."
   ]
  },
  {
   "cell_type": "code",
   "execution_count": 19,
   "id": "7d354012",
   "metadata": {},
   "outputs": [
    {
     "name": "stdout",
     "output_type": "stream",
     "text": [
      "Enter your weight in kilograms: 67\n",
      "Enter your height in meters: 5.2\n",
      "Your BMI is: 2.48\n",
      "You are Underweight\n"
     ]
    }
   ],
   "source": [
    "def calculate_bmi(weight, height):\n",
    "    return weight / (height ** 2)\n",
    "\n",
    "def categorize_bmi(bmi):\n",
    "    if bmi < 18.5:\n",
    "        return \"Underweight\"\n",
    "    elif 18.5 <= bmi < 25:\n",
    "        return \"Normal weight\"\n",
    "    elif 25 <= bmi < 30:\n",
    "        return \"Overweight\"\n",
    "    else:\n",
    "        return \"Obese\"\n",
    "\n",
    "def main():\n",
    "    weight = float(input(\"Enter your weight in kilograms: \"))\n",
    "    height = float(input(\"Enter your height in meters: \"))\n",
    "    \n",
    "    bmi = calculate_bmi(weight, height)\n",
    "    category = categorize_bmi(bmi)\n",
    "    \n",
    "    print(\"Your BMI is:\", round(bmi, 2))\n",
    "    print(\"You are\", category)\n",
    "\n",
    "if __name__ == \"__main__\":\n",
    "    main()\n"
   ]
  },
  {
   "cell_type": "markdown",
   "id": "6ba6ea08",
   "metadata": {},
   "source": [
    "Create a program that validates a password based on complexity rules (length, characters, etc."
   ]
  },
  {
   "cell_type": "code",
   "execution_count": 16,
   "id": "4b3fb938",
   "metadata": {},
   "outputs": [
    {
     "name": "stdout",
     "output_type": "stream",
     "text": [
      "Enter the password to validate: Madhuri01#\n",
      "Password is valid.\n"
     ]
    }
   ],
   "source": [
    "import re\n",
    "\n",
    "def validate_password(password):\n",
    "    \"\"\"\n",
    "    Validate a password based on complexity rules.\n",
    "    \"\"\"\n",
    "    # Check if password length is between 8 and 16 characters\n",
    "    if len(password) < 8 or len(password) > 16:\n",
    "        return False, \"Password length must be between 8 and 16 characters.\"\n",
    "\n",
    "    # Check if password contains at least one uppercase letter\n",
    "    if not re.search(\"[A-Z]\", password):\n",
    "        return False, \"Password must contain at least one uppercase letter.\"\n",
    "\n",
    "    # Check if password contains at least one lowercase letter\n",
    "    if not re.search(\"[a-z]\", password):\n",
    "        return False, \"Password must contain at least one lowercase letter.\"\n",
    "\n",
    "    # Check if password contains at least one digit\n",
    "    if not re.search(\"[0-9]\", password):\n",
    "        return False, \"Password must contain at least one digit.\"\n",
    "\n",
    "    # Check if password contains at least one special character\n",
    "    if not re.search(\"[!@#$%^&*()_+{}:;<>,.?/|]\", password):\n",
    "        return False, \"Password must contain at least one special character (!@#$%^&*()_+{}:;<>,.?/|).\"\n",
    "\n",
    "    return True, \"Password is valid.\"\n",
    "\n",
    "# Input the password\n",
    "password = input(\"Enter the password to validate: \")\n",
    "\n",
    "# Validate the password\n",
    "is_valid, message = validate_password(password)\n",
    "\n",
    "# Print the validation result\n",
    "print(message)\n"
   ]
  },
  {
   "cell_type": "markdown",
   "id": "fe22c4a9",
   "metadata": {},
   "source": [
    "32. Develop a program that performs matrix addition and subtraction based on user input"
   ]
  },
  {
   "cell_type": "code",
   "execution_count": 15,
   "id": "6453bedc",
   "metadata": {},
   "outputs": [
    {
     "name": "stdout",
     "output_type": "stream",
     "text": [
      "Enter the first matrix:\n",
      "Enter the number of rows: 3\n",
      "Enter the number of columns: 3\n",
      "Enter the elements of the matrix:\n",
      "Enter element at position (1, 1): 1\n",
      "Enter element at position (1, 2): 2\n",
      "Enter element at position (1, 3): 3\n",
      "Enter element at position (2, 1): 4\n",
      "Enter element at position (2, 2): 5\n",
      "Enter element at position (2, 3): 6\n",
      "Enter element at position (3, 1): 7\n",
      "Enter element at position (3, 2): 8\n",
      "Enter element at position (3, 3): 9\n",
      "\n",
      "Enter the second matrix:\n",
      "Enter the number of rows: 2\n",
      "Enter the number of columns: 3\n",
      "Enter the elements of the matrix:\n",
      "Enter element at position (1, 1): 1\n",
      "Enter element at position (1, 2): 2\n",
      "Enter element at position (1, 3): 3\n",
      "Enter element at position (2, 1): 4\n",
      "Enter element at position (2, 2): 5\n",
      "Enter element at position (2, 3): 6\n",
      "Matrix addition is not possible. Matrices must have the same dimensions.\n",
      "Matrix subtraction is not possible. Matrices must have the same dimensions.\n"
     ]
    }
   ],
   "source": [
    "def matrix_addition(matrix1, matrix2):\n",
    "    \"\"\"\n",
    "    Perform matrix addition.\n",
    "    \"\"\"\n",
    "    result = []\n",
    "\n",
    "    # Check if dimensions are compatible\n",
    "    if len(matrix1) != len(matrix2) or len(matrix1[0]) != len(matrix2[0]):\n",
    "        print(\"Matrix addition is not possible. Matrices must have the same dimensions.\")\n",
    "        return None\n",
    "\n",
    "    # Perform addition\n",
    "    for i in range(len(matrix1)):\n",
    "        row = []\n",
    "        for j in range(len(matrix1[0])):\n",
    "            row.append(matrix1[i][j] + matrix2[i][j])\n",
    "        result.append(row)\n",
    "\n",
    "    return result\n",
    "\n",
    "def matrix_subtraction(matrix1, matrix2):\n",
    "    \"\"\"\n",
    "    Perform matrix subtraction.\n",
    "    \"\"\"\n",
    "    result = []\n",
    "\n",
    "    # Check if dimensions are compatible\n",
    "    if len(matrix1) != len(matrix2) or len(matrix1[0]) != len(matrix2[0]):\n",
    "        print(\"Matrix subtraction is not possible. Matrices must have the same dimensions.\")\n",
    "        return None\n",
    "\n",
    "    # Perform subtraction\n",
    "    for i in range(len(matrix1)):\n",
    "        row = []\n",
    "        for j in range(len(matrix1[0])):\n",
    "            row.append(matrix1[i][j] - matrix2[i][j])\n",
    "        result.append(row)\n",
    "\n",
    "    return result\n",
    "\n",
    "def input_matrix():\n",
    "    \"\"\"\n",
    "    Input a matrix from the user.\n",
    "    \"\"\"\n",
    "    matrix = []\n",
    "    rows = int(input(\"Enter the number of rows: \"))\n",
    "    cols = int(input(\"Enter the number of columns: \"))\n",
    "\n",
    "    print(\"Enter the elements of the matrix:\")\n",
    "\n",
    "    for i in range(rows):\n",
    "        row = []\n",
    "        for j in range(cols):\n",
    "            element = int(input(f\"Enter element at position ({i+1}, {j+1}): \"))\n",
    "            row.append(element)\n",
    "        matrix.append(row)\n",
    "\n",
    "    return matrix\n",
    "\n",
    "# Input first matrix\n",
    "print(\"Enter the first matrix:\")\n",
    "matrix1 = input_matrix()\n",
    "\n",
    "# Input second matrix\n",
    "print(\"\\nEnter the second matrix:\")\n",
    "matrix2 = input_matrix()\n",
    "\n",
    "# Perform matrix addition\n",
    "result_addition = matrix_addition(matrix1, matrix2)\n",
    "if result_addition:\n",
    "    print(\"\\nResult of matrix addition:\")\n",
    "    for row in result_addition:\n",
    "        print(row)\n",
    "\n",
    "# Perform matrix subtraction\n",
    "result_subtraction = matrix_subtraction(matrix1, matrix2)\n",
    "if result_subtraction:\n",
    "    print(\"\\nResult of matrix subtraction:\")\n",
    "    for row in result_subtraction:\n",
    "        print(row)\n"
   ]
  },
  {
   "cell_type": "markdown",
   "id": "932054e8",
   "metadata": {},
   "source": [
    "33. Write a program that calculates the greatest common divisor (GCD) of two numbers using the Euclidean \n",
    "algorithm"
   ]
  },
  {
   "cell_type": "code",
   "execution_count": 14,
   "id": "1778e2f2",
   "metadata": {},
   "outputs": [
    {
     "name": "stdout",
     "output_type": "stream",
     "text": [
      "Enter the first number: 22\n",
      "Enter the second number: 11\n",
      "The greatest common divisor (GCD) of 22 and 11 is: 11\n"
     ]
    }
   ],
   "source": [
    "def euclidean_gcd(a, b):\n",
    "    \"\"\"\n",
    "    Calculate the greatest common divisor (GCD) of two numbers using the Euclidean algorithm.\n",
    "    \"\"\"\n",
    "    while b != 0:\n",
    "        a, b = b, a % b\n",
    "    return a\n",
    "\n",
    "# Input two numbers\n",
    "num1 = int(input(\"Enter the first number: \"))\n",
    "num2 = int(input(\"Enter the second number: \"))\n",
    "\n",
    "# Calculate and print the GCD\n",
    "gcd = euclidean_gcd(num1, num2)\n",
    "print(\"The greatest common divisor (GCD) of\", num1, \"and\", num2, \"is:\", gcd)\n"
   ]
  },
  {
   "cell_type": "markdown",
   "id": "7780073e",
   "metadata": {},
   "source": [
    "34. Build a program that performs matrix multiplication using nested loops and conditional statements"
   ]
  },
  {
   "cell_type": "code",
   "execution_count": 12,
   "id": "53d2dfae",
   "metadata": {},
   "outputs": [
    {
     "name": "stdout",
     "output_type": "stream",
     "text": [
      "Result of matrix multiplication:\n",
      "[58, 64]\n",
      "[139, 154]\n"
     ]
    }
   ],
   "source": [
    "def matrix_multiply(matrix1, matrix2):\n",
    "    \"\"\"\n",
    "    Perform matrix multiplication of two matrices.\n",
    "    \"\"\"\n",
    "    if len(matrix1[0]) != len(matrix2):\n",
    "        print(\"Matrix multiplication is not possible. Number of columns in the first matrix must be equal to the number of rows in the second matrix.\")\n",
    "        return None\n",
    "\n",
    "    result = []\n",
    "\n",
    "    # Iterate over rows of the first matrix\n",
    "    for i in range(len(matrix1)):\n",
    "        row = []\n",
    "\n",
    "        # Iterate over columns of the second matrix\n",
    "        for j in range(len(matrix2[0])):\n",
    "            cell_value = 0\n",
    "\n",
    "            # Calculate the dot product of the ith row of matrix1 and the jth column of matrix2\n",
    "            for k in range(len(matrix1[0])):\n",
    "                cell_value += matrix1[i][k] * matrix2[k][j]\n",
    "\n",
    "            row.append(cell_value)\n",
    "\n",
    "        result.append(row)\n",
    "\n",
    "    return result\n",
    "\n",
    "# Example matrices\n",
    "matrix_a = [[1, 2, 3],\n",
    "            [4, 5, 6]]\n",
    "\n",
    "matrix_b = [[7, 8],\n",
    "            [9, 10],\n",
    "            [11, 12]]\n",
    "\n",
    "# Perform matrix multiplication\n",
    "result_matrix = matrix_multiply(matrix_a, matrix_b)\n",
    "\n",
    "# Print the result\n",
    "if result_matrix:\n",
    "    print(\"Result of matrix multiplication:\")\n",
    "    for row in result_matrix:\n",
    "        print(row)\n"
   ]
  },
  {
   "cell_type": "markdown",
   "id": "c9a4c4c2",
   "metadata": {},
   "source": [
    "35. Create a program that simulates a basic text-based tic-tac-toe game against the computer"
   ]
  },
  {
   "cell_type": "code",
   "execution_count": 21,
   "id": "2f826909",
   "metadata": {},
   "outputs": [
    {
     "name": "stdout",
     "output_type": "stream",
     "text": [
      "Let's play Tic-Tac-Toe!\n",
      "  |   |  \n",
      "---------\n",
      "  |   |  \n",
      "---------\n",
      "  |   |  \n",
      "---------\n",
      "Enter your move (row col): 1 2\n",
      "  |   |  \n",
      "---------\n",
      "  |   | X\n",
      "---------\n",
      "  |   |  \n",
      "---------\n",
      "Computer plays at (2, 0)\n",
      "  |   |  \n",
      "---------\n",
      "  |   | X\n",
      "---------\n",
      "O |   |  \n",
      "---------\n",
      "Enter your move (row col): 2 2\n",
      "  |   |  \n",
      "---------\n",
      "  |   | X\n",
      "---------\n",
      "O |   | X\n",
      "---------\n",
      "Computer plays at (0, 1)\n",
      "  | O |  \n",
      "---------\n",
      "  |   | X\n",
      "---------\n",
      "O |   | X\n",
      "---------\n",
      "Enter your move (row col): 0 0\n",
      "X | O |  \n",
      "---------\n",
      "  |   | X\n",
      "---------\n",
      "O |   | X\n",
      "---------\n",
      "Computer plays at (1, 0)\n",
      "X | O |  \n",
      "---------\n",
      "O |   | X\n",
      "---------\n",
      "O |   | X\n",
      "---------\n",
      "Enter your move (row col): 0 2\n",
      "X | O | X\n",
      "---------\n",
      "O |   | X\n",
      "---------\n",
      "O |   | X\n",
      "---------\n",
      "Congratulations! You win!\n"
     ]
    }
   ],
   "source": [
    "import random\n",
    "\n",
    "def print_board(board):\n",
    "    \"\"\"\n",
    "    Print the tic-tac-toe board.\n",
    "    \"\"\"\n",
    "    for row in board:\n",
    "        print(\" | \".join(row))\n",
    "        print(\"-\" * 9)\n",
    "\n",
    "def check_winner(board, player):\n",
    "    \"\"\"\n",
    "    Check if the given player has won.\n",
    "    \"\"\"\n",
    "    for row in board:\n",
    "        if all(cell == player for cell in row):\n",
    "            return True\n",
    "\n",
    "    for col in range(3):\n",
    "        if all(board[row][col] == player for row in range(3)):\n",
    "            return True\n",
    "\n",
    "    if all(board[i][i] == player for i in range(3)):\n",
    "        return True\n",
    "\n",
    "    if all(board[i][2 - i] == player for i in range(3)):\n",
    "        return True\n",
    "\n",
    "    return False\n",
    "\n",
    "def is_board_full(board):\n",
    "    \"\"\"\n",
    "    Check if the tic-tac-toe board is full.\n",
    "    \"\"\"\n",
    "    for row in board:\n",
    "        for cell in row:\n",
    "            if cell == ' ':\n",
    "                return False\n",
    "    return True\n",
    "\n",
    "def get_computer_move(board):\n",
    "    \"\"\"\n",
    "    Generate a random move for the computer.\n",
    "    \"\"\"\n",
    "    empty_cells = [(row, col) for row in range(3) for col in range(3) if board[row][col] == ' ']\n",
    "    return random.choice(empty_cells)\n",
    "\n",
    "def play_tic_tac_toe():\n",
    "    \"\"\"\n",
    "    Play a game of tic-tac-toe against the computer.\n",
    "    \"\"\"\n",
    "    board = [[' ' for _ in range(3)] for _ in range(3)]\n",
    "    current_player = 'X'\n",
    "\n",
    "    print(\"Let's play Tic-Tac-Toe!\")\n",
    "\n",
    "    while True:\n",
    "        print_board(board)\n",
    "\n",
    "        if current_player == 'X':\n",
    "            row, col = map(int, input(\"Enter your move (row col): \").split())\n",
    "            if board[row][col] == ' ':\n",
    "                board[row][col] = 'X'\n",
    "                if check_winner(board, 'X'):\n",
    "                    print_board(board)\n",
    "                    print(\"Congratulations! You win!\")\n",
    "                    break\n",
    "                elif is_board_full(board):\n",
    "                    print_board(board)\n",
    "                    print(\"It's a tie!\")\n",
    "                    break\n",
    "                current_player = 'O'\n",
    "            else:\n",
    "                print(\"Invalid move. Try again.\")\n",
    "        else:\n",
    "            row, col = get_computer_move(board)\n",
    "            print(f\"Computer plays at ({row}, {col})\")\n",
    "            board[row][col] = 'O'\n",
    "            if check_winner(board, 'O'):\n",
    "                print_board(board)\n",
    "                print(\"Computer wins!\")\n",
    "                break\n",
    "            elif is_board_full(board):\n",
    "                print_board(board)\n",
    "                print(\"It's a tie!\")\n",
    "                break\n",
    "            current_player = 'X'\n",
    "\n",
    "# Play the game\n",
    "play_tic_tac_toe()\n"
   ]
  },
  {
   "cell_type": "markdown",
   "id": "45434f15",
   "metadata": {},
   "source": [
    "36. Write a program that generates Fibonacci numbers up to a specified term using iterative methods"
   ]
  },
  {
   "cell_type": "code",
   "execution_count": 6,
   "id": "ba040dd6",
   "metadata": {},
   "outputs": [
    {
     "name": "stdout",
     "output_type": "stream",
     "text": [
      "Enter the number of terms: 5\n",
      "Fibonacci numbers up to the 5 term:\n",
      "[0, 1, 1, 2, 3]\n"
     ]
    }
   ],
   "source": [
    "def generate_fibonacci(n):\n",
    "    \"\"\"\n",
    "    Generate Fibonacci numbers up to the nth term using iterative methods.\n",
    "    \"\"\"\n",
    "    fibonacci_sequence = [0, 1]\n",
    "    for i in range(2, n):\n",
    "        next_term = fibonacci_sequence[-1] + fibonacci_sequence[-2]\n",
    "        fibonacci_sequence.append(next_term)\n",
    "    return fibonacci_sequence\n",
    "\n",
    "# Input the number of terms\n",
    "n = int(input(\"Enter the number of terms: \"))\n",
    "\n",
    "# Generate and print Fibonacci numbers up to the nth term\n",
    "fibonacci_numbers = generate_fibonacci(n)\n",
    "print(\"Fibonacci numbers up to the\", n, \"term:\")\n",
    "print(fibonacci_numbers)\n"
   ]
  },
  {
   "cell_type": "markdown",
   "id": "242281b7",
   "metadata": {},
   "source": [
    "37. Develop a program that calculates the nth term of the Fibonacci sequence using memoization"
   ]
  },
  {
   "cell_type": "code",
   "execution_count": 5,
   "id": "d057ee58",
   "metadata": {},
   "outputs": [
    {
     "name": "stdout",
     "output_type": "stream",
     "text": [
      "Enter the value of n: 4\n",
      "The 4th Fibonacci number is: 3\n"
     ]
    }
   ],
   "source": [
    "def fibonacci(n, memo={}):\n",
    "    \"\"\"\n",
    "    Calculate the nth term of the Fibonacci sequence using memoization.\n",
    "    \"\"\"\n",
    "    if n <= 1:\n",
    "        return n\n",
    "    elif n in memo:\n",
    "        return memo[n]\n",
    "    else:\n",
    "        memo[n] = fibonacci(n - 1, memo) + fibonacci(n - 2, memo)\n",
    "        return memo[n]\n",
    "\n",
    "# Input the value of n\n",
    "n = int(input(\"Enter the value of n: \"))\n",
    "\n",
    "# Calculate and print the nth Fibonacci number\n",
    "result = fibonacci(n)\n",
    "print(f\"The {n}th Fibonacci number is: {result}\")\n"
   ]
  },
  {
   "cell_type": "markdown",
   "id": "c7d7e571",
   "metadata": {},
   "source": [
    "38. Create a program that generates a calendar for a given month and year using conditional statements"
   ]
  },
  {
   "cell_type": "code",
   "execution_count": 3,
   "id": "db12c293",
   "metadata": {},
   "outputs": [
    {
     "name": "stdout",
     "output_type": "stream",
     "text": [
      "Enter the month (1-12): 4\n",
      "Enter the year: 2012\n",
      "          4/2012\n",
      "Su Mo Tu We Th Fr Sa\n",
      "     1  2  3  4  5  6 \n",
      " 7  8  9 10 11 12 13 \n",
      "14 15 16 17 18 19 20 \n",
      "21 22 23 24 25 26 27 \n",
      "28 29 30 "
     ]
    }
   ],
   "source": [
    "def is_leap_year(year):\n",
    "    \"\"\"\n",
    "    Check if the given year is a leap year.\n",
    "    \"\"\"\n",
    "    return year % 4 == 0 and (year % 100 != 0 or year % 400 == 0)\n",
    "\n",
    "def get_num_days(month, year):\n",
    "    \"\"\"\n",
    "    Get the number of days in a month for the given year.\n",
    "    \"\"\"\n",
    "    if month in {1, 3, 5, 7, 8, 10, 12}:\n",
    "        return 31\n",
    "    elif month in {4, 6, 9, 11}:\n",
    "        return 30\n",
    "    elif month == 2:\n",
    "        return 29 if is_leap_year(year) else 28\n",
    "    else:\n",
    "        raise ValueError(\"Invalid month\")\n",
    "\n",
    "def generate_calendar(month, year):\n",
    "    \"\"\"\n",
    "    Generate a calendar for the given month and year.\n",
    "    \"\"\"\n",
    "    print(f\"{' ' * 10}{month}/{year}\")\n",
    "    print(\"Su Mo Tu We Th Fr Sa\")\n",
    "\n",
    "    # Get the day of the week for the first day of the month\n",
    "    first_day_of_month = sum(get_num_days(m, year) for m in range(1, month))\n",
    "    first_day_of_week = (first_day_of_month + 1) % 7\n",
    "\n",
    "    # Print leading spaces\n",
    "    print(\"    \" * first_day_of_week, end=\"\")\n",
    "\n",
    "    # Print days of the month\n",
    "    num_days = get_num_days(month, year)\n",
    "    for day in range(1, num_days + 1):\n",
    "        print(f\"{day:2}\", end=\" \")\n",
    "        first_day_of_week += 1\n",
    "        if first_day_of_week == 7:\n",
    "            print()\n",
    "            first_day_of_week = 0\n",
    "\n",
    "# Input month and year\n",
    "month = int(input(\"Enter the month (1-12): \"))\n",
    "year = int(input(\"Enter the year: \"))\n",
    "\n",
    "# Generate and print the calendar\n",
    "generate_calendar(month, year)\n"
   ]
  },
  {
   "cell_type": "markdown",
   "id": "48cf5916",
   "metadata": {},
   "source": [
    "39. Build a program that simulates a basic text-based blackjack game against the computer"
   ]
  },
  {
   "cell_type": "code",
   "execution_count": 2,
   "id": "bea867c7",
   "metadata": {},
   "outputs": [
    {
     "name": "stdout",
     "output_type": "stream",
     "text": [
      "Welcome to Blackjack!\n",
      "Player's Hand:\n",
      "2 of Hearts\n",
      "King of Spades\n",
      "Total Value: 12\n",
      "Dealer's Hand:\n",
      "8 of Hearts\n",
      "Total Value: 8\n",
      "Do you want to hit or stand? (h/s): h\n",
      "Player's Hand:\n",
      "2 of Hearts\n",
      "King of Spades\n",
      "7 of Clubs\n",
      "Total Value: 19\n",
      "Do you want to hit or stand? (h/s): h\n",
      "Player's Hand:\n",
      "2 of Hearts\n",
      "King of Spades\n",
      "7 of Clubs\n",
      "8 of Clubs\n",
      "Total Value: 27\n",
      "You busted! Dealer wins.\n"
     ]
    }
   ],
   "source": [
    "import random\n",
    "\n",
    "# Function to create and shuffle a deck of cards\n",
    "def create_deck():\n",
    "    deck = []\n",
    "    for suit in ['Hearts', 'Diamonds', 'Clubs', 'Spades']:\n",
    "        for value in range(2, 11):\n",
    "            deck.append((value, suit))\n",
    "        for face_card in ['Jack', 'Queen', 'King', 'Ace']:\n",
    "            deck.append((face_card, suit))\n",
    "    random.shuffle(deck)\n",
    "    return deck\n",
    "\n",
    "# Function to calculate the total value of a hand\n",
    "def calculate_hand_value(hand):\n",
    "    total_value = 0\n",
    "    num_aces = 0\n",
    "    for card in hand:\n",
    "        if isinstance(card[0], int):\n",
    "            total_value += card[0]\n",
    "        elif card[0] in ['Jack', 'Queen', 'King']:\n",
    "            total_value += 10\n",
    "        else:  # Ace\n",
    "            num_aces += 1\n",
    "            total_value += 11\n",
    "    while total_value > 21 and num_aces:\n",
    "        total_value -= 10\n",
    "        num_aces -= 1\n",
    "    return total_value\n",
    "\n",
    "# Function to display the cards in a hand\n",
    "def display_hand(hand, player_name):\n",
    "    print(f\"{player_name}'s Hand:\")\n",
    "    for card in hand:\n",
    "        print(f\"{card[0]} of {card[1]}\")\n",
    "    print(\"Total Value:\", calculate_hand_value(hand))\n",
    "\n",
    "# Function to deal a card from the deck\n",
    "def deal_card(deck):\n",
    "    return deck.pop()\n",
    "\n",
    "# Function to check if the player wants to hit or stand\n",
    "def player_choice():\n",
    "    choice = input(\"Do you want to hit or stand? (h/s): \").lower()\n",
    "    while choice not in ['h', 's']:\n",
    "        print(\"Invalid choice. Please enter 'h' to hit or 's' to stand.\")\n",
    "        choice = input(\"Do you want to hit or stand? (h/s): \").lower()\n",
    "    return choice\n",
    "\n",
    "# Function to play the game\n",
    "def play_blackjack():\n",
    "    print(\"Welcome to Blackjack!\")\n",
    "    deck = create_deck()\n",
    "    player_hand = [deal_card(deck), deal_card(deck)]\n",
    "    dealer_hand = [deal_card(deck), deal_card(deck)]\n",
    "\n",
    "    # Display initial hands\n",
    "    display_hand(player_hand, \"Player\")\n",
    "    display_hand(dealer_hand[:1], \"Dealer\")\n",
    "\n",
    "    # Player's turn\n",
    "    while calculate_hand_value(player_hand) < 21:\n",
    "        choice = player_choice()\n",
    "        if choice == 'h':\n",
    "            player_hand.append(deal_card(deck))\n",
    "            display_hand(player_hand, \"Player\")\n",
    "        else:\n",
    "            break\n",
    "\n",
    "    player_score = calculate_hand_value(player_hand)\n",
    "    if player_score > 21:\n",
    "        print(\"You busted! Dealer wins.\")\n",
    "        return\n",
    "\n",
    "    # Dealer's turn\n",
    "    while calculate_hand_value(dealer_hand) < 17:\n",
    "        dealer_hand.append(deal_card(deck))\n",
    "    display_hand(dealer_hand, \"Dealer\")\n",
    "    dealer_score = calculate_hand_value(dealer_hand)\n",
    "\n",
    "    # Determine the winner\n",
    "    if dealer_score > 21 or player_score > dealer_score:\n",
    "        print(\"Congratulations! You win!\")\n",
    "    elif player_score < dealer_score:\n",
    "        print(\"Dealer wins.\")\n",
    "    else:\n",
    "        print(\"It's a tie!\")\n",
    "\n",
    "# Start the game\n",
    "play_blackjack()\n"
   ]
  },
  {
   "cell_type": "markdown",
   "id": "a9a68296",
   "metadata": {},
   "source": [
    "40. Write a program that generates the prime factors of a given number using trial division.\n"
   ]
  },
  {
   "cell_type": "code",
   "execution_count": 1,
   "id": "28efc6a2",
   "metadata": {},
   "outputs": [
    {
     "name": "stdout",
     "output_type": "stream",
     "text": [
      "Enter a number to find its prime factors: 45\n",
      "Prime factors of 45 are: [3, 3, 5]\n"
     ]
    }
   ],
   "source": [
    "def prime_factors(n):\n",
    "    factors = []\n",
    "    divisor = 2\n",
    "\n",
    "    while n > 1:\n",
    "        while n % divisor == 0:\n",
    "            factors.append(divisor)\n",
    "            n //= divisor\n",
    "        divisor += 1\n",
    "\n",
    "    return factors\n",
    "\n",
    "# Test the function\n",
    "num = int(input(\"Enter a number to find its prime factors: \"))\n",
    "print(\"Prime factors of\", num, \"are:\", prime_factors(num))\n"
   ]
  },
  {
   "cell_type": "code",
   "execution_count": null,
   "id": "2d505e57",
   "metadata": {},
   "outputs": [],
   "source": []
  }
 ],
 "metadata": {
  "kernelspec": {
   "display_name": "Python 3 (ipykernel)",
   "language": "python",
   "name": "python3"
  },
  "language_info": {
   "codemirror_mode": {
    "name": "ipython",
    "version": 3
   },
   "file_extension": ".py",
   "mimetype": "text/x-python",
   "name": "python",
   "nbconvert_exporter": "python",
   "pygments_lexer": "ipython3",
   "version": "3.9.13"
  }
 },
 "nbformat": 4,
 "nbformat_minor": 5
}
