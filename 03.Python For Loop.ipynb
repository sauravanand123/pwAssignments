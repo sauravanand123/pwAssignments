{
 "cells": [
  {
   "cell_type": "raw",
   "metadata": {},
   "source": [
    "Assignment Link\n",
    "03 sept'23 :Assignment : Python - For loop\n",
    "https://drive.google.com/file/d/18FBELsVj8fH93UIOikn-mAXL1nsatuKU/view"
   ]
  },
  {
   "cell_type": "markdown",
   "metadata": {},
   "source": [
    "## Basic Level:"
   ]
  },
  {
   "cell_type": "code",
   "execution_count": 1,
   "metadata": {},
   "outputs": [
    {
     "name": "stdout",
     "output_type": "stream",
     "text": [
      "1 2 3 4 5 6 7 8 9 "
     ]
    }
   ],
   "source": [
    "# 1. Write a Python program to print the numbers from 1 to 10 using a `for` loop.\n",
    "for i in range(1,10):\n",
    "    print(i,end=' ')"
   ]
  },
  {
   "cell_type": "code",
   "execution_count": 2,
   "metadata": {},
   "outputs": [
    {
     "name": "stdout",
     "output_type": "stream",
     "text": [
      "6\n"
     ]
    }
   ],
   "source": [
    "# 2. Create a program that calculates the sum of all numbers in a list using a `for` loop.\n",
    "l=[1,2,3]\n",
    "s=0\n",
    "for i in range(len(l)+1):\n",
    "    s=s+i\n",
    "print(s)"
   ]
  },
  {
   "cell_type": "code",
   "execution_count": 3,
   "metadata": {},
   "outputs": [
    {
     "name": "stdout",
     "output_type": "stream",
     "text": [
      "E\n",
      "D\n",
      "C\n",
      "B\n",
      "A\n"
     ]
    }
   ],
   "source": [
    "# 3. Write a program to print the characters of a string in reverse order using a `for` loop.\n",
    "s = \"ABCDE\"\n",
    "length = len(s)\n",
    "\n",
    "for i in range(length):\n",
    "    print(s[length - i - 1])"
   ]
  },
  {
   "cell_type": "code",
   "execution_count": 4,
   "metadata": {},
   "outputs": [
    {
     "name": "stdout",
     "output_type": "stream",
     "text": [
      "Enter a number 2\n",
      "Factorial of 2 is: 2\n"
     ]
    }
   ],
   "source": [
    "# 4. Develop a program that finds the factorial of a given number using a `for` loop.\n",
    "n = int(input(\"Enter a number \"))\n",
    "fact = 1\n",
    "\n",
    "for i in range(1, n + 1):\n",
    "    fact = fact * i\n",
    "\n",
    "print(\"Factorial of\", n, \"is:\", fact)"
   ]
  },
  {
   "cell_type": "code",
   "execution_count": 5,
   "metadata": {},
   "outputs": [
    {
     "name": "stdout",
     "output_type": "stream",
     "text": [
      "Enter a number 2\n",
      "2  x  1  =  2\n",
      "2  x  2  =  4\n",
      "2  x  3  =  6\n",
      "2  x  4  =  8\n",
      "2  x  5  =  10\n",
      "2  x  6  =  12\n",
      "2  x  7  =  14\n",
      "2  x  8  =  16\n",
      "2  x  9  =  18\n",
      "2  x  10  =  20\n"
     ]
    }
   ],
   "source": [
    "# 5. Create a program to print the multiplication table of a given number using a `for` loop.\n",
    "n = int(input(\"Enter a number \"))\n",
    "for i in range(1, 11):\n",
    "    print(n,\" x \",i,\" = \",n*i)"
   ]
  },
  {
   "cell_type": "code",
   "execution_count": 6,
   "metadata": {},
   "outputs": [
    {
     "name": "stdout",
     "output_type": "stream",
     "text": [
      "Even count: 6\n",
      "Odd count: 3\n"
     ]
    }
   ],
   "source": [
    "# 6. Write a program that counts the number of even and odd numbers in a list using a `for` loop.\n",
    "l=[1,2,3,4,5,2,2,2,2]\n",
    "\n",
    "even=0\n",
    "odd=0\n",
    "for i in l:\n",
    "    if i%2==0:\n",
    "        even=even+1\n",
    "        \n",
    "    if i%2 !=0:\n",
    "        odd=odd+1\n",
    "        \n",
    "print(\"Even count:\",even)\n",
    "print(\"Odd count:\",odd)"
   ]
  },
  {
   "cell_type": "code",
   "execution_count": 7,
   "metadata": {},
   "outputs": [
    {
     "name": "stdout",
     "output_type": "stream",
     "text": [
      "1 4 9 16 25 "
     ]
    }
   ],
   "source": [
    "# 7. Develop a program that prints the squares of numbers from 1 to 5 using a `for` loop.\n",
    "for i in range (1,6):\n",
    "    print(i*i,end=' ')"
   ]
  },
  {
   "cell_type": "code",
   "execution_count": 8,
   "metadata": {},
   "outputs": [
    {
     "name": "stdout",
     "output_type": "stream",
     "text": [
      "length of 'hello' is 5\n"
     ]
    }
   ],
   "source": [
    "# 8. Create a program to find the length of a string without using the `len()` function.\n",
    "s=\"hello\"\n",
    "length=0\n",
    "#print(len(s))\n",
    "for i in s:\n",
    "    length+=1\n",
    "print(f\"length of '{s}' is {length}\")"
   ]
  },
  {
   "cell_type": "code",
   "execution_count": 9,
   "metadata": {},
   "outputs": [
    {
     "name": "stdout",
     "output_type": "stream",
     "text": [
      "Average of the list: 2.0\n"
     ]
    }
   ],
   "source": [
    "# 9. Write a program that calculates the average of a list of numbers using a `for` loop.\n",
    "l=[1,2,3]\n",
    "# print(sum(l)/len(l))\n",
    "ts = 0\n",
    "count = 0\n",
    "for i in l:\n",
    "    ts+=i\n",
    "    count += 1\n",
    "average = ts/ count\n",
    "\n",
    "# Print the result\n",
    "print(\"Average of the list:\", average)\n",
    "    "
   ]
  },
  {
   "cell_type": "code",
   "execution_count": 10,
   "metadata": {},
   "outputs": [
    {
     "name": "stdout",
     "output_type": "stream",
     "text": [
      "The first 10 Fibonacci numbers are: [0, 1, 1, 2, 3, 5, 8, 13, 21, 34]\n"
     ]
    }
   ],
   "source": [
    "# 10. Develop a program that prints the first `n` Fibonacci numbers using a `for` loop.\n",
    "# Initialize the first two Fibonacci numbers\n",
    "fibonacci_numbers = [0, 1]\n",
    "\n",
    "# Generate the next 8 Fibonacci numbers using a for loop\n",
    "for _ in range(8):\n",
    "    next_fibonacci = fibonacci_numbers[-1] + fibonacci_numbers[-2]\n",
    "    fibonacci_numbers.append(next_fibonacci)\n",
    "\n",
    "# Print the generated Fibonacci numbers\n",
    "print(\"The first 10 Fibonacci numbers are:\", fibonacci_numbers)\n"
   ]
  },
  {
   "cell_type": "code",
   "execution_count": 11,
   "metadata": {},
   "outputs": [
    {
     "name": "stdout",
     "output_type": "stream",
     "text": [
      "[0, 1, 1, 2, 3, 5, 8, 13, 21, 34]\n"
     ]
    }
   ],
   "source": [
    "fib=[0,1]\n",
    "for i in range(8):\n",
    "    f=fib[-1]+fib[-2]\n",
    "    fib.append(f)\n",
    "print(fib)"
   ]
  },
  {
   "cell_type": "markdown",
   "metadata": {},
   "source": [
    "# Intermediate Level:"
   ]
  },
  {
   "cell_type": "code",
   "execution_count": 12,
   "metadata": {},
   "outputs": [
    {
     "name": "stdout",
     "output_type": "stream",
     "text": [
      "[1, 2, 3, 3, 3, 4, 6, 7]\n"
     ]
    }
   ],
   "source": [
    "# 11. Write a program to check if a given list contains any duplicates using a `for` loop.\n",
    "l=[2,4,1,6,3,7,3,3]\n",
    "l.sort()\n",
    "print(l)\n",
    "for i in range (len(l)):\n",
    "    if l[i]==l[i]+1:\n",
    "        print(\"contains duplicates\")\n",
    "        "
   ]
  },
  {
   "cell_type": "code",
   "execution_count": 13,
   "metadata": {},
   "outputs": [
    {
     "name": "stdout",
     "output_type": "stream",
     "text": [
      "Enter the start of the range: 12\n",
      "Enter the end of the range: 44\n",
      "Prime numbers in the range 12 to 44 are:\n",
      "13\n",
      "17\n",
      "19\n",
      "23\n",
      "29\n",
      "31\n",
      "37\n",
      "41\n",
      "43\n"
     ]
    }
   ],
   "source": [
    "# 12. Create a program that prints the prime numbers in a given range using a `for` loop.\n",
    "\n",
    "start_range = int(input(\"Enter the start of the range: \"))\n",
    "end_range = int(input(\"Enter the end of the range: \"))\n",
    "\n",
    "print(f\"Prime numbers in the range {start_range} to {end_range} are:\")\n",
    "\n",
    "for num in range(start_range, end_range + 1):\n",
    "    if num > 1:\n",
    "        for i in range(2, int(num**0.5) + 1):\n",
    "            if num % i == 0:\n",
    "                break\n",
    "        else:\n",
    "            print(num)\n"
   ]
  },
  {
   "cell_type": "code",
   "execution_count": 14,
   "metadata": {},
   "outputs": [
    {
     "name": "stdout",
     "output_type": "stream",
     "text": [
      "3\n"
     ]
    }
   ],
   "source": [
    "# 13. Develop a program that counts the number of vowels in a string using a `for` loop.\n",
    "s=\"welcome\"\n",
    "count=0\n",
    "for i in range(len(s)):\n",
    "    if(s[i]=='a' or s[i]=='A' or\n",
    "      s[i]=='e' or s[i]=='E' or\n",
    "      s[i]=='i' or s[i]=='I' or\n",
    "      s[i]=='o' or s[i]=='O' or\n",
    "      s[i]=='u' or s[i]=='U'):\n",
    "        count+=1\n",
    "print(count)"
   ]
  },
  {
   "cell_type": "code",
   "execution_count": 15,
   "metadata": {},
   "outputs": [
    {
     "name": "stdout",
     "output_type": "stream",
     "text": [
      "The String 'The quick brown fox jumps over lazy dog' contains 10 vowels\n"
     ]
    }
   ],
   "source": [
    "s=\"The quick brown fox jumps over lazy dog\"\n",
    "l=['a','A','e','E','i','I','o','O','u','U']\n",
    "count=0\n",
    "for i in range(len(s)):\n",
    "    if s[i] in l:\n",
    "        count+=1\n",
    "print(f\"The String '{s}' contains {count} vowels\")\n",
    "    "
   ]
  },
  {
   "cell_type": "code",
   "execution_count": 16,
   "metadata": {},
   "outputs": [
    {
     "name": "stdout",
     "output_type": "stream",
     "text": [
      "Maximum element in the 2D list: 99\n"
     ]
    }
   ],
   "source": [
    "# 14. Write a program to find the maximum element in a 2D list using a nested `for` loop.\n",
    "# Input 2D list\n",
    "matrix = [[3, 15, 7],[12, 6, 99],[11,3,43]]\n",
    "\n",
    "# Initialize max_element with the first element of the matrix\n",
    "max_element = matrix[0][0]\n",
    "\n",
    "# Iterate through the rows and columns using nested for loops\n",
    "for row in matrix:\n",
    "    for element in row:\n",
    "        if element > max_element:\n",
    "            max_element = element\n",
    "\n",
    "# Print the maximum element\n",
    "print(\"Maximum element in the 2D list:\", max_element)\n"
   ]
  },
  {
   "cell_type": "code",
   "execution_count": 17,
   "metadata": {},
   "outputs": [
    {
     "name": "stdout",
     "output_type": "stream",
     "text": [
      "List after removing all occurrences of 2 : [1, 3, 4, 5]\n"
     ]
    }
   ],
   "source": [
    "# 15. Create a program that removes all occurrences of a specific element from a list using a `for` loop.\n",
    "my_list = [1, 2, 3, 2, 4, 2, 5]\n",
    "\n",
    "# Element to be removed\n",
    "remo = 2\n",
    "\n",
    "# Using a for loop to remove all occurrences of the specific element\n",
    "for _ in range(my_list.count(remo)):\n",
    "    my_list.remove(remo)\n",
    "\n",
    "# Print the updated list\n",
    "print(\"List after removing all occurrences of\", remo, \":\", my_list)"
   ]
  },
  {
   "cell_type": "code",
   "execution_count": 16,
   "metadata": {},
   "outputs": [
    {
     "name": "stdout",
     "output_type": "stream",
     "text": [
      "\n",
      "Multiplication table for 1:\n",
      "1 * 1 = 1\n",
      "1 * 2 = 2\n",
      "1 * 3 = 3\n",
      "1 * 4 = 4\n",
      "1 * 5 = 5\n",
      "1 * 6 = 6\n",
      "1 * 7 = 7\n",
      "1 * 8 = 8\n",
      "1 * 9 = 9\n",
      "1 * 10 = 10\n",
      "\n",
      "Multiplication table for 2:\n",
      "2 * 1 = 2\n",
      "2 * 2 = 4\n",
      "2 * 3 = 6\n",
      "2 * 4 = 8\n",
      "2 * 5 = 10\n",
      "2 * 6 = 12\n",
      "2 * 7 = 14\n",
      "2 * 8 = 16\n",
      "2 * 9 = 18\n",
      "2 * 10 = 20\n",
      "\n",
      "Multiplication table for 3:\n",
      "3 * 1 = 3\n",
      "3 * 2 = 6\n",
      "3 * 3 = 9\n",
      "3 * 4 = 12\n",
      "3 * 5 = 15\n",
      "3 * 6 = 18\n",
      "3 * 7 = 21\n",
      "3 * 8 = 24\n",
      "3 * 9 = 27\n",
      "3 * 10 = 30\n",
      "\n",
      "Multiplication table for 4:\n",
      "4 * 1 = 4\n",
      "4 * 2 = 8\n",
      "4 * 3 = 12\n",
      "4 * 4 = 16\n",
      "4 * 5 = 20\n",
      "4 * 6 = 24\n",
      "4 * 7 = 28\n",
      "4 * 8 = 32\n",
      "4 * 9 = 36\n",
      "4 * 10 = 40\n",
      "\n",
      "Multiplication table for 5:\n",
      "5 * 1 = 5\n",
      "5 * 2 = 10\n",
      "5 * 3 = 15\n",
      "5 * 4 = 20\n",
      "5 * 5 = 25\n",
      "5 * 6 = 30\n",
      "5 * 7 = 35\n",
      "5 * 8 = 40\n",
      "5 * 9 = 45\n",
      "5 * 10 = 50\n"
     ]
    }
   ],
   "source": [
    "# 16. Develop a program that generates a multiplication table for numbers from 1 to 5 using a nested `for` loop.\n",
    "# Generating a multiplication table for numbers from 1 to 5\n",
    "for i in range(1, 6):\n",
    "    print(f\"\\nMultiplication table for {i}:\")\n",
    "\n",
    "    for j in range(1, 11):\n",
    "        result = i * j\n",
    "        print(f\"{i} * {j} = {result}\")\n"
   ]
  },
  {
   "cell_type": "code",
   "execution_count": 46,
   "metadata": {},
   "outputs": [
    {
     "name": "stdout",
     "output_type": "stream",
     "text": [
      "[0.0, 7.222222222222222, 17.77777777777778, 25.0, 32.22222222222222, 37.77777777777778]\n"
     ]
    }
   ],
   "source": [
    "# 17. Write a program that converts a list of Fahrenheit temperatures to Celsius using a `for` loop.\n",
    "# Function to convert Fahrenheit to Celsius\n",
    "def fahrenheit_to_celsius(fahrenheit):\n",
    "    return (fahrenheit - 32) * 5.0 / 9.0\n",
    "\n",
    "# List of Fahrenheit temperatures\n",
    "fahrenheit_temperatures = [32, 45, 64, 77, 90, 100]\n",
    "\n",
    "# list to store Celsius temperatures\n",
    "celsius_temperatures = []\n",
    "\n",
    "for temp in fahrenheit_temperatures:\n",
    "    celsius = fahrenheit_to_celsius(temp)\n",
    "    celsius_temperatures.append(celsius)\n",
    "\n",
    "print(celsius_temperatures)"
   ]
  },
  {
   "cell_type": "code",
   "execution_count": 19,
   "metadata": {},
   "outputs": [
    {
     "name": "stdout",
     "output_type": "stream",
     "text": [
      "Common elements: [3, 4, 5]\n"
     ]
    }
   ],
   "source": [
    "# 18. Create a program to print the common elements from two lists using a `for` loop.\n",
    "list1 = [1, 2, 3, 4, 5]\n",
    "list2 = [3, 4, 5, 6, 7]\n",
    "\n",
    "common_elements = []\n",
    "# Using a for loop to find and append common elements\n",
    "for i in list1:\n",
    "    if i in list2:\n",
    "        common_elements.append(i)\n",
    "\n",
    "# Print the common elements\n",
    "print(\"Common elements:\", common_elements)\n"
   ]
  },
  {
   "cell_type": "code",
   "execution_count": 20,
   "metadata": {},
   "outputs": [
    {
     "name": "stdout",
     "output_type": "stream",
     "text": [
      "* \n",
      "* * \n",
      "* * * \n",
      "* * * * \n",
      "* * * * * \n"
     ]
    }
   ],
   "source": [
    "# 19. Develop a program that prints the pattern of right-angled triangles using a `for` loop. Use ‘*’ to draw the pattern\n",
    "#for i in range(int(input(\"no of *'s:\"))):\n",
    "#     print(\"* \")\n",
    "#     for j in range(i+1):\n",
    "#         print(\"* \",end='')\n",
    "# print(\"*\")\n",
    "\n",
    "i=5\n",
    "for i in range(1, i + 1):\n",
    "    # Inner loop for each star in the row\n",
    "    for j in range(i):\n",
    "        print('*', end=' ')\n",
    "    print()\n"
   ]
  },
  {
   "cell_type": "code",
   "execution_count": 21,
   "metadata": {},
   "outputs": [
    {
     "name": "stdout",
     "output_type": "stream",
     "text": [
      "* * * * * \n",
      "* * * * \n",
      "* * * \n",
      "* * \n",
      "* \n"
     ]
    }
   ],
   "source": [
    "# Number of rows\n",
    "num_rows = 5\n",
    "\n",
    "# Outer loop for each row\n",
    "for i in range(num_rows, 0, -1):\n",
    "    # Inner loop for each star in the row\n",
    "    for j in range(i):\n",
    "        print('*', end=' ')\n",
    "    print()"
   ]
  },
  {
   "cell_type": "code",
   "execution_count": 45,
   "metadata": {},
   "outputs": [
    {
     "name": "stdout",
     "output_type": "stream",
     "text": [
      "The GCD of 56 and 98 is: 14\n"
     ]
    }
   ],
   "source": [
    "# 20. Write a program to find the greatest common divisor (GCD) of two numbers using a `for` loop.\n",
    "# Function to find GCD of two numbers using a for loop\n",
    "def find_gcd(a, b):\n",
    "    # Ensure a is the smaller number\n",
    "    if a > b:\n",
    "        a, b = b, a\n",
    "    \n",
    "    gcd = 1\n",
    "    for i in range(1, a + 1):\n",
    "        if a % i == 0 and b % i == 0:\n",
    "            gcd = i\n",
    "    \n",
    "    return gcd\n",
    "\n",
    "# Example usage\n",
    "num1 = 56\n",
    "num2 = 98\n",
    "\n",
    "gcd = find_gcd(num1, num2)\n",
    "\n",
    "# Print the result\n",
    "print(f\"The GCD of {num1} and {num2} is: {gcd}\")\n"
   ]
  },
  {
   "cell_type": "markdown",
   "metadata": {},
   "source": [
    "# Advanced Level:"
   ]
  },
  {
   "cell_type": "code",
   "execution_count": 23,
   "metadata": {},
   "outputs": [
    {
     "name": "stdout",
     "output_type": "stream",
     "text": [
      "Original numbers: [123, 456, 789, 12, 34]\n",
      "Sum of digits for each number: [6, 15, 24, 3, 7]\n"
     ]
    }
   ],
   "source": [
    "# 21. Create a program that calculates the sum of the digits of numbers in a list using a list comprehension.\n",
    "# Input list of numbers\n",
    "numbers = [123, 456, 789, 12, 34]\n",
    "\n",
    "# List comprehension to calculate the sum of digits for each number\n",
    "sum_of_digits_list = [sum(int(digit) for digit in str(number)) for number in numbers]\n",
    "\n",
    "# Print the results\n",
    "print(\"Original numbers:\", numbers)\n",
    "print(\"Sum of digits for each number:\", sum_of_digits_list)\n"
   ]
  },
  {
   "cell_type": "code",
   "execution_count": 25,
   "metadata": {},
   "outputs": [
    {
     "name": "stdout",
     "output_type": "stream",
     "text": [
      "6\n",
      "15\n",
      "24\n",
      "3\n",
      "7\n"
     ]
    }
   ],
   "source": [
    "n = [123, 456, 789, 12, 34]\n",
    "for num in n:\n",
    "    digit_sum = sum(int(digit) for digit in str(num))\n",
    "    print(digit_sum)"
   ]
  },
  {
   "cell_type": "code",
   "execution_count": 27,
   "metadata": {},
   "outputs": [
    {
     "name": "stdout",
     "output_type": "stream",
     "text": [
      "Enter a number to find its prime factors: 44\n",
      "Prime factors of 44 are: [2, 2, 11]\n"
     ]
    }
   ],
   "source": [
    "# 22. Write a program to find the prime factors of a given number using a `for` loop and list comprehension.\n",
    "def prime_factors(n):\n",
    "    factors = []\n",
    "    divisor = 2\n",
    "    while n > 1:\n",
    "        if n % divisor == 0:\n",
    "            factors.append(divisor)\n",
    "            n //= divisor\n",
    "        else:\n",
    "            divisor += 1\n",
    "    return factors\n",
    "\n",
    "number = int(input(\"Enter a number to find its prime factors: \"))\n",
    "factors = prime_factors(number)\n",
    "print(\"Prime factors of\", number, \"are:\", factors)"
   ]
  },
  {
   "cell_type": "code",
   "execution_count": 35,
   "metadata": {},
   "outputs": [
    {
     "name": "stdout",
     "output_type": "stream",
     "text": [
      "original list  [1, 2, 3, 1, 2, 4, 6, 2, 4, 6, 3, 2, 3, 43, 6, 8, 9, 4, 3]\n",
      "Unique list  [1, 2, 3, 4, 6, 8, 9, 43]\n"
     ]
    }
   ],
   "source": [
    "# 23. Develop a program that extracts unique elements from a list and stores them in a new list using a list comprehension.\n",
    "l=[1,2,3,1,2,4,6,2,4,6,3,2,3,43,6,8,9,4,3]\n",
    "unique=list(set([x for x in l]))\n",
    "print(\"original list \",l)\n",
    "print(\"Unique list \",unique)"
   ]
  },
  {
   "cell_type": "code",
   "execution_count": 36,
   "metadata": {},
   "outputs": [
    {
     "name": "stdout",
     "output_type": "stream",
     "text": [
      "Enter the limit: 3\n",
      "Palindromic numbers up to 3 are: [0, 1, 2, 3]\n"
     ]
    }
   ],
   "source": [
    "# 24. Create a program that generates a list of all palindromic numbers up to a specified limit using a list comprehension.\n",
    "def is_palindrome(num):\n",
    "    return str(num) == str(num)[::-1]\n",
    "\n",
    "def palindromic_numbers(limit):\n",
    "    return [num for num in range(limit + 1) if is_palindrome(num)]\n",
    "\n",
    "# Example usage:\n",
    "limit = int(input(\"Enter the limit: \"))\n",
    "palindromes = palindromic_numbers(limit)\n",
    "print(\"Palindromic numbers up to\", limit, \"are:\", palindromes)\n"
   ]
  },
  {
   "cell_type": "code",
   "execution_count": 38,
   "metadata": {},
   "outputs": [
    {
     "name": "stdout",
     "output_type": "stream",
     "text": [
      "Palindromic numbers between 10 and 99 of 2 digits are: [11, 22, 33, 44, 55, 66, 77, 88, 99, 101, 111, 121, 131, 141, 151, 161, 171, 181, 191]\n"
     ]
    }
   ],
   "source": [
    "def is_palindrome(num):\n",
    "    return str(num) == str(num)[::-1]\n",
    "\n",
    "def palindromic_numbers_two_digits():\n",
    "    return [num for num in range(10, 200) if is_palindrome(num)]\n",
    "\n",
    "# Generate palindromic numbers of two digits\n",
    "palindromes = palindromic_numbers_two_digits()\n",
    "\n",
    "# Print the result\n",
    "print(\"Palindromic numbers between 10 and 99 of 2 digits are:\", palindromes)\n"
   ]
  },
  {
   "cell_type": "code",
   "execution_count": 39,
   "metadata": {},
   "outputs": [
    {
     "name": "stdout",
     "output_type": "stream",
     "text": [
      "Original nested list: [[1, 2, 3], [4, 5], [6, 7, 8]]\n",
      "Flattened list: [1, 2, 3, 4, 5, 6, 7, 8]\n"
     ]
    }
   ],
   "source": [
    "# 25. Write a program to flatten a nested list using list comprehension.\n",
    "def flatten(nested_list):\n",
    "    return [item for sublist in nested_list for item in sublist]\n",
    "\n",
    "nested_list = [[1, 2, 3], [4, 5], [6, 7, 8]]\n",
    "flattened_list = flatten(nested_list)\n",
    "print(\"Original nested list:\", nested_list)\n",
    "print(\"Flattened list:\", flattened_list)"
   ]
  },
  {
   "cell_type": "code",
   "execution_count": 40,
   "metadata": {},
   "outputs": [
    {
     "name": "stdout",
     "output_type": "stream",
     "text": [
      "List: [1, 2, 3, 4, 5, 6, 7, 8, 9, 10]\n",
      "Sum of even numbers: 30\n",
      "Sum of odd numbers: 25\n"
     ]
    }
   ],
   "source": [
    "# 26. Develop a program that computes the sum of even and odd numbers in a list separately using list comprehension.\n",
    "def even_odd_sum(numbers):\n",
    "    even_sum = sum(num for num in numbers if num % 2 == 0)\n",
    "    odd_sum = sum(num for num in numbers if num % 2 != 0)\n",
    "    return even_sum, odd_sum\n",
    "\n",
    "numbers = [1, 2, 3, 4, 5, 6, 7, 8, 9, 10]\n",
    "even_sum, odd_sum = even_odd_sum(numbers)\n",
    "print(\"List:\", numbers)\n",
    "print(\"Sum of even numbers:\", even_sum)\n",
    "print(\"Sum of odd numbers:\", odd_sum)"
   ]
  },
  {
   "cell_type": "code",
   "execution_count": 41,
   "metadata": {},
   "outputs": [
    {
     "name": "stdout",
     "output_type": "stream",
     "text": [
      "[1, 9, 25, 49, 81]\n"
     ]
    }
   ],
   "source": [
    "# 27. Create a program that generates a list of squares of odd numbers between 1 and 10 using list comprehension.\n",
    "squares_of_odd_numbers = [x**2 for x in range(1, 11) if x % 2 != 0]\n",
    "\n",
    "print(squares_of_odd_numbers)"
   ]
  },
  {
   "cell_type": "code",
   "execution_count": 42,
   "metadata": {},
   "outputs": [
    {
     "name": "stdout",
     "output_type": "stream",
     "text": [
      "{'a': 1, 'b': 2, 'c': 3, 'd': 4}\n"
     ]
    }
   ],
   "source": [
    "# 28. Write a program that combines two lists into a dictionary using list comprehension.\n",
    "keys = ['a', 'b', 'c', 'd']\n",
    "values = [1, 2, 3, 4]\n",
    "\n",
    "# Using list comprehension to combine the lists into a dictionary\n",
    "combined_dict = {keys[i]: values[i] for i in range(len(keys))}\n",
    "\n",
    "print(combined_dict)"
   ]
  },
  {
   "cell_type": "code",
   "execution_count": 43,
   "metadata": {},
   "outputs": [
    {
     "name": "stdout",
     "output_type": "stream",
     "text": [
      "['e', 'o', 'o']\n"
     ]
    }
   ],
   "source": [
    "# 29. Develop a program that extracts the vowels from a string and stores them in a list using list comprehension.\n",
    "input_string = \"Hello, World!\"\n",
    "\n",
    "# List comprehension to extract vowels\n",
    "vowels = [char for char in input_string if char.lower() in 'aeiou']\n",
    "\n",
    "print(vowels)"
   ]
  },
  {
   "cell_type": "code",
   "execution_count": 44,
   "metadata": {},
   "outputs": [
    {
     "name": "stdout",
     "output_type": "stream",
     "text": [
      "['123', '456', '789', '123', '456']\n"
     ]
    }
   ],
   "source": [
    "# 30. Create a program that removes all non-numeric characters from a list of strings using list comprehension.\n",
    "strings_list = [\"abc123\", \"def456\", \"ghi789\", \"!@#$%^123\", \"456xyz\"]\n",
    "\n",
    "# Using list comprehension to remove non-numeric characters from each string\n",
    "cleaned_list = [''.join([char for char in s if char.isdigit()]) for s in strings_list]\n",
    "\n",
    "print(cleaned_list)"
   ]
  },
  {
   "cell_type": "markdown",
   "metadata": {},
   "source": [
    "# Challenge Level:"
   ]
  },
  {
   "cell_type": "code",
   "execution_count": 48,
   "metadata": {},
   "outputs": [
    {
     "name": "stdout",
     "output_type": "stream",
     "text": [
      "[2, 3, 5, 7, 11, 13, 17, 19, 23, 29, 31, 37, 41, 43, 47]\n"
     ]
    }
   ],
   "source": [
    "# 31. Write a program to generate a list of prime numbers using the Sieve of Eratosthenes algorithm and list comprehension.\n",
    "def sieve_of_eratosthenes(limit):\n",
    "    # Create a boolean array \"prime[0..limit]\" and initialize all entries it as true.\n",
    "    # A value in prime[i] will be false if i is Not a prime, else true.\n",
    "    prime = [True for _ in range(limit + 1)]\n",
    "    p = 2\n",
    "    while p * p <= limit:\n",
    "        # If prime[p] is not changed, then it is a prime\n",
    "        if prime[p]:\n",
    "            # Updating all multiples of p to not prime\n",
    "            for i in range(p * p, limit + 1, p):\n",
    "                prime[i] = False\n",
    "        p += 1\n",
    "    # Collecting all prime numbers using list comprehension\n",
    "    prime_numbers = [p for p in range(2, limit + 1) if prime[p]]\n",
    "    return prime_numbers\n",
    "\n",
    "\n",
    "limit = 50\n",
    "prime_numbers = sieve_of_eratosthenes(limit)\n",
    "\n",
    "print(prime_numbers)"
   ]
  },
  {
   "cell_type": "code",
   "execution_count": 49,
   "metadata": {},
   "outputs": [
    {
     "name": "stdout",
     "output_type": "stream",
     "text": [
      "[(3, 4, 5), (5, 12, 13), (6, 8, 10), (7, 24, 25), (8, 15, 17), (9, 12, 15), (10, 24, 26), (12, 16, 20), (15, 20, 25), (18, 24, 30), (20, 21, 29)]\n"
     ]
    }
   ],
   "source": [
    "# 32. Create a program that generates a list of all Pythagorean triplets up to a specified limit using list comprehension.\n",
    "def generate_pythagorean_triplets(limit):\n",
    "    # Using list comprehension to generate Pythagorean triplets\n",
    "    triplets = [(a, b, c)\n",
    "                for a in range(1, limit + 1)\n",
    "                for b in range(a, limit + 1)\n",
    "                for c in range(b, limit + 1)\n",
    "                if a**2 + b**2 == c**2]\n",
    "    return triplets\n",
    "\n",
    "limit = 30\n",
    "pythagorean_triplets = generate_pythagorean_triplets(limit)\n",
    "\n",
    "print(pythagorean_triplets)"
   ]
  },
  {
   "cell_type": "code",
   "execution_count": 50,
   "metadata": {},
   "outputs": [
    {
     "name": "stdout",
     "output_type": "stream",
     "text": [
      "[(1, 'a'), (1, 'b'), (1, 'c'), (2, 'a'), (2, 'b'), (2, 'c'), (3, 'a'), (3, 'b'), (3, 'c')]\n"
     ]
    }
   ],
   "source": [
    "# 33. Develop a program that generates a list of all possible combinations of two lists using list comprehension.\n",
    "# Two lists to combine\n",
    "list1 = [1, 2, 3]\n",
    "list2 = ['a', 'b', 'c']\n",
    "\n",
    "# Using list comprehension to generate all possible combinations of elements from the two lists\n",
    "combinations = [(x, y) for x in list1 for y in list2]\n",
    "\n",
    "# Print the result\n",
    "print(combinations)\n"
   ]
  },
  {
   "cell_type": "code",
   "execution_count": 51,
   "metadata": {},
   "outputs": [
    {
     "name": "stdout",
     "output_type": "stream",
     "text": [
      "Mean: 3.727272727272727\n",
      "Median: 4\n",
      "Mode: [4, 5]\n"
     ]
    }
   ],
   "source": [
    "# 34. Write a program that calculates the mean, median, and mode of a list of numbers using list comprehension.\n",
    "from collections import Counter\n",
    "\n",
    "def calculate_mean(numbers):\n",
    "    return sum(numbers) / len(numbers)\n",
    "\n",
    "def calculate_median(numbers):\n",
    "    sorted_numbers = sorted(numbers)\n",
    "    n = len(numbers)\n",
    "    midpoint = n // 2\n",
    "    \n",
    "    if n % 2 == 0:\n",
    "        # If even, average the middle two numbers\n",
    "        return (sorted_numbers[midpoint - 1] + sorted_numbers[midpoint]) / 2.0\n",
    "    else:\n",
    "        # If odd, return the middle number\n",
    "        return sorted_numbers[midpoint]\n",
    "\n",
    "def calculate_mode(numbers):\n",
    "    counts = Counter(numbers)\n",
    "    max_count = max(counts.values())\n",
    "    # Using list comprehension to find all elements with the highest frequency\n",
    "    modes = [num for num, count in counts.items() if count == max_count]\n",
    "    return modes\n",
    "\n",
    "numbers = [1, 2, 2, 3, 4, 4, 4, 5, 5, 5, 6]\n",
    "\n",
    "mean = calculate_mean(numbers)\n",
    "median = calculate_median(numbers)\n",
    "mode = calculate_mode(numbers)\n",
    "\n",
    "print(f\"Mean: {mean}\")\n",
    "print(f\"Median: {median}\")\n",
    "print(f\"Mode: {mode}\")"
   ]
  },
  {
   "cell_type": "code",
   "execution_count": 52,
   "metadata": {},
   "outputs": [
    {
     "name": "stdout",
     "output_type": "stream",
     "text": [
      "[1]\n",
      "[1, 1]\n",
      "[1, 2, 1]\n",
      "[1, 3, 3, 1]\n",
      "[1, 4, 6, 4, 1]\n"
     ]
    }
   ],
   "source": [
    "# 35. Create a program that generates Pascal's triangle up to a specified number of rows using list comprehension.\n",
    "def generate_pascals_triangle(num_rows):\n",
    "    if num_rows <= 0:\n",
    "        return []\n",
    "\n",
    "    triangle = [[1]]  # Initialize Pascal's triangle with the first row\n",
    "\n",
    "    for _ in range(1, num_rows):\n",
    "        # Generate the next row of Pascal's triangle based on the previous row\n",
    "        previous_row = triangle[-1]\n",
    "        next_row = [1] + [previous_row[i] + previous_row[i + 1] for i in range(len(previous_row) - 1)] + [1]\n",
    "        triangle.append(next_row)\n",
    "\n",
    "    return triangle\n",
    "\n",
    "num_rows = 5\n",
    "pascals_triangle = generate_pascals_triangle(num_rows)\n",
    "\n",
    "for row in pascals_triangle:\n",
    "    print(row)"
   ]
  },
  {
   "cell_type": "code",
   "execution_count": 53,
   "metadata": {},
   "outputs": [
    {
     "name": "stdout",
     "output_type": "stream",
     "text": [
      "The sum of digits of 1! is: 1\n",
      "The sum of digits of 2! is: 2\n",
      "The sum of digits of 3! is: 6\n",
      "The sum of digits of 4! is: 6\n",
      "The sum of digits of 5! is: 3\n"
     ]
    }
   ],
   "source": [
    "# 36. Develop a program that calculates the sum of the digits of a factorial of numbers from 1 to 5 using list comprehension.\n",
    "def factorial(n):\n",
    "    if n == 0:\n",
    "        return 1\n",
    "    else:\n",
    "        return n * factorial(n - 1)\n",
    "\n",
    "# Calculate factorial and sum of digits for numbers from 1 to 5 using list comprehension\n",
    "factorials_and_digit_sums = [(n, sum(int(digit) for digit in str(factorial(n)))) for n in range(1, 6)]\n",
    "\n",
    "for n, digit_sum in factorials_and_digit_sums:\n",
    "    print(f\"The sum of digits of {n}! is: {digit_sum}\")\n"
   ]
  },
  {
   "cell_type": "code",
   "execution_count": 55,
   "metadata": {},
   "outputs": [
    {
     "name": "stdout",
     "output_type": "stream",
     "text": [
      "The longest word in the sentence is: lazyyyyyy\n"
     ]
    }
   ],
   "source": [
    "# 37. Write a program that finds the longest word in a sentence using list comprehension.\n",
    "def find_longest_word(sentence):\n",
    "    # Split the sentence into words\n",
    "    words = sentence.split()\n",
    "    # Using list comprehension to find the length of each word\n",
    "    word_lengths = [len(word) for word in words]\n",
    "    # Find the index of the longest word\n",
    "    longest_word_index = word_lengths.index(max(word_lengths))\n",
    "    # Return the longest word\n",
    "    return words[longest_word_index]\n",
    "\n",
    "sentence = \"The quick brown fox jumps over the lazyyyyyy dog\"\n",
    "\n",
    "longest_word = find_longest_word(sentence)\n",
    "\n",
    "print(\"The longest word in the sentence is:\", longest_word)"
   ]
  },
  {
   "cell_type": "code",
   "execution_count": 57,
   "metadata": {},
   "outputs": [
    {
     "name": "stdout",
     "output_type": "stream",
     "text": [
      "['independent', 'intelligence']\n"
     ]
    }
   ],
   "source": [
    "# 38. Create a program that filters a list of strings to include only those with more than three vowels using list comprehension.\n",
    "def count_vowels(string):\n",
    "    return sum(1 for char in string if char.lower() in 'aeiou')\n",
    "\n",
    "strings_list = [\"python\", \"programming\", \"is\", \"independent\", \"and\", \"intelligence\"]\n",
    "\n",
    "# Using list comprehension to filter strings with more than three vowels\n",
    "filtered_strings = [string for string in strings_list if count_vowels(string) > 3]\n",
    "\n",
    "print(filtered_strings)"
   ]
  },
  {
   "cell_type": "code",
   "execution_count": 58,
   "metadata": {},
   "outputs": [
    {
     "name": "stdout",
     "output_type": "stream",
     "text": [
      "The sum of digits of numbers from 1 to 1000 is: 13501\n"
     ]
    }
   ],
   "source": [
    "# 39. Develop a program that calculates the sum of the digits of numbers from 1 to 1000 using list comprehension.\n",
    "def sum_of_digits(number):\n",
    "    return sum(int(digit) for digit in str(number))\n",
    "\n",
    "# Calculate sum of digits for numbers from 1 to 1000 using list comprehension\n",
    "sum_of_digits_list = [sum_of_digits(num) for num in range(1, 1001)]\n",
    "\n",
    "total_sum = sum(sum_of_digits_list)\n",
    "\n",
    "print(\"The sum of digits of numbers from 1 to 1000 is:\", total_sum)"
   ]
  },
  {
   "cell_type": "code",
   "execution_count": 60,
   "metadata": {},
   "outputs": [
    {
     "name": "stdout",
     "output_type": "stream",
     "text": [
      "[2, 3, 5, 7, 11, 101, 131, 151, 181, 191, 313, 353, 373, 383, 727, 757, 787, 797, 919, 929]\n"
     ]
    }
   ],
   "source": [
    "# 40. Write a program that generates a list of prime palindromic numbers using list comprehension.\n",
    "def is_prime(n):\n",
    "    if n <= 1:\n",
    "        return False\n",
    "    elif n <= 3:\n",
    "        return True\n",
    "    elif n % 2 == 0 or n % 3 == 0:\n",
    "        return False\n",
    "    i = 5\n",
    "    while i * i <= n:\n",
    "        if n % i == 0 or n % (i + 2) == 0:\n",
    "            return False\n",
    "        i += 6\n",
    "    return True\n",
    "\n",
    "# Generate list of prime palindromic numbers using list comprehension\n",
    "prime_palindromic_numbers = [num for num in range(1, 1000) if is_prime(num) and str(num) == str(num)[::-1]]\n",
    "\n",
    "print(prime_palindromic_numbers)"
   ]
  }
 ],
 "metadata": {
  "kernelspec": {
   "display_name": "Python 3",
   "language": "python",
   "name": "python3"
  },
  "language_info": {
   "codemirror_mode": {
    "name": "ipython",
    "version": 3
   },
   "file_extension": ".py",
   "mimetype": "text/x-python",
   "name": "python",
   "nbconvert_exporter": "python",
   "pygments_lexer": "ipython3",
   "version": "3.8.5"
  }
 },
 "nbformat": 4,
 "nbformat_minor": 4
}
