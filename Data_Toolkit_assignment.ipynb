{
  "cells": [
    {
      "cell_type": "markdown",
      "metadata": {
        "id": "pAxNX0_Ii6DK"
      },
      "source": [
        "1.Demonstrate three different methods for creating identical 2D arrays in NumPy. Provide the code for each\n",
        "method and the final output after each method."
      ]
    },
    {
      "cell_type": "code",
      "execution_count": 1,
      "metadata": {
        "colab": {
          "base_uri": "https://localhost:8080/"
        },
        "id": "YD0z5qYki8Tq",
        "outputId": "ba5d0821-9a89-4b8c-e217-40b86e4baf5e"
      },
      "outputs": [
        {
          "name": "stdout",
          "output_type": "stream",
          "text": [
            "Array 1 (list of lists):\n",
            " [[1 2 3]\n",
            " [4 5 6]\n",
            " [7 8 9]]\n",
            "Array 2 (np.full):\n",
            " [[1 2 3]\n",
            " [1 2 3]\n",
            " [1 2 3]]\n",
            "Array 3 (np.repeat):\n",
            " [[1 2 3]\n",
            " [1 2 3]\n",
            " [1 2 3]]\n"
          ]
        }
      ],
      "source": [
        "import numpy as np\n",
        "\n",
        "# Method 1: Using a list of lists\n",
        "array_1 = np.array([[1, 2, 3], [4, 5, 6], [7, 8, 9]])\n",
        "print(\"Array 1 (list of lists):\\n\", array_1)\n",
        "\n",
        "# Method 2: Using `np.full`\n",
        "array_2 = np.full((3, 3), [1, 2, 3])\n",
        "print(\"Array 2 (np.full):\\n\", array_2)\n",
        "\n",
        "# Method 3: Using `np.repeat`\n",
        "array_3 = np.repeat([[1, 2, 3]], 3, axis=0)\n",
        "print(\"Array 3 (np.repeat):\\n\", array_3)"
      ]
    },
    {
      "cell_type": "markdown",
      "metadata": {
        "id": "IeRZWVeFjXI9"
      },
      "source": [
        "2.Using the Numpy function, generate an array of 100 evenly spaced numbers between 1 and 10.\n",
        "Reshape that 1D array into a 2D array."
      ]
    },
    {
      "cell_type": "code",
      "execution_count": 5,
      "metadata": {
        "colab": {
          "base_uri": "https://localhost:8080/"
        },
        "id": "G6FS4ikejKOK",
        "outputId": "260c83af-44a9-48a3-b15a-5e8c8c35343e"
      },
      "outputs": [
        {
          "name": "stdout",
          "output_type": "stream",
          "text": [
            "[[ 1.          1.09090909  1.18181818  1.27272727  1.36363636  1.45454545\n",
            "   1.54545455  1.63636364  1.72727273  1.81818182]\n",
            " [ 1.90909091  2.          2.09090909  2.18181818  2.27272727  2.36363636\n",
            "   2.45454545  2.54545455  2.63636364  2.72727273]\n",
            " [ 2.81818182  2.90909091  3.          3.09090909  3.18181818  3.27272727\n",
            "   3.36363636  3.45454545  3.54545455  3.63636364]\n",
            " [ 3.72727273  3.81818182  3.90909091  4.          4.09090909  4.18181818\n",
            "   4.27272727  4.36363636  4.45454545  4.54545455]\n",
            " [ 4.63636364  4.72727273  4.81818182  4.90909091  5.          5.09090909\n",
            "   5.18181818  5.27272727  5.36363636  5.45454545]\n",
            " [ 5.54545455  5.63636364  5.72727273  5.81818182  5.90909091  6.\n",
            "   6.09090909  6.18181818  6.27272727  6.36363636]\n",
            " [ 6.45454545  6.54545455  6.63636364  6.72727273  6.81818182  6.90909091\n",
            "   7.          7.09090909  7.18181818  7.27272727]\n",
            " [ 7.36363636  7.45454545  7.54545455  7.63636364  7.72727273  7.81818182\n",
            "   7.90909091  8.          8.09090909  8.18181818]\n",
            " [ 8.27272727  8.36363636  8.45454545  8.54545455  8.63636364  8.72727273\n",
            "   8.81818182  8.90909091  9.          9.09090909]\n",
            " [ 9.18181818  9.27272727  9.36363636  9.45454545  9.54545455  9.63636364\n",
            "   9.72727273  9.81818182  9.90909091 10.        ]]\n"
          ]
        }
      ],
      "source": [
        "# Generate 100 numbers between 1 and 10 and reshape into 2D array\n",
        "array_2d = np.linspace(1, 10, num=100).reshape(10,10)\n",
        "print(array_2d)"
      ]
    },
    {
      "cell_type": "markdown",
      "metadata": {
        "id": "QPk7mZzBlCk5"
      },
      "source": [
        "3. Explain the following terms-\n",
        "\n",
        "A. The difference in np.array, np.asarray and np.asanyarray.\n",
        "\n",
        "B. The difference between Deep copy and shallow copy."
      ]
    },
    {
      "cell_type": "markdown",
      "metadata": {
        "id": "kRbcGTgflfCE"
      },
      "source": [
        "A. Numpy array VS Numpy asarray-\n",
        "\n",
        "In Python, NumPy array and NumPy asarray are used to convert the data into ndarray. If we talk about the major difference that is when we make a NumPy array using np.array, it creates a copy of the object array or the original array and does not reflect any changes made to the original array.\n",
        "Whereas on the other hand, when we try to use NumPy asarray, it would reflect all the changes made to the original array.\n",
        "\n",
        "numpy.asanyarray()function is used when we want to convert input to an array but it pass ndarray subclasses through. Input can be scalars, lists, lists of tuples, tuples, tuples of tuples, tuples of lists and ndarrays."
      ]
    },
    {
      "cell_type": "markdown",
      "metadata": {
        "id": "gOuTift7liME"
      },
      "source": [
        "B. Deep copy in Python-\n",
        "\n",
        "A deep copy creates a new compound object before inserting copies of the items found in the original into it in a recursive manner.\n",
        "It will first construct a new collection object and then recursively populate it with copies of the child objects found in the original. It means that any changes made to a copy of the object do not reflect in the original object.\n",
        "\n",
        "Shallow copy in Python-\n",
        "\n",
        "A shallow copy creates a new object but retains references to the objects contained within the original. It only copies the top-level structure without duplicating nested elements.\n",
        "Changes made to a copy of an object do reflect in the original object. In python, this is implemented using the “copy.copy()” function."
      ]
    },
    {
      "cell_type": "markdown",
      "metadata": {
        "id": "NVHLv5_OmmV4"
      },
      "source": [
        "4. Generate a 3x3 array with random floating-point numbers between 5 and 20. Then, round each number in the array to 2 decimal places."
      ]
    },
    {
      "cell_type": "code",
      "execution_count": 7,
      "metadata": {
        "colab": {
          "base_uri": "https://localhost:8080/"
        },
        "id": "mAS1zR_rkD5B",
        "outputId": "ff721527-3110-4838-95a8-4bf1239fe7e4"
      },
      "outputs": [
        {
          "name": "stdout",
          "output_type": "stream",
          "text": [
            "[[19.3  12.02 15.71]\n",
            " [ 5.83 11.23 15.35]\n",
            " [ 5.63 16.63 18.09]]\n"
          ]
        }
      ],
      "source": [
        "# Generate a 3x3 array with random floating-point numbers between 5 and 20\n",
        "random_array = np.random.uniform(5, 20, (3, 3))\n",
        "\n",
        "# Round each number to 2 decimal places\n",
        "rounded_array = np.round(random_array, 2)\n",
        "\n",
        "print(rounded_array)"
      ]
    },
    {
      "cell_type": "markdown",
      "metadata": {
        "id": "_XZ36uMgsPOB"
      },
      "source": [
        "5. Create a NumPy array with random integers between 1 and 10 of shape (5, 6). After creating the array\n",
        "perform the following operations:\n",
        "\n",
        " a)Extract all even integers from array.\n",
        "\n",
        " b)Extract all odd integers from array."
      ]
    },
    {
      "cell_type": "code",
      "execution_count": 11,
      "metadata": {
        "colab": {
          "base_uri": "https://localhost:8080/"
        },
        "id": "QfuSoQ_jtzmV",
        "outputId": "e72fccaa-d62c-4afe-ee3a-54344d7dbb17"
      },
      "outputs": [
        {
          "name": "stdout",
          "output_type": "stream",
          "text": [
            "Original Array:\n",
            "[[ 9 10  8  5  2 10]\n",
            " [ 5 10  6  7  7  3]\n",
            " [ 6  4  7  7  1 10]\n",
            " [ 5  4  9  4  6  7]\n",
            " [ 9  1  3  7  6  6]]\n",
            "\n",
            "Even Integers:\n",
            "[10  8  2 10 10  6  6  4 10  4  4  6  6  6]\n",
            "\n",
            "Odd Integers:\n",
            "[9 5 5 7 7 3 7 7 1 5 9 7 9 1 3 7]\n"
          ]
        }
      ],
      "source": [
        "import numpy as np\n",
        "\n",
        "# Create a 5x6 array with random integers between 1 and 10\n",
        "array = np.random.randint(1, 11, size=(5, 6))\n",
        "\n",
        "print(\"Original Array:\")\n",
        "print(array)\n",
        "\n",
        "# Extract all even integers\n",
        "even_numbers = array[array % 2 == 0]\n",
        "\n",
        "print(\"\\nEven Integers:\")\n",
        "print(even_numbers)\n",
        "\n",
        "# Extract all odd integers\n",
        "odd_numbers = array[array % 2 != 0]\n",
        "\n",
        "print(\"\\nOdd Integers:\")\n",
        "print(odd_numbers)"
      ]
    },
    {
      "cell_type": "markdown",
      "metadata": {
        "id": "ha4Se1zvtrYn"
      },
      "source": [
        "6. Create a 3D NumPy array of shape (3, 3, 3) containing random integers between 1 and 10. Perform the\n",
        "following operations:\n",
        "\n",
        " a) Find the indices of the maximum values along each depth level (third axis).\n",
        "\n",
        " b) Perform element-wise multiplication of between both array."
      ]
    },
    {
      "cell_type": "code",
      "execution_count": 12,
      "metadata": {
        "colab": {
          "base_uri": "https://localhost:8080/"
        },
        "id": "kqcFeryXtWeP",
        "outputId": "785b91c7-9aa0-4c4c-8bb9-21a93ea9cdb1"
      },
      "outputs": [
        {
          "name": "stdout",
          "output_type": "stream",
          "text": [
            "3D Array:\n",
            " [[[ 3  8  2]\n",
            "  [10  6  9]\n",
            "  [ 2  2 10]]\n",
            "\n",
            " [[ 5  2  9]\n",
            "  [ 8  4  3]\n",
            "  [ 1 10  6]]\n",
            "\n",
            " [[ 1  9  2]\n",
            "  [ 5  2  8]\n",
            "  [ 5  2  1]]]\n",
            "\n",
            "Indices of maximum values along each depth level:\n",
            " [[1 0 2]\n",
            " [2 0 1]\n",
            " [1 2 0]]\n",
            "\n",
            "Result of element-wise multiplication:\n",
            " [[[ 3  8  2]\n",
            "  [ 0  0  0]\n",
            "  [ 4  4 20]]\n",
            "\n",
            " [[10  4 18]\n",
            "  [ 0  0  0]\n",
            "  [ 1 10  6]]\n",
            "\n",
            " [[ 1  9  2]\n",
            "  [10  4 16]\n",
            "  [ 0  0  0]]]\n"
          ]
        }
      ],
      "source": [
        "# Create a 3D array of shape (3, 3, 3) with random integers between 1 and 10\n",
        "array_3d = np.random.randint(1, 11, size=(3, 3, 3))\n",
        "print(\"3D Array:\\n\", array_3d)\n",
        "\n",
        "# Find the indices of the maximum values along each depth level (third axis)\n",
        "max_indices = np.argmax(array_3d, axis=2)\n",
        "print(\"\\nIndices of maximum values along each depth level:\\n\", max_indices)\n",
        "\n",
        "# Perform element-wise multiplication between the original array and the max indices array\n",
        "broadcasted_max_indices = np.expand_dims(max_indices, axis=2)\n",
        "result = array_3d * broadcasted_max_indices\n",
        "print(\"\\nResult of element-wise multiplication:\\n\", result)"
      ]
    },
    {
      "cell_type": "markdown",
      "metadata": {
        "id": "8au-pbAquxO9"
      },
      "source": [
        "##People Data"
      ]
    },
    {
      "cell_type": "code",
      "execution_count": 13,
      "metadata": {
        "colab": {
          "base_uri": "https://localhost:8080/"
        },
        "id": "9x8YVRU7ugQs",
        "outputId": "b4f1c747-a8c6-4d3e-ac12-eec39e939b97"
      },
      "outputs": [
        {
          "name": "stdout",
          "output_type": "stream",
          "text": [
            "Downloading...\n",
            "From: https://drive.google.com/uc?id=11EdSBWzmuZ3hQD2oVrN2M1LQZwWus5J5\n",
            "To: /content/People Data.csv\n",
            "\r  0% 0.00/119k [00:00<?, ?B/s]\r100% 119k/119k [00:00<00:00, 7.75MB/s]\n"
          ]
        }
      ],
      "source": [
        "!gdown 11EdSBWzmuZ3hQD2oVrN2M1LQZwWus5J5"
      ]
    },
    {
      "cell_type": "code",
      "execution_count": 15,
      "metadata": {
        "colab": {
          "base_uri": "https://localhost:8080/",
          "height": 206
        },
        "id": "Jd7o9Fw-u7Mn",
        "outputId": "712511d0-6fd2-4f15-e0ed-1ec911d737d9"
      },
      "outputs": [
        {
          "data": {
            "application/vnd.google.colaboratory.intrinsic+json": {
              "summary": "{\n  \"name\": \"data\",\n  \"rows\": 1000,\n  \"fields\": [\n    {\n      \"column\": \"Index\",\n      \"properties\": {\n        \"dtype\": \"number\",\n        \"std\": 288,\n        \"min\": 1,\n        \"max\": 1000,\n        \"num_unique_values\": 1000,\n        \"samples\": [\n          522,\n          738,\n          741\n        ],\n        \"semantic_type\": \"\",\n        \"description\": \"\"\n      }\n    },\n    {\n      \"column\": \"User Id\",\n      \"properties\": {\n        \"dtype\": \"string\",\n        \"num_unique_values\": 1000,\n        \"samples\": [\n          \"89FdFDb8Fa09efF\",\n          \"BBa02EC792cfFf3\",\n          \"b0E2bF69efAB9c5\"\n        ],\n        \"semantic_type\": \"\",\n        \"description\": \"\"\n      }\n    },\n    {\n      \"column\": \"First Name\",\n      \"properties\": {\n        \"dtype\": \"string\",\n        \"num_unique_values\": 526,\n        \"samples\": [\n          \"Maureen\",\n          \"Breanna\",\n          \"Ernest\"\n        ],\n        \"semantic_type\": \"\",\n        \"description\": \"\"\n      }\n    },\n    {\n      \"column\": \"Last Name\",\n      \"properties\": {\n        \"dtype\": \"string\",\n        \"num_unique_values\": 628,\n        \"samples\": [\n          \"Mendez\",\n          \"Callahan\",\n          \"Martinez\"\n        ],\n        \"semantic_type\": \"\",\n        \"description\": \"\"\n      }\n    },\n    {\n      \"column\": \"Gender\",\n      \"properties\": {\n        \"dtype\": \"category\",\n        \"num_unique_values\": 2,\n        \"samples\": [\n          \"Female\",\n          \"Male\"\n        ],\n        \"semantic_type\": \"\",\n        \"description\": \"\"\n      }\n    },\n    {\n      \"column\": \"Email\",\n      \"properties\": {\n        \"dtype\": \"string\",\n        \"num_unique_values\": 1000,\n        \"samples\": [\n          \"fernando58@example.com\",\n          \"willisannette@example.org\"\n        ],\n        \"semantic_type\": \"\",\n        \"description\": \"\"\n      }\n    },\n    {\n      \"column\": \"Phone\",\n      \"properties\": {\n        \"dtype\": \"string\",\n        \"num_unique_values\": 979,\n        \"samples\": [\n          \"(500)343-9851x714\",\n          \"703.544.7090\"\n        ],\n        \"semantic_type\": \"\",\n        \"description\": \"\"\n      }\n    },\n    {\n      \"column\": \"Date of birth\",\n      \"properties\": {\n        \"dtype\": \"object\",\n        \"num_unique_values\": 991,\n        \"samples\": [\n          \"30-01-1945\",\n          \"29-12-2008\"\n        ],\n        \"semantic_type\": \"\",\n        \"description\": \"\"\n      }\n    },\n    {\n      \"column\": \"Job Title\",\n      \"properties\": {\n        \"dtype\": \"string\",\n        \"num_unique_values\": 519,\n        \"samples\": [\n          \"Furniture designer\",\n          \"Field seismologist\"\n        ],\n        \"semantic_type\": \"\",\n        \"description\": \"\"\n      }\n    },\n    {\n      \"column\": \"Salary\",\n      \"properties\": {\n        \"dtype\": \"number\",\n        \"std\": 16136,\n        \"min\": 50000,\n        \"max\": 100000,\n        \"num_unique_values\": 8,\n        \"samples\": [\n          80000,\n          60000\n        ],\n        \"semantic_type\": \"\",\n        \"description\": \"\"\n      }\n    }\n  ]\n}",
              "type": "dataframe",
              "variable_name": "data"
            },
            "text/html": [
              "\n",
              "  <div id=\"df-7fd0097c-178e-4565-b6f3-0d008ae6f32c\" class=\"colab-df-container\">\n",
              "    <div>\n",
              "<style scoped>\n",
              "    .dataframe tbody tr th:only-of-type {\n",
              "        vertical-align: middle;\n",
              "    }\n",
              "\n",
              "    .dataframe tbody tr th {\n",
              "        vertical-align: top;\n",
              "    }\n",
              "\n",
              "    .dataframe thead th {\n",
              "        text-align: right;\n",
              "    }\n",
              "</style>\n",
              "<table border=\"1\" class=\"dataframe\">\n",
              "  <thead>\n",
              "    <tr style=\"text-align: right;\">\n",
              "      <th></th>\n",
              "      <th>Index</th>\n",
              "      <th>User Id</th>\n",
              "      <th>First Name</th>\n",
              "      <th>Last Name</th>\n",
              "      <th>Gender</th>\n",
              "      <th>Email</th>\n",
              "      <th>Phone</th>\n",
              "      <th>Date of birth</th>\n",
              "      <th>Job Title</th>\n",
              "      <th>Salary</th>\n",
              "    </tr>\n",
              "  </thead>\n",
              "  <tbody>\n",
              "    <tr>\n",
              "      <th>0</th>\n",
              "      <td>1</td>\n",
              "      <td>8717bbf45cCDbEe</td>\n",
              "      <td>Shelia</td>\n",
              "      <td>Mahoney</td>\n",
              "      <td>Male</td>\n",
              "      <td>pwarner@example.org</td>\n",
              "      <td>857.139.8239</td>\n",
              "      <td>27-01-2014</td>\n",
              "      <td>Probation officer</td>\n",
              "      <td>90000</td>\n",
              "    </tr>\n",
              "    <tr>\n",
              "      <th>1</th>\n",
              "      <td>2</td>\n",
              "      <td>3d5AD30A4cD38ed</td>\n",
              "      <td>Jo</td>\n",
              "      <td>Rivers</td>\n",
              "      <td>Female</td>\n",
              "      <td>fergusonkatherine@example.net</td>\n",
              "      <td>NaN</td>\n",
              "      <td>26-07-1931</td>\n",
              "      <td>Dancer</td>\n",
              "      <td>80000</td>\n",
              "    </tr>\n",
              "    <tr>\n",
              "      <th>2</th>\n",
              "      <td>3</td>\n",
              "      <td>810Ce0F276Badec</td>\n",
              "      <td>Sheryl</td>\n",
              "      <td>Lowery</td>\n",
              "      <td>Female</td>\n",
              "      <td>fhoward@example.org</td>\n",
              "      <td>(599)782-0605</td>\n",
              "      <td>25-11-2013</td>\n",
              "      <td>Copy</td>\n",
              "      <td>50000</td>\n",
              "    </tr>\n",
              "    <tr>\n",
              "      <th>3</th>\n",
              "      <td>4</td>\n",
              "      <td>BF2a889C00f0cE1</td>\n",
              "      <td>Whitney</td>\n",
              "      <td>Hooper</td>\n",
              "      <td>Male</td>\n",
              "      <td>zjohnston@example.com</td>\n",
              "      <td>NaN</td>\n",
              "      <td>17-11-2012</td>\n",
              "      <td>Counselling psychologist</td>\n",
              "      <td>65000</td>\n",
              "    </tr>\n",
              "    <tr>\n",
              "      <th>4</th>\n",
              "      <td>5</td>\n",
              "      <td>9afFEafAe1CBBB9</td>\n",
              "      <td>Lindsey</td>\n",
              "      <td>Rice</td>\n",
              "      <td>Female</td>\n",
              "      <td>elin@example.net</td>\n",
              "      <td>(390)417-1635x3010</td>\n",
              "      <td>15-04-1923</td>\n",
              "      <td>Biomedical engineer</td>\n",
              "      <td>100000</td>\n",
              "    </tr>\n",
              "  </tbody>\n",
              "</table>\n",
              "</div>\n",
              "    <div class=\"colab-df-buttons\">\n",
              "\n",
              "  <div class=\"colab-df-container\">\n",
              "    <button class=\"colab-df-convert\" onclick=\"convertToInteractive('df-7fd0097c-178e-4565-b6f3-0d008ae6f32c')\"\n",
              "            title=\"Convert this dataframe to an interactive table.\"\n",
              "            style=\"display:none;\">\n",
              "\n",
              "  <svg xmlns=\"http://www.w3.org/2000/svg\" height=\"24px\" viewBox=\"0 -960 960 960\">\n",
              "    <path d=\"M120-120v-720h720v720H120Zm60-500h600v-160H180v160Zm220 220h160v-160H400v160Zm0 220h160v-160H400v160ZM180-400h160v-160H180v160Zm440 0h160v-160H620v160ZM180-180h160v-160H180v160Zm440 0h160v-160H620v160Z\"/>\n",
              "  </svg>\n",
              "    </button>\n",
              "\n",
              "  <style>\n",
              "    .colab-df-container {\n",
              "      display:flex;\n",
              "      gap: 12px;\n",
              "    }\n",
              "\n",
              "    .colab-df-convert {\n",
              "      background-color: #E8F0FE;\n",
              "      border: none;\n",
              "      border-radius: 50%;\n",
              "      cursor: pointer;\n",
              "      display: none;\n",
              "      fill: #1967D2;\n",
              "      height: 32px;\n",
              "      padding: 0 0 0 0;\n",
              "      width: 32px;\n",
              "    }\n",
              "\n",
              "    .colab-df-convert:hover {\n",
              "      background-color: #E2EBFA;\n",
              "      box-shadow: 0px 1px 2px rgba(60, 64, 67, 0.3), 0px 1px 3px 1px rgba(60, 64, 67, 0.15);\n",
              "      fill: #174EA6;\n",
              "    }\n",
              "\n",
              "    .colab-df-buttons div {\n",
              "      margin-bottom: 4px;\n",
              "    }\n",
              "\n",
              "    [theme=dark] .colab-df-convert {\n",
              "      background-color: #3B4455;\n",
              "      fill: #D2E3FC;\n",
              "    }\n",
              "\n",
              "    [theme=dark] .colab-df-convert:hover {\n",
              "      background-color: #434B5C;\n",
              "      box-shadow: 0px 1px 3px 1px rgba(0, 0, 0, 0.15);\n",
              "      filter: drop-shadow(0px 1px 2px rgba(0, 0, 0, 0.3));\n",
              "      fill: #FFFFFF;\n",
              "    }\n",
              "  </style>\n",
              "\n",
              "    <script>\n",
              "      const buttonEl =\n",
              "        document.querySelector('#df-7fd0097c-178e-4565-b6f3-0d008ae6f32c button.colab-df-convert');\n",
              "      buttonEl.style.display =\n",
              "        google.colab.kernel.accessAllowed ? 'block' : 'none';\n",
              "\n",
              "      async function convertToInteractive(key) {\n",
              "        const element = document.querySelector('#df-7fd0097c-178e-4565-b6f3-0d008ae6f32c');\n",
              "        const dataTable =\n",
              "          await google.colab.kernel.invokeFunction('convertToInteractive',\n",
              "                                                    [key], {});\n",
              "        if (!dataTable) return;\n",
              "\n",
              "        const docLinkHtml = 'Like what you see? Visit the ' +\n",
              "          '<a target=\"_blank\" href=https://colab.research.google.com/notebooks/data_table.ipynb>data table notebook</a>'\n",
              "          + ' to learn more about interactive tables.';\n",
              "        element.innerHTML = '';\n",
              "        dataTable['output_type'] = 'display_data';\n",
              "        await google.colab.output.renderOutput(dataTable, element);\n",
              "        const docLink = document.createElement('div');\n",
              "        docLink.innerHTML = docLinkHtml;\n",
              "        element.appendChild(docLink);\n",
              "      }\n",
              "    </script>\n",
              "  </div>\n",
              "\n",
              "\n",
              "<div id=\"df-83b427a4-7dc0-4549-b7bc-8739acb66067\">\n",
              "  <button class=\"colab-df-quickchart\" onclick=\"quickchart('df-83b427a4-7dc0-4549-b7bc-8739acb66067')\"\n",
              "            title=\"Suggest charts\"\n",
              "            style=\"display:none;\">\n",
              "\n",
              "<svg xmlns=\"http://www.w3.org/2000/svg\" height=\"24px\"viewBox=\"0 0 24 24\"\n",
              "     width=\"24px\">\n",
              "    <g>\n",
              "        <path d=\"M19 3H5c-1.1 0-2 .9-2 2v14c0 1.1.9 2 2 2h14c1.1 0 2-.9 2-2V5c0-1.1-.9-2-2-2zM9 17H7v-7h2v7zm4 0h-2V7h2v10zm4 0h-2v-4h2v4z\"/>\n",
              "    </g>\n",
              "</svg>\n",
              "  </button>\n",
              "\n",
              "<style>\n",
              "  .colab-df-quickchart {\n",
              "      --bg-color: #E8F0FE;\n",
              "      --fill-color: #1967D2;\n",
              "      --hover-bg-color: #E2EBFA;\n",
              "      --hover-fill-color: #174EA6;\n",
              "      --disabled-fill-color: #AAA;\n",
              "      --disabled-bg-color: #DDD;\n",
              "  }\n",
              "\n",
              "  [theme=dark] .colab-df-quickchart {\n",
              "      --bg-color: #3B4455;\n",
              "      --fill-color: #D2E3FC;\n",
              "      --hover-bg-color: #434B5C;\n",
              "      --hover-fill-color: #FFFFFF;\n",
              "      --disabled-bg-color: #3B4455;\n",
              "      --disabled-fill-color: #666;\n",
              "  }\n",
              "\n",
              "  .colab-df-quickchart {\n",
              "    background-color: var(--bg-color);\n",
              "    border: none;\n",
              "    border-radius: 50%;\n",
              "    cursor: pointer;\n",
              "    display: none;\n",
              "    fill: var(--fill-color);\n",
              "    height: 32px;\n",
              "    padding: 0;\n",
              "    width: 32px;\n",
              "  }\n",
              "\n",
              "  .colab-df-quickchart:hover {\n",
              "    background-color: var(--hover-bg-color);\n",
              "    box-shadow: 0 1px 2px rgba(60, 64, 67, 0.3), 0 1px 3px 1px rgba(60, 64, 67, 0.15);\n",
              "    fill: var(--button-hover-fill-color);\n",
              "  }\n",
              "\n",
              "  .colab-df-quickchart-complete:disabled,\n",
              "  .colab-df-quickchart-complete:disabled:hover {\n",
              "    background-color: var(--disabled-bg-color);\n",
              "    fill: var(--disabled-fill-color);\n",
              "    box-shadow: none;\n",
              "  }\n",
              "\n",
              "  .colab-df-spinner {\n",
              "    border: 2px solid var(--fill-color);\n",
              "    border-color: transparent;\n",
              "    border-bottom-color: var(--fill-color);\n",
              "    animation:\n",
              "      spin 1s steps(1) infinite;\n",
              "  }\n",
              "\n",
              "  @keyframes spin {\n",
              "    0% {\n",
              "      border-color: transparent;\n",
              "      border-bottom-color: var(--fill-color);\n",
              "      border-left-color: var(--fill-color);\n",
              "    }\n",
              "    20% {\n",
              "      border-color: transparent;\n",
              "      border-left-color: var(--fill-color);\n",
              "      border-top-color: var(--fill-color);\n",
              "    }\n",
              "    30% {\n",
              "      border-color: transparent;\n",
              "      border-left-color: var(--fill-color);\n",
              "      border-top-color: var(--fill-color);\n",
              "      border-right-color: var(--fill-color);\n",
              "    }\n",
              "    40% {\n",
              "      border-color: transparent;\n",
              "      border-right-color: var(--fill-color);\n",
              "      border-top-color: var(--fill-color);\n",
              "    }\n",
              "    60% {\n",
              "      border-color: transparent;\n",
              "      border-right-color: var(--fill-color);\n",
              "    }\n",
              "    80% {\n",
              "      border-color: transparent;\n",
              "      border-right-color: var(--fill-color);\n",
              "      border-bottom-color: var(--fill-color);\n",
              "    }\n",
              "    90% {\n",
              "      border-color: transparent;\n",
              "      border-bottom-color: var(--fill-color);\n",
              "    }\n",
              "  }\n",
              "</style>\n",
              "\n",
              "  <script>\n",
              "    async function quickchart(key) {\n",
              "      const quickchartButtonEl =\n",
              "        document.querySelector('#' + key + ' button');\n",
              "      quickchartButtonEl.disabled = true;  // To prevent multiple clicks.\n",
              "      quickchartButtonEl.classList.add('colab-df-spinner');\n",
              "      try {\n",
              "        const charts = await google.colab.kernel.invokeFunction(\n",
              "            'suggestCharts', [key], {});\n",
              "      } catch (error) {\n",
              "        console.error('Error during call to suggestCharts:', error);\n",
              "      }\n",
              "      quickchartButtonEl.classList.remove('colab-df-spinner');\n",
              "      quickchartButtonEl.classList.add('colab-df-quickchart-complete');\n",
              "    }\n",
              "    (() => {\n",
              "      let quickchartButtonEl =\n",
              "        document.querySelector('#df-83b427a4-7dc0-4549-b7bc-8739acb66067 button');\n",
              "      quickchartButtonEl.style.display =\n",
              "        google.colab.kernel.accessAllowed ? 'block' : 'none';\n",
              "    })();\n",
              "  </script>\n",
              "</div>\n",
              "\n",
              "    </div>\n",
              "  </div>\n"
            ],
            "text/plain": [
              "   Index          User Id First Name Last Name  Gender  \\\n",
              "0      1  8717bbf45cCDbEe     Shelia   Mahoney    Male   \n",
              "1      2  3d5AD30A4cD38ed         Jo    Rivers  Female   \n",
              "2      3  810Ce0F276Badec     Sheryl    Lowery  Female   \n",
              "3      4  BF2a889C00f0cE1    Whitney    Hooper    Male   \n",
              "4      5  9afFEafAe1CBBB9    Lindsey      Rice  Female   \n",
              "\n",
              "                           Email               Phone Date of birth  \\\n",
              "0            pwarner@example.org        857.139.8239    27-01-2014   \n",
              "1  fergusonkatherine@example.net                 NaN    26-07-1931   \n",
              "2            fhoward@example.org       (599)782-0605    25-11-2013   \n",
              "3          zjohnston@example.com                 NaN    17-11-2012   \n",
              "4               elin@example.net  (390)417-1635x3010    15-04-1923   \n",
              "\n",
              "                  Job Title  Salary  \n",
              "0         Probation officer   90000  \n",
              "1                    Dancer   80000  \n",
              "2                      Copy   50000  \n",
              "3  Counselling psychologist   65000  \n",
              "4       Biomedical engineer  100000  "
            ]
          },
          "execution_count": 15,
          "metadata": {},
          "output_type": "execute_result"
        }
      ],
      "source": [
        "import pandas as pd\n",
        "data=pd.read_csv('People Data.csv')\n",
        "data.head()"
      ]
    },
    {
      "cell_type": "code",
      "execution_count": null,
      "metadata": {
        "id": "TLrWD3_XvFHZ"
      },
      "outputs": [],
      "source": []
    }
  ],
  "metadata": {
    "colab": {
      "provenance": []
    },
    "kernelspec": {
      "display_name": "Python 3",
      "name": "python3"
    },
    "language_info": {
      "name": "python"
    }
  },
  "nbformat": 4,
  "nbformat_minor": 0
}
